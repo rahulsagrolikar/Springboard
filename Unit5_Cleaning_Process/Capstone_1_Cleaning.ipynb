{
 "cells": [
  {
   "cell_type": "code",
   "execution_count": 26,
   "metadata": {},
   "outputs": [],
   "source": [
    "import pandas as pd\n",
    "import numpy as np\n",
    "import matplotlib as plt\n",
    "import seaborn as sns "
   ]
  },
  {
   "cell_type": "code",
   "execution_count": 46,
   "metadata": {},
   "outputs": [],
   "source": [
    "a = pd.read_csv('agg_match_stats_0.csv')"
   ]
  },
  {
   "cell_type": "code",
   "execution_count": 28,
   "metadata": {},
   "outputs": [],
   "source": [
    "b = pd.read_csv('agg_match_stats_1.csv')"
   ]
  },
  {
   "cell_type": "code",
   "execution_count": 29,
   "metadata": {},
   "outputs": [],
   "source": [
    "c = pd.read_csv('agg_match_stats_2.csv')"
   ]
  },
  {
   "cell_type": "code",
   "execution_count": 30,
   "metadata": {},
   "outputs": [],
   "source": [
    "d = pd.read_csv('agg_match_stats_3.csv')"
   ]
  },
  {
   "cell_type": "code",
   "execution_count": 31,
   "metadata": {},
   "outputs": [],
   "source": [
    "e = pd.read_csv('agg_match_stats_4.csv')"
   ]
  },
  {
   "cell_type": "code",
   "execution_count": 32,
   "metadata": {},
   "outputs": [],
   "source": [
    "a = a[['player_dist_walk', 'player_dmg', 'team_placement', 'player_dist_ride', 'player_survive_time', 'game_size', 'party_size', 'player_kills']]\n",
    "b = b[['player_dist_walk', 'player_dmg', 'team_placement', 'player_dist_ride', 'player_survive_time', 'game_size', 'party_size', 'player_kills']]\n",
    "c = c[['player_dist_walk', 'player_dmg', 'team_placement', 'player_dist_ride', 'player_survive_time', 'game_size', 'party_size', 'player_kills']]\n",
    "d = d[['player_dist_walk', 'player_dmg', 'team_placement', 'player_dist_ride', 'player_survive_time', 'game_size', 'party_size', 'player_kills']]\n",
    "e = e[['player_dist_walk', 'player_dmg', 'team_placement', 'player_dist_ride', 'player_survive_time', 'game_size', 'party_size', 'player_kills']]\n",
    "#Reduced the datasets to only the columns of interest. Did them individually because concating first took too much memory."
   ]
  },
  {
   "cell_type": "code",
   "execution_count": 33,
   "metadata": {},
   "outputs": [],
   "source": [
    "df = pd.concat([a, b, c, d, e], ignore_index=True) #concat the datasets into one"
   ]
  },
  {
   "cell_type": "code",
   "execution_count": 47,
   "metadata": {},
   "outputs": [
    {
     "data": {
      "text/plain": [
       "Index(['date', 'game_size', 'match_id', 'match_mode', 'party_size',\n",
       "       'player_assists', 'player_dbno', 'player_dist_ride', 'player_dist_walk',\n",
       "       'player_dmg', 'player_kills', 'player_name', 'player_survive_time',\n",
       "       'team_id', 'team_placement'],\n",
       "      dtype='object')"
      ]
     },
     "execution_count": 47,
     "metadata": {},
     "output_type": "execute_result"
    }
   ],
   "source": [
    "a.columns"
   ]
  },
  {
   "cell_type": "code",
   "execution_count": 19,
   "metadata": {},
   "outputs": [
    {
     "name": "stdout",
     "output_type": "stream",
     "text": [
      "<class 'pandas.core.frame.DataFrame'>\n",
      "RangeIndex: 67369231 entries, 0 to 67369230\n",
      "Data columns (total 7 columns):\n",
      "player_dist_walk       float64\n",
      "player_dmg             int64\n",
      "team_placement         int64\n",
      "player_dist_ride       float64\n",
      "player_survive_time    float64\n",
      "game_size              int64\n",
      "party_size             int64\n",
      "dtypes: float64(3), int64(4)\n",
      "memory usage: 3.5 GB\n"
     ]
    }
   ],
   "source": [
    "df.info() "
   ]
  },
  {
   "cell_type": "code",
   "execution_count": 26,
   "metadata": {},
   "outputs": [
    {
     "data": {
      "text/html": [
       "<div>\n",
       "<style scoped>\n",
       "    .dataframe tbody tr th:only-of-type {\n",
       "        vertical-align: middle;\n",
       "    }\n",
       "\n",
       "    .dataframe tbody tr th {\n",
       "        vertical-align: top;\n",
       "    }\n",
       "\n",
       "    .dataframe thead th {\n",
       "        text-align: right;\n",
       "    }\n",
       "</style>\n",
       "<table border=\"1\" class=\"dataframe\">\n",
       "  <thead>\n",
       "    <tr style=\"text-align: right;\">\n",
       "      <th></th>\n",
       "      <th>player_dist_walk</th>\n",
       "      <th>player_dmg</th>\n",
       "      <th>team_placement</th>\n",
       "      <th>player_dist_ride</th>\n",
       "      <th>player_survive_time</th>\n",
       "      <th>game_size</th>\n",
       "      <th>party_size</th>\n",
       "    </tr>\n",
       "  </thead>\n",
       "  <tbody>\n",
       "    <tr>\n",
       "      <th>count</th>\n",
       "      <td>6.552765e+07</td>\n",
       "      <td>6.552765e+07</td>\n",
       "      <td>6.552765e+07</td>\n",
       "      <td>6.552765e+07</td>\n",
       "      <td>6.552765e+07</td>\n",
       "      <td>6.552765e+07</td>\n",
       "      <td>6.552765e+07</td>\n",
       "    </tr>\n",
       "    <tr>\n",
       "      <th>mean</th>\n",
       "      <td>1.320175e+03</td>\n",
       "      <td>1.273113e+02</td>\n",
       "      <td>2.383817e+01</td>\n",
       "      <td>1.188456e+03</td>\n",
       "      <td>2.896623e+04</td>\n",
       "      <td>4.702490e+01</td>\n",
       "      <td>2.738940e+00</td>\n",
       "    </tr>\n",
       "    <tr>\n",
       "      <th>std</th>\n",
       "      <td>4.264126e+03</td>\n",
       "      <td>1.706185e+02</td>\n",
       "      <td>1.972374e+01</td>\n",
       "      <td>2.018087e+03</td>\n",
       "      <td>4.234159e+07</td>\n",
       "      <td>2.510914e+01</td>\n",
       "      <td>1.244774e+00</td>\n",
       "    </tr>\n",
       "    <tr>\n",
       "      <th>min</th>\n",
       "      <td>5.000005e+00</td>\n",
       "      <td>0.000000e+00</td>\n",
       "      <td>0.000000e+00</td>\n",
       "      <td>0.000000e+00</td>\n",
       "      <td>0.000000e+00</td>\n",
       "      <td>2.000000e+00</td>\n",
       "      <td>1.000000e+00</td>\n",
       "    </tr>\n",
       "    <tr>\n",
       "      <th>25%</th>\n",
       "      <td>2.383585e+02</td>\n",
       "      <td>3.000000e+00</td>\n",
       "      <td>9.000000e+00</td>\n",
       "      <td>0.000000e+00</td>\n",
       "      <td>2.576520e+02</td>\n",
       "      <td>2.700000e+01</td>\n",
       "      <td>2.000000e+00</td>\n",
       "    </tr>\n",
       "    <tr>\n",
       "      <th>50%</th>\n",
       "      <td>9.062193e+02</td>\n",
       "      <td>8.200000e+01</td>\n",
       "      <td>1.900000e+01</td>\n",
       "      <td>0.000000e+00</td>\n",
       "      <td>6.698460e+02</td>\n",
       "      <td>4.300000e+01</td>\n",
       "      <td>2.000000e+00</td>\n",
       "    </tr>\n",
       "    <tr>\n",
       "      <th>75%</th>\n",
       "      <td>2.096031e+03</td>\n",
       "      <td>1.780000e+02</td>\n",
       "      <td>3.100000e+01</td>\n",
       "      <td>1.981671e+03</td>\n",
       "      <td>1.316564e+03</td>\n",
       "      <td>5.000000e+01</td>\n",
       "      <td>4.000000e+00</td>\n",
       "    </tr>\n",
       "    <tr>\n",
       "      <th>max</th>\n",
       "      <td>1.273645e+06</td>\n",
       "      <td>9.408000e+03</td>\n",
       "      <td>1.000000e+02</td>\n",
       "      <td>5.061754e+05</td>\n",
       "      <td>6.364822e+10</td>\n",
       "      <td>1.000000e+02</td>\n",
       "      <td>4.000000e+00</td>\n",
       "    </tr>\n",
       "  </tbody>\n",
       "</table>\n",
       "</div>"
      ],
      "text/plain": [
       "       player_dist_walk    player_dmg  team_placement  player_dist_ride  \\\n",
       "count      6.552765e+07  6.552765e+07    6.552765e+07      6.552765e+07   \n",
       "mean       1.320175e+03  1.273113e+02    2.383817e+01      1.188456e+03   \n",
       "std        4.264126e+03  1.706185e+02    1.972374e+01      2.018087e+03   \n",
       "min        5.000005e+00  0.000000e+00    0.000000e+00      0.000000e+00   \n",
       "25%        2.383585e+02  3.000000e+00    9.000000e+00      0.000000e+00   \n",
       "50%        9.062193e+02  8.200000e+01    1.900000e+01      0.000000e+00   \n",
       "75%        2.096031e+03  1.780000e+02    3.100000e+01      1.981671e+03   \n",
       "max        1.273645e+06  9.408000e+03    1.000000e+02      5.061754e+05   \n",
       "\n",
       "       player_survive_time     game_size    party_size  \n",
       "count         6.552765e+07  6.552765e+07  6.552765e+07  \n",
       "mean          2.896623e+04  4.702490e+01  2.738940e+00  \n",
       "std           4.234159e+07  2.510914e+01  1.244774e+00  \n",
       "min           0.000000e+00  2.000000e+00  1.000000e+00  \n",
       "25%           2.576520e+02  2.700000e+01  2.000000e+00  \n",
       "50%           6.698460e+02  4.300000e+01  2.000000e+00  \n",
       "75%           1.316564e+03  5.000000e+01  4.000000e+00  \n",
       "max           6.364822e+10  1.000000e+02  4.000000e+00  "
      ]
     },
     "execution_count": 26,
     "metadata": {},
     "output_type": "execute_result"
    }
   ],
   "source": [
    "df.describe() #Must try and figure out the unit of time in player_survive_time"
   ]
  },
  {
   "cell_type": "code",
   "execution_count": 34,
   "metadata": {},
   "outputs": [],
   "source": [
    "df = df[(df['player_dist_walk'] > 5)] \n",
    "df = df[(df['player_survive_time'] > 10)]\n",
    "# Reduced the dataset to players that walked at least 5 meters\n",
    "# Players that didnt manage to move are not worth analysis and were likely afk\n",
    "# Player survival time seems to be measured by seconds "
   ]
  },
  {
   "cell_type": "code",
   "execution_count": 40,
   "metadata": {},
   "outputs": [],
   "source": [
    "df['player_survive_time'] = df['player_survive_time'] // 60 #divide the time by 60 to convert them into minutes rounded."
   ]
  },
  {
   "cell_type": "code",
   "execution_count": 41,
   "metadata": {},
   "outputs": [],
   "source": [
    "df.party_size = df.party_size.astype('category')"
   ]
  },
  {
   "cell_type": "code",
   "execution_count": 13,
   "metadata": {},
   "outputs": [
    {
     "name": "stdout",
     "output_type": "stream",
     "text": [
      "0    2\n",
      "1    2\n",
      "2    2\n",
      "3    2\n",
      "4    2\n",
      "Name: party_size, dtype: category\n",
      "Categories (3, int64): [1, 2, 4]\n"
     ]
    }
   ],
   "source": [
    "print(df.party_size.head())"
   ]
  },
  {
   "cell_type": "code",
   "execution_count": 42,
   "metadata": {},
   "outputs": [],
   "source": [
    "df_solo = df[(df['party_size'] == 1)] #created seperate dataframes for solo, duo, and squad game modes respectively \n",
    "df_duo = df[(df['party_size'] == 2)]\n",
    "df_squad = df[(df['party_size'] == 4)]"
   ]
  },
  {
   "cell_type": "code",
   "execution_count": 43,
   "metadata": {},
   "outputs": [],
   "source": [
    "df_solo1000 = df_solo.iloc[0:1000]\n",
    "df_duo1000 = df_duo.iloc[0:1000]\n",
    "df_squad1000 = df_squad.iloc[0:1000]"
   ]
  },
  {
   "cell_type": "code",
   "execution_count": null,
   "metadata": {},
   "outputs": [],
   "source": []
  },
  {
   "cell_type": "code",
   "execution_count": 22,
   "metadata": {},
   "outputs": [
    {
     "data": {
      "text/plain": [
       "1    13490284\n",
       "Name: party_size, dtype: int64"
      ]
     },
     "execution_count": 22,
     "metadata": {},
     "output_type": "execute_result"
    }
   ],
   "source": [
    "df_solo.party_size.value_counts(dropna=False) #inspecting calculations worked correctly "
   ]
  },
  {
   "cell_type": "code",
   "execution_count": 27,
   "metadata": {},
   "outputs": [
    {
     "data": {
      "text/html": [
       "<div>\n",
       "<style scoped>\n",
       "    .dataframe tbody tr th:only-of-type {\n",
       "        vertical-align: middle;\n",
       "    }\n",
       "\n",
       "    .dataframe tbody tr th {\n",
       "        vertical-align: top;\n",
       "    }\n",
       "\n",
       "    .dataframe thead th {\n",
       "        text-align: right;\n",
       "    }\n",
       "</style>\n",
       "<table border=\"1\" class=\"dataframe\">\n",
       "  <thead>\n",
       "    <tr style=\"text-align: right;\">\n",
       "      <th></th>\n",
       "      <th>player_dist_walk</th>\n",
       "      <th>player_dmg</th>\n",
       "      <th>team_placement</th>\n",
       "      <th>player_dist_ride</th>\n",
       "      <th>player_survive_time</th>\n",
       "      <th>game_size</th>\n",
       "      <th>party_size</th>\n",
       "    </tr>\n",
       "  </thead>\n",
       "  <tbody>\n",
       "    <tr>\n",
       "      <th>count</th>\n",
       "      <td>1.349028e+07</td>\n",
       "      <td>1.349028e+07</td>\n",
       "      <td>1.349028e+07</td>\n",
       "      <td>1.349028e+07</td>\n",
       "      <td>1.349028e+07</td>\n",
       "      <td>1.349028e+07</td>\n",
       "      <td>13490284.0</td>\n",
       "    </tr>\n",
       "    <tr>\n",
       "      <th>mean</th>\n",
       "      <td>1.212294e+03</td>\n",
       "      <td>1.168864e+02</td>\n",
       "      <td>4.622684e+01</td>\n",
       "      <td>9.178787e+02</td>\n",
       "      <td>9.510144e+04</td>\n",
       "      <td>9.252288e+01</td>\n",
       "      <td>1.0</td>\n",
       "    </tr>\n",
       "    <tr>\n",
       "      <th>std</th>\n",
       "      <td>5.409905e+03</td>\n",
       "      <td>1.640878e+02</td>\n",
       "      <td>2.662721e+01</td>\n",
       "      <td>1.882756e+03</td>\n",
       "      <td>7.749683e+07</td>\n",
       "      <td>5.854016e+00</td>\n",
       "      <td>0.0</td>\n",
       "    </tr>\n",
       "    <tr>\n",
       "      <th>min</th>\n",
       "      <td>5.000123e+00</td>\n",
       "      <td>0.000000e+00</td>\n",
       "      <td>1.000000e+00</td>\n",
       "      <td>0.000000e+00</td>\n",
       "      <td>1.618300e+01</td>\n",
       "      <td>6.000000e+00</td>\n",
       "      <td>1.0</td>\n",
       "    </tr>\n",
       "    <tr>\n",
       "      <th>25%</th>\n",
       "      <td>1.838325e+02</td>\n",
       "      <td>0.000000e+00</td>\n",
       "      <td>2.300000e+01</td>\n",
       "      <td>0.000000e+00</td>\n",
       "      <td>2.239960e+02</td>\n",
       "      <td>9.100000e+01</td>\n",
       "      <td>1.0</td>\n",
       "    </tr>\n",
       "    <tr>\n",
       "      <th>50%</th>\n",
       "      <td>7.613096e+02</td>\n",
       "      <td>7.500000e+01</td>\n",
       "      <td>4.700000e+01</td>\n",
       "      <td>0.000000e+00</td>\n",
       "      <td>6.069950e+02</td>\n",
       "      <td>9.400000e+01</td>\n",
       "      <td>1.0</td>\n",
       "    </tr>\n",
       "    <tr>\n",
       "      <th>75%</th>\n",
       "      <td>1.874718e+03</td>\n",
       "      <td>1.640000e+02</td>\n",
       "      <td>6.800000e+01</td>\n",
       "      <td>1.224358e+03</td>\n",
       "      <td>1.206438e+03</td>\n",
       "      <td>9.600000e+01</td>\n",
       "      <td>1.0</td>\n",
       "    </tr>\n",
       "    <tr>\n",
       "      <th>max</th>\n",
       "      <td>1.188375e+06</td>\n",
       "      <td>9.408000e+03</td>\n",
       "      <td>1.000000e+02</td>\n",
       "      <td>4.425362e+05</td>\n",
       "      <td>6.364788e+10</td>\n",
       "      <td>1.000000e+02</td>\n",
       "      <td>1.0</td>\n",
       "    </tr>\n",
       "  </tbody>\n",
       "</table>\n",
       "</div>"
      ],
      "text/plain": [
       "       player_dist_walk    player_dmg  team_placement  player_dist_ride  \\\n",
       "count      1.349028e+07  1.349028e+07    1.349028e+07      1.349028e+07   \n",
       "mean       1.212294e+03  1.168864e+02    4.622684e+01      9.178787e+02   \n",
       "std        5.409905e+03  1.640878e+02    2.662721e+01      1.882756e+03   \n",
       "min        5.000123e+00  0.000000e+00    1.000000e+00      0.000000e+00   \n",
       "25%        1.838325e+02  0.000000e+00    2.300000e+01      0.000000e+00   \n",
       "50%        7.613096e+02  7.500000e+01    4.700000e+01      0.000000e+00   \n",
       "75%        1.874718e+03  1.640000e+02    6.800000e+01      1.224358e+03   \n",
       "max        1.188375e+06  9.408000e+03    1.000000e+02      4.425362e+05   \n",
       "\n",
       "       player_survive_time     game_size  party_size  \n",
       "count         1.349028e+07  1.349028e+07  13490284.0  \n",
       "mean          9.510144e+04  9.252288e+01         1.0  \n",
       "std           7.749683e+07  5.854016e+00         0.0  \n",
       "min           1.618300e+01  6.000000e+00         1.0  \n",
       "25%           2.239960e+02  9.100000e+01         1.0  \n",
       "50%           6.069950e+02  9.400000e+01         1.0  \n",
       "75%           1.206438e+03  9.600000e+01         1.0  \n",
       "max           6.364788e+10  1.000000e+02         1.0  "
      ]
     },
     "execution_count": 27,
     "metadata": {},
     "output_type": "execute_result"
    }
   ],
   "source": [
    "df_solo.describe()"
   ]
  },
  {
   "cell_type": "code",
   "execution_count": 28,
   "metadata": {},
   "outputs": [
    {
     "data": {
      "text/html": [
       "<div>\n",
       "<style scoped>\n",
       "    .dataframe tbody tr th:only-of-type {\n",
       "        vertical-align: middle;\n",
       "    }\n",
       "\n",
       "    .dataframe tbody tr th {\n",
       "        vertical-align: top;\n",
       "    }\n",
       "\n",
       "    .dataframe thead th {\n",
       "        text-align: right;\n",
       "    }\n",
       "</style>\n",
       "<table border=\"1\" class=\"dataframe\">\n",
       "  <thead>\n",
       "    <tr style=\"text-align: right;\">\n",
       "      <th></th>\n",
       "      <th>player_dist_walk</th>\n",
       "      <th>player_dmg</th>\n",
       "      <th>team_placement</th>\n",
       "      <th>player_dist_ride</th>\n",
       "      <th>player_survive_time</th>\n",
       "      <th>game_size</th>\n",
       "      <th>party_size</th>\n",
       "    </tr>\n",
       "  </thead>\n",
       "  <tbody>\n",
       "    <tr>\n",
       "      <th>count</th>\n",
       "      <td>2.108168e+07</td>\n",
       "      <td>2.108168e+07</td>\n",
       "      <td>2.108168e+07</td>\n",
       "      <td>2.108168e+07</td>\n",
       "      <td>2.108168e+07</td>\n",
       "      <td>2.108168e+07</td>\n",
       "      <td>21081683.0</td>\n",
       "    </tr>\n",
       "    <tr>\n",
       "      <th>mean</th>\n",
       "      <td>1.265737e+03</td>\n",
       "      <td>1.278202e+02</td>\n",
       "      <td>2.433857e+01</td>\n",
       "      <td>1.170244e+03</td>\n",
       "      <td>9.832392e+03</td>\n",
       "      <td>4.754208e+01</td>\n",
       "      <td>2.0</td>\n",
       "    </tr>\n",
       "    <tr>\n",
       "      <th>std</th>\n",
       "      <td>4.201528e+03</td>\n",
       "      <td>1.689542e+02</td>\n",
       "      <td>1.391930e+01</td>\n",
       "      <td>1.999689e+03</td>\n",
       "      <td>2.401011e+07</td>\n",
       "      <td>3.149215e+00</td>\n",
       "      <td>0.0</td>\n",
       "    </tr>\n",
       "    <tr>\n",
       "      <th>min</th>\n",
       "      <td>5.000028e+00</td>\n",
       "      <td>0.000000e+00</td>\n",
       "      <td>0.000000e+00</td>\n",
       "      <td>0.000000e+00</td>\n",
       "      <td>1.097900e+01</td>\n",
       "      <td>2.000000e+00</td>\n",
       "      <td>2.0</td>\n",
       "    </tr>\n",
       "    <tr>\n",
       "      <th>25%</th>\n",
       "      <td>2.175973e+02</td>\n",
       "      <td>4.000000e+00</td>\n",
       "      <td>1.200000e+01</td>\n",
       "      <td>0.000000e+00</td>\n",
       "      <td>2.414080e+02</td>\n",
       "      <td>4.700000e+01</td>\n",
       "      <td>2.0</td>\n",
       "    </tr>\n",
       "    <tr>\n",
       "      <th>50%</th>\n",
       "      <td>8.457452e+02</td>\n",
       "      <td>8.200000e+01</td>\n",
       "      <td>2.500000e+01</td>\n",
       "      <td>0.000000e+00</td>\n",
       "      <td>6.329080e+02</td>\n",
       "      <td>4.900000e+01</td>\n",
       "      <td>2.0</td>\n",
       "    </tr>\n",
       "    <tr>\n",
       "      <th>75%</th>\n",
       "      <td>2.006023e+03</td>\n",
       "      <td>1.790000e+02</td>\n",
       "      <td>3.600000e+01</td>\n",
       "      <td>1.946775e+03</td>\n",
       "      <td>1.276899e+03</td>\n",
       "      <td>4.900000e+01</td>\n",
       "      <td>2.0</td>\n",
       "    </tr>\n",
       "    <tr>\n",
       "      <th>max</th>\n",
       "      <td>1.273645e+06</td>\n",
       "      <td>6.293000e+03</td>\n",
       "      <td>5.100000e+01</td>\n",
       "      <td>4.978240e+05</td>\n",
       "      <td>6.364822e+10</td>\n",
       "      <td>5.100000e+01</td>\n",
       "      <td>2.0</td>\n",
       "    </tr>\n",
       "  </tbody>\n",
       "</table>\n",
       "</div>"
      ],
      "text/plain": [
       "       player_dist_walk    player_dmg  team_placement  player_dist_ride  \\\n",
       "count      2.108168e+07  2.108168e+07    2.108168e+07      2.108168e+07   \n",
       "mean       1.265737e+03  1.278202e+02    2.433857e+01      1.170244e+03   \n",
       "std        4.201528e+03  1.689542e+02    1.391930e+01      1.999689e+03   \n",
       "min        5.000028e+00  0.000000e+00    0.000000e+00      0.000000e+00   \n",
       "25%        2.175973e+02  4.000000e+00    1.200000e+01      0.000000e+00   \n",
       "50%        8.457452e+02  8.200000e+01    2.500000e+01      0.000000e+00   \n",
       "75%        2.006023e+03  1.790000e+02    3.600000e+01      1.946775e+03   \n",
       "max        1.273645e+06  6.293000e+03    5.100000e+01      4.978240e+05   \n",
       "\n",
       "       player_survive_time     game_size  party_size  \n",
       "count         2.108168e+07  2.108168e+07  21081683.0  \n",
       "mean          9.832392e+03  4.754208e+01         2.0  \n",
       "std           2.401011e+07  3.149215e+00         0.0  \n",
       "min           1.097900e+01  2.000000e+00         2.0  \n",
       "25%           2.414080e+02  4.700000e+01         2.0  \n",
       "50%           6.329080e+02  4.900000e+01         2.0  \n",
       "75%           1.276899e+03  4.900000e+01         2.0  \n",
       "max           6.364822e+10  5.100000e+01         2.0  "
      ]
     },
     "execution_count": 28,
     "metadata": {},
     "output_type": "execute_result"
    }
   ],
   "source": [
    "df_duo.describe()"
   ]
  },
  {
   "cell_type": "code",
   "execution_count": 29,
   "metadata": {},
   "outputs": [
    {
     "data": {
      "text/html": [
       "<div>\n",
       "<style scoped>\n",
       "    .dataframe tbody tr th:only-of-type {\n",
       "        vertical-align: middle;\n",
       "    }\n",
       "\n",
       "    .dataframe tbody tr th {\n",
       "        vertical-align: top;\n",
       "    }\n",
       "\n",
       "    .dataframe thead th {\n",
       "        text-align: right;\n",
       "    }\n",
       "</style>\n",
       "<table border=\"1\" class=\"dataframe\">\n",
       "  <thead>\n",
       "    <tr style=\"text-align: right;\">\n",
       "      <th></th>\n",
       "      <th>player_dist_walk</th>\n",
       "      <th>player_dmg</th>\n",
       "      <th>team_placement</th>\n",
       "      <th>player_dist_ride</th>\n",
       "      <th>player_survive_time</th>\n",
       "      <th>game_size</th>\n",
       "      <th>party_size</th>\n",
       "    </tr>\n",
       "  </thead>\n",
       "  <tbody>\n",
       "    <tr>\n",
       "      <th>count</th>\n",
       "      <td>3.095559e+07</td>\n",
       "      <td>3.095559e+07</td>\n",
       "      <td>3.095559e+07</td>\n",
       "      <td>3.095559e+07</td>\n",
       "      <td>3.095559e+07</td>\n",
       "      <td>3.095559e+07</td>\n",
       "      <td>30955587.0</td>\n",
       "    </tr>\n",
       "    <tr>\n",
       "      <th>mean</th>\n",
       "      <td>1.404228e+03</td>\n",
       "      <td>1.315078e+02</td>\n",
       "      <td>1.374055e+01</td>\n",
       "      <td>1.318751e+03</td>\n",
       "      <td>1.317566e+04</td>\n",
       "      <td>2.684493e+01</td>\n",
       "      <td>4.0</td>\n",
       "    </tr>\n",
       "    <tr>\n",
       "      <th>std</th>\n",
       "      <td>3.701054e+03</td>\n",
       "      <td>1.743070e+02</td>\n",
       "      <td>7.873714e+00</td>\n",
       "      <td>2.074475e+03</td>\n",
       "      <td>2.802116e+07</td>\n",
       "      <td>1.835026e+00</td>\n",
       "      <td>0.0</td>\n",
       "    </tr>\n",
       "    <tr>\n",
       "      <th>min</th>\n",
       "      <td>5.000005e+00</td>\n",
       "      <td>0.000000e+00</td>\n",
       "      <td>0.000000e+00</td>\n",
       "      <td>0.000000e+00</td>\n",
       "      <td>1.376500e+01</td>\n",
       "      <td>2.000000e+00</td>\n",
       "      <td>4.0</td>\n",
       "    </tr>\n",
       "    <tr>\n",
       "      <th>25%</th>\n",
       "      <td>2.830018e+02</td>\n",
       "      <td>9.000000e+00</td>\n",
       "      <td>7.000000e+00</td>\n",
       "      <td>0.000000e+00</td>\n",
       "      <td>2.848555e+02</td>\n",
       "      <td>2.600000e+01</td>\n",
       "      <td>4.0</td>\n",
       "    </tr>\n",
       "    <tr>\n",
       "      <th>50%</th>\n",
       "      <td>1.024872e+03</td>\n",
       "      <td>8.500000e+01</td>\n",
       "      <td>1.400000e+01</td>\n",
       "      <td>0.000000e+00</td>\n",
       "      <td>7.264000e+02</td>\n",
       "      <td>2.700000e+01</td>\n",
       "      <td>4.0</td>\n",
       "    </tr>\n",
       "    <tr>\n",
       "      <th>75%</th>\n",
       "      <td>2.244708e+03</td>\n",
       "      <td>1.830000e+02</td>\n",
       "      <td>2.100000e+01</td>\n",
       "      <td>2.300429e+03</td>\n",
       "      <td>1.381471e+03</td>\n",
       "      <td>2.800000e+01</td>\n",
       "      <td>4.0</td>\n",
       "    </tr>\n",
       "    <tr>\n",
       "      <th>max</th>\n",
       "      <td>1.263531e+06</td>\n",
       "      <td>6.323000e+03</td>\n",
       "      <td>3.600000e+01</td>\n",
       "      <td>5.061754e+05</td>\n",
       "      <td>6.364822e+10</td>\n",
       "      <td>3.600000e+01</td>\n",
       "      <td>4.0</td>\n",
       "    </tr>\n",
       "  </tbody>\n",
       "</table>\n",
       "</div>"
      ],
      "text/plain": [
       "       player_dist_walk    player_dmg  team_placement  player_dist_ride  \\\n",
       "count      3.095559e+07  3.095559e+07    3.095559e+07      3.095559e+07   \n",
       "mean       1.404228e+03  1.315078e+02    1.374055e+01      1.318751e+03   \n",
       "std        3.701054e+03  1.743070e+02    7.873714e+00      2.074475e+03   \n",
       "min        5.000005e+00  0.000000e+00    0.000000e+00      0.000000e+00   \n",
       "25%        2.830018e+02  9.000000e+00    7.000000e+00      0.000000e+00   \n",
       "50%        1.024872e+03  8.500000e+01    1.400000e+01      0.000000e+00   \n",
       "75%        2.244708e+03  1.830000e+02    2.100000e+01      2.300429e+03   \n",
       "max        1.263531e+06  6.323000e+03    3.600000e+01      5.061754e+05   \n",
       "\n",
       "       player_survive_time     game_size  party_size  \n",
       "count         3.095559e+07  3.095559e+07  30955587.0  \n",
       "mean          1.317566e+04  2.684493e+01         4.0  \n",
       "std           2.802116e+07  1.835026e+00         0.0  \n",
       "min           1.376500e+01  2.000000e+00         4.0  \n",
       "25%           2.848555e+02  2.600000e+01         4.0  \n",
       "50%           7.264000e+02  2.700000e+01         4.0  \n",
       "75%           1.381471e+03  2.800000e+01         4.0  \n",
       "max           6.364822e+10  3.600000e+01         4.0  "
      ]
     },
     "execution_count": 29,
     "metadata": {},
     "output_type": "execute_result"
    }
   ],
   "source": [
    "df_squad.describe()"
   ]
  },
  {
   "cell_type": "code",
   "execution_count": 15,
   "metadata": {},
   "outputs": [
    {
     "name": "stdout",
     "output_type": "stream",
     "text": [
      "<class 'pandas.core.frame.DataFrame'>\n",
      "Int64Index: 65527554 entries, 0 to 67369228\n",
      "Data columns (total 9 columns):\n",
      "player_dist_walk        float64\n",
      "player_dmg              int64\n",
      "team_placement          int64\n",
      "player_dist_ride        float64\n",
      "player_survive_time     float64\n",
      "game_size               int64\n",
      "party_size              category\n",
      "player_dbno             int64\n",
      "player_survival_time    float64\n",
      "dtypes: category(1), float64(4), int64(4)\n",
      "memory usage: 4.5 GB\n"
     ]
    }
   ],
   "source": [
    "df.info()"
   ]
  },
  {
   "cell_type": "code",
   "execution_count": 16,
   "metadata": {},
   "outputs": [
    {
     "data": {
      "text/plain": [
       "player_dist_walk         float64\n",
       "player_dmg                 int64\n",
       "team_placement             int64\n",
       "player_dist_ride         float64\n",
       "player_survive_time      float64\n",
       "game_size                  int64\n",
       "party_size              category\n",
       "player_dbno                int64\n",
       "player_survival_time     float64\n",
       "dtype: object"
      ]
     },
     "execution_count": 16,
     "metadata": {},
     "output_type": "execute_result"
    }
   ],
   "source": [
    "df.dtypes"
   ]
  },
  {
   "cell_type": "code",
   "execution_count": 12,
   "metadata": {},
   "outputs": [],
   "source": [
    "df_solo.to_csv('df_solo.csv', sep=',')"
   ]
  },
  {
   "cell_type": "code",
   "execution_count": 11,
   "metadata": {},
   "outputs": [],
   "source": [
    "df_duo.to_csv('df_duo.csv', sep=',')"
   ]
  },
  {
   "cell_type": "code",
   "execution_count": 13,
   "metadata": {},
   "outputs": [],
   "source": [
    "df_squad.to_csv('df_squad.csv', sep=',')"
   ]
  },
  {
   "cell_type": "code",
   "execution_count": 44,
   "metadata": {},
   "outputs": [],
   "source": [
    "df_solo1000.to_csv('df_solo1000.csv', sep=',')\n",
    "df_duo1000.to_csv('df_duo1000.csv', sep=',')\n",
    "df_squad1000.to_csv('df_squad1000.csv', sep=',')"
   ]
  },
  {
   "cell_type": "code",
   "execution_count": null,
   "metadata": {},
   "outputs": [],
   "source": []
  },
  {
   "cell_type": "code",
   "execution_count": 25,
   "metadata": {},
   "outputs": [
    {
     "name": "stdout",
     "output_type": "stream",
     "text": [
      "494         False\n",
      "495         False\n",
      "496         False\n",
      "497         False\n",
      "498         False\n",
      "500         False\n",
      "501         False\n",
      "502         False\n",
      "503         False\n",
      "504         False\n",
      "505         False\n",
      "506         False\n",
      "507         False\n",
      "508         False\n",
      "509         False\n",
      "510         False\n",
      "511         False\n",
      "512         False\n",
      "513         False\n",
      "514         False\n",
      "515         False\n",
      "516         False\n",
      "517         False\n",
      "518         False\n",
      "519         False\n",
      "520         False\n",
      "521         False\n",
      "522         False\n",
      "523         False\n",
      "524         False\n",
      "            ...  \n",
      "67368930    False\n",
      "67368931    False\n",
      "67368932    False\n",
      "67368933    False\n",
      "67368934    False\n",
      "67368935    False\n",
      "67368936    False\n",
      "67368937    False\n",
      "67368938    False\n",
      "67368939    False\n",
      "67368940    False\n",
      "67368941    False\n",
      "67368942    False\n",
      "67368943    False\n",
      "67368944    False\n",
      "67368946    False\n",
      "67368947    False\n",
      "67368948    False\n",
      "67368949    False\n",
      "67368950    False\n",
      "67368951    False\n",
      "67368952    False\n",
      "67368953    False\n",
      "67368954    False\n",
      "67368955    False\n",
      "67368956    False\n",
      "67368957    False\n",
      "67368958    False\n",
      "67368959    False\n",
      "67368960    False\n",
      "Name: player_dbno, Length: 13490284, dtype: bool\n"
     ]
    }
   ],
   "source": [
    "print(df_solo.player_dbno > 0)"
   ]
  }
 ],
 "metadata": {
  "kernelspec": {
   "display_name": "Python 3",
   "language": "python",
   "name": "python3"
  },
  "language_info": {
   "codemirror_mode": {
    "name": "ipython",
    "version": 3
   },
   "file_extension": ".py",
   "mimetype": "text/x-python",
   "name": "python",
   "nbconvert_exporter": "python",
   "pygments_lexer": "ipython3",
   "version": "3.6.4"
  }
 },
 "nbformat": 4,
 "nbformat_minor": 2
}
