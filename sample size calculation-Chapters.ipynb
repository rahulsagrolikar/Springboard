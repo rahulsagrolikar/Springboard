{
 "cells": [
  {
   "cell_type": "code",
   "execution_count": 3,
   "id": "db97af06-04d6-4269-a5bf-73e5c0e51c44",
   "metadata": {
    "execution": {
     "iopub.execute_input": "2022-09-30T15:34:17.418745Z",
     "iopub.status.busy": "2022-09-30T15:34:17.418644Z",
     "iopub.status.idle": "2022-09-30T15:34:19.169163Z",
     "shell.execute_reply": "2022-09-30T15:34:19.169004Z",
     "shell.execute_reply.started": "2022-09-30T15:34:17.418717Z"
    },
    "tags": []
   },
   "outputs": [],
   "source": [
    "from bqt import bqt\n",
    "import spotify_confidence as conf\n",
    "import pandas as pd"
   ]
  },
  {
   "cell_type": "markdown",
   "id": "797c4420-b829-4764-b2d4-bea970f3a1e7",
   "metadata": {
    "execution": {
     "iopub.execute_input": "2022-09-05T09:40:33.750810Z",
     "iopub.status.busy": "2022-09-05T09:40:33.750681Z",
     "iopub.status.idle": "2022-09-05T09:40:33.851079Z",
     "shell.execute_reply": "2022-09-05T09:40:33.850946Z",
     "shell.execute_reply.started": "2022-09-05T09:40:33.750780Z"
    },
    "tags": []
   },
   "source": [
    "## Determine count of users in the past 21 days who visited npv and episode page of chapters enabled episodes"
   ]
  },
  {
   "cell_type": "code",
   "execution_count": 4,
   "id": "876b74be-dce5-4877-bceb-e8e6f84379b6",
   "metadata": {
    "execution": {
     "iopub.execute_input": "2022-09-30T15:34:21.889206Z",
     "iopub.status.busy": "2022-09-30T15:34:21.889106Z",
     "iopub.status.idle": "2022-09-30T16:45:40.793523Z",
     "shell.execute_reply": "2022-09-30T16:45:40.793309Z",
     "shell.execute_reply.started": "2022-09-30T15:34:21.889179Z"
    },
    "tags": []
   },
   "outputs": [
    {
     "name": "stdout",
     "output_type": "stream",
     "text": [
      "\u001b[94mRunning job core-x-insights:8e5da49f-2058-4496-9a91-d2cce4bffcd0\u001b[0m\n",
      "\u001b[92mQuery done! Processed: 281851.1 G Billed: 281851.1 G Cost: $1,281.71\u001b[0m                                                                       \n",
      "\u001b[92mFinished downloading results\u001b[0m            \n"
     ]
    }
   ],
   "source": [
    "episode_npv_visitors='''\n",
    "WITH dd1 AS  \n",
    "    (select distinct uri from `spotify-entities.show.*`,unnest(name) where parse_DATE('%Y%m%d',_table_suffix) = DATE_SUB(CURRENT_DATE(), INTERVAL 14 day) and text not in ('On Purpose with Jay Shetty',\n",
    "    'Impaulsive with Logan Paul',\"Andrew Schulz's Flagrant with Akaash Singh\",\n",
    "    \"Huberman Lab\",\n",
    "    \"Andrew Schulz’s Flagrant 2 with Akaash Singh (New Chapter)\",\n",
    "    \"Andrew Schulz's Flagrant 2 with Akaash S\",\n",
    "    'Bad Friends',\n",
    "    'All-In with Chamath, Jason, Sacks & Friedberg',\n",
    "    'The Morning Toast',\n",
    "    'The Bill Simmons Podcast',\n",
    "    'Skip and Shannon: Undisputed',\n",
    "    'Fantasy Footballers - Fantasy Football Podcast',\n",
    "    \"Bussin' With The Boys\",\n",
    "    'The Tim Ferriss Show',\n",
    "    'The NoSleep Podcast',\n",
    "    'The Weekly Planet',\n",
    "    'Lights Camera Barstool',\n",
    "    'KFC Radio',\n",
    "    'Mile Higher',\n",
    "    'Ear Biscuits',\n",
    "    'Pardon My Take',\n",
    "    'Token CEO',\n",
    "    'BFFs featuring Josh Richards and Dave Portnoy',\n",
    "    'The Vergecast',\n",
    "    'Macrodosing: Arian Foster and PFT Commenter',\n",
    "    'My Brother, My Brother And Me',\n",
    "    'Breaking Points with Krystal and Saagar',\n",
    "    \"MrCreepyPasta's Storytime\",\n",
    "    'Spittin Chiclets',\n",
    "    'Token CEO',\n",
    "    'BFFs with Dave Portnoy, Josh Richards, and Brianna Chickenfry',\n",
    "    'The School of Greatness',\n",
    "    'We Might Be Drunk',\n",
    "    'TigerBelly',\n",
    "    'BFFs featuring Josh Richards and Dave Portnoy',\n",
    "    'Pardon My Take',\n",
    "    'The Jordan B. Peterson Premium Podcast (🔓)',\n",
    "    'The Dave Portnoy Show with Eddie & Co',\n",
    "    'Unexplained Encounters (🔓)',\n",
    "    'The Breakfast Club',\n",
    "    'Unexplained Encounters')),\n",
    "    episodes_w_chapters as\n",
    "    (SELECT distinct\n",
    "            e.uri AS episode_uri\n",
    "    FROM `spotify-entities.episode_experimental.*` e, unnest(e.name) as name\n",
    "    JOIN `spotify-entities.show.*` s\n",
    "    ON s.uri = e.showRelation.show.uri\n",
    "    WHERE chapter IS NOT NULL\n",
    "    AND ARRAY_LENGTH(chapter) > 0 and e.isMusicAndTalk is false\n",
    "    AND parse_DATE('%Y%m%d',e._table_suffix) = DATE_SUB(CURRENT_DATE(), INTERVAL 14 day)\n",
    "    AND parse_DATE('%Y%m%d',s._table_suffix) = DATE_SUB(CURRENT_DATE(), INTERVAL 14 day)\n",
    "    union all\n",
    "    SELECT distinct\n",
    "            e.uri AS episode_uri\n",
    "    FROM `spotify-entities.episode_experimental.*` e, unnest(e.name) as name\n",
    "    JOIN dd1 s\n",
    "    ON s.uri = e.showRelation.show.uri\n",
    "    JOIN `spotify-podz.creator_episode_segments.creator_episode_segments_*` f\n",
    "    ON e.uri=f.episode_uri\n",
    "    WHERE  e.isMusicAndTalk is false\n",
    "    AND parse_DATE('%Y%m%d',e._table_suffix) = DATE_SUB(CURRENT_DATE(), INTERVAL 14 day)\n",
    "    AND parse_DATE('%Y%m%d',f._table_suffix) = DATE_SUB(CURRENT_DATE(), INTERVAL 14 day)\n",
    "    ),\n",
    "    end_content_podcast AS\n",
    "    (SELECT\n",
    "        playback.playback_id as playback_id,\n",
    "        content.uri as ep_uri\n",
    "    FROM `stream-pipelines.stream_days_v1.stream_days_v1_*`\n",
    "    WHERE parse_DATE('%Y%m%d',_table_suffix) >= DATE_SUB(CURRENT_DATE(), INTERVAL 35 day) and parse_DATE('%Y%m%d',_table_suffix) <= DATE_SUB(CURRENT_DATE(), INTERVAL 14 day)\n",
    "    AND content.uri in (select distinct episode_uri from episodes_w_chapters )),\n",
    "    npv_impression AS \n",
    "    (SELECT \n",
    "        user_id, \n",
    "        playback_id,path,parse_DATE('%Y%m%d',_table_suffix) dat\n",
    "    FROM `user-behaviour-instrumentation.impression_fact.impression_fact_*`\n",
    "    WHERE specification_id in ( 'mobile-now-playing-view') and playback_id is not null and user_id is not null and playback_id in  --and id like 'podcast%'\n",
    "    (select distinct playback_id from end_content_podcast) and specification_id is not null \n",
    "    AND parse_DATE('%Y%m%d',_table_suffix) >= DATE_SUB(CURRENT_DATE(), INTERVAL 35 day) and parse_DATE('%Y%m%d',_table_suffix) <= DATE_SUB(CURRENT_DATE(), INTERVAL 14 day)),\n",
    "   \n",
    "    viewed_npv_table AS \n",
    "    (SELECT \n",
    "        user_id, \n",
    "        min(dat) exposure_date\n",
    "    FROM npv_impression,unnest(path)\n",
    "    WHERE  id like 'podcast%' group by 1\n",
    "    ),\n",
    "    \n",
    "    viewed_episode_page_table AS \n",
    "    (SELECT \n",
    "            pt.user_id,min(parse_DATE('%Y%m%d',_table_suffix)) exposure_date\n",
    "            \n",
    "    FROM `user-behaviour-instrumentation.pagetransition_fact.pagetransition_fact_*` pt\n",
    "    INNER JOIN episodes_w_chapters ep\n",
    "    ON pt.entity_uri_safe_decrypted = ep.episode_uri \n",
    "    WHERE  parse_DATE('%Y%m%d',_table_suffix) >= DATE_SUB(CURRENT_DATE(), INTERVAL 35 day) and parse_DATE('%Y%m%d',_table_suffix) <= DATE_SUB(CURRENT_DATE(), INTERVAL 14 day)\n",
    "   \n",
    "    AND pt.page_id = 'podcast/episode' group by 1)\n",
    "            \n",
    "    SELECT\n",
    "        user_id,min(exposure_date) exposure_date\n",
    "    FROM (select * from viewed_npv_table union all select * from viewed_episode_page_table) group by 1\n",
    "    '''\n",
    "episode_npv_visitos_df = bqt.query(episode_npv_visitors)"
   ]
  },
  {
   "cell_type": "code",
   "execution_count": 8,
   "id": "8f1f0a59-96a4-4ba7-81c0-9766c1c0ce6e",
   "metadata": {
    "execution": {
     "iopub.execute_input": "2022-10-01T18:14:07.155742Z",
     "iopub.status.busy": "2022-10-01T18:14:07.155623Z",
     "iopub.status.idle": "2022-10-01T18:14:08.566440Z",
     "shell.execute_reply": "2022-10-01T18:14:08.565040Z",
     "shell.execute_reply.started": "2022-10-01T18:14:07.155711Z"
    },
    "tags": []
   },
   "outputs": [
    {
     "data": {
      "text/plain": [
       "user_id          2742786\n",
       "exposure_date    2742786\n",
       "dtype: int64"
      ]
     },
     "execution_count": 8,
     "metadata": {},
     "output_type": "execute_result"
    }
   ],
   "source": [
    "episode_npv_visitos_df.count()"
   ]
  },
  {
   "cell_type": "markdown",
   "id": "1a42a7bc-9b38-4f7b-ae69-53178c9218ff",
   "metadata": {
    "tags": []
   },
   "source": [
    "## Determine unique podcast consumed in the past 21 days by each user"
   ]
  },
  {
   "cell_type": "code",
   "execution_count": 7,
   "id": "21a1c407-73ac-4bef-add1-504c40e401cf",
   "metadata": {
    "execution": {
     "iopub.execute_input": "2022-09-30T23:12:13.890040Z",
     "iopub.status.busy": "2022-09-30T23:12:13.888960Z",
     "iopub.status.idle": "2022-09-30T23:45:48.242876Z",
     "shell.execute_reply": "2022-09-30T23:45:48.242745Z",
     "shell.execute_reply.started": "2022-09-30T23:12:13.88973Z"
    },
    "tags": []
   },
   "outputs": [
    {
     "name": "stdout",
     "output_type": "stream",
     "text": [
      "\u001b[94mRunning job core-x-insights:c976207a-bdbf-435f-ae71-8ef93feefb3c\u001b[0m\n",
      "\u001b[92mQuery done! Processed: 287287.1 G Billed: 287287.1 G Cost: $1,306.43\u001b[0m                                                              \n",
      "\u001b[92mFinished downloading results\u001b[0m            \n"
     ]
    }
   ],
   "source": [
    "unique_podcast_consumed='''\n",
    "WITH dd1 AS  \n",
    "    (select distinct uri from `spotify-entities.show.*`,unnest(name) where parse_DATE('%Y%m%d',_table_suffix) = DATE_SUB(CURRENT_DATE(), INTERVAL 14 day) and text not in ('On Purpose with Jay Shetty',\n",
    "    'Impaulsive with Logan Paul',\"Andrew Schulz's Flagrant with Akaash Singh\",\n",
    "    \"Huberman Lab\",\n",
    "    \"Andrew Schulz’s Flagrant 2 with Akaash Singh (New Chapter)\",\n",
    "    \"Andrew Schulz's Flagrant 2 with Akaash S\",\n",
    "    'Bad Friends',\n",
    "    'All-In with Chamath, Jason, Sacks & Friedberg',\n",
    "    'The Morning Toast',\n",
    "    'The Bill Simmons Podcast',\n",
    "    'Skip and Shannon: Undisputed',\n",
    "    'Fantasy Footballers - Fantasy Football Podcast',\n",
    "    \"Bussin' With The Boys\",\n",
    "    'The Tim Ferriss Show',\n",
    "    'The NoSleep Podcast',\n",
    "    'The Weekly Planet',\n",
    "    'Lights Camera Barstool',\n",
    "    'KFC Radio',\n",
    "    'Mile Higher',\n",
    "    'Ear Biscuits',\n",
    "    'Pardon My Take',\n",
    "    'Token CEO',\n",
    "    'BFFs featuring Josh Richards and Dave Portnoy',\n",
    "    'The Vergecast',\n",
    "    'Macrodosing: Arian Foster and PFT Commenter',\n",
    "    'My Brother, My Brother And Me',\n",
    "    'Breaking Points with Krystal and Saagar',\n",
    "    \"MrCreepyPasta's Storytime\",\n",
    "    'Spittin Chiclets',\n",
    "    'Token CEO',\n",
    "    'BFFs with Dave Portnoy, Josh Richards, and Brianna Chickenfry',\n",
    "    'The School of Greatness',\n",
    "    'We Might Be Drunk',\n",
    "    'TigerBelly',\n",
    "    'BFFs featuring Josh Richards and Dave Portnoy',\n",
    "    'Pardon My Take',\n",
    "    'The Jordan B. Peterson Premium Podcast (🔓)',\n",
    "    'The Dave Portnoy Show with Eddie & Co',\n",
    "    'Unexplained Encounters (🔓)',\n",
    "    'The Breakfast Club',\n",
    "    'Unexplained Encounters')),\n",
    "    episodes_w_chapters as\n",
    "    (SELECT distinct\n",
    "            e.uri AS episode_uri\n",
    "    FROM `spotify-entities.episode_experimental.*` e, unnest(e.name) as name\n",
    "    JOIN `spotify-entities.show.*` s\n",
    "    ON s.uri = e.showRelation.show.uri\n",
    "    WHERE chapter IS NOT NULL\n",
    "    AND ARRAY_LENGTH(chapter) > 0 and e.isMusicAndTalk is false\n",
    "    AND parse_DATE('%Y%m%d',e._table_suffix) = DATE_SUB(CURRENT_DATE(), INTERVAL 14 day)\n",
    "    AND parse_DATE('%Y%m%d',s._table_suffix) = DATE_SUB(CURRENT_DATE(), INTERVAL 14 day)\n",
    "    union all\n",
    "    SELECT distinct\n",
    "            e.uri AS episode_uri\n",
    "    FROM `spotify-entities.episode_experimental.*` e, unnest(e.name) as name\n",
    "    JOIN dd1 s\n",
    "    ON s.uri = e.showRelation.show.uri\n",
    "    JOIN `spotify-podz.creator_episode_segments.creator_episode_segments_*` f\n",
    "    ON e.uri=f.episode_uri\n",
    "    WHERE  e.isMusicAndTalk is false\n",
    "    AND parse_DATE('%Y%m%d',e._table_suffix) = DATE_SUB(CURRENT_DATE(), INTERVAL 14 day)\n",
    "    AND parse_DATE('%Y%m%d',f._table_suffix) = DATE_SUB(CURRENT_DATE(), INTERVAL 14 day)\n",
    "    ),\n",
    "    end_content_podcast AS\n",
    "    (SELECT\n",
    "        playback.playback_id as playback_id,\n",
    "        content.uri as ep_uri\n",
    "    FROM `stream-pipelines.stream_days_v1.stream_days_v1_*`\n",
    "    WHERE parse_DATE('%Y%m%d',_table_suffix) >= DATE_SUB(CURRENT_DATE(), INTERVAL 35 day) and parse_DATE('%Y%m%d',_table_suffix) <= DATE_SUB(CURRENT_DATE(), INTERVAL 14 day)\n",
    "    AND content.uri in (select distinct episode_uri from episodes_w_chapters )),\n",
    "    npv_impression AS \n",
    "    (SELECT \n",
    "        user_id, \n",
    "        playback_id,path,parse_DATE('%Y%m%d',_table_suffix) dat\n",
    "    FROM `user-behaviour-instrumentation.impression_fact.impression_fact_*`\n",
    "    WHERE specification_id in ( 'mobile-now-playing-view') and playback_id is not null and user_id is not null and playback_id in  --and id like 'podcast%'\n",
    "    (select distinct playback_id from end_content_podcast) and specification_id is not null \n",
    "    AND parse_DATE('%Y%m%d',_table_suffix) >= DATE_SUB(CURRENT_DATE(), INTERVAL 35 day) and parse_DATE('%Y%m%d',_table_suffix) <= DATE_SUB(CURRENT_DATE(), INTERVAL 14 day)),\n",
    "   \n",
    "    viewed_npv_table AS \n",
    "    (SELECT \n",
    "        user_id, \n",
    "        min(dat) exposure_date\n",
    "    FROM npv_impression,unnest(path)\n",
    "    WHERE  id like 'podcast%' group by 1\n",
    "    ),\n",
    "    \n",
    "    viewed_episode_page_table AS \n",
    "    (SELECT \n",
    "            pt.user_id,min(parse_DATE('%Y%m%d',_table_suffix)) exposure_date\n",
    "            \n",
    "    FROM `user-behaviour-instrumentation.pagetransition_fact.pagetransition_fact_*` pt\n",
    "    INNER JOIN episodes_w_chapters ep\n",
    "    ON pt.entity_uri_safe_decrypted = ep.episode_uri \n",
    "    WHERE  parse_DATE('%Y%m%d',_table_suffix) >= DATE_SUB(CURRENT_DATE(), INTERVAL 35 day) and parse_DATE('%Y%m%d',_table_suffix) <= DATE_SUB(CURRENT_DATE(), INTERVAL 14 day)\n",
    "   \n",
    "    AND pt.page_id = 'podcast/episode' group by 1),\n",
    "     cc as (       \n",
    "    SELECT\n",
    "        user_id,min(exposure_date) exposure_date\n",
    "    FROM (select * from viewed_npv_table union all select * from viewed_episode_page_table) group by 1)\n",
    "        \n",
    "        SELECT\n",
    "          a.user_id,count(distinct episode_uri) cnt\n",
    "        FROM\n",
    "          `podcast-listening-affinity.nmc_streams.nmc_streams_*` a inner join cc on a.user_id=cc.user_id\n",
    "        WHERE ms_played > 30000 \n",
    "        AND parse_DATE('%Y%m%d',_table_suffix) >= exposure_date  and parse_DATE('%Y%m%d',_table_suffix) <= exposure_date + 14 group by 1 \n",
    "    \n",
    "    '''\n",
    "unique_podcast_consumed_df = bqt.query(unique_podcast_consumed)"
   ]
  },
  {
   "cell_type": "code",
   "execution_count": 9,
   "id": "e9b56fa1-c988-4fec-aad8-f50c21b4140d",
   "metadata": {
    "execution": {
     "iopub.execute_input": "2022-10-01T18:14:34.165486Z",
     "iopub.status.busy": "2022-10-01T18:14:34.165357Z",
     "iopub.status.idle": "2022-10-01T18:14:34.663456Z",
     "shell.execute_reply": "2022-10-01T18:14:34.663286Z",
     "shell.execute_reply.started": "2022-10-01T18:14:34.165457Z"
    },
    "tags": []
   },
   "outputs": [
    {
     "data": {
      "text/plain": [
       "user_id    2609731\n",
       "cnt        2609731\n",
       "dtype: int64"
      ]
     },
     "execution_count": 9,
     "metadata": {},
     "output_type": "execute_result"
    }
   ],
   "source": [
    "unique_podcast_consumed_df.count()"
   ]
  },
  {
   "cell_type": "code",
   "execution_count": 10,
   "id": "e971cca4-0cc9-43da-921e-58407a6037dc",
   "metadata": {
    "execution": {
     "iopub.execute_input": "2022-10-01T18:15:24.561412Z",
     "iopub.status.busy": "2022-10-01T18:15:24.561262Z",
     "iopub.status.idle": "2022-10-01T18:15:24.633265Z",
     "shell.execute_reply": "2022-10-01T18:15:24.633131Z",
     "shell.execute_reply.started": "2022-10-01T18:15:24.561380Z"
    },
    "tags": []
   },
   "outputs": [],
   "source": [
    "def fill_with_zeros(df, total_rows, column):\n",
    "    zeros = zeros = [{column: 0} for i in range(df.count()[column], total_rows)]\n",
    "    return pd.concat([df, pd.DataFrame.from_dict(zeros)])"
   ]
  },
  {
   "cell_type": "markdown",
   "id": "3cf9be8e-bbf9-4b4e-8486-53b87c36e766",
   "metadata": {},
   "source": [
    "fill the users who did not consume podcast with 0 counts and calculate sample size with 1% mde,1% alpha and 80% power"
   ]
  },
  {
   "cell_type": "code",
   "execution_count": 12,
   "id": "af3dc07d-30ee-4354-988b-56a9c362e11d",
   "metadata": {
    "execution": {
     "iopub.execute_input": "2022-10-01T18:17:11.184535Z",
     "iopub.status.busy": "2022-10-01T18:17:11.184436Z",
     "iopub.status.idle": "2022-10-01T18:17:11.291282Z",
     "shell.execute_reply": "2022-10-01T18:17:11.291124Z",
     "shell.execute_reply.started": "2022-10-01T18:17:11.184507Z"
    },
    "tags": []
   },
   "outputs": [
    {
     "data": {
      "text/plain": [
       "(784011, array([392006, 392006]), array([0.5, 0.5]))"
      ]
     },
     "execution_count": 12,
     "metadata": {},
     "output_type": "execute_result"
    }
   ],
   "source": [
    "unique_podcast_consumed_df1 = fill_with_zeros(unique_podcast_consumed_df, 2742786, 'cnt')\n",
    "relative_mde = 0.01 \n",
    "absolute_mde = unique_podcast_consumed_df1.cnt.mean() * relative_mde\n",
    "alpha = 0.01\n",
    "power = 0.8\n",
    "conf.SampleSize.continuous(average_absolute_mde=absolute_mde,\n",
    "                           baseline_variance=unique_podcast_consumed_df1.cnt.var(),\n",
    "                           alpha=alpha,\n",
    "                           power=power,\n",
    "                           treatments=2,\n",
    "                           comparisons='control_vs_all',\n",
    "                           treatment_allocations=[0.5, 0.5],\n",
    "                           bonferroni_correction=True)"
   ]
  },
  {
   "cell_type": "markdown",
   "id": "a46601e8-0845-4831-a2c5-7d8f45358dca",
   "metadata": {
    "execution": {
     "iopub.execute_input": "2022-10-03T11:13:25.215264Z",
     "iopub.status.busy": "2022-10-03T11:13:25.215161Z",
     "iopub.status.idle": "2022-10-03T11:13:25.319949Z",
     "shell.execute_reply": "2022-10-03T11:13:25.319829Z",
     "shell.execute_reply.started": "2022-10-03T11:13:25.215236Z"
    },
    "tags": []
   },
   "source": [
    "so for above metric we have more than required users avialable for the experiment"
   ]
  },
  {
   "cell_type": "markdown",
   "id": "7864885f-0bf3-4d0d-8217-087a860ac537",
   "metadata": {},
   "source": [
    "## Determine WAU at d14 after exposure"
   ]
  },
  {
   "cell_type": "code",
   "execution_count": 13,
   "id": "57b7d77a-8132-4bf3-a167-2465206e9e12",
   "metadata": {
    "execution": {
     "iopub.execute_input": "2022-10-01T19:01:09.404110Z",
     "iopub.status.busy": "2022-10-01T19:01:09.402870Z",
     "iopub.status.idle": "2022-10-01T19:46:34.619092Z",
     "shell.execute_reply": "2022-10-01T19:46:34.618913Z",
     "shell.execute_reply.started": "2022-10-01T19:01:09.40380Z"
    },
    "tags": []
   },
   "outputs": [
    {
     "name": "stdout",
     "output_type": "stream",
     "text": [
      "\u001b[93mAttempting dry-run before executing full query...\u001b[0m\n",
      "\n",
      "SELECT COUNT(DISTINCT cc.user_id) AS distinct_users\n",
      "FROM `core-x-insights.rahul.npv_episode_visitors` cc\n",
      "LEFT JOIN `experience-mission-metrics.activity.activity` a ON TO_HEX(a.user_id) = cc.user_id\n",
      "WHERE DATE(_PARTITIONTIME) = DATE_ADD(EXPOSURE_DATE, INTERVAL 14 DAY)\n",
      "  AND wau IS TRUE\n",
      "\u001b[93mDRY RUN: Would Process: 27372.6 G Would Cost: $124.48\u001b[0m\n",
      "\u001b[94mStaging bucket: gs://fastbqt-staging-eu-core-x-insights\u001b[0m\n",
      "\u001b[94mJob core-x-insights:a73d3e90-4230-4c61-9ad9-b3dffa2efe18 submitted ...\u001b[0m\n",
      "\u001b[94mRunning job core-x-insights:a73d3e90-4230-4c61-9ad9-b3dffa2efe18\u001b[0m\n",
      "\u001b[92mJob finished successfully!\u001b[0m                                   \n",
      "\u001b[94mGot 1 rows (0.0)\u001b[0m\n",
      "\u001b[94mCompressing and preparing files ...\u001b[0m\n",
      "\u001b[94m1 chunks (43.0) will be downloaded!\u001b[0m\n",
      "\u001b[94mDownloading chunk 1/1 (43.0) ...\u001b[0m\n",
      "\u001b[92mTime elapsed: 0:45:25.479210\u001b[0m\n"
     ]
    }
   ],
   "source": [
    "# I have saved the 21 day npv and episode page visitors in the table `core-x-insights.rahul.npv_episode_visitors`\n",
    "wau='''    \n",
    "       SELECT \n",
    "    COUNT(DISTINCT cc.user_id) AS distinct_users\n",
    "    \n",
    "FROM `core-x-insights.rahul.npv_episode_visitors` cc left join `experience-mission-metrics.activity.activity` a\n",
    " ON TO_HEX(a.user_id) = cc.user_id\n",
    "WHERE DATE(_PARTITIONTIME) = DATE_ADD(EXPOSURE_DATE, INTERVAL 14 day)\n",
    "and wau is true\n",
    "    \n",
    "    '''\n",
    "wau_df = bqt.fast_query(wau)"
   ]
  },
  {
   "cell_type": "code",
   "execution_count": 16,
   "id": "ad31b6b5-dccc-42ba-ad65-4cc174dac2db",
   "metadata": {
    "execution": {
     "iopub.execute_input": "2022-10-02T18:20:14.965691Z",
     "iopub.status.busy": "2022-10-02T18:20:14.965581Z",
     "iopub.status.idle": "2022-10-02T18:20:15.633140Z",
     "shell.execute_reply": "2022-10-02T18:20:15.631930Z",
     "shell.execute_reply.started": "2022-10-02T18:20:14.965658Z"
    },
    "tags": []
   },
   "outputs": [
    {
     "data": {
      "text/html": [
       "<div>\n",
       "<style scoped>\n",
       "    .dataframe tbody tr th:only-of-type {\n",
       "        vertical-align: middle;\n",
       "    }\n",
       "\n",
       "    .dataframe tbody tr th {\n",
       "        vertical-align: top;\n",
       "    }\n",
       "\n",
       "    .dataframe thead th {\n",
       "        text-align: right;\n",
       "    }\n",
       "</style>\n",
       "<table border=\"1\" class=\"dataframe\">\n",
       "  <thead>\n",
       "    <tr style=\"text-align: right;\">\n",
       "      <th></th>\n",
       "      <th>distinct_users</th>\n",
       "    </tr>\n",
       "  </thead>\n",
       "  <tbody>\n",
       "    <tr>\n",
       "      <th>0</th>\n",
       "      <td>2572605</td>\n",
       "    </tr>\n",
       "  </tbody>\n",
       "</table>\n",
       "</div>"
      ],
      "text/plain": [
       "   distinct_users\n",
       "0         2572605"
      ]
     },
     "execution_count": 16,
     "metadata": {},
     "output_type": "execute_result"
    }
   ],
   "source": [
    "wau_df"
   ]
  },
  {
   "cell_type": "code",
   "execution_count": 18,
   "id": "901fffc5-44ec-4520-99f5-00f0870709c7",
   "metadata": {
    "execution": {
     "iopub.execute_input": "2022-10-02T18:24:03.293061Z",
     "iopub.status.busy": "2022-10-02T18:24:03.292955Z",
     "iopub.status.idle": "2022-10-02T18:24:03.423676Z",
     "shell.execute_reply": "2022-10-02T18:24:03.423538Z",
     "shell.execute_reply.started": "2022-10-02T18:24:03.293032Z"
    },
    "tags": []
   },
   "outputs": [
    {
     "data": {
      "text/plain": [
       "(2553978, array([1276989, 1276989]), array([0.5, 0.5]))"
      ]
     },
     "execution_count": 18,
     "metadata": {},
     "output_type": "execute_result"
    }
   ],
   "source": [
    "relative_mde = 0.0011\n",
    "absolute_percentage_mde = (2572605 / 2742786) * relative_mde\n",
    "conf.SampleSize.binomial(absolute_percentage_mde=absolute_percentage_mde,\n",
    "                         baseline_proportion=2572605 / 2742786,\n",
    "                         alpha=alpha,\n",
    "                         power=power,\n",
    "                         treatments=2,\n",
    "                         comparisons='control_vs_all',\n",
    "                         treatment_allocations=[0.5, 0.5],\n",
    "                         bonferroni_correction=True)"
   ]
  },
  {
   "cell_type": "markdown",
   "id": "93c530ec-07c6-4a5b-9477-3eb7d00adb43",
   "metadata": {
    "execution": {
     "iopub.execute_input": "2022-10-03T11:15:23.539835Z",
     "iopub.status.busy": "2022-10-03T11:15:23.539595Z",
     "iopub.status.idle": "2022-10-03T11:15:23.610719Z",
     "shell.execute_reply": "2022-10-03T11:15:23.610627Z",
     "shell.execute_reply.started": "2022-10-03T11:15:23.539759Z"
    },
    "tags": []
   },
   "source": [
    "so total users avaiable for experiment is 2742786 and its below required sample size, so we are good with this metric"
   ]
  },
  {
   "cell_type": "markdown",
   "id": "beedabbd-fad4-4dc0-b153-b2d54d2440ba",
   "metadata": {},
   "source": [
    "## Determine podcast consumtion at d14 after exposure"
   ]
  },
  {
   "cell_type": "code",
   "execution_count": 14,
   "id": "ebed48ce-e548-4f26-81e1-8e3adc594aed",
   "metadata": {
    "execution": {
     "iopub.execute_input": "2022-10-01T19:46:34.619397Z",
     "iopub.status.busy": "2022-10-01T19:46:34.619282Z",
     "iopub.status.idle": "2022-10-01T20:31:36.419439Z",
     "shell.execute_reply": "2022-10-01T20:31:36.419288Z",
     "shell.execute_reply.started": "2022-10-01T19:46:34.619337Z"
    }
   },
   "outputs": [
    {
     "name": "stdout",
     "output_type": "stream",
     "text": [
      "\u001b[93mAttempting dry-run before executing full query...\u001b[0m\n",
      "\n",
      "SELECT AVG(coalesce(podcast_min_played_last14d, 0)) AS AVG,\n",
      "       STDDEV(coalesce(podcast_min_played_last14d, 0)) AS std\n",
      "FROM `core-x-insights.rahul.npv_episode_visitors` cc\n",
      "LEFT JOIN `experience-mission-metrics.activity.activity` a ON TO_HEX(a.user_id) = cc.user_id\n",
      "WHERE DATE(_PARTITIONTIME) = DATE_ADD(EXPOSURE_DATE, INTERVAL 14 DAY)\n",
      "\u001b[93mDRY RUN: Would Process: 37457.2 G Would Cost: $170.34\u001b[0m\n",
      "\u001b[94mStaging bucket: gs://fastbqt-staging-eu-core-x-insights\u001b[0m\n",
      "\u001b[94mJob core-x-insights:4eb2a0d6-3d1f-41b2-98ab-ba9cb105afa5 submitted ...\u001b[0m\n",
      "\u001b[94mRunning job core-x-insights:4eb2a0d6-3d1f-41b2-98ab-ba9cb105afa5\u001b[0m\n",
      "\u001b[92mJob finished successfully!\u001b[0m                                   \n",
      "\u001b[94mGot 1 rows (0.0)\u001b[0m\n",
      "\u001b[94mCompressing and preparing files ...\u001b[0m\n",
      "\u001b[94m1 chunks (62.0) will be downloaded!\u001b[0m\n",
      "\u001b[94mDownloading chunk 1/1 (62.0) ...\u001b[0m\n",
      "\u001b[92mTime elapsed: 0:45:01.704711\u001b[0m\n"
     ]
    }
   ],
   "source": [
    "podcast_consumption='''\n",
    "       SELECT \n",
    "   AVG(coalesce(podcast_min_played_last14d,0)) AS AVG,\n",
    "    STDDEV(coalesce(podcast_min_played_last14d,0)) AS std\n",
    "    \n",
    "FROM `core-x-insights.rahul.npv_episode_visitors` cc left join `experience-mission-metrics.activity.activity` a\n",
    " ON TO_HEX(a.user_id) = cc.user_id\n",
    "WHERE DATE(_PARTITIONTIME) = DATE_ADD(EXPOSURE_DATE, INTERVAL 14 day)\n",
    "\n",
    "    \n",
    "    '''\n",
    "podcast_consumption_df = bqt.fast_query(podcast_consumption)"
   ]
  },
  {
   "cell_type": "code",
   "execution_count": 20,
   "id": "148ef9c7-5c75-42fe-9593-487b70ca5fdf",
   "metadata": {
    "execution": {
     "iopub.execute_input": "2022-10-02T18:26:52.567020Z",
     "iopub.status.busy": "2022-10-02T18:26:52.565990Z",
     "iopub.status.idle": "2022-10-02T18:26:52.141496Z",
     "shell.execute_reply": "2022-10-02T18:26:52.141403Z",
     "shell.execute_reply.started": "2022-10-02T18:26:52.56675Z"
    },
    "tags": []
   },
   "outputs": [
    {
     "data": {
      "text/plain": [
       "<bound method NDFrame._add_numeric_operations.<locals>.std of           AVG          std\n",
       "0  724.199872  1006.215963>"
      ]
     },
     "execution_count": 20,
     "metadata": {},
     "output_type": "execute_result"
    }
   ],
   "source": [
    "podcast_consumption_df.std"
   ]
  },
  {
   "cell_type": "code",
   "execution_count": 38,
   "id": "7d364a80-f0f5-4680-89a4-ab42e3a957d4",
   "metadata": {
    "execution": {
     "iopub.execute_input": "2022-10-03T11:16:49.561706Z",
     "iopub.status.busy": "2022-10-03T11:16:49.561584Z",
     "iopub.status.idle": "2022-10-03T11:16:49.689054Z",
     "shell.execute_reply": "2022-10-03T11:16:49.688919Z",
     "shell.execute_reply.started": "2022-10-03T11:16:49.561676Z"
    },
    "tags": []
   },
   "outputs": [
    {
     "data": {
      "text/plain": [
       "(2680880, array([1340440, 1340440]), array([0.5, 0.5]))"
      ]
     },
     "execution_count": 38,
     "metadata": {},
     "output_type": "execute_result"
    }
   ],
   "source": [
    "\n",
    "relative_mde = 0.0058\n",
    "absolute_mde = 724.2 * relative_mde\n",
    "alpha = 0.01\n",
    "power = 0.8\n",
    "conf.SampleSize.continuous(average_absolute_mde=absolute_mde,\n",
    "                           baseline_variance=1006.22*1006.22,\n",
    "                           alpha=alpha,\n",
    "                           power=power,\n",
    "                           treatments=2,\n",
    "                           comparisons='control_vs_all',\n",
    "                           treatment_allocations=[0.5, 0.5],\n",
    "                           bonferroni_correction=True)"
   ]
  },
  {
   "cell_type": "markdown",
   "id": "b778662f-4561-40cd-b7af-f41fce38bcb5",
   "metadata": {
    "execution": {
     "iopub.execute_input": "2022-10-03T11:17:03.808967Z",
     "iopub.status.busy": "2022-10-03T11:17:03.808867Z",
     "iopub.status.idle": "2022-10-03T11:17:03.869938Z",
     "shell.execute_reply": "2022-10-03T11:17:03.869837Z",
     "shell.execute_reply.started": "2022-10-03T11:17:03.808942Z"
    },
    "tags": []
   },
   "source": [
    "had to increase the NIM threshold to 0.58% in order to meet the required sample size criteria "
   ]
  },
  {
   "cell_type": "markdown",
   "id": "a01c2996-8c83-44aa-9559-3329cd06ef0c",
   "metadata": {},
   "source": [
    "## Determine overall consumtion at d14 after exposure"
   ]
  },
  {
   "cell_type": "code",
   "execution_count": 15,
   "id": "b88b5a8b-d78f-4b89-846a-c254490ff811",
   "metadata": {
    "execution": {
     "iopub.execute_input": "2022-10-01T20:31:36.419667Z",
     "iopub.status.busy": "2022-10-01T20:31:36.419573Z",
     "iopub.status.idle": "2022-10-01T21:24:43.540887Z",
     "shell.execute_reply": "2022-10-01T21:24:43.540754Z",
     "shell.execute_reply.started": "2022-10-01T20:31:36.419642Z"
    },
    "tags": []
   },
   "outputs": [
    {
     "name": "stdout",
     "output_type": "stream",
     "text": [
      "\u001b[93mAttempting dry-run before executing full query...\u001b[0m\n",
      "\n",
      "SELECT AVG(coalesce(min_played_last14d, 0)) AS AVG,\n",
      "       STDDEV(coalesce(min_played_last14d, 0)) AS std\n",
      "FROM `core-x-insights.rahul.npv_episode_visitors` cc\n",
      "LEFT JOIN `experience-mission-metrics.activity.activity` a ON TO_HEX(a.user_id) = cc.user_id\n",
      "WHERE DATE(_PARTITIONTIME) = DATE_ADD(EXPOSURE_DATE, INTERVAL 14 DAY)\n",
      "\u001b[93mDRY RUN: Would Process: 37457.2 G Would Cost: $170.34\u001b[0m\n",
      "\u001b[94mStaging bucket: gs://fastbqt-staging-eu-core-x-insights\u001b[0m\n",
      "\u001b[94mJob core-x-insights:f99de3cb-fe67-404b-89c5-a69e04e62483 submitted ...\u001b[0m\n",
      "\u001b[94mRunning job core-x-insights:f99de3cb-fe67-404b-89c5-a69e04e62483\u001b[0m\n",
      "\u001b[92mJob finished successfully!\u001b[0m                                   \n",
      "\u001b[94mGot 1 rows (0.0)\u001b[0m\n",
      "\u001b[94mCompressing and preparing files ...\u001b[0m\n",
      "\u001b[94m1 chunks (66.0) will be downloaded!\u001b[0m\n",
      "\u001b[94mDownloading chunk 1/1 (66.0) ...\u001b[0m\n",
      "\u001b[92mTime elapsed: 0:53:07.019614\u001b[0m\n"
     ]
    }
   ],
   "source": [
    "overall_consumption='''\n",
    "       SELECT \n",
    "   AVG(coalesce(min_played_last14d,0)) AS AVG,\n",
    "    STDDEV(coalesce(min_played_last14d,0)) AS std\n",
    "    \n",
    "FROM `core-x-insights.rahul.npv_episode_visitors` cc left join `experience-mission-metrics.activity.activity` a\n",
    " ON TO_HEX(a.user_id) = cc.user_id\n",
    "WHERE DATE(_PARTITIONTIME) = DATE_ADD(EXPOSURE_DATE, INTERVAL 14 day)\n",
    "\n",
    "    \n",
    "    '''\n",
    "overall_consumption_df = bqt.fast_query(overall_consumption)"
   ]
  },
  {
   "cell_type": "code",
   "execution_count": 26,
   "id": "44878ee3-179d-434a-a383-32f00e76f000",
   "metadata": {
    "execution": {
     "iopub.execute_input": "2022-10-02T18:28:33.377981Z",
     "iopub.status.busy": "2022-10-02T18:28:33.377884Z",
     "iopub.status.idle": "2022-10-02T18:28:33.497765Z",
     "shell.execute_reply": "2022-10-02T18:28:33.497622Z",
     "shell.execute_reply.started": "2022-10-02T18:28:33.377954Z"
    },
    "tags": []
   },
   "outputs": [
    {
     "data": {
      "text/html": [
       "<div>\n",
       "<style scoped>\n",
       "    .dataframe tbody tr th:only-of-type {\n",
       "        vertical-align: middle;\n",
       "    }\n",
       "\n",
       "    .dataframe tbody tr th {\n",
       "        vertical-align: top;\n",
       "    }\n",
       "\n",
       "    .dataframe thead th {\n",
       "        text-align: right;\n",
       "    }\n",
       "</style>\n",
       "<table border=\"1\" class=\"dataframe\">\n",
       "  <thead>\n",
       "    <tr style=\"text-align: right;\">\n",
       "      <th></th>\n",
       "      <th>AVG</th>\n",
       "      <th>std</th>\n",
       "    </tr>\n",
       "  </thead>\n",
       "  <tbody>\n",
       "    <tr>\n",
       "      <th>0</th>\n",
       "      <td>1665.063757</td>\n",
       "      <td>1481.992214</td>\n",
       "    </tr>\n",
       "  </tbody>\n",
       "</table>\n",
       "</div>"
      ],
      "text/plain": [
       "           AVG          std\n",
       "0  1665.063757  1481.992214"
      ]
     },
     "execution_count": 26,
     "metadata": {},
     "output_type": "execute_result"
    }
   ],
   "source": [
    "overall_consumption_df\n"
   ]
  },
  {
   "cell_type": "code",
   "execution_count": 28,
   "id": "334f37ab-46b7-4b0e-b72b-01eccc93f670",
   "metadata": {
    "execution": {
     "iopub.execute_input": "2022-10-02T18:29:11.369496Z",
     "iopub.status.busy": "2022-10-02T18:29:11.369387Z",
     "iopub.status.idle": "2022-10-02T18:29:11.423200Z",
     "shell.execute_reply": "2022-10-02T18:29:11.423062Z",
     "shell.execute_reply.started": "2022-10-02T18:29:11.369464Z"
    },
    "tags": []
   },
   "outputs": [
    {
     "data": {
      "text/plain": [
       "(1480332, array([740166, 740166]), array([0.5, 0.5]))"
      ]
     },
     "execution_count": 28,
     "metadata": {},
     "output_type": "execute_result"
    }
   ],
   "source": [
    "relative_mde = 0.005\n",
    "absolute_mde = 1665.064 * relative_mde\n",
    "alpha = 0.01\n",
    "power = 0.8\n",
    "conf.SampleSize.continuous(average_absolute_mde=absolute_mde,\n",
    "                           baseline_variance=1482*1482,\n",
    "                           alpha=alpha,\n",
    "                           power=power,\n",
    "                           treatments=2,\n",
    "                           comparisons='control_vs_all',\n",
    "                           treatment_allocations=[0.5, 0.5],\n",
    "                           bonferroni_correction=True)"
   ]
  },
  {
   "cell_type": "markdown",
   "id": "e3ff376c-2cf5-4560-acde-0808e183aef5",
   "metadata": {},
   "source": [
    "we are well within sample size requirement for this metric"
   ]
  },
  {
   "cell_type": "markdown",
   "id": "a80be7f6-2158-4ab2-ac69-2d5447e8da89",
   "metadata": {
    "execution": {
     "iopub.execute_input": "2022-10-02T18:38:03.961450Z",
     "iopub.status.busy": "2022-10-02T18:38:03.960460Z",
     "iopub.status.idle": "2022-10-02T18:38:03.244516Z",
     "shell.execute_reply": "2022-10-02T18:38:03.244318Z",
     "shell.execute_reply.started": "2022-10-02T18:38:03.96118Z"
    },
    "tags": []
   },
   "source": [
    "Lets try including all the required metric within conf calculation to see overall sample size requirement"
   ]
  },
  {
   "cell_type": "code",
   "execution_count": 35,
   "id": "69da6976-cc63-487d-888d-fbef0de8741a",
   "metadata": {
    "execution": {
     "iopub.execute_input": "2022-10-02T18:39:41.621200Z",
     "iopub.status.busy": "2022-10-02T18:39:41.621094Z",
     "iopub.status.idle": "2022-10-02T18:39:41.780975Z",
     "shell.execute_reply": "2022-10-02T18:39:41.780828Z",
     "shell.execute_reply.started": "2022-10-02T18:39:41.621173Z"
    },
    "tags": []
   },
   "outputs": [
    {
     "data": {
      "text/html": [
       "<div>\n",
       "<style scoped>\n",
       "    .dataframe tbody tr th:only-of-type {\n",
       "        vertical-align: middle;\n",
       "    }\n",
       "\n",
       "    .dataframe tbody tr th {\n",
       "        vertical-align: top;\n",
       "    }\n",
       "\n",
       "    .dataframe thead th {\n",
       "        text-align: right;\n",
       "    }\n",
       "</style>\n",
       "<table border=\"1\" class=\"dataframe\">\n",
       "  <thead>\n",
       "    <tr style=\"text-align: right;\">\n",
       "      <th></th>\n",
       "      <th>metric_name</th>\n",
       "      <th>adjusted_alpha_power_sample_size</th>\n",
       "      <th>null_hypothesis</th>\n",
       "      <th>alternative_hypothesis</th>\n",
       "      <th>required_sample_size_for_metric</th>\n",
       "    </tr>\n",
       "  </thead>\n",
       "  <tbody>\n",
       "    <tr>\n",
       "      <th>0</th>\n",
       "      <td>unique_podcast_consume</td>\n",
       "      <td>0.0025</td>\n",
       "      <td>0.000000</td>\n",
       "      <td>0.1751</td>\n",
       "      <td>894112.0</td>\n",
       "    </tr>\n",
       "    <tr>\n",
       "      <th>1</th>\n",
       "      <td>wau_14d</td>\n",
       "      <td>0.0025</td>\n",
       "      <td>-0.001126</td>\n",
       "      <td>0.0000</td>\n",
       "      <td>2437730.0</td>\n",
       "    </tr>\n",
       "    <tr>\n",
       "      <th>2</th>\n",
       "      <td>podcast_consumed_14d</td>\n",
       "      <td>0.0025</td>\n",
       "      <td>-4.488800</td>\n",
       "      <td>0.0000</td>\n",
       "      <td>2674614.0</td>\n",
       "    </tr>\n",
       "    <tr>\n",
       "      <th>3</th>\n",
       "      <td>overall_consumed_14d</td>\n",
       "      <td>0.0025</td>\n",
       "      <td>-8.325000</td>\n",
       "      <td>0.0000</td>\n",
       "      <td>1687538.0</td>\n",
       "    </tr>\n",
       "  </tbody>\n",
       "</table>\n",
       "</div>"
      ],
      "text/plain": [
       "              metric_name  adjusted_alpha_power_sample_size  null_hypothesis  \\\n",
       "0  unique_podcast_consume                            0.0025         0.000000   \n",
       "1                 wau_14d                            0.0025        -0.001126   \n",
       "2    podcast_consumed_14d                            0.0025        -4.488800   \n",
       "3    overall_consumed_14d                            0.0025        -8.325000   \n",
       "\n",
       "   alternative_hypothesis  required_sample_size_for_metric  \n",
       "0                  0.1751                         894112.0  \n",
       "1                  0.0000                        2437730.0  \n",
       "2                  0.0000                        2674614.0  \n",
       "3                  0.0000                        1687538.0  "
      ]
     },
     "execution_count": 35,
     "metadata": {},
     "output_type": "execute_result"
    }
   ],
   "source": [
    "df = pd.DataFrame(\n",
    "    columns=[\"metric_name\", \"binary\", \"avg\", \"var\", \"mde\", \"nim\", \"preference\"],\n",
    "    data=[\n",
    "        [\"unique_podcast_consume\", False, 17.51, 514.8, 0.01, None, \"increase\"],\n",
    "        [\"wau_14d\", True, 0.938, 0.058, None,0.0012, \"increase\"],\n",
    "        [\"podcast_consumed_14d\", False, 724, 1006*1006, None,0.0062, \"increase\"],\n",
    "        [\"overall_consumed_14d\", False, 1665, 1482*1482,None, 0.005, \"increase\"],\n",
    "    ],\n",
    ")\n",
    "\n",
    "ssc = conf.SampleSizeCalculator(\n",
    "    data_frame=df,\n",
    "    point_estimate_column=\"avg\",\n",
    "    var_column=\"var\",\n",
    "    metric_column=\"metric_name\",\n",
    "    is_binary_column=\"binary\",\n",
    "    interval_size=0.99,\n",
    "    power=0.8,\n",
    "    correction_method='bonferroni',\n",
    ")\n",
    "treatment_weights = [5000, 5000]\n",
    "ss = ssc.sample_size(\n",
    "    treatment_weights=treatment_weights,\n",
    "    mde_column=\"mde\",\n",
    "    nim_column=\"nim\",\n",
    "    preferred_direction_column=\"preference\",\n",
    "\n",
    ")\n",
    "\n",
    "ss[['metric_name', 'adjusted_alpha_power_sample_size', 'null_hypothesis', \n",
    "    'alternative_hypothesis','required_sample_size_for_metric']]"
   ]
  },
  {
   "cell_type": "markdown",
   "id": "cb94a9fc-df26-4134-ba43-21ab151f15b4",
   "metadata": {},
   "source": [
    "so the maximum sample size required for the experiment is 2437733 which is well within the avialable pool of 2742786 customers"
   ]
  }
 ],
 "metadata": {
  "kernelspec": {
   "display_name": "Python 3",
   "language": "python",
   "name": "python3"
  },
  "language_info": {
   "file_extension": ".py",
   "mimetype": "text/x-python",
   "name": "python",
   "version": "3.9.12"
  }
 },
 "nbformat": 4,
 "nbformat_minor": 5
}
