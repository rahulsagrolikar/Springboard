{
 "cells": [
  {
   "cell_type": "code",
   "execution_count": 51,
   "id": "d71c05dc",
   "metadata": {},
   "outputs": [],
   "source": [
    "import numpy as np\n",
    "import pandas as pd\n",
    "import matplotlib.pyplot as plt\n",
    "import seaborn as sns\n",
    "from sklearn import model_selection, preprocessing, metrics, dummy, linear_model, ensemble\n",
    "from statsmodels.stats.outliers_influence import variance_inflation_factor\n",
    "import shap"
   ]
  },
  {
   "cell_type": "markdown",
   "id": "e6e3501a",
   "metadata": {},
   "source": [
    "## Part 1"
   ]
  },
  {
   "cell_type": "markdown",
   "id": "4bd6dc41",
   "metadata": {},
   "source": [
    "## Data Wrangling"
   ]
  },
  {
   "cell_type": "code",
   "execution_count": 2,
   "id": "0ce88076",
   "metadata": {},
   "outputs": [
    {
     "data": {
      "text/html": [
       "<div>\n",
       "<style scoped>\n",
       "    .dataframe tbody tr th:only-of-type {\n",
       "        vertical-align: middle;\n",
       "    }\n",
       "\n",
       "    .dataframe tbody tr th {\n",
       "        vertical-align: top;\n",
       "    }\n",
       "\n",
       "    .dataframe thead th {\n",
       "        text-align: right;\n",
       "    }\n",
       "</style>\n",
       "<table border=\"1\" class=\"dataframe\">\n",
       "  <thead>\n",
       "    <tr style=\"text-align: right;\">\n",
       "      <th></th>\n",
       "      <th>Success</th>\n",
       "      <th>Model_B</th>\n",
       "      <th>Date</th>\n",
       "      <th>X1</th>\n",
       "      <th>X2</th>\n",
       "      <th>X3</th>\n",
       "      <th>X4</th>\n",
       "    </tr>\n",
       "  </thead>\n",
       "  <tbody>\n",
       "    <tr>\n",
       "      <th>0</th>\n",
       "      <td>0</td>\n",
       "      <td>0.320440</td>\n",
       "      <td>2018-07</td>\n",
       "      <td>0</td>\n",
       "      <td>-0.897088</td>\n",
       "      <td>0.804294</td>\n",
       "      <td>0.707665</td>\n",
       "    </tr>\n",
       "    <tr>\n",
       "      <th>1</th>\n",
       "      <td>0</td>\n",
       "      <td>0.491581</td>\n",
       "      <td>2018-09</td>\n",
       "      <td>1</td>\n",
       "      <td>-0.328084</td>\n",
       "      <td>-0.332256</td>\n",
       "      <td>-0.340870</td>\n",
       "    </tr>\n",
       "    <tr>\n",
       "      <th>2</th>\n",
       "      <td>0</td>\n",
       "      <td>0.085481</td>\n",
       "      <td>2015-08</td>\n",
       "      <td>0</td>\n",
       "      <td>1.272140</td>\n",
       "      <td>2.243532</td>\n",
       "      <td>0.815581</td>\n",
       "    </tr>\n",
       "    <tr>\n",
       "      <th>3</th>\n",
       "      <td>1</td>\n",
       "      <td>0.839927</td>\n",
       "      <td>2017-07</td>\n",
       "      <td>1</td>\n",
       "      <td>0.290594</td>\n",
       "      <td>-1.161187</td>\n",
       "      <td>-0.881761</td>\n",
       "    </tr>\n",
       "    <tr>\n",
       "      <th>4</th>\n",
       "      <td>0</td>\n",
       "      <td>0.146804</td>\n",
       "      <td>2018-09</td>\n",
       "      <td>0</td>\n",
       "      <td>-0.307462</td>\n",
       "      <td>1.161276</td>\n",
       "      <td>1.597084</td>\n",
       "    </tr>\n",
       "  </tbody>\n",
       "</table>\n",
       "</div>"
      ],
      "text/plain": [
       "   Success   Model_B     Date  X1        X2        X3        X4\n",
       "0        0  0.320440  2018-07   0 -0.897088  0.804294  0.707665\n",
       "1        0  0.491581  2018-09   1 -0.328084 -0.332256 -0.340870\n",
       "2        0  0.085481  2015-08   0  1.272140  2.243532  0.815581\n",
       "3        1  0.839927  2017-07   1  0.290594 -1.161187 -0.881761\n",
       "4        0  0.146804  2018-09   0 -0.307462  1.161276  1.597084"
      ]
     },
     "execution_count": 2,
     "metadata": {},
     "output_type": "execute_result"
    }
   ],
   "source": [
    "#load the data and insepect the first few rows\n",
    "\n",
    "path = 'data/data_science_assignment.csv'\n",
    "\n",
    "df = pd.read_csv(path)\n",
    "\n",
    "df.head()"
   ]
  },
  {
   "cell_type": "code",
   "execution_count": 3,
   "id": "bd181a7a",
   "metadata": {},
   "outputs": [
    {
     "name": "stdout",
     "output_type": "stream",
     "text": [
      "<class 'pandas.core.frame.DataFrame'>\n",
      "RangeIndex: 6000 entries, 0 to 5999\n",
      "Data columns (total 7 columns):\n",
      " #   Column   Non-Null Count  Dtype  \n",
      "---  ------   --------------  -----  \n",
      " 0   Success  6000 non-null   int64  \n",
      " 1   Model_B  6000 non-null   float64\n",
      " 2   Date     6000 non-null   object \n",
      " 3   X1       6000 non-null   int64  \n",
      " 4   X2       6000 non-null   float64\n",
      " 5   X3       6000 non-null   float64\n",
      " 6   X4       6000 non-null   float64\n",
      "dtypes: float64(4), int64(2), object(1)\n",
      "memory usage: 328.2+ KB\n"
     ]
    }
   ],
   "source": [
    "#check for nulls and inspect data types\n",
    "df.info()"
   ]
  },
  {
   "cell_type": "code",
   "execution_count": 4,
   "id": "5ab1c9a9",
   "metadata": {},
   "outputs": [],
   "source": [
    "#convert the Date field from object to datetime\n",
    "df.Date = pd.to_datetime(df.Date)"
   ]
  },
  {
   "cell_type": "code",
   "execution_count": 5,
   "id": "a623c995",
   "metadata": {},
   "outputs": [
    {
     "data": {
      "text/html": [
       "<div>\n",
       "<style scoped>\n",
       "    .dataframe tbody tr th:only-of-type {\n",
       "        vertical-align: middle;\n",
       "    }\n",
       "\n",
       "    .dataframe tbody tr th {\n",
       "        vertical-align: top;\n",
       "    }\n",
       "\n",
       "    .dataframe thead th {\n",
       "        text-align: right;\n",
       "    }\n",
       "</style>\n",
       "<table border=\"1\" class=\"dataframe\">\n",
       "  <thead>\n",
       "    <tr style=\"text-align: right;\">\n",
       "      <th></th>\n",
       "      <th>count</th>\n",
       "      <th>mean</th>\n",
       "      <th>std</th>\n",
       "      <th>min</th>\n",
       "      <th>25%</th>\n",
       "      <th>50%</th>\n",
       "      <th>75%</th>\n",
       "      <th>max</th>\n",
       "    </tr>\n",
       "  </thead>\n",
       "  <tbody>\n",
       "    <tr>\n",
       "      <th>Success</th>\n",
       "      <td>6000.0</td>\n",
       "      <td>0.155667</td>\n",
       "      <td>0.362569</td>\n",
       "      <td>0.000000</td>\n",
       "      <td>0.000000</td>\n",
       "      <td>0.000000</td>\n",
       "      <td>0.000000</td>\n",
       "      <td>1.000000</td>\n",
       "    </tr>\n",
       "    <tr>\n",
       "      <th>Model_B</th>\n",
       "      <td>6000.0</td>\n",
       "      <td>0.493951</td>\n",
       "      <td>0.209031</td>\n",
       "      <td>0.021030</td>\n",
       "      <td>0.330084</td>\n",
       "      <td>0.491583</td>\n",
       "      <td>0.657086</td>\n",
       "      <td>0.988474</td>\n",
       "    </tr>\n",
       "    <tr>\n",
       "      <th>X1</th>\n",
       "      <td>6000.0</td>\n",
       "      <td>0.502167</td>\n",
       "      <td>0.500037</td>\n",
       "      <td>0.000000</td>\n",
       "      <td>0.000000</td>\n",
       "      <td>1.000000</td>\n",
       "      <td>1.000000</td>\n",
       "      <td>1.000000</td>\n",
       "    </tr>\n",
       "    <tr>\n",
       "      <th>X2</th>\n",
       "      <td>6000.0</td>\n",
       "      <td>-0.003326</td>\n",
       "      <td>1.004197</td>\n",
       "      <td>-3.612620</td>\n",
       "      <td>-0.702663</td>\n",
       "      <td>-0.001634</td>\n",
       "      <td>0.685290</td>\n",
       "      <td>3.896294</td>\n",
       "    </tr>\n",
       "    <tr>\n",
       "      <th>X3</th>\n",
       "      <td>6000.0</td>\n",
       "      <td>0.007374</td>\n",
       "      <td>1.012626</td>\n",
       "      <td>-4.860280</td>\n",
       "      <td>-0.673058</td>\n",
       "      <td>0.015458</td>\n",
       "      <td>0.681624</td>\n",
       "      <td>3.852129</td>\n",
       "    </tr>\n",
       "    <tr>\n",
       "      <th>X4</th>\n",
       "      <td>6000.0</td>\n",
       "      <td>0.015992</td>\n",
       "      <td>1.013181</td>\n",
       "      <td>-4.416066</td>\n",
       "      <td>-0.662022</td>\n",
       "      <td>0.020163</td>\n",
       "      <td>0.681972</td>\n",
       "      <td>3.641890</td>\n",
       "    </tr>\n",
       "  </tbody>\n",
       "</table>\n",
       "</div>"
      ],
      "text/plain": [
       "          count      mean       std       min       25%       50%       75%  \\\n",
       "Success  6000.0  0.155667  0.362569  0.000000  0.000000  0.000000  0.000000   \n",
       "Model_B  6000.0  0.493951  0.209031  0.021030  0.330084  0.491583  0.657086   \n",
       "X1       6000.0  0.502167  0.500037  0.000000  0.000000  1.000000  1.000000   \n",
       "X2       6000.0 -0.003326  1.004197 -3.612620 -0.702663 -0.001634  0.685290   \n",
       "X3       6000.0  0.007374  1.012626 -4.860280 -0.673058  0.015458  0.681624   \n",
       "X4       6000.0  0.015992  1.013181 -4.416066 -0.662022  0.020163  0.681972   \n",
       "\n",
       "              max  \n",
       "Success  1.000000  \n",
       "Model_B  0.988474  \n",
       "X1       1.000000  \n",
       "X2       3.896294  \n",
       "X3       3.852129  \n",
       "X4       3.641890  "
      ]
     },
     "execution_count": 5,
     "metadata": {},
     "output_type": "execute_result"
    }
   ],
   "source": [
    "#inspect value ranges, summary stats\n",
    "df.describe().T"
   ]
  },
  {
   "cell_type": "code",
   "execution_count": 6,
   "id": "c0758548",
   "metadata": {},
   "outputs": [
    {
     "data": {
      "text/plain": [
       "0    0.844333\n",
       "1    0.155667\n",
       "Name: Success, dtype: float64"
      ]
     },
     "execution_count": 6,
     "metadata": {},
     "output_type": "execute_result"
    },
    {
     "data": {
      "image/png": "[encoded data removed]",
      "text/plain": [
       "<Figure size 432x288 with 1 Axes>"
      ]
     },
     "metadata": {
      "needs_background": "light"
     },
     "output_type": "display_data"
    }
   ],
   "source": [
    "#the Success field appears skewed (most campaigns appear ineffective)\n",
    "df.Success.hist();\n",
    "df.Success.value_counts(normalize=True)"
   ]
  },
  {
   "cell_type": "markdown",
   "id": "61a37c8d",
   "metadata": {},
   "source": [
    "The classes are imbalanced but the imbalance is insignificant enough that it is likely unnecessary to take special steps (such as under or oversampling) to address the imbalance."
   ]
  },
  {
   "cell_type": "code",
   "execution_count": 7,
   "id": "8aac64f0",
   "metadata": {},
   "outputs": [
    {
     "data": {
      "image/png": "[encoded data removed]",
      "text/plain": [
       "<Figure size 864x288 with 4 Axes>"
      ]
     },
     "metadata": {
      "needs_background": "light"
     },
     "output_type": "display_data"
    }
   ],
   "source": [
    "#inspect the distributions for the new features (X1 - X4)\n",
    "features = ['X' + str(i) for i in range(1,5)]\n",
    "\n",
    "fig, ax = plt.subplots(1,4, figsize=(12,4))\n",
    "\n",
    "for i, feature in enumerate(features):\n",
    "    sns.histplot(data = df, x = feature, ax=ax.flatten()[i])\n",
    "    ax.flatten()[i].set_title(feature)"
   ]
  },
  {
   "cell_type": "markdown",
   "id": "399150b9",
   "metadata": {},
   "source": [
    "X1's values are distrubted evenly between 0 and 1.\n",
    "\n",
    "X2 - X4 all appear normally distributed with their mean centred around 0. \n",
    "\n",
    "There do not appear to be any significant outliers."
   ]
  },
  {
   "cell_type": "markdown",
   "id": "f12214eb",
   "metadata": {},
   "source": [
    "## Exploratory Data Analysis"
   ]
  },
  {
   "cell_type": "code",
   "execution_count": 8,
   "id": "cb668f7a",
   "metadata": {},
   "outputs": [
    {
     "data": {
      "text/plain": [
       "0.15566666666666668"
      ]
     },
     "execution_count": 8,
     "metadata": {},
     "output_type": "execute_result"
    }
   ],
   "source": [
    "#overall success rate\n",
    "success_rate = df['Success'].sum()/df['Success'].count()\n",
    "success_rate"
   ]
  },
  {
   "cell_type": "markdown",
   "id": "ff56ed64",
   "metadata": {},
   "source": [
    "**Relationships between predictors (X1-X4) and the target feature (Success)**"
   ]
  },
  {
   "cell_type": "code",
   "execution_count": 9,
   "id": "f828818f",
   "metadata": {},
   "outputs": [
    {
     "data": {
      "image/png": "[encoded data removed]",
      "text/plain": [
       "<Figure size 432x288 with 1 Axes>"
      ]
     },
     "metadata": {
      "needs_background": "light"
     },
     "output_type": "display_data"
    }
   ],
   "source": [
    "#X1\n",
    "\n",
    "#group the data by X1\n",
    "df_success_X1 = df.groupby('X1').agg({'Success':'sum', 'Model_B':'count'}) \\\n",
    "    .reset_index() \\\n",
    "    .rename(columns={'Model_B':'Count'})\n",
    "\n",
    "#calculate success rates\n",
    "df_success_X1['Success_Rate'] = df_success_X1.Success / df_success_X1.Count\n",
    "\n",
    "\n",
    "#inspect the different success rates\n",
    "sns.barplot(x='X1', y='Success_Rate', data=df_success_X1);\n",
    "plt.gca().set(ylim=(0,1));\n",
    "plt.gca().set_title('Success Rate by X1 Group')\n",
    "\n",
    "#plot the overall success rate\n",
    "plt.gca().axhline(success_rate, linestyle='--', color='red');"
   ]
  },
  {
   "cell_type": "markdown",
   "id": "922fab89",
   "metadata": {},
   "source": [
    "Success rate tend to be much higher when X1 is true."
   ]
  },
  {
   "cell_type": "code",
   "execution_count": 10,
   "id": "e0c24210",
   "metadata": {},
   "outputs": [
    {
     "data": {
      "image/png": "[encoded data removed]",
      "text/plain": [
       "<Figure size 864x288 with 1 Axes>"
      ]
     },
     "metadata": {
      "needs_background": "light"
     },
     "output_type": "display_data"
    }
   ],
   "source": [
    "#X2\n",
    "\n",
    "#bin the X2 data for analysis\n",
    "df['X2_bins'] = pd.qcut(df['X2'],10)\n",
    "\n",
    "#group the data by X2 bins\n",
    "df_success_X2 = df.groupby('X2_bins').agg({'Success':'sum', 'Model_B':'count'}) \\\n",
    "    .reset_index() \\\n",
    "    .rename(columns={'Model_B':'Count'})\n",
    "\n",
    "#calculate success rates\n",
    "df_success_X2['Success_Rate'] = df_success_X2.Success / df_success_X2.Count\n",
    "\n",
    "#plot the success rate by X2 range\n",
    "plt.subplots(figsize=(12,4))\n",
    "sns.barplot(x='X2_bins', y='Success_Rate', data=df_success_X2);\n",
    "plt.gca().set(ylim=(0,1));\n",
    "plt.gca().set_title('Success Rate by X2 Group')\n",
    "for label in plt.gca().get_xticklabels():\n",
    "        label.set_rotation(45) \n",
    "        \n",
    "#plot the overall success rate\n",
    "plt.gca().axhline(success_rate, linestyle='--', color='red');\n",
    "\n",
    "#drop the temporary X2_bins feature\n",
    "df.drop(columns=['X2_bins'], inplace=True)"
   ]
  },
  {
   "cell_type": "markdown",
   "id": "0217384f",
   "metadata": {},
   "source": [
    "X2 does not appear to have a significant impact on success rate. However, for now we can keep X2 as we can not know for sure that it will not be beneficial during the modeling stage."
   ]
  },
  {
   "cell_type": "code",
   "execution_count": 11,
   "id": "6656fb02",
   "metadata": {},
   "outputs": [
    {
     "data": {
      "image/png": "[encoded data removed]",
      "text/plain": [
       "<Figure size 864x288 with 1 Axes>"
      ]
     },
     "metadata": {
      "needs_background": "light"
     },
     "output_type": "display_data"
    }
   ],
   "source": [
    "#X3\n",
    "\n",
    "#bin the X3 data for analysis\n",
    "df['X3_bins'] = pd.qcut(df['X3'],10)\n",
    "\n",
    "#group the data by X3 bins\n",
    "df_success_X3 = df.groupby('X3_bins').agg({'Success':'sum', 'Model_B':'count'}) \\\n",
    "    .reset_index() \\\n",
    "    .rename(columns={'Model_B':'Count'})\n",
    "\n",
    "#calculate success rates\n",
    "df_success_X3['Success_Rate'] = df_success_X3.Success / df_success_X3.Count\n",
    "\n",
    "#plot the success rate by X3 range\n",
    "plt.subplots(figsize=(12,4))\n",
    "sns.barplot(x='X3_bins', y='Success_Rate', data=df_success_X3);\n",
    "plt.gca().set(ylim=(0,1));\n",
    "plt.gca().set_title('Success Rate by X3 Group')\n",
    "for label in plt.gca().get_xticklabels():\n",
    "        label.set_rotation(45) \n",
    "        \n",
    "#plot the overall success rate\n",
    "plt.gca().axhline(success_rate, linestyle='--', color='red');\n",
    "\n",
    "#drop the temporary X3_bins feature\n",
    "df.drop(columns=['X3_bins'], inplace=True)"
   ]
  },
  {
   "cell_type": "markdown",
   "id": "d3c63173",
   "metadata": {},
   "source": [
    "X3 appears to be a useful feature for predicting success. The success rate is much higher at lower X3 levels"
   ]
  },
  {
   "cell_type": "code",
   "execution_count": 12,
   "id": "7586279d",
   "metadata": {},
   "outputs": [
    {
     "data": {
      "image/png": "[encoded data removed]",
      "text/plain": [
       "<Figure size 864x288 with 1 Axes>"
      ]
     },
     "metadata": {
      "needs_background": "light"
     },
     "output_type": "display_data"
    }
   ],
   "source": [
    "#X4\n",
    "\n",
    "#bin the X4 data for analysis\n",
    "df['X4_bins'] = pd.qcut(df['X4'],10)\n",
    "\n",
    "#group the data by X4 bins\n",
    "df_success_X4 = df.groupby('X4_bins').agg({'Success':'sum', 'Model_B':'count'}) \\\n",
    "    .reset_index() \\\n",
    "    .rename(columns={'Model_B':'Count'})\n",
    "\n",
    "#calculate success rates\n",
    "df_success_X4['Success_Rate'] = df_success_X4.Success / df_success_X4.Count\n",
    "\n",
    "#plot the success rate by X4 range\n",
    "plt.subplots(figsize=(12,4))\n",
    "sns.barplot(x='X4_bins', y='Success_Rate', data=df_success_X4);\n",
    "plt.gca().set(ylim=(0,1));\n",
    "plt.gca().set_title('Success Rate by X4 Group')\n",
    "for label in plt.gca().get_xticklabels():\n",
    "        label.set_rotation(45) \n",
    "        \n",
    "#plot the overall success rate\n",
    "plt.gca().axhline(success_rate, linestyle='--', color='red');\n",
    "\n",
    "#drop the temporary X4_bins feature\n",
    "df.drop(columns=['X4_bins'], inplace=True)"
   ]
  },
  {
   "cell_type": "markdown",
   "id": "361efb26",
   "metadata": {},
   "source": [
    "X4 appears to be a useful feature for predicting success. The success rate is much higher at lower X4 levels. However the X3 and X4 trends appear very similar so it is likely worth check for multicollinearity in order to remove redundant features."
   ]
  },
  {
   "cell_type": "markdown",
   "id": "66e88f4e",
   "metadata": {},
   "source": [
    "## Correlation Heatmap"
   ]
  },
  {
   "cell_type": "code",
   "execution_count": 13,
   "id": "79502051",
   "metadata": {},
   "outputs": [
    {
     "data": {
      "image/png": "[encoded data removed]",
      "text/plain": [
       "<Figure size 720x576 with 2 Axes>"
      ]
     },
     "metadata": {
      "needs_background": "light"
     },
     "output_type": "display_data"
    }
   ],
   "source": [
    "#heatmap to inspect correlations \n",
    "plt.figure(figsize=(10,8))\n",
    "sns.heatmap(df.corr(), cmap='crest', annot=True);"
   ]
  },
  {
   "cell_type": "markdown",
   "id": "8ff71591",
   "metadata": {},
   "source": [
    "The correlation heatmap agrees with the above analysis:\n",
    "* X1, X3, and X4 all have a large enough (positive or negative) correlation with Success that we can expect reasonable predictive power\n",
    "* X2 has much lower correlation with Success and likely won't have much predictive power\n",
    "* X3 and X4 are highly correlated and likely redundant - one of these features will likely be removed when multicollinear features are filtered out. Another option would be to combine these two features into a single feature.\n",
    "* X1 also has a moderately strong (negative) correlation with X3 and X4."
   ]
  },
  {
   "cell_type": "markdown",
   "id": "d650383b",
   "metadata": {},
   "source": [
    "## Feature Engineering"
   ]
  },
  {
   "cell_type": "markdown",
   "id": "57a1aa6d",
   "metadata": {},
   "source": [
    "**It appears that we only have date data at a monthly granularity. Therefore, data cannot be inspected at a finer grained level than the month**"
   ]
  },
  {
   "cell_type": "code",
   "execution_count": 14,
   "id": "c6fb2b7c",
   "metadata": {},
   "outputs": [
    {
     "data": {
      "text/plain": [
       "1    6000\n",
       "Name: Date, dtype: int64"
      ]
     },
     "execution_count": 14,
     "metadata": {},
     "output_type": "execute_result"
    }
   ],
   "source": [
    "#check the day of the month\n",
    "df.Date.dt.day.value_counts()"
   ]
  },
  {
   "cell_type": "markdown",
   "id": "572a9bdb",
   "metadata": {},
   "source": [
    "**We can derive the month of the year from the date to inspect seasonality**"
   ]
  },
  {
   "cell_type": "code",
   "execution_count": 15,
   "id": "b95e4587",
   "metadata": {},
   "outputs": [
    {
     "data": {
      "text/plain": [
       "0        7\n",
       "1        9\n",
       "2        8\n",
       "3        7\n",
       "4        9\n",
       "        ..\n",
       "5995     2\n",
       "5996    11\n",
       "5997     4\n",
       "5998    12\n",
       "5999     4\n",
       "Name: month, Length: 6000, dtype: int64"
      ]
     },
     "execution_count": 15,
     "metadata": {},
     "output_type": "execute_result"
    }
   ],
   "source": [
    "#month\n",
    "df['month'] = df.Date.dt.month\n",
    "df.month"
   ]
  },
  {
   "cell_type": "code",
   "execution_count": 16,
   "id": "ca570925",
   "metadata": {},
   "outputs": [
    {
     "data": {
      "image/png": "[encoded data removed]",
      "text/plain": [
       "<Figure size 432x288 with 1 Axes>"
      ]
     },
     "metadata": {
      "needs_background": "light"
     },
     "output_type": "display_data"
    }
   ],
   "source": [
    "#look at relationshp between month and success\n",
    "\n",
    "#group the data by month\n",
    "df_success_month = df.groupby('month').agg({'Success':'sum', 'Model_B':'count'}) \\\n",
    "    .reset_index() \\\n",
    "    .rename(columns={'Model_B':'Count'})\n",
    "\n",
    "#calculate success rates\n",
    "df_success_month['Success_Rate'] = df_success_month.Success / df_success_month.Count\n",
    "\n",
    "\n",
    "#inspect the different success rates\n",
    "sns.barplot(x='month', y='Success_Rate', data=df_success_month);\n",
    "plt.gca().set(ylim=(0,1));\n",
    "plt.gca().set_title('Success Rate by Month')\n",
    "\n",
    "#plot the overall success rate\n",
    "plt.gca().axhline(success_rate, linestyle='--', color='red');"
   ]
  },
  {
   "cell_type": "markdown",
   "id": "4d9a5fef",
   "metadata": {},
   "source": [
    "Success rates are highest in the 1st quarter of the year. They tend to be lowest in the 3rd quarter and moderate in quarters 2 and 4. A feature can be created to reflect the quarter."
   ]
  },
  {
   "cell_type": "code",
   "execution_count": 17,
   "id": "cc52a4c3",
   "metadata": {},
   "outputs": [],
   "source": [
    "#function to map month to quarter\n",
    "def map_month_quarter(row):\n",
    "    if row['month'] <= 3:\n",
    "        return 'Q1'\n",
    "    elif row['month'] >3 and row['month'] <=6:\n",
    "        return 'Q2'\n",
    "    elif row['month'] >6 and row['month'] <=9:\n",
    "        return 'Q3'\n",
    "    else:\n",
    "        return 'Q4'"
   ]
  },
  {
   "cell_type": "code",
   "execution_count": 18,
   "id": "265dcb3d",
   "metadata": {},
   "outputs": [],
   "source": [
    "#map each month to a quarter\n",
    "df['quarter'] = df.apply(lambda row : map_month_quarter(row), axis=1)"
   ]
  },
  {
   "cell_type": "code",
   "execution_count": 19,
   "id": "d58bae7e",
   "metadata": {},
   "outputs": [
    {
     "data": {
      "image/png": "[encoded data removed]",
      "text/plain": [
       "<Figure size 432x288 with 1 Axes>"
      ]
     },
     "metadata": {
      "needs_background": "light"
     },
     "output_type": "display_data"
    }
   ],
   "source": [
    "#look at relationshp between quarter and success\n",
    "\n",
    "#group the data by quarter\n",
    "df_success_quarter = df.groupby('quarter').agg({'Success':'sum', 'Model_B':'count'}) \\\n",
    "    .reset_index() \\\n",
    "    .rename(columns={'Model_B':'Count'})\n",
    "\n",
    "#calculate success rates\n",
    "df_success_quarter['Success_Rate'] = df_success_quarter.Success / df_success_quarter.Count\n",
    "\n",
    "\n",
    "#inspect the different success rates\n",
    "sns.barplot(x='quarter', y='Success_Rate', data=df_success_quarter);\n",
    "plt.gca().set(ylim=(0,1));\n",
    "plt.gca().set_title('Success Rate by Quarter')\n",
    "\n",
    "#plot the overall success rate\n",
    "plt.gca().axhline(success_rate, linestyle='--', color='red');"
   ]
  },
  {
   "cell_type": "code",
   "execution_count": 20,
   "id": "1613f375",
   "metadata": {},
   "outputs": [],
   "source": [
    "#look at time between the Date value and latest date (used to represent the current date)\n",
    "current_date = df.Date.max()\n",
    "df['days_since_date'] = (current_date - df.Date).dt.days\n",
    "df['days_since_date'] = df['days_since_date'].astype(np.int64) "
   ]
  },
  {
   "cell_type": "code",
   "execution_count": 21,
   "id": "27968529",
   "metadata": {},
   "outputs": [
    {
     "data": {
      "image/png": "[encoded data removed]",
      "text/plain": [
       "<Figure size 864x288 with 1 Axes>"
      ]
     },
     "metadata": {
      "needs_background": "light"
     },
     "output_type": "display_data"
    }
   ],
   "source": [
    "#inspect the relationship between days since the event and success\n",
    "\n",
    "#bin the days_since_date data for analysis\n",
    "df['days_since_date_bins'] = pd.qcut(df['days_since_date'],20)\n",
    "\n",
    "#group the data by X4 bins\n",
    "df_success_days_since_date = df.groupby('days_since_date_bins').agg({'Success':'sum', 'Model_B':'count'}) \\\n",
    "    .reset_index() \\\n",
    "    .rename(columns={'Model_B':'Count'})\n",
    "\n",
    "#calculate success rates\n",
    "df_success_days_since_date['Success_Rate'] = df_success_days_since_date.Success / df_success_days_since_date.Count\n",
    "\n",
    "#plot the success rate by X4 range\n",
    "plt.subplots(figsize=(12,4))\n",
    "sns.barplot(x='days_since_date_bins', y='Success_Rate', data=df_success_days_since_date);\n",
    "plt.gca().set(ylim=(0,1));\n",
    "plt.gca().set_title('Success Rate by Days Since Date')\n",
    "for label in plt.gca().get_xticklabels():\n",
    "        label.set_rotation(45) \n",
    "        \n",
    "#plot the overall success rate\n",
    "plt.gca().axhline(success_rate, linestyle='--', color='red');\n",
    "\n",
    "#drop the temporary X4_bins feature\n",
    "df.drop(columns=['days_since_date_bins'], inplace=True)"
   ]
  },
  {
   "cell_type": "markdown",
   "id": "04d6ad9f",
   "metadata": {},
   "source": [
    "It appears that the Days since the event value is capturing some seasonality in success rate."
   ]
  },
  {
   "cell_type": "markdown",
   "id": "2d5e1bd7",
   "metadata": {},
   "source": [
    "## Drop Unneeded Columns"
   ]
  },
  {
   "cell_type": "code",
   "execution_count": 22,
   "id": "b87fbcd0",
   "metadata": {},
   "outputs": [],
   "source": [
    "#drop the Date column\n",
    "df.drop(columns=['Date'],inplace=True)"
   ]
  },
  {
   "cell_type": "markdown",
   "id": "786917c4",
   "metadata": {},
   "source": [
    "## Part 2"
   ]
  },
  {
   "cell_type": "markdown",
   "id": "1bfa8218",
   "metadata": {},
   "source": [
    "## Preprocessing"
   ]
  },
  {
   "cell_type": "code",
   "execution_count": 23,
   "id": "80dbc227",
   "metadata": {},
   "outputs": [],
   "source": [
    "#set a value from random state to ensure repeatability\n",
    "random_state=42"
   ]
  },
  {
   "cell_type": "code",
   "execution_count": 24,
   "id": "0ba80362",
   "metadata": {},
   "outputs": [],
   "source": [
    "#separate X (feature matrix) and y (target vector)\n",
    "X = df.drop(columns=['Success'])\n",
    "y = df.Success"
   ]
  },
  {
   "cell_type": "code",
   "execution_count": 25,
   "id": "1a684972",
   "metadata": {},
   "outputs": [],
   "source": [
    "#train/test split\n",
    "X_train, X_test, y_train, y_test = \\\n",
    "    model_selection.train_test_split(X, y, train_size=0.7, stratify=y, random_state=random_state)"
   ]
  },
  {
   "cell_type": "markdown",
   "id": "cc313c28",
   "metadata": {},
   "source": [
    "**Categorical Encoding**"
   ]
  },
  {
   "cell_type": "code",
   "execution_count": 26,
   "id": "33471adb",
   "metadata": {},
   "outputs": [],
   "source": [
    "#encode categorical columns using One Hot Encoding\n",
    "\n",
    "#get the categorical columns from the training data\n",
    "categorical_columns = ['month', 'quarter']\n",
    "df_categorical = X_train[categorical_columns]\n",
    "\n",
    "#initialize the One Hot encoder\n",
    "encoder = preprocessing.OneHotEncoder(sparse=False)\n",
    "\n",
    "#fit the encoder to the training data, encode the training data, add the encoded columns to the dataframe\n",
    "encoded_cols = encoder.fit_transform(df_categorical)\n",
    "df_encoded = pd.DataFrame(encoded_cols, \n",
    "                          columns=encoder.get_feature_names(categorical_columns),\n",
    "                         index=X_train.index)\n",
    "X_train = pd.concat([X_train,df_encoded], axis=1)\n",
    "\n",
    "#drop the original categorical columns\n",
    "X_train.drop(columns=categorical_columns, inplace=True)\n",
    "\n",
    "\n",
    "#get the categorical columns from the test data\n",
    "df_categorical = X_test[categorical_columns]\n",
    "\n",
    "#encode the test data using the encoder that was fitted to the training data\n",
    "encoded_cols = encoder.transform(df_categorical)\n",
    "df_encoded = pd.DataFrame(encoded_cols, \n",
    "                          columns=encoder.get_feature_names(categorical_columns),\n",
    "                         index=X_test.index)\n",
    "X_test = pd.concat([X_test,df_encoded], axis=1)\n",
    "\n",
    "#drop the original categorical columns\n",
    "X_test.drop(columns=categorical_columns, inplace=True)"
   ]
  },
  {
   "cell_type": "markdown",
   "id": "d75eb149",
   "metadata": {},
   "source": [
    "**Typically the numerical columns would be scaled. However, this data already appears to have been scaled so the scaling step can be skipped**"
   ]
  },
  {
   "cell_type": "markdown",
   "id": "58803f74",
   "metadata": {},
   "source": [
    "## Multicollinearity"
   ]
  },
  {
   "cell_type": "markdown",
   "id": "9da2c706",
   "metadata": {},
   "source": [
    "**Remove the Feature With the Greatest VIF Until All Features Have VIF < 2:**"
   ]
  },
  {
   "cell_type": "code",
   "execution_count": 27,
   "id": "84ebfb04",
   "metadata": {},
   "outputs": [],
   "source": [
    "#We want to keep the Model_B feature. Therefore, we will remove it from the dataframe, remove multicollinear features,\n",
    "#and then add Model_B back to the dataframe.\n",
    "X_train_model_B = X_train['Model_B']\n",
    "X_test_model_B = X_test['Model_B']\n",
    "\n",
    "X_train.drop(columns=['Model_B'], inplace=True)\n",
    "X_test.drop(columns=['Model_B'], inplace=True)"
   ]
  },
  {
   "cell_type": "code",
   "execution_count": 28,
   "id": "459a0348",
   "metadata": {},
   "outputs": [
    {
     "name": "stderr",
     "output_type": "stream",
     "text": [
      "F:\\Anaconda\\envs\\SpringBoardMain\\lib\\site-packages\\statsmodels\\stats\\outliers_influence.py:193: RuntimeWarning: divide by zero encountered in double_scalars\n",
      "  vif = 1. / (1. - r_squared_i)\n"
     ]
    }
   ],
   "source": [
    "#remove features until VIF among all features is < 2\n",
    "\n",
    "X_train = X_train.sort_index(axis=1)\n",
    "X_test = X_test.sort_index(axis=1)\n",
    "\n",
    "while len(X_train.columns) > 0:\n",
    "\n",
    "    df_VIF = pd.DataFrame({'Feature':X_train.columns})\n",
    "    df_VIF['VIF'] = [variance_inflation_factor(X_train.values, i) for i in range(len(X_train.columns))]\n",
    "    \n",
    "    if df_VIF.loc[df_VIF['VIF'].idxmax()]['VIF'] < 2:\n",
    "        break\n",
    "        \n",
    "    X_train = X_train.drop(columns=df_VIF.loc[df_VIF['VIF'].idxmax()]['Feature'])    "
   ]
  },
  {
   "cell_type": "markdown",
   "id": "4d2e28fc",
   "metadata": {},
   "source": [
    "**Select the same columns from the test data**"
   ]
  },
  {
   "cell_type": "code",
   "execution_count": 29,
   "id": "4f3247b4",
   "metadata": {},
   "outputs": [],
   "source": [
    "#Select the same columns from the test data\n",
    "X_test = X_test[X_train.columns]"
   ]
  },
  {
   "cell_type": "markdown",
   "id": "01bfbd05",
   "metadata": {},
   "source": [
    "**Add the Model_B columns back into the dataset**"
   ]
  },
  {
   "cell_type": "code",
   "execution_count": 30,
   "id": "5f0d9f57",
   "metadata": {},
   "outputs": [],
   "source": [
    "#add the model B columns back to X_train and X_test\n",
    "X_train['Model_B'] = X_train_model_B \n",
    "X_test['Model_B'] = X_test_model_B "
   ]
  },
  {
   "cell_type": "code",
   "execution_count": 31,
   "id": "516cdc01",
   "metadata": {},
   "outputs": [
    {
     "data": {
      "text/html": [
       "<div>\n",
       "<style scoped>\n",
       "    .dataframe tbody tr th:only-of-type {\n",
       "        vertical-align: middle;\n",
       "    }\n",
       "\n",
       "    .dataframe tbody tr th {\n",
       "        vertical-align: top;\n",
       "    }\n",
       "\n",
       "    .dataframe thead th {\n",
       "        text-align: right;\n",
       "    }\n",
       "</style>\n",
       "<table border=\"1\" class=\"dataframe\">\n",
       "  <thead>\n",
       "    <tr style=\"text-align: right;\">\n",
       "      <th></th>\n",
       "      <th>X2</th>\n",
       "      <th>X3</th>\n",
       "      <th>month_11</th>\n",
       "      <th>month_12</th>\n",
       "      <th>month_2</th>\n",
       "      <th>month_3</th>\n",
       "      <th>month_5</th>\n",
       "      <th>month_6</th>\n",
       "      <th>month_8</th>\n",
       "      <th>month_9</th>\n",
       "      <th>Model_B</th>\n",
       "    </tr>\n",
       "  </thead>\n",
       "  <tbody>\n",
       "    <tr>\n",
       "      <th>2062</th>\n",
       "      <td>-0.935495</td>\n",
       "      <td>-1.656392</td>\n",
       "      <td>0.0</td>\n",
       "      <td>0.0</td>\n",
       "      <td>0.0</td>\n",
       "      <td>0.0</td>\n",
       "      <td>0.0</td>\n",
       "      <td>0.0</td>\n",
       "      <td>0.0</td>\n",
       "      <td>0.0</td>\n",
       "      <td>0.765860</td>\n",
       "    </tr>\n",
       "    <tr>\n",
       "      <th>1966</th>\n",
       "      <td>0.754162</td>\n",
       "      <td>0.162420</td>\n",
       "      <td>0.0</td>\n",
       "      <td>0.0</td>\n",
       "      <td>0.0</td>\n",
       "      <td>1.0</td>\n",
       "      <td>0.0</td>\n",
       "      <td>0.0</td>\n",
       "      <td>0.0</td>\n",
       "      <td>0.0</td>\n",
       "      <td>0.320886</td>\n",
       "    </tr>\n",
       "    <tr>\n",
       "      <th>4758</th>\n",
       "      <td>1.681657</td>\n",
       "      <td>2.247262</td>\n",
       "      <td>0.0</td>\n",
       "      <td>0.0</td>\n",
       "      <td>0.0</td>\n",
       "      <td>0.0</td>\n",
       "      <td>0.0</td>\n",
       "      <td>0.0</td>\n",
       "      <td>0.0</td>\n",
       "      <td>0.0</td>\n",
       "      <td>0.219703</td>\n",
       "    </tr>\n",
       "    <tr>\n",
       "      <th>1949</th>\n",
       "      <td>-0.006841</td>\n",
       "      <td>-0.064094</td>\n",
       "      <td>0.0</td>\n",
       "      <td>0.0</td>\n",
       "      <td>0.0</td>\n",
       "      <td>0.0</td>\n",
       "      <td>0.0</td>\n",
       "      <td>0.0</td>\n",
       "      <td>0.0</td>\n",
       "      <td>0.0</td>\n",
       "      <td>0.770482</td>\n",
       "    </tr>\n",
       "    <tr>\n",
       "      <th>1891</th>\n",
       "      <td>0.188642</td>\n",
       "      <td>0.828965</td>\n",
       "      <td>0.0</td>\n",
       "      <td>1.0</td>\n",
       "      <td>0.0</td>\n",
       "      <td>0.0</td>\n",
       "      <td>0.0</td>\n",
       "      <td>0.0</td>\n",
       "      <td>0.0</td>\n",
       "      <td>0.0</td>\n",
       "      <td>0.347914</td>\n",
       "    </tr>\n",
       "  </tbody>\n",
       "</table>\n",
       "</div>"
      ],
      "text/plain": [
       "            X2        X3  month_11  month_12  month_2  month_3  month_5  \\\n",
       "2062 -0.935495 -1.656392       0.0       0.0      0.0      0.0      0.0   \n",
       "1966  0.754162  0.162420       0.0       0.0      0.0      1.0      0.0   \n",
       "4758  1.681657  2.247262       0.0       0.0      0.0      0.0      0.0   \n",
       "1949 -0.006841 -0.064094       0.0       0.0      0.0      0.0      0.0   \n",
       "1891  0.188642  0.828965       0.0       1.0      0.0      0.0      0.0   \n",
       "\n",
       "      month_6  month_8  month_9   Model_B  \n",
       "2062      0.0      0.0      0.0  0.765860  \n",
       "1966      0.0      0.0      0.0  0.320886  \n",
       "4758      0.0      0.0      0.0  0.219703  \n",
       "1949      0.0      0.0      0.0  0.770482  \n",
       "1891      0.0      0.0      0.0  0.347914  "
      ]
     },
     "execution_count": 31,
     "metadata": {},
     "output_type": "execute_result"
    }
   ],
   "source": [
    "X_train.head()"
   ]
  },
  {
   "cell_type": "markdown",
   "id": "a0402300",
   "metadata": {},
   "source": [
    "After removing multicollinear columns, only X2 and X3 remain from the new features. This is not surprising because we noted above that X3 and X4 were highly correlated. We also noted that X1 had a moderately high correlation with X3 and X4."
   ]
  },
  {
   "cell_type": "markdown",
   "id": "6cc3c596",
   "metadata": {},
   "source": [
    "## Modeling"
   ]
  },
  {
   "cell_type": "code",
   "execution_count": 32,
   "id": "2d3a20c0",
   "metadata": {},
   "outputs": [],
   "source": [
    "#method to train, predict, and score each model\n",
    "def train_predict_score(model, X_train, y_train, X_test, y_test):\n",
    "    model.fit(X_train,y_train)\n",
    "    \n",
    "    train_accuracy = metrics.accuracy_score(y_train,model.predict(X_train))\n",
    "    train_auc = metrics.roc_auc_score(y_train,model.predict_proba(X_train)[:,1])\n",
    "    train_f1 = metrics.f1_score(y_train,model.predict(X_train))\n",
    "    \n",
    "    test_accuracy = metrics.accuracy_score(y_test,model.predict(X_test))\n",
    "    test_auc = metrics.roc_auc_score(y_test,model.predict_proba(X_test)[:,1])\n",
    "    test_f1 = metrics.f1_score(y_test,model.predict(X_test))\n",
    "      \n",
    "    return dict({\n",
    "        'Train Accuracy':train_accuracy,\n",
    "        'Train AUC': train_auc,\n",
    "        'Train F1': train_f1,\n",
    "        'Test Accuracy':test_accuracy,\n",
    "        'Test AUC':test_auc,\n",
    "        'Test F1':test_f1})"
   ]
  },
  {
   "cell_type": "code",
   "execution_count": 33,
   "id": "54573195",
   "metadata": {},
   "outputs": [],
   "source": [
    "#DataFrame to hold scores\n",
    "model_scores = pd.DataFrame(columns=['Model','Train Accuracy','Train AUC','Train F1',\n",
    "                                     'Test Accuracy','Test AUC', 'Test F1'])"
   ]
  },
  {
   "cell_type": "code",
   "execution_count": 34,
   "id": "b00acd4d",
   "metadata": {},
   "outputs": [],
   "source": [
    "#baseline model\n",
    "dummy_model = dummy.DummyClassifier(random_state = random_state, strategy='uniform')\n",
    "\n",
    "dict_score = train_predict_score(dummy_model, X_train, y_train, X_test, y_test)\n",
    "dict_score['Model'] = 'Dummy'\n",
    "\n",
    "model_scores = model_scores.append(dict_score, ignore_index=True)"
   ]
  },
  {
   "cell_type": "code",
   "execution_count": 35,
   "id": "08cdb4a9",
   "metadata": {},
   "outputs": [],
   "source": [
    "#initial logistic regression model\n",
    "lr_model = linear_model.LogisticRegression(random_state=random_state)\n",
    "\n",
    "dict_score = train_predict_score(lr_model, X_train, y_train, X_test, y_test)\n",
    "dict_score['Model'] = 'Logistic Regression'\n",
    "\n",
    "model_scores = model_scores.append(dict_score, ignore_index=True)"
   ]
  },
  {
   "cell_type": "code",
   "execution_count": 36,
   "id": "7f472f33",
   "metadata": {},
   "outputs": [],
   "source": [
    "#initial gradient boosting model\n",
    "gb_model = ensemble.GradientBoostingClassifier(random_state=random_state)\n",
    "\n",
    "dict_score = train_predict_score(gb_model, X_train, y_train, X_test, y_test)\n",
    "dict_score['Model'] = 'Gradient Boosting'\n",
    "\n",
    "model_scores = model_scores.append(dict_score, ignore_index=True)"
   ]
  },
  {
   "cell_type": "code",
   "execution_count": 37,
   "id": "6c22b0a1",
   "metadata": {},
   "outputs": [],
   "source": [
    "#initial random forest model\n",
    "rf_model = ensemble.RandomForestClassifier(random_state=random_state)\n",
    "\n",
    "dict_score = train_predict_score(rf_model, X_train, y_train, X_test, y_test)\n",
    "dict_score['Model'] = 'Random Forest'\n",
    "\n",
    "model_scores = model_scores.append(dict_score, ignore_index=True)"
   ]
  },
  {
   "cell_type": "code",
   "execution_count": 38,
   "id": "78b478b8",
   "metadata": {},
   "outputs": [
    {
     "data": {
      "text/html": [
       "<div>\n",
       "<style scoped>\n",
       "    .dataframe tbody tr th:only-of-type {\n",
       "        vertical-align: middle;\n",
       "    }\n",
       "\n",
       "    .dataframe tbody tr th {\n",
       "        vertical-align: top;\n",
       "    }\n",
       "\n",
       "    .dataframe thead th {\n",
       "        text-align: right;\n",
       "    }\n",
       "</style>\n",
       "<table border=\"1\" class=\"dataframe\">\n",
       "  <thead>\n",
       "    <tr style=\"text-align: right;\">\n",
       "      <th></th>\n",
       "      <th>Model</th>\n",
       "      <th>Train Accuracy</th>\n",
       "      <th>Train AUC</th>\n",
       "      <th>Train F1</th>\n",
       "      <th>Test Accuracy</th>\n",
       "      <th>Test AUC</th>\n",
       "      <th>Test F1</th>\n",
       "    </tr>\n",
       "  </thead>\n",
       "  <tbody>\n",
       "    <tr>\n",
       "      <th>2</th>\n",
       "      <td>Gradient Boosting</td>\n",
       "      <td>0.960476</td>\n",
       "      <td>0.990844</td>\n",
       "      <td>0.869085</td>\n",
       "      <td>0.949444</td>\n",
       "      <td>0.980678</td>\n",
       "      <td>0.833028</td>\n",
       "    </tr>\n",
       "    <tr>\n",
       "      <th>1</th>\n",
       "      <td>Logistic Regression</td>\n",
       "      <td>0.936429</td>\n",
       "      <td>0.976972</td>\n",
       "      <td>0.780968</td>\n",
       "      <td>0.944444</td>\n",
       "      <td>0.980458</td>\n",
       "      <td>0.814126</td>\n",
       "    </tr>\n",
       "    <tr>\n",
       "      <th>3</th>\n",
       "      <td>Random Forest</td>\n",
       "      <td>1.000000</td>\n",
       "      <td>1.000000</td>\n",
       "      <td>1.000000</td>\n",
       "      <td>0.948889</td>\n",
       "      <td>0.974854</td>\n",
       "      <td>0.836299</td>\n",
       "    </tr>\n",
       "    <tr>\n",
       "      <th>0</th>\n",
       "      <td>Dummy</td>\n",
       "      <td>0.496667</td>\n",
       "      <td>0.500000</td>\n",
       "      <td>0.235719</td>\n",
       "      <td>0.505000</td>\n",
       "      <td>0.500000</td>\n",
       "      <td>0.237810</td>\n",
       "    </tr>\n",
       "  </tbody>\n",
       "</table>\n",
       "</div>"
      ],
      "text/plain": [
       "                 Model  Train Accuracy  Train AUC  Train F1  Test Accuracy  \\\n",
       "2    Gradient Boosting        0.960476   0.990844  0.869085       0.949444   \n",
       "1  Logistic Regression        0.936429   0.976972  0.780968       0.944444   \n",
       "3        Random Forest        1.000000   1.000000  1.000000       0.948889   \n",
       "0                Dummy        0.496667   0.500000  0.235719       0.505000   \n",
       "\n",
       "   Test AUC   Test F1  \n",
       "2  0.980678  0.833028  \n",
       "1  0.980458  0.814126  \n",
       "3  0.974854  0.836299  \n",
       "0  0.500000  0.237810  "
      ]
     },
     "metadata": {},
     "output_type": "display_data"
    }
   ],
   "source": [
    "#inspect the initial model scores\n",
    "display(model_scores.sort_values(by='Test AUC', ascending=False))"
   ]
  },
  {
   "cell_type": "markdown",
   "id": "b3bb6352",
   "metadata": {},
   "source": [
    "**After initial testing, the gradient boosting model was the best model. We can try  hyperparameter tuning in an effort to improve to further improve performance**"
   ]
  },
  {
   "cell_type": "markdown",
   "id": "d917e67a",
   "metadata": {},
   "source": [
    "## Hyperparameter Tuning"
   ]
  },
  {
   "cell_type": "code",
   "execution_count": 39,
   "id": "bf26ceb0",
   "metadata": {},
   "outputs": [],
   "source": [
    "#define the hyperparameter search grid\n",
    "grid_params = {\n",
    "    'learning_rate':[0.001,0.01,0.1, 1],\n",
    "    'max_depth':[3,6,7,8,9,10],\n",
    "    'subsample':[0.25,0.5,0.75,1],\n",
    "    'max_features':['sqrt','log2',1],\n",
    "}\n",
    "\n",
    "#Gradient Boosting model (best score in initial modeling)\n",
    "gb_model = ensemble.GradientBoostingClassifier(random_state = random_state)\n",
    "\n",
    "#Randomized CV search for best hyperparameters\n",
    "tuned_gb_model = model_selection.RandomizedSearchCV(gb_model,grid_params, scoring='roc_auc',n_jobs=-1, \n",
    "                                                    cv=15, random_state=random_state, n_iter=30)\n",
    "\n",
    "#train the model, make predictions on train and test sets, get AUC scores\n",
    "dict_so = train_predict_score(tuned_gb_model, X_train, y_train, X_test, y_test)\n",
    "dict_score['Model'] = 'Tuned Gradient Boosting'\n",
    "\n",
    "model_scores = model_scores.append(dict_score, ignore_index=True)"
   ]
  },
  {
   "cell_type": "code",
   "execution_count": 40,
   "id": "d369c9b5",
   "metadata": {},
   "outputs": [
    {
     "data": {
      "text/plain": [
       "{'subsample': 1, 'max_features': 'sqrt', 'max_depth': 3, 'learning_rate': 0.1}"
      ]
     },
     "execution_count": 40,
     "metadata": {},
     "output_type": "execute_result"
    }
   ],
   "source": [
    "#check the best parameters\n",
    "tuned_gb_model.best_params_"
   ]
  },
  {
   "cell_type": "code",
   "execution_count": 41,
   "id": "1b9a79e5",
   "metadata": {},
   "outputs": [
    {
     "data": {
      "text/html": [
       "<div>\n",
       "<style scoped>\n",
       "    .dataframe tbody tr th:only-of-type {\n",
       "        vertical-align: middle;\n",
       "    }\n",
       "\n",
       "    .dataframe tbody tr th {\n",
       "        vertical-align: top;\n",
       "    }\n",
       "\n",
       "    .dataframe thead th {\n",
       "        text-align: right;\n",
       "    }\n",
       "</style>\n",
       "<table border=\"1\" class=\"dataframe\">\n",
       "  <thead>\n",
       "    <tr style=\"text-align: right;\">\n",
       "      <th></th>\n",
       "      <th>Model</th>\n",
       "      <th>Train Accuracy</th>\n",
       "      <th>Train AUC</th>\n",
       "      <th>Train F1</th>\n",
       "      <th>Test Accuracy</th>\n",
       "      <th>Test AUC</th>\n",
       "      <th>Test F1</th>\n",
       "    </tr>\n",
       "  </thead>\n",
       "  <tbody>\n",
       "    <tr>\n",
       "      <th>2</th>\n",
       "      <td>Gradient Boosting</td>\n",
       "      <td>0.960476</td>\n",
       "      <td>0.990844</td>\n",
       "      <td>0.869085</td>\n",
       "      <td>0.949444</td>\n",
       "      <td>0.980678</td>\n",
       "      <td>0.833028</td>\n",
       "    </tr>\n",
       "    <tr>\n",
       "      <th>1</th>\n",
       "      <td>Logistic Regression</td>\n",
       "      <td>0.936429</td>\n",
       "      <td>0.976972</td>\n",
       "      <td>0.780968</td>\n",
       "      <td>0.944444</td>\n",
       "      <td>0.980458</td>\n",
       "      <td>0.814126</td>\n",
       "    </tr>\n",
       "    <tr>\n",
       "      <th>3</th>\n",
       "      <td>Random Forest</td>\n",
       "      <td>1.000000</td>\n",
       "      <td>1.000000</td>\n",
       "      <td>1.000000</td>\n",
       "      <td>0.948889</td>\n",
       "      <td>0.974854</td>\n",
       "      <td>0.836299</td>\n",
       "    </tr>\n",
       "    <tr>\n",
       "      <th>4</th>\n",
       "      <td>Tuned Gradient Boosting</td>\n",
       "      <td>1.000000</td>\n",
       "      <td>1.000000</td>\n",
       "      <td>1.000000</td>\n",
       "      <td>0.948889</td>\n",
       "      <td>0.974854</td>\n",
       "      <td>0.836299</td>\n",
       "    </tr>\n",
       "    <tr>\n",
       "      <th>0</th>\n",
       "      <td>Dummy</td>\n",
       "      <td>0.496667</td>\n",
       "      <td>0.500000</td>\n",
       "      <td>0.235719</td>\n",
       "      <td>0.505000</td>\n",
       "      <td>0.500000</td>\n",
       "      <td>0.237810</td>\n",
       "    </tr>\n",
       "  </tbody>\n",
       "</table>\n",
       "</div>"
      ],
      "text/plain": [
       "                     Model  Train Accuracy  Train AUC  Train F1  \\\n",
       "2        Gradient Boosting        0.960476   0.990844  0.869085   \n",
       "1      Logistic Regression        0.936429   0.976972  0.780968   \n",
       "3            Random Forest        1.000000   1.000000  1.000000   \n",
       "4  Tuned Gradient Boosting        1.000000   1.000000  1.000000   \n",
       "0                    Dummy        0.496667   0.500000  0.235719   \n",
       "\n",
       "   Test Accuracy  Test AUC   Test F1  \n",
       "2       0.949444  0.980678  0.833028  \n",
       "1       0.944444  0.980458  0.814126  \n",
       "3       0.948889  0.974854  0.836299  \n",
       "4       0.948889  0.974854  0.836299  \n",
       "0       0.505000  0.500000  0.237810  "
      ]
     },
     "metadata": {},
     "output_type": "display_data"
    }
   ],
   "source": [
    "#inspect all model scores\n",
    "display(model_scores.sort_values(by='Test AUC', ascending=False))"
   ]
  },
  {
   "cell_type": "markdown",
   "id": "4a8d0013",
   "metadata": {},
   "source": [
    "**The tuned model had the best test performance across all three metrics - accuracy, ROC-AUC, and F1 score. Therefore, the Tuned Gradient Boosting model will be selected as a final model**"
   ]
  },
  {
   "cell_type": "code",
   "execution_count": 42,
   "id": "a7df158a",
   "metadata": {},
   "outputs": [],
   "source": [
    "Model_A = tuned_gb_model"
   ]
  },
  {
   "cell_type": "code",
   "execution_count": 43,
   "id": "e59d798b",
   "metadata": {},
   "outputs": [
    {
     "data": {
      "image/png": "[encoded data removed]",
      "text/plain": [
       "<Figure size 432x288 with 1 Axes>"
      ]
     },
     "metadata": {
      "needs_background": "light"
     },
     "output_type": "display_data"
    }
   ],
   "source": [
    "#plot the roc curve for Model A\n",
    "metrics.plot_roc_curve(Model_A, X_test, y_test);"
   ]
  },
  {
   "cell_type": "code",
   "execution_count": 44,
   "id": "b25da889",
   "metadata": {},
   "outputs": [
    {
     "data": {
      "image/png": "[encoded data removed]",
      "text/plain": [
       "<Figure size 360x720 with 1 Axes>"
      ]
     },
     "metadata": {
      "needs_background": "light"
     },
     "output_type": "display_data"
    }
   ],
   "source": [
    "#examine feature importances\n",
    "\n",
    "df_feature_importances = \\\n",
    "    pd.DataFrame(Model_A.best_estimator_.feature_importances_, index=X_train.columns, columns=['importance']) \\\n",
    "        .sort_values(by='importance', ascending=False)\n",
    "\n",
    "\n",
    "plt.figure(figsize=(5,10))\n",
    "sns.barplot(data=df_feature_importances, y=df_feature_importances.index, x='importance', color='green', orient='h');"
   ]
  },
  {
   "cell_type": "markdown",
   "id": "9a3c4c41",
   "metadata": {},
   "source": [
    "**Model A significantly relies on the output of Model B - this is by far the most important feature. However, X3 also had a fairly large contribution to the model. X2 and the month of August (month_8) also showed some importance. After, the top 4 features there was significant drop off in importance. It may be worth trying to build a model with only the top 4 features. This could lead to a simple, more robust, model.**"
   ]
  },
  {
   "cell_type": "markdown",
   "id": "b7324740",
   "metadata": {},
   "source": [
    "**SHAP Analysis**"
   ]
  },
  {
   "cell_type": "code",
   "execution_count": 56,
   "id": "4cc6cbc8",
   "metadata": {},
   "outputs": [
    {
     "name": "stderr",
     "output_type": "stream",
     "text": [
      "Using 600 background data samples could cause slower run times. Consider using shap.sample(data, K) or shap.kmeans(data, K) to summarize the background as K samples.\n"
     ]
    },
    {
     "data": {
      "application/vnd.jupyter.widget-view+json": {
       "model_id": "e180ddf43f9d444da9bf5bb6b3e3f215",
       "version_major": 2,
       "version_minor": 0
      },
      "text/plain": [
       "  0%|          | 0/600 [00:00<?, ?it/s]"
      ]
     },
     "metadata": {},
     "output_type": "display_data"
    }
   ],
   "source": [
    "#get SHAP values\n",
    "\n",
    "\n",
    "X_test_sample = shap.sample(X_test,600)\n",
    "explainer = shap.KernelExplainer(Model_A.predict, X_test_sample)\n",
    "shap_values = explainer.shap_values(X_test_sample)\n"
   ]
  },
  {
   "cell_type": "code",
   "execution_count": 57,
   "id": "f8df5a52",
   "metadata": {},
   "outputs": [
    {
     "data": {
      "image/png": "[encoded data removed]",
      "text/plain": [
       "<Figure size 576x424.8 with 2 Axes>"
      ]
     },
     "metadata": {
      "needs_background": "light"
     },
     "output_type": "display_data"
    }
   ],
   "source": [
    "#create SHAP summary plot\n",
    "\n",
    "shap.summary_plot(shap_values, X_test_sample)"
   ]
  },
  {
   "cell_type": "markdown",
   "id": "19fc2d32",
   "metadata": {},
   "source": [
    "## Part 3"
   ]
  },
  {
   "cell_type": "code",
   "execution_count": 45,
   "id": "d57f7016",
   "metadata": {},
   "outputs": [],
   "source": [
    "#get the Model B predictions\n",
    "Model_B_predictions = (X_test.Model_B > 0.5).astype(np.int64)\n",
    "\n",
    "#get the Model A predictions\n",
    "Model_A_predictions = Model_A.predict_proba(X_test)[:,1]\n",
    "Model_A_predictions = (Model_A_predictions > 0.5).astype(np.int64)"
   ]
  },
  {
   "cell_type": "code",
   "execution_count": 46,
   "id": "6ef7b2a3",
   "metadata": {},
   "outputs": [
    {
     "data": {
      "text/html": [
       "<div>\n",
       "<style scoped>\n",
       "    .dataframe tbody tr th:only-of-type {\n",
       "        vertical-align: middle;\n",
       "    }\n",
       "\n",
       "    .dataframe tbody tr th {\n",
       "        vertical-align: top;\n",
       "    }\n",
       "\n",
       "    .dataframe thead th {\n",
       "        text-align: right;\n",
       "    }\n",
       "</style>\n",
       "<table border=\"1\" class=\"dataframe\">\n",
       "  <thead>\n",
       "    <tr style=\"text-align: right;\">\n",
       "      <th></th>\n",
       "      <th>Model</th>\n",
       "      <th>Number Correct</th>\n",
       "      <th>Proportion Correct</th>\n",
       "    </tr>\n",
       "  </thead>\n",
       "  <tbody>\n",
       "    <tr>\n",
       "      <th>0</th>\n",
       "      <td>A</td>\n",
       "      <td>1711</td>\n",
       "      <td>0.950556</td>\n",
       "    </tr>\n",
       "    <tr>\n",
       "      <th>1</th>\n",
       "      <td>B</td>\n",
       "      <td>1230</td>\n",
       "      <td>0.683333</td>\n",
       "    </tr>\n",
       "  </tbody>\n",
       "</table>\n",
       "</div>"
      ],
      "text/plain": [
       "  Model Number Correct  Proportion Correct\n",
       "0     A           1711            0.950556\n",
       "1     B           1230            0.683333"
      ]
     },
     "execution_count": 46,
     "metadata": {},
     "output_type": "execute_result"
    }
   ],
   "source": [
    "#get the number and proportion of correct predictions for Model A vs. Model B\n",
    "correct_model_A = (Model_A_predictions == y_test).sum()\n",
    "correct_model_B = (Model_B_predictions == y_test).sum()\n",
    "\n",
    "proportion_model_A = (Model_A_predictions == y_test).sum() / len(y_test)\n",
    "proportion_model_B = (Model_B_predictions == y_test).sum() / len(y_test)\n",
    "\n",
    "#DataFrame to hold correct prediction count\n",
    "df_correct_count = pd.DataFrame(columns=['Model','Number Correct','Proportion Correct'])\n",
    "df_correct_count = \\\n",
    "    df_correct_count.append(dict({'Model':'A', 'Number Correct': correct_model_A, \n",
    "                                 'Proportion Correct':proportion_model_A}), ignore_index=True)\n",
    "df_correct_count = \\\n",
    "    df_correct_count.append(dict({'Model':'B', 'Number Correct': correct_model_B,\n",
    "                                 'Proportion Correct':proportion_model_B}), ignore_index=True)\n",
    "\n",
    "df_correct_count[['Model','Number Correct','Proportion Correct']]"
   ]
  },
  {
   "cell_type": "code",
   "execution_count": 47,
   "id": "a6799e46",
   "metadata": {},
   "outputs": [
    {
     "data": {
      "image/png": "[encoded data removed]",
      "text/plain": [
       "<Figure size 432x288 with 1 Axes>"
      ]
     },
     "metadata": {
      "needs_background": "light"
     },
     "output_type": "display_data"
    }
   ],
   "source": [
    "#plot the number correct for each model\n",
    "sns.barplot(data=df_correct_count, x='Model', y='Proportion Correct');\n",
    "plt.gca().set(ylim=(0,1));"
   ]
  },
  {
   "cell_type": "markdown",
   "id": "6870a5fb",
   "metadata": {},
   "source": [
    "**Model A showed significant improvment over Model B. Model A predicted 95% of the test cases correctly, while Model B predicted 68% of the test cases correctly. This indicates that the new features were relevant predictors and able to improve upon the Model B inputs.**"
   ]
  },
  {
   "cell_type": "markdown",
   "id": "f364cea0",
   "metadata": {},
   "source": [
    "## Part 4"
   ]
  },
  {
   "cell_type": "code",
   "execution_count": 48,
   "id": "203e2c94",
   "metadata": {},
   "outputs": [
    {
     "data": {
      "text/html": [
       "<div>\n",
       "<style scoped>\n",
       "    .dataframe tbody tr th:only-of-type {\n",
       "        vertical-align: middle;\n",
       "    }\n",
       "\n",
       "    .dataframe tbody tr th {\n",
       "        vertical-align: top;\n",
       "    }\n",
       "\n",
       "    .dataframe thead th {\n",
       "        text-align: right;\n",
       "    }\n",
       "</style>\n",
       "<table border=\"1\" class=\"dataframe\">\n",
       "  <thead>\n",
       "    <tr style=\"text-align: right;\">\n",
       "      <th></th>\n",
       "      <th>Model_A_Prob</th>\n",
       "      <th>Actual</th>\n",
       "    </tr>\n",
       "  </thead>\n",
       "  <tbody>\n",
       "    <tr>\n",
       "      <th>2050</th>\n",
       "      <td>0.996696</td>\n",
       "      <td>1</td>\n",
       "    </tr>\n",
       "    <tr>\n",
       "      <th>3355</th>\n",
       "      <td>0.992761</td>\n",
       "      <td>1</td>\n",
       "    </tr>\n",
       "    <tr>\n",
       "      <th>3246</th>\n",
       "      <td>0.991680</td>\n",
       "      <td>1</td>\n",
       "    </tr>\n",
       "    <tr>\n",
       "      <th>3138</th>\n",
       "      <td>0.991090</td>\n",
       "      <td>1</td>\n",
       "    </tr>\n",
       "    <tr>\n",
       "      <th>2775</th>\n",
       "      <td>0.990711</td>\n",
       "      <td>1</td>\n",
       "    </tr>\n",
       "  </tbody>\n",
       "</table>\n",
       "</div>"
      ],
      "text/plain": [
       "      Model_A_Prob  Actual\n",
       "2050      0.996696       1\n",
       "3355      0.992761       1\n",
       "3246      0.991680       1\n",
       "3138      0.991090       1\n",
       "2775      0.990711       1"
      ]
     },
     "execution_count": 48,
     "metadata": {},
     "output_type": "execute_result"
    }
   ],
   "source": [
    "#create a dataframe to store model A predictions (probabilities) and actual values\n",
    "\n",
    "#add model A predictions to the dataframe\n",
    "df_actual_pred = pd.DataFrame(Model_A.predict_proba(X_test)[:,1])\n",
    "\n",
    "#set the index based on y_test\n",
    "df_actual_pred.index = y_test.index\n",
    "\n",
    "#rename the predictions column\n",
    "df_actual_pred.rename(columns={0:'Model_A_Prob'}, inplace=True)\n",
    "\n",
    "#add the actual values to the dataframe\n",
    "df_actual_pred['Actual'] = y_test\n",
    "\n",
    "#sort the values by model A prediction (descending order)\n",
    "df_actual_pred = df_actual_pred.sort_values(by='Model_A_Prob', ascending=False)\n",
    "\n",
    "df_actual_pred.head()"
   ]
  },
  {
   "cell_type": "code",
   "execution_count": 49,
   "id": "91624d3a",
   "metadata": {},
   "outputs": [
    {
     "data": {
      "text/html": [
       "<div>\n",
       "<style scoped>\n",
       "    .dataframe tbody tr th:only-of-type {\n",
       "        vertical-align: middle;\n",
       "    }\n",
       "\n",
       "    .dataframe tbody tr th {\n",
       "        vertical-align: top;\n",
       "    }\n",
       "\n",
       "    .dataframe thead th {\n",
       "        text-align: right;\n",
       "    }\n",
       "</style>\n",
       "<table border=\"1\" class=\"dataframe\">\n",
       "  <thead>\n",
       "    <tr style=\"text-align: right;\">\n",
       "      <th></th>\n",
       "      <th>Successes</th>\n",
       "      <th>Count</th>\n",
       "      <th>Cost</th>\n",
       "      <th>Value</th>\n",
       "      <th>P/L</th>\n",
       "    </tr>\n",
       "    <tr>\n",
       "      <th>Bin</th>\n",
       "      <th></th>\n",
       "      <th></th>\n",
       "      <th></th>\n",
       "      <th></th>\n",
       "      <th></th>\n",
       "    </tr>\n",
       "  </thead>\n",
       "  <tbody>\n",
       "    <tr>\n",
       "      <th>(0.00021999999999999993, 0.00245]</th>\n",
       "      <td>0</td>\n",
       "      <td>180</td>\n",
       "      <td>1.80</td>\n",
       "      <td>0.00</td>\n",
       "      <td>-1.80</td>\n",
       "    </tr>\n",
       "    <tr>\n",
       "      <th>(0.00245, 0.00295]</th>\n",
       "      <td>0</td>\n",
       "      <td>185</td>\n",
       "      <td>1.85</td>\n",
       "      <td>0.00</td>\n",
       "      <td>-1.85</td>\n",
       "    </tr>\n",
       "    <tr>\n",
       "      <th>(0.00295, 0.00318]</th>\n",
       "      <td>0</td>\n",
       "      <td>176</td>\n",
       "      <td>1.76</td>\n",
       "      <td>0.00</td>\n",
       "      <td>-1.76</td>\n",
       "    </tr>\n",
       "    <tr>\n",
       "      <th>(0.00318, 0.00351]</th>\n",
       "      <td>0</td>\n",
       "      <td>179</td>\n",
       "      <td>1.79</td>\n",
       "      <td>0.00</td>\n",
       "      <td>-1.79</td>\n",
       "    </tr>\n",
       "    <tr>\n",
       "      <th>(0.00351, 0.00468]</th>\n",
       "      <td>0</td>\n",
       "      <td>180</td>\n",
       "      <td>1.80</td>\n",
       "      <td>0.00</td>\n",
       "      <td>-1.80</td>\n",
       "    </tr>\n",
       "    <tr>\n",
       "      <th>(0.00468, 0.00687]</th>\n",
       "      <td>2</td>\n",
       "      <td>180</td>\n",
       "      <td>1.80</td>\n",
       "      <td>0.50</td>\n",
       "      <td>-1.30</td>\n",
       "    </tr>\n",
       "    <tr>\n",
       "      <th>(0.00687, 0.021]</th>\n",
       "      <td>3</td>\n",
       "      <td>180</td>\n",
       "      <td>1.80</td>\n",
       "      <td>0.75</td>\n",
       "      <td>-1.05</td>\n",
       "    </tr>\n",
       "    <tr>\n",
       "      <th>(0.021, 0.2]</th>\n",
       "      <td>18</td>\n",
       "      <td>180</td>\n",
       "      <td>1.80</td>\n",
       "      <td>4.50</td>\n",
       "      <td>2.70</td>\n",
       "    </tr>\n",
       "    <tr>\n",
       "      <th>(0.2, 0.846]</th>\n",
       "      <td>89</td>\n",
       "      <td>180</td>\n",
       "      <td>1.80</td>\n",
       "      <td>22.25</td>\n",
       "      <td>20.45</td>\n",
       "    </tr>\n",
       "    <tr>\n",
       "      <th>(0.846, 0.997]</th>\n",
       "      <td>168</td>\n",
       "      <td>180</td>\n",
       "      <td>1.80</td>\n",
       "      <td>42.00</td>\n",
       "      <td>40.20</td>\n",
       "    </tr>\n",
       "  </tbody>\n",
       "</table>\n",
       "</div>"
      ],
      "text/plain": [
       "                                   Successes  Count  Cost  Value    P/L\n",
       "Bin                                                                    \n",
       "(0.00021999999999999993, 0.00245]          0    180  1.80   0.00  -1.80\n",
       "(0.00245, 0.00295]                         0    185  1.85   0.00  -1.85\n",
       "(0.00295, 0.00318]                         0    176  1.76   0.00  -1.76\n",
       "(0.00318, 0.00351]                         0    179  1.79   0.00  -1.79\n",
       "(0.00351, 0.00468]                         0    180  1.80   0.00  -1.80\n",
       "(0.00468, 0.00687]                         2    180  1.80   0.50  -1.30\n",
       "(0.00687, 0.021]                           3    180  1.80   0.75  -1.05\n",
       "(0.021, 0.2]                              18    180  1.80   4.50   2.70\n",
       "(0.2, 0.846]                              89    180  1.80  22.25  20.45\n",
       "(0.846, 0.997]                           168    180  1.80  42.00  40.20"
      ]
     },
     "execution_count": 49,
     "metadata": {},
     "output_type": "execute_result"
    }
   ],
   "source": [
    "#cut the dataframe into 10 equal sized buckets (based on Model A Predictions)\n",
    "df_actual_pred['Bin'] = pd.qcut(df_actual_pred['Model_A_Prob'],10)\n",
    "\n",
    "#group the data in order to inspect profit/loss for each bin/group\n",
    "df_grouped_data = df_actual_pred.groupby('Bin').agg({'Actual':'sum', 'Model_A_Prob':'count'}) \\\n",
    "    .rename(columns={'Model_A_Prob':'Count', 'Actual':'Successes'})\n",
    "\n",
    "#determine the cost of the emails and the value provided by the emails for each group/bin\n",
    "df_grouped_data['Cost'] = df_grouped_data['Count'] * 0.01\n",
    "df_grouped_data['Value'] = df_grouped_data['Successes'] * 0.25\n",
    "\n",
    "#determine profit or loss for each group/bin\n",
    "df_grouped_data['P/L'] = df_grouped_data['Value'] - df_grouped_data['Cost']\n",
    "\n",
    "df_grouped_data"
   ]
  },
  {
   "cell_type": "code",
   "execution_count": 50,
   "id": "7ad8c414",
   "metadata": {},
   "outputs": [
    {
     "data": {
      "image/png": "[encoded data removed]",
      "text/plain": [
       "<Figure size 864x288 with 1 Axes>"
      ]
     },
     "metadata": {
      "needs_background": "light"
     },
     "output_type": "display_data"
    }
   ],
   "source": [
    "#plot the profit/loss by bin/group\n",
    "plt.subplots(figsize=(12,4))\n",
    "sns.barplot(data=df_grouped_data, x=df_grouped_data.index, y='P/L');\n",
    "plt.gca().set_title('Profit/Loss by Predicted Success Group')\n",
    "for label in plt.gca().get_xticklabels():\n",
    "        label.set_rotation(45) \n",
    "        \n",
    "#line to separate profit vs. loss\n",
    "plt.gca().axhline(0, linestyle='--', color='red');"
   ]
  },
  {
   "cell_type": "markdown",
   "id": "4504ee83",
   "metadata": {},
   "source": [
    "As expected, the groups with the highest predicted values (most likely to be a Success) provide the most value. Based on the above analysis, we should consider a predicted probability threshold of 0.021. Although, this is a low probability threshold, it is profitable to consider all emails with a Success probability above the threshold. This is because the revenue associated with a success is 25x the cost of the email. Therefore, even such a low probability threshold results in profitable email campaigns. "
   ]
  }
 ],
 "metadata": {
  "kernelspec": {
   "display_name": "Python 3",
   "language": "python",
   "name": "python3"
  },
  "language_info": {
   "codemirror_mode": {
    "name": "ipython",
    "version": 3
   },
   "file_extension": ".py",
   "mimetype": "text/x-python",
   "name": "python",
   "nbconvert_exporter": "python",
   "pygments_lexer": "ipython3",
   "version": "3.8.8"
  }
 },
 "nbformat": 4,
 "nbformat_minor": 5
}
