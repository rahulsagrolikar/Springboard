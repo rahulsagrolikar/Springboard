{
 "cells": [
  {
   "cell_type": "code",
   "execution_count": 1,
   "id": "d71c05dc",
   "metadata": {},
   "outputs": [],
   "source": [
    "import numpy as np\n",
    "import pandas as pd\n",
    "import matplotlib.pyplot as plt\n",
    "import seaborn as sns\n",
    "from sklearn import model_selection, preprocessing, metrics, dummy, linear_model, ensemble\n",
    "from xgboost import XGBClassifier\n",
    "from statsmodels.stats.outliers_influence import variance_inflation_factor\n",
    "import shap"
   ]
  },
  {
   "cell_type": "markdown",
   "id": "e6e3501a",
   "metadata": {},
   "source": [
    "## Part 1"
   ]
  },
  {
   "cell_type": "markdown",
   "id": "4bd6dc41",
   "metadata": {},
   "source": [
    "## Data Wrangling"
   ]
  },
  {
   "cell_type": "code",
   "execution_count": 2,
   "id": "0ce88076",
   "metadata": {},
   "outputs": [
    {
     "data": {
      "text/html": [
       "<div>\n",
       "<style scoped>\n",
       "    .dataframe tbody tr th:only-of-type {\n",
       "        vertical-align: middle;\n",
       "    }\n",
       "\n",
       "    .dataframe tbody tr th {\n",
       "        vertical-align: top;\n",
       "    }\n",
       "\n",
       "    .dataframe thead th {\n",
       "        text-align: right;\n",
       "    }\n",
       "</style>\n",
       "<table border=\"1\" class=\"dataframe\">\n",
       "  <thead>\n",
       "    <tr style=\"text-align: right;\">\n",
       "      <th></th>\n",
       "      <th>Success</th>\n",
       "      <th>Model_B</th>\n",
       "      <th>Date</th>\n",
       "      <th>X1</th>\n",
       "      <th>X2</th>\n",
       "      <th>X3</th>\n",
       "      <th>X4</th>\n",
       "    </tr>\n",
       "  </thead>\n",
       "  <tbody>\n",
       "    <tr>\n",
       "      <th>0</th>\n",
       "      <td>0</td>\n",
       "      <td>0.320440</td>\n",
       "      <td>2018-07</td>\n",
       "      <td>0</td>\n",
       "      <td>-0.897088</td>\n",
       "      <td>0.804294</td>\n",
       "      <td>0.707665</td>\n",
       "    </tr>\n",
       "    <tr>\n",
       "      <th>1</th>\n",
       "      <td>0</td>\n",
       "      <td>0.491581</td>\n",
       "      <td>2018-09</td>\n",
       "      <td>1</td>\n",
       "      <td>-0.328084</td>\n",
       "      <td>-0.332256</td>\n",
       "      <td>-0.340870</td>\n",
       "    </tr>\n",
       "    <tr>\n",
       "      <th>2</th>\n",
       "      <td>0</td>\n",
       "      <td>0.085481</td>\n",
       "      <td>2015-08</td>\n",
       "      <td>0</td>\n",
       "      <td>1.272140</td>\n",
       "      <td>2.243532</td>\n",
       "      <td>0.815581</td>\n",
       "    </tr>\n",
       "    <tr>\n",
       "      <th>3</th>\n",
       "      <td>1</td>\n",
       "      <td>0.839927</td>\n",
       "      <td>2017-07</td>\n",
       "      <td>1</td>\n",
       "      <td>0.290594</td>\n",
       "      <td>-1.161187</td>\n",
       "      <td>-0.881761</td>\n",
       "    </tr>\n",
       "    <tr>\n",
       "      <th>4</th>\n",
       "      <td>0</td>\n",
       "      <td>0.146804</td>\n",
       "      <td>2018-09</td>\n",
       "      <td>0</td>\n",
       "      <td>-0.307462</td>\n",
       "      <td>1.161276</td>\n",
       "      <td>1.597084</td>\n",
       "    </tr>\n",
       "  </tbody>\n",
       "</table>\n",
       "</div>"
      ],
      "text/plain": [
       "   Success   Model_B     Date  X1        X2        X3        X4\n",
       "0        0  0.320440  2018-07   0 -0.897088  0.804294  0.707665\n",
       "1        0  0.491581  2018-09   1 -0.328084 -0.332256 -0.340870\n",
       "2        0  0.085481  2015-08   0  1.272140  2.243532  0.815581\n",
       "3        1  0.839927  2017-07   1  0.290594 -1.161187 -0.881761\n",
       "4        0  0.146804  2018-09   0 -0.307462  1.161276  1.597084"
      ]
     },
     "execution_count": 2,
     "metadata": {},
     "output_type": "execute_result"
    }
   ],
   "source": [
    "#load the data and insepect the first few rows\n",
    "\n",
    "path = 'data/data_science_assignment.csv'\n",
    "\n",
    "df = pd.read_csv(path)\n",
    "\n",
    "df.head()"
   ]
  },
  {
   "cell_type": "code",
   "execution_count": 3,
   "id": "bd181a7a",
   "metadata": {},
   "outputs": [
    {
     "name": "stdout",
     "output_type": "stream",
     "text": [
      "<class 'pandas.core.frame.DataFrame'>\n",
      "RangeIndex: 6000 entries, 0 to 5999\n",
      "Data columns (total 7 columns):\n",
      " #   Column   Non-Null Count  Dtype  \n",
      "---  ------   --------------  -----  \n",
      " 0   Success  6000 non-null   int64  \n",
      " 1   Model_B  6000 non-null   float64\n",
      " 2   Date     6000 non-null   object \n",
      " 3   X1       6000 non-null   int64  \n",
      " 4   X2       6000 non-null   float64\n",
      " 5   X3       6000 non-null   float64\n",
      " 6   X4       6000 non-null   float64\n",
      "dtypes: float64(4), int64(2), object(1)\n",
      "memory usage: 328.2+ KB\n"
     ]
    }
   ],
   "source": [
    "#check for nulls and inspect data types\n",
    "df.info()"
   ]
  },
  {
   "cell_type": "code",
   "execution_count": 4,
   "id": "5ab1c9a9",
   "metadata": {},
   "outputs": [],
   "source": [
    "#convert the Date field from object to datetime\n",
    "df.Date = pd.to_datetime(df.Date)"
   ]
  },
  {
   "cell_type": "code",
   "execution_count": 5,
   "id": "a623c995",
   "metadata": {},
   "outputs": [
    {
     "data": {
      "text/html": [
       "<div>\n",
       "<style scoped>\n",
       "    .dataframe tbody tr th:only-of-type {\n",
       "        vertical-align: middle;\n",
       "    }\n",
       "\n",
       "    .dataframe tbody tr th {\n",
       "        vertical-align: top;\n",
       "    }\n",
       "\n",
       "    .dataframe thead th {\n",
       "        text-align: right;\n",
       "    }\n",
       "</style>\n",
       "<table border=\"1\" class=\"dataframe\">\n",
       "  <thead>\n",
       "    <tr style=\"text-align: right;\">\n",
       "      <th></th>\n",
       "      <th>count</th>\n",
       "      <th>mean</th>\n",
       "      <th>std</th>\n",
       "      <th>min</th>\n",
       "      <th>25%</th>\n",
       "      <th>50%</th>\n",
       "      <th>75%</th>\n",
       "      <th>max</th>\n",
       "    </tr>\n",
       "  </thead>\n",
       "  <tbody>\n",
       "    <tr>\n",
       "      <th>Success</th>\n",
       "      <td>6000.0</td>\n",
       "      <td>0.155667</td>\n",
       "      <td>0.362569</td>\n",
       "      <td>0.000000</td>\n",
       "      <td>0.000000</td>\n",
       "      <td>0.000000</td>\n",
       "      <td>0.000000</td>\n",
       "      <td>1.000000</td>\n",
       "    </tr>\n",
       "    <tr>\n",
       "      <th>Model_B</th>\n",
       "      <td>6000.0</td>\n",
       "      <td>0.493951</td>\n",
       "      <td>0.209031</td>\n",
       "      <td>0.021030</td>\n",
       "      <td>0.330084</td>\n",
       "      <td>0.491583</td>\n",
       "      <td>0.657086</td>\n",
       "      <td>0.988474</td>\n",
       "    </tr>\n",
       "    <tr>\n",
       "      <th>X1</th>\n",
       "      <td>6000.0</td>\n",
       "      <td>0.502167</td>\n",
       "      <td>0.500037</td>\n",
       "      <td>0.000000</td>\n",
       "      <td>0.000000</td>\n",
       "      <td>1.000000</td>\n",
       "      <td>1.000000</td>\n",
       "      <td>1.000000</td>\n",
       "    </tr>\n",
       "    <tr>\n",
       "      <th>X2</th>\n",
       "      <td>6000.0</td>\n",
       "      <td>-0.003326</td>\n",
       "      <td>1.004197</td>\n",
       "      <td>-3.612620</td>\n",
       "      <td>-0.702663</td>\n",
       "      <td>-0.001634</td>\n",
       "      <td>0.685290</td>\n",
       "      <td>3.896294</td>\n",
       "    </tr>\n",
       "    <tr>\n",
       "      <th>X3</th>\n",
       "      <td>6000.0</td>\n",
       "      <td>0.007374</td>\n",
       "      <td>1.012626</td>\n",
       "      <td>-4.860280</td>\n",
       "      <td>-0.673058</td>\n",
       "      <td>0.015458</td>\n",
       "      <td>0.681624</td>\n",
       "      <td>3.852129</td>\n",
       "    </tr>\n",
       "    <tr>\n",
       "      <th>X4</th>\n",
       "      <td>6000.0</td>\n",
       "      <td>0.015992</td>\n",
       "      <td>1.013181</td>\n",
       "      <td>-4.416066</td>\n",
       "      <td>-0.662022</td>\n",
       "      <td>0.020163</td>\n",
       "      <td>0.681972</td>\n",
       "      <td>3.641890</td>\n",
       "    </tr>\n",
       "  </tbody>\n",
       "</table>\n",
       "</div>"
      ],
      "text/plain": [
       "          count      mean       std       min       25%       50%       75%  \\\n",
       "Success  6000.0  0.155667  0.362569  0.000000  0.000000  0.000000  0.000000   \n",
       "Model_B  6000.0  0.493951  0.209031  0.021030  0.330084  0.491583  0.657086   \n",
       "X1       6000.0  0.502167  0.500037  0.000000  0.000000  1.000000  1.000000   \n",
       "X2       6000.0 -0.003326  1.004197 -3.612620 -0.702663 -0.001634  0.685290   \n",
       "X3       6000.0  0.007374  1.012626 -4.860280 -0.673058  0.015458  0.681624   \n",
       "X4       6000.0  0.015992  1.013181 -4.416066 -0.662022  0.020163  0.681972   \n",
       "\n",
       "              max  \n",
       "Success  1.000000  \n",
       "Model_B  0.988474  \n",
       "X1       1.000000  \n",
       "X2       3.896294  \n",
       "X3       3.852129  \n",
       "X4       3.641890  "
      ]
     },
     "execution_count": 5,
     "metadata": {},
     "output_type": "execute_result"
    }
   ],
   "source": [
    "#inspect value ranges, summary stats\n",
    "df.describe().T"
   ]
  },
  {
   "cell_type": "code",
   "execution_count": 6,
   "id": "c0758548",
   "metadata": {},
   "outputs": [
    {
     "data": {
      "text/plain": [
       "0    0.844333\n",
       "1    0.155667\n",
       "Name: Success, dtype: float64"
      ]
     },
     "execution_count": 6,
     "metadata": {},
     "output_type": "execute_result"
    },
    {
     "data": {
      "image/png": "[encoded data removed]",
      "text/plain": [
       "<Figure size 432x288 with 1 Axes>"
      ]
     },
     "metadata": {
      "needs_background": "light"
     },
     "output_type": "display_data"
    }
   ],
   "source": [
    "#the Success field appears skewed (most campaigns appear ineffective)\n",
    "df.Success.hist();\n",
    "df.Success.value_counts(normalize=True)"
   ]
  },
  {
   "cell_type": "markdown",
   "id": "61a37c8d",
   "metadata": {},
   "source": [
    "The classes are imbalanced but the imbalance is insignificant enough that it is likely unnecessary to take special steps (such as under or oversampling) to address the imbalance."
   ]
  },
  {
   "cell_type": "code",
   "execution_count": 7,
   "id": "8aac64f0",
   "metadata": {},
   "outputs": [
    {
     "data": {
      "image/png": "[encoded data removed]",
      "text/plain": [
       "<Figure size 864x288 with 4 Axes>"
      ]
     },
     "metadata": {
      "needs_background": "light"
     },
     "output_type": "display_data"
    }
   ],
   "source": [
    "#inspect the distributions for the new features (X1 - X4)\n",
    "features = ['X' + str(i) for i in range(1,5)]\n",
    "\n",
    "fig, ax = plt.subplots(1,4, figsize=(12,4))\n",
    "\n",
    "for i, feature in enumerate(features):\n",
    "    sns.histplot(data = df, x = feature, ax=ax.flatten()[i])\n",
    "    ax.flatten()[i].set_title(feature)"
   ]
  },
  {
   "cell_type": "markdown",
   "id": "399150b9",
   "metadata": {},
   "source": [
    "X1's values are distrubted evenly between 0 and 1.\n",
    "\n",
    "X2 - X4 all appear normally distributed with their mean centred around 0. \n",
    "\n",
    "There do not appear to be any significant outliers."
   ]
  },
  {
   "cell_type": "markdown",
   "id": "f12214eb",
   "metadata": {},
   "source": [
    "## Exploratory Data Analysis"
   ]
  },
  {
   "cell_type": "code",
   "execution_count": 8,
   "id": "cb668f7a",
   "metadata": {},
   "outputs": [
    {
     "data": {
      "text/plain": [
       "0.15566666666666668"
      ]
     },
     "execution_count": 8,
     "metadata": {},
     "output_type": "execute_result"
    }
   ],
   "source": [
    "#overall success rate\n",
    "success_rate = df['Success'].sum()/df['Success'].count()\n",
    "success_rate"
   ]
  },
  {
   "cell_type": "markdown",
   "id": "ff56ed64",
   "metadata": {},
   "source": [
    "**Relationships between predictors (X1-X4) and the target feature (Success)**"
   ]
  },
  {
   "cell_type": "code",
   "execution_count": 9,
   "id": "f828818f",
   "metadata": {},
   "outputs": [
    {
     "data": {
      "image/png": "[encoded data removed]",
      "text/plain": [
       "<Figure size 432x288 with 1 Axes>"
      ]
     },
     "metadata": {
      "needs_background": "light"
     },
     "output_type": "display_data"
    }
   ],
   "source": [
    "#X1\n",
    "\n",
    "#group the data by X1\n",
    "df_success_X1 = df.groupby('X1').agg({'Success':'sum', 'Model_B':'count'}) \\\n",
    "    .reset_index() \\\n",
    "    .rename(columns={'Model_B':'Count'})\n",
    "\n",
    "#calculate success rates\n",
    "df_success_X1['Success_Rate'] = df_success_X1.Success / df_success_X1.Count\n",
    "\n",
    "\n",
    "#inspect the different success rates\n",
    "sns.barplot(x='X1', y='Success_Rate', data=df_success_X1);\n",
    "plt.gca().set(ylim=(0,1));\n",
    "plt.gca().set_title('Success Rate by X1 Group')\n",
    "\n",
    "#plot the overall success rate\n",
    "plt.gca().axhline(success_rate, linestyle='--', color='red');"
   ]
  },
  {
   "cell_type": "markdown",
   "id": "922fab89",
   "metadata": {},
   "source": [
    "Success rate tends to be much higher when X1 is true."
   ]
  },
  {
   "cell_type": "code",
   "execution_count": 10,
   "id": "e0c24210",
   "metadata": {},
   "outputs": [
    {
     "data": {
      "image/png": "[encoded data removed]",
      "text/plain": [
       "<Figure size 864x288 with 1 Axes>"
      ]
     },
     "metadata": {
      "needs_background": "light"
     },
     "output_type": "display_data"
    }
   ],
   "source": [
    "#X2\n",
    "\n",
    "#bin the X2 data for analysis\n",
    "df['X2_bins'] = pd.qcut(df['X2'],10)\n",
    "\n",
    "#group the data by X2 bins\n",
    "df_success_X2 = df.groupby('X2_bins').agg({'Success':'sum', 'Model_B':'count'}) \\\n",
    "    .reset_index() \\\n",
    "    .rename(columns={'Model_B':'Count'})\n",
    "\n",
    "#calculate success rates\n",
    "df_success_X2['Success_Rate'] = df_success_X2.Success / df_success_X2.Count\n",
    "\n",
    "#plot the success rate by X2 range\n",
    "plt.subplots(figsize=(12,4))\n",
    "sns.barplot(x='X2_bins', y='Success_Rate', data=df_success_X2);\n",
    "plt.gca().set(ylim=(0,1));\n",
    "plt.gca().set_title('Success Rate by X2 Group')\n",
    "for label in plt.gca().get_xticklabels():\n",
    "        label.set_rotation(45) \n",
    "        \n",
    "#plot the overall success rate\n",
    "plt.gca().axhline(success_rate, linestyle='--', color='red');\n",
    "\n",
    "#drop the temporary X2_bins feature\n",
    "df.drop(columns=['X2_bins'], inplace=True)"
   ]
  },
  {
   "cell_type": "markdown",
   "id": "0217384f",
   "metadata": {},
   "source": [
    "X2 does not appear to have a significant impact on success rate. However, for now we can keep X2 as we can not know for sure that it will not be beneficial during the modeling stage."
   ]
  },
  {
   "cell_type": "code",
   "execution_count": 11,
   "id": "6656fb02",
   "metadata": {},
   "outputs": [
    {
     "data": {
      "image/png": "[encoded data removed]",
      "text/plain": [
       "<Figure size 864x288 with 1 Axes>"
      ]
     },
     "metadata": {
      "needs_background": "light"
     },
     "output_type": "display_data"
    }
   ],
   "source": [
    "#X3\n",
    "\n",
    "#bin the X3 data for analysis\n",
    "df['X3_bins'] = pd.qcut(df['X3'],10)\n",
    "\n",
    "#group the data by X3 bins\n",
    "df_success_X3 = df.groupby('X3_bins').agg({'Success':'sum', 'Model_B':'count'}) \\\n",
    "    .reset_index() \\\n",
    "    .rename(columns={'Model_B':'Count'})\n",
    "\n",
    "#calculate success rates\n",
    "df_success_X3['Success_Rate'] = df_success_X3.Success / df_success_X3.Count\n",
    "\n",
    "#plot the success rate by X3 range\n",
    "plt.subplots(figsize=(12,4))\n",
    "sns.barplot(x='X3_bins', y='Success_Rate', data=df_success_X3);\n",
    "plt.gca().set(ylim=(0,1));\n",
    "plt.gca().set_title('Success Rate by X3 Group')\n",
    "for label in plt.gca().get_xticklabels():\n",
    "        label.set_rotation(45) \n",
    "        \n",
    "#plot the overall success rate\n",
    "plt.gca().axhline(success_rate, linestyle='--', color='red');\n",
    "\n",
    "#drop the temporary X3_bins feature\n",
    "df.drop(columns=['X3_bins'], inplace=True)"
   ]
  },
  {
   "cell_type": "markdown",
   "id": "d3c63173",
   "metadata": {},
   "source": [
    "X3 appears to be a useful feature for predicting success. The success rate is much higher at lower X3 levels"
   ]
  },
  {
   "cell_type": "code",
   "execution_count": 12,
   "id": "7586279d",
   "metadata": {},
   "outputs": [
    {
     "data": {
      "image/png": "[encoded data removed]",
      "text/plain": [
       "<Figure size 864x288 with 1 Axes>"
      ]
     },
     "metadata": {
      "needs_background": "light"
     },
     "output_type": "display_data"
    }
   ],
   "source": [
    "#X4\n",
    "\n",
    "#bin the X4 data for analysis\n",
    "df['X4_bins'] = pd.qcut(df['X4'],10)\n",
    "\n",
    "#group the data by X4 bins\n",
    "df_success_X4 = df.groupby('X4_bins').agg({'Success':'sum', 'Model_B':'count'}) \\\n",
    "    .reset_index() \\\n",
    "    .rename(columns={'Model_B':'Count'})\n",
    "\n",
    "#calculate success rates\n",
    "df_success_X4['Success_Rate'] = df_success_X4.Success / df_success_X4.Count\n",
    "\n",
    "#plot the success rate by X4 range\n",
    "plt.subplots(figsize=(12,4))\n",
    "sns.barplot(x='X4_bins', y='Success_Rate', data=df_success_X4);\n",
    "plt.gca().set(ylim=(0,1));\n",
    "plt.gca().set_title('Success Rate by X4 Group')\n",
    "for label in plt.gca().get_xticklabels():\n",
    "        label.set_rotation(45) \n",
    "        \n",
    "#plot the overall success rate\n",
    "plt.gca().axhline(success_rate, linestyle='--', color='red');\n",
    "\n",
    "#drop the temporary X4_bins feature\n",
    "df.drop(columns=['X4_bins'], inplace=True)"
   ]
  },
  {
   "cell_type": "markdown",
   "id": "361efb26",
   "metadata": {},
   "source": [
    "X4 appears to be a useful feature for predicting success. The success rate is much higher at lower X4 levels. However the X3 and X4 trends appear very similar so it is likely worth check for multicollinearity in order to remove redundant features."
   ]
  },
  {
   "cell_type": "markdown",
   "id": "66e88f4e",
   "metadata": {},
   "source": [
    "## Correlation Heatmap"
   ]
  },
  {
   "cell_type": "code",
   "execution_count": 13,
   "id": "79502051",
   "metadata": {},
   "outputs": [
    {
     "data": {
      "image/png": "[encoded data removed]",
      "text/plain": [
       "<Figure size 720x576 with 2 Axes>"
      ]
     },
     "metadata": {
      "needs_background": "light"
     },
     "output_type": "display_data"
    }
   ],
   "source": [
    "#heatmap to inspect correlations \n",
    "plt.figure(figsize=(10,8))\n",
    "sns.heatmap(df.corr(), cmap='crest', annot=True);"
   ]
  },
  {
   "cell_type": "markdown",
   "id": "8ff71591",
   "metadata": {},
   "source": [
    "The correlation heatmap agrees with the above analysis:\n",
    "* X1, X3, and X4 all have a large enough (positive or negative) correlation with Success that we can expect reasonable predictive power\n",
    "* X2 has much lower correlation with Success and likely won't have much predictive power\n",
    "* X3 and X4 are highly correlated and likely redundant - one of these features will likely be removed when multicollinear features are filtered out. Another option would be to combine these two features into a single feature.\n",
    "* X1 also has a moderately strong (negative) correlation with X3 and X4."
   ]
  },
  {
   "cell_type": "markdown",
   "id": "d650383b",
   "metadata": {},
   "source": [
    "## Feature Engineering"
   ]
  },
  {
   "cell_type": "markdown",
   "id": "57a1aa6d",
   "metadata": {},
   "source": [
    "**It appears that we only have date data at a monthly granularity. Therefore, data cannot be inspected at a finer grained level than the month**"
   ]
  },
  {
   "cell_type": "code",
   "execution_count": 14,
   "id": "c6fb2b7c",
   "metadata": {},
   "outputs": [
    {
     "data": {
      "text/plain": [
       "1    6000\n",
       "Name: Date, dtype: int64"
      ]
     },
     "execution_count": 14,
     "metadata": {},
     "output_type": "execute_result"
    }
   ],
   "source": [
    "#check the day of the month\n",
    "df.Date.dt.day.value_counts()"
   ]
  },
  {
   "cell_type": "markdown",
   "id": "572a9bdb",
   "metadata": {},
   "source": [
    "**We can derive the month of the year from the date to inspect seasonality**"
   ]
  },
  {
   "cell_type": "code",
   "execution_count": 15,
   "id": "b95e4587",
   "metadata": {},
   "outputs": [
    {
     "data": {
      "text/plain": [
       "0        7\n",
       "1        9\n",
       "2        8\n",
       "3        7\n",
       "4        9\n",
       "        ..\n",
       "5995     2\n",
       "5996    11\n",
       "5997     4\n",
       "5998    12\n",
       "5999     4\n",
       "Name: month, Length: 6000, dtype: int64"
      ]
     },
     "execution_count": 15,
     "metadata": {},
     "output_type": "execute_result"
    }
   ],
   "source": [
    "#month\n",
    "df['month'] = df.Date.dt.month\n",
    "df.month"
   ]
  },
  {
   "cell_type": "code",
   "execution_count": 16,
   "id": "ca570925",
   "metadata": {},
   "outputs": [
    {
     "data": {
      "image/png": "[encoded data removed]",
      "text/plain": [
       "<Figure size 432x288 with 1 Axes>"
      ]
     },
     "metadata": {
      "needs_background": "light"
     },
     "output_type": "display_data"
    }
   ],
   "source": [
    "#look at relationshp between month and success\n",
    "\n",
    "#group the data by month\n",
    "df_success_month = df.groupby('month').agg({'Success':'sum', 'Model_B':'count'}) \\\n",
    "    .reset_index() \\\n",
    "    .rename(columns={'Model_B':'Count'})\n",
    "\n",
    "#calculate success rates\n",
    "df_success_month['Success_Rate'] = df_success_month.Success / df_success_month.Count\n",
    "\n",
    "\n",
    "#inspect the different success rates\n",
    "sns.barplot(x='month', y='Success_Rate', data=df_success_month);\n",
    "plt.gca().set(ylim=(0,1));\n",
    "plt.gca().set_title('Success Rate by Month')\n",
    "\n",
    "#plot the overall success rate\n",
    "plt.gca().axhline(success_rate, linestyle='--', color='red');"
   ]
  },
  {
   "cell_type": "markdown",
   "id": "4d9a5fef",
   "metadata": {},
   "source": [
    "Success rates are highest in the 1st quarter of the year. They tend to be lowest in the 3rd quarter and moderate in quarters 2 and 4. A feature can be created to reflect the quarter."
   ]
  },
  {
   "cell_type": "code",
   "execution_count": 17,
   "id": "cc52a4c3",
   "metadata": {},
   "outputs": [],
   "source": [
    "#function to map month to quarter\n",
    "def map_month_quarter(row):\n",
    "    if row['month'] <= 3:\n",
    "        return 'Q1'\n",
    "    elif row['month'] >3 and row['month'] <=6:\n",
    "        return 'Q2'\n",
    "    elif row['month'] >6 and row['month'] <=9:\n",
    "        return 'Q3'\n",
    "    else:\n",
    "        return 'Q4'"
   ]
  },
  {
   "cell_type": "code",
   "execution_count": 18,
   "id": "265dcb3d",
   "metadata": {},
   "outputs": [],
   "source": [
    "#map each month to a quarter\n",
    "df['quarter'] = df.apply(lambda row : map_month_quarter(row), axis=1)"
   ]
  },
  {
   "cell_type": "code",
   "execution_count": 19,
   "id": "d58bae7e",
   "metadata": {},
   "outputs": [
    {
     "data": {
      "image/png": "[encoded data removed]",
      "text/plain": [
       "<Figure size 432x288 with 1 Axes>"
      ]
     },
     "metadata": {
      "needs_background": "light"
     },
     "output_type": "display_data"
    }
   ],
   "source": [
    "#look at relationshp between quarter and success\n",
    "\n",
    "#group the data by quarter\n",
    "df_success_quarter = df.groupby('quarter').agg({'Success':'sum', 'Model_B':'count'}) \\\n",
    "    .reset_index() \\\n",
    "    .rename(columns={'Model_B':'Count'})\n",
    "\n",
    "#calculate success rates\n",
    "df_success_quarter['Success_Rate'] = df_success_quarter.Success / df_success_quarter.Count\n",
    "\n",
    "\n",
    "#inspect the different success rates\n",
    "sns.barplot(x='quarter', y='Success_Rate', data=df_success_quarter);\n",
    "plt.gca().set(ylim=(0,1));\n",
    "plt.gca().set_title('Success Rate by Quarter')\n",
    "\n",
    "#plot the overall success rate\n",
    "plt.gca().axhline(success_rate, linestyle='--', color='red');"
   ]
  },
  {
   "cell_type": "markdown",
   "id": "2d5e1bd7",
   "metadata": {},
   "source": [
    "## Drop Unneeded Columns"
   ]
  },
  {
   "cell_type": "code",
   "execution_count": 22,
   "id": "b87fbcd0",
   "metadata": {},
   "outputs": [],
   "source": [
    "#drop the Date column\n",
    "df.drop(columns=['Date'],inplace=True)"
   ]
  },
  {
   "cell_type": "markdown",
   "id": "786917c4",
   "metadata": {},
   "source": [
    "## Part 2"
   ]
  },
  {
   "cell_type": "markdown",
   "id": "1bfa8218",
   "metadata": {},
   "source": [
    "## Preprocessing"
   ]
  },
  {
   "cell_type": "code",
   "execution_count": 23,
   "id": "80dbc227",
   "metadata": {},
   "outputs": [],
   "source": [
    "#set a value from random state to ensure repeatability\n",
    "random_state=42"
   ]
  },
  {
   "cell_type": "code",
   "execution_count": 24,
   "id": "0ba80362",
   "metadata": {},
   "outputs": [],
   "source": [
    "#separate X (feature matrix) and y (target vector)\n",
    "X = df.drop(columns=['Success'])\n",
    "y = df.Success"
   ]
  },
  {
   "cell_type": "code",
   "execution_count": 25,
   "id": "1a684972",
   "metadata": {},
   "outputs": [],
   "source": [
    "#train/test split\n",
    "X_train, X_test, y_train, y_test = \\\n",
    "    model_selection.train_test_split(X, y, train_size=0.7, stratify=y, random_state=random_state)"
   ]
  },
  {
   "cell_type": "markdown",
   "id": "cc313c28",
   "metadata": {},
   "source": [
    "**Categorical Encoding**"
   ]
  },
  {
   "cell_type": "code",
   "execution_count": 26,
   "id": "33471adb",
   "metadata": {},
   "outputs": [],
   "source": [
    "#encode categorical columns using One Hot Encoding\n",
    "\n",
    "#get the categorical columns from the training data\n",
    "categorical_columns = ['month', 'quarter']\n",
    "df_categorical = X_train[categorical_columns]\n",
    "\n",
    "#initialize the One Hot encoder\n",
    "encoder = preprocessing.OneHotEncoder(sparse=False)\n",
    "\n",
    "#fit the encoder to the training data, encode the training data, add the encoded columns to the dataframe\n",
    "encoded_cols = encoder.fit_transform(df_categorical)\n",
    "df_encoded = pd.DataFrame(encoded_cols, \n",
    "                          columns=encoder.get_feature_names(categorical_columns),\n",
    "                         index=X_train.index)\n",
    "X_train = pd.concat([X_train,df_encoded], axis=1)\n",
    "\n",
    "#drop the original categorical columns\n",
    "X_train.drop(columns=categorical_columns, inplace=True)\n",
    "\n",
    "\n",
    "#get the categorical columns from the test data\n",
    "df_categorical = X_test[categorical_columns]\n",
    "\n",
    "#encode the test data using the encoder that was fitted to the training data\n",
    "encoded_cols = encoder.transform(df_categorical)\n",
    "df_encoded = pd.DataFrame(encoded_cols, \n",
    "                          columns=encoder.get_feature_names(categorical_columns),\n",
    "                         index=X_test.index)\n",
    "X_test = pd.concat([X_test,df_encoded], axis=1)\n",
    "\n",
    "#drop the original categorical columns\n",
    "X_test.drop(columns=categorical_columns, inplace=True)"
   ]
  },
  {
   "cell_type": "markdown",
   "id": "d75eb149",
   "metadata": {},
   "source": [
    "**Typically the numerical columns would be scaled. However, this data already appears to have been scaled so the scaling step can be skipped**"
   ]
  },
  {
   "cell_type": "markdown",
   "id": "58803f74",
   "metadata": {},
   "source": [
    "## Multicollinearity"
   ]
  },
  {
   "cell_type": "markdown",
   "id": "9da2c706",
   "metadata": {},
   "source": [
    "**Remove the Feature With the Greatest VIF Until All Features Have VIF < 2:**"
   ]
  },
  {
   "cell_type": "code",
   "execution_count": 27,
   "id": "84ebfb04",
   "metadata": {},
   "outputs": [],
   "source": [
    "#We want to keep the Model_B feature. Therefore, we will remove it from the dataframe, remove multicollinear features,\n",
    "#and then add Model_B back to the dataframe.\n",
    "X_train_model_B = X_train['Model_B']\n",
    "X_test_model_B = X_test['Model_B']\n",
    "\n",
    "X_train.drop(columns=['Model_B'], inplace=True)\n",
    "X_test.drop(columns=['Model_B'], inplace=True)"
   ]
  },
  {
   "cell_type": "code",
   "execution_count": 28,
   "id": "459a0348",
   "metadata": {},
   "outputs": [
    {
     "name": "stderr",
     "output_type": "stream",
     "text": [
      "divide by zero encountered in double_scalars\n"
     ]
    }
   ],
   "source": [
    "#remove features until VIF among all features is < 2\n",
    "\n",
    "X_train = X_train.sort_index(axis=1)\n",
    "X_test = X_test.sort_index(axis=1)\n",
    "\n",
    "while len(X_train.columns) > 0:\n",
    "\n",
    "    df_VIF = pd.DataFrame({'Feature':X_train.columns})\n",
    "    df_VIF['VIF'] = [variance_inflation_factor(X_train.values, i) for i in range(len(X_train.columns))]\n",
    "    \n",
    "    if df_VIF.loc[df_VIF['VIF'].idxmax()]['VIF'] < 2:\n",
    "        break\n",
    "        \n",
    "    X_train = X_train.drop(columns=df_VIF.loc[df_VIF['VIF'].idxmax()]['Feature'])    "
   ]
  },
  {
   "cell_type": "markdown",
   "id": "4d2e28fc",
   "metadata": {},
   "source": [
    "**Select the same columns from the test data**"
   ]
  },
  {
   "cell_type": "code",
   "execution_count": 29,
   "id": "4f3247b4",
   "metadata": {},
   "outputs": [],
   "source": [
    "#Select the same columns from the test data\n",
    "X_test = X_test[X_train.columns]"
   ]
  },
  {
   "cell_type": "markdown",
   "id": "01bfbd05",
   "metadata": {},
   "source": [
    "**Add the Model_B columns back into the dataset**"
   ]
  },
  {
   "cell_type": "code",
   "execution_count": 30,
   "id": "5f0d9f57",
   "metadata": {},
   "outputs": [],
   "source": [
    "#add the model B columns back to X_train and X_test\n",
    "X_train['Model_B'] = X_train_model_B \n",
    "X_test['Model_B'] = X_test_model_B "
   ]
  },
  {
   "cell_type": "code",
   "execution_count": 31,
   "id": "516cdc01",
   "metadata": {},
   "outputs": [
    {
     "data": {
      "text/html": [
       "<div>\n",
       "<style scoped>\n",
       "    .dataframe tbody tr th:only-of-type {\n",
       "        vertical-align: middle;\n",
       "    }\n",
       "\n",
       "    .dataframe tbody tr th {\n",
       "        vertical-align: top;\n",
       "    }\n",
       "\n",
       "    .dataframe thead th {\n",
       "        text-align: right;\n",
       "    }\n",
       "</style>\n",
       "<table border=\"1\" class=\"dataframe\">\n",
       "  <thead>\n",
       "    <tr style=\"text-align: right;\">\n",
       "      <th></th>\n",
       "      <th>X2</th>\n",
       "      <th>X3</th>\n",
       "      <th>month_11</th>\n",
       "      <th>month_12</th>\n",
       "      <th>month_2</th>\n",
       "      <th>month_3</th>\n",
       "      <th>month_5</th>\n",
       "      <th>month_6</th>\n",
       "      <th>month_8</th>\n",
       "      <th>month_9</th>\n",
       "      <th>Model_B</th>\n",
       "    </tr>\n",
       "  </thead>\n",
       "  <tbody>\n",
       "    <tr>\n",
       "      <th>2062</th>\n",
       "      <td>-0.935495</td>\n",
       "      <td>-1.656392</td>\n",
       "      <td>0.0</td>\n",
       "      <td>0.0</td>\n",
       "      <td>0.0</td>\n",
       "      <td>0.0</td>\n",
       "      <td>0.0</td>\n",
       "      <td>0.0</td>\n",
       "      <td>0.0</td>\n",
       "      <td>0.0</td>\n",
       "      <td>0.765860</td>\n",
       "    </tr>\n",
       "    <tr>\n",
       "      <th>1966</th>\n",
       "      <td>0.754162</td>\n",
       "      <td>0.162420</td>\n",
       "      <td>0.0</td>\n",
       "      <td>0.0</td>\n",
       "      <td>0.0</td>\n",
       "      <td>1.0</td>\n",
       "      <td>0.0</td>\n",
       "      <td>0.0</td>\n",
       "      <td>0.0</td>\n",
       "      <td>0.0</td>\n",
       "      <td>0.320886</td>\n",
       "    </tr>\n",
       "    <tr>\n",
       "      <th>4758</th>\n",
       "      <td>1.681657</td>\n",
       "      <td>2.247262</td>\n",
       "      <td>0.0</td>\n",
       "      <td>0.0</td>\n",
       "      <td>0.0</td>\n",
       "      <td>0.0</td>\n",
       "      <td>0.0</td>\n",
       "      <td>0.0</td>\n",
       "      <td>0.0</td>\n",
       "      <td>0.0</td>\n",
       "      <td>0.219703</td>\n",
       "    </tr>\n",
       "    <tr>\n",
       "      <th>1949</th>\n",
       "      <td>-0.006841</td>\n",
       "      <td>-0.064094</td>\n",
       "      <td>0.0</td>\n",
       "      <td>0.0</td>\n",
       "      <td>0.0</td>\n",
       "      <td>0.0</td>\n",
       "      <td>0.0</td>\n",
       "      <td>0.0</td>\n",
       "      <td>0.0</td>\n",
       "      <td>0.0</td>\n",
       "      <td>0.770482</td>\n",
       "    </tr>\n",
       "    <tr>\n",
       "      <th>1891</th>\n",
       "      <td>0.188642</td>\n",
       "      <td>0.828965</td>\n",
       "      <td>0.0</td>\n",
       "      <td>1.0</td>\n",
       "      <td>0.0</td>\n",
       "      <td>0.0</td>\n",
       "      <td>0.0</td>\n",
       "      <td>0.0</td>\n",
       "      <td>0.0</td>\n",
       "      <td>0.0</td>\n",
       "      <td>0.347914</td>\n",
       "    </tr>\n",
       "  </tbody>\n",
       "</table>\n",
       "</div>"
      ],
      "text/plain": [
       "            X2        X3  month_11  month_12  month_2  month_3  month_5  \\\n",
       "2062 -0.935495 -1.656392       0.0       0.0      0.0      0.0      0.0   \n",
       "1966  0.754162  0.162420       0.0       0.0      0.0      1.0      0.0   \n",
       "4758  1.681657  2.247262       0.0       0.0      0.0      0.0      0.0   \n",
       "1949 -0.006841 -0.064094       0.0       0.0      0.0      0.0      0.0   \n",
       "1891  0.188642  0.828965       0.0       1.0      0.0      0.0      0.0   \n",
       "\n",
       "      month_6  month_8  month_9   Model_B  \n",
       "2062      0.0      0.0      0.0  0.765860  \n",
       "1966      0.0      0.0      0.0  0.320886  \n",
       "4758      0.0      0.0      0.0  0.219703  \n",
       "1949      0.0      0.0      0.0  0.770482  \n",
       "1891      0.0      0.0      0.0  0.347914  "
      ]
     },
     "execution_count": 31,
     "metadata": {},
     "output_type": "execute_result"
    }
   ],
   "source": [
    "X_train.head()"
   ]
  },
  {
   "cell_type": "markdown",
   "id": "a0402300",
   "metadata": {},
   "source": [
    "After removing multicollinear columns, only X2 and X3 remain from the new features. This is not surprising because we noted above that X3 and X4 were highly correlated. We also noted that X1 had a moderately high correlation with X3 and X4."
   ]
  },
  {
   "cell_type": "markdown",
   "id": "6cc3c596",
   "metadata": {},
   "source": [
    "## Modeling"
   ]
  },
  {
   "cell_type": "markdown",
   "id": "6f1428fe",
   "metadata": {},
   "source": [
    "## Evaluation Metric Selection"
   ]
  },
  {
   "cell_type": "code",
   "execution_count": 11,
   "id": "ca42c505",
   "metadata": {
    "execution": {
     "iopub.execute_input": "2022-08-07T19:48:53.443757Z",
     "iopub.status.busy": "2022-08-07T19:48:53.443624Z",
     "iopub.status.idle": "2022-08-07T19:48:53.538308Z",
     "shell.execute_reply": "2022-08-07T19:48:53.538185Z",
     "shell.execute_reply.started": "2022-08-07T19:48:53.443709Z"
    },
    "tags": []
   },
   "outputs": [
    {
     "name": "stdout",
     "output_type": "stream",
     "text": [
      "Value generated by all successes $224.16\n",
      "Cost of all failures $50.66\n"
     ]
    }
   ],
   "source": [
    "success_count = df[df['Success'] == 1].shape[0]\n",
    "failure_count = df[df['Success'] == 0].shape[0]\n",
    "\n",
    "success_value = success_count * 0.24 #Net margin determined by 0.25-0.01\n",
    "failure_cost = failure_count * 0.01\n",
    "\n",
    "print('Value generated by all successes ${}'.format(round(success_value,2)))\n",
    "print('Cost of all failures ${}'.format(round(failure_cost,2)))"
   ]
  },
  {
   "cell_type": "markdown",
   "id": "f7c8322c",
   "metadata": {},
   "source": [
    "If we make the assumption that the ratio of successes to failures in future email campaigns is similar to the ratio in this dataset, then we can see (above cell) that the value generated by the successes greatly exceeds the cost of the failures. Therefore, we want to ensure that we identify as many of the potential successes as we possibly can. For this reason we can use **recall** to evaluate our models. "
   ]
  },
  {
   "cell_type": "markdown",
   "id": "b6bbc8d7",
   "metadata": {},
   "source": [
    "## 1. Models trained using the full dataset"
   ]
  },
  {
   "cell_type": "code",
   "execution_count": 33,
   "id": "2d3a20c0",
   "metadata": {},
   "outputs": [],
   "source": [
    "#method to train, predict, and score each model\n",
    "def train_predict_score(model, X_train, y_train, X_test, y_test):\n",
    "    model.fit(X_train,y_train)\n",
    "    \n",
    "    #metrics on training data\n",
    "    train_accuracy = metrics.accuracy_score(y_train,model.predict(X_train))\n",
    "    train_auc = metrics.roc_auc_score(y_train,model.predict_proba(X_train)[:,1])\n",
    "    train_f1 = metrics.f1_score(y_train,model.predict(X_train))\n",
    "    train_recall = metrics.recall_score(y_train, model.predict(X_train))\n",
    "    train_precision = metrics.precision_score(y_train, model.predict(X_train))\n",
    "    \n",
    "    #metrics on test data\n",
    "    test_accuracy = metrics.accuracy_score(y_test,model.predict(X_test))\n",
    "    test_auc = metrics.roc_auc_score(y_test,model.predict_proba(X_test)[:,1])\n",
    "    test_f1 = metrics.f1_score(y_test,model.predict(X_test))\n",
    "    test_recall = metrics.recall_score(y_test, model.predict(X_test))\n",
    "    test_precision = metrics.precision_score(y_test, model.predict(X_test))\n",
    "      \n",
    "    return dict({\n",
    "        'Train Accuracy':train_accuracy,\n",
    "        'Train AUC': train_auc,\n",
    "        'Train F1': train_f1,\n",
    "        'Train Recall': train_recall,\n",
    "        'Train Precision': train_precision,\n",
    "        'Test Accuracy':test_accuracy,\n",
    "        'Test AUC':test_auc,\n",
    "        'Test F1':test_f1,\n",
    "        'Test Recall': test_recall,\n",
    "        'Test Precision': test_precision})"
   ]
  },
  {
   "cell_type": "code",
   "execution_count": 34,
   "id": "54573195",
   "metadata": {},
   "outputs": [],
   "source": [
    "#DataFrame to hold scores\n",
    "model_scores = pd.DataFrame(columns=['Model','Train Accuracy','Train AUC','Train F1', 'Train Recall', \n",
    "                                     'Train Precision', 'Test Accuracy','Test AUC', 'Test F1',\n",
    "                                     'Test Recall', 'Test Precision'])"
   ]
  },
  {
   "cell_type": "code",
   "execution_count": 35,
   "id": "b00acd4d",
   "metadata": {},
   "outputs": [],
   "source": [
    "#baseline model\n",
    "dummy_model = dummy.DummyClassifier(random_state = random_state, strategy='uniform')\n",
    "\n",
    "dict_score = train_predict_score(dummy_model, X_train, y_train, X_test, y_test)\n",
    "dict_score['Model'] = 'Dummy'\n",
    "\n",
    "model_scores = model_scores.append(dict_score, ignore_index=True)"
   ]
  },
  {
   "cell_type": "code",
   "execution_count": 36,
   "id": "08cdb4a9",
   "metadata": {},
   "outputs": [],
   "source": [
    "#initial logistic regression model\n",
    "lr_model = linear_model.LogisticRegression(random_state=random_state)\n",
    "\n",
    "dict_score = train_predict_score(lr_model, X_train, y_train, X_test, y_test)\n",
    "dict_score['Model'] = 'Logistic Regression'\n",
    "\n",
    "model_scores = model_scores.append(dict_score, ignore_index=True)"
   ]
  },
  {
   "cell_type": "code",
   "execution_count": 37,
   "id": "7f472f33",
   "metadata": {},
   "outputs": [],
   "source": [
    "#initial gradient boosting model\n",
    "gb_model = ensemble.GradientBoostingClassifier(random_state=random_state)\n",
    "\n",
    "dict_score = train_predict_score(gb_model, X_train, y_train, X_test, y_test)\n",
    "dict_score['Model'] = 'Gradient Boosting'\n",
    "\n",
    "model_scores = model_scores.append(dict_score, ignore_index=True)"
   ]
  },
  {
   "cell_type": "code",
   "execution_count": 38,
   "id": "6c22b0a1",
   "metadata": {},
   "outputs": [],
   "source": [
    "#initial random forest model\n",
    "rf_model = ensemble.RandomForestClassifier(random_state=random_state)\n",
    "\n",
    "dict_score = train_predict_score(rf_model, X_train, y_train, X_test, y_test)\n",
    "dict_score['Model'] = 'Random Forest'\n",
    "\n",
    "model_scores = model_scores.append(dict_score, ignore_index=True)"
   ]
  },
  {
   "cell_type": "code",
   "execution_count": 39,
   "id": "c2d64a60",
   "metadata": {},
   "outputs": [
    {
     "name": "stdout",
     "output_type": "stream",
     "text": [
      "[16:35:20] WARNING: D:\\bld\\xgboost-split_1645118015404\\work\\src\\learner.cc:1115: Starting in XGBoost 1.3.0, the default evaluation metric used with the objective 'binary:logistic' was changed from 'error' to 'logloss'. Explicitly set eval_metric if you'd like to restore the old behavior.\n"
     ]
    }
   ],
   "source": [
    "#initial XG Boost model\n",
    "\n",
    "xgb_model = XGBClassifier(use_label_encoder=False, seed=random_state)\n",
    "\n",
    "dict_score = train_predict_score(xgb_model, X_train, y_train, X_test, y_test)\n",
    "dict_score['Model'] = 'XG Boost'\n",
    "\n",
    "model_scores = model_scores.append(dict_score, ignore_index=True)"
   ]
  },
  {
   "cell_type": "code",
   "execution_count": 40,
   "id": "78b478b8",
   "metadata": {
    "scrolled": true
   },
   "outputs": [
    {
     "data": {
      "text/html": [
       "<div>\n",
       "<style scoped>\n",
       "    .dataframe tbody tr th:only-of-type {\n",
       "        vertical-align: middle;\n",
       "    }\n",
       "\n",
       "    .dataframe tbody tr th {\n",
       "        vertical-align: top;\n",
       "    }\n",
       "\n",
       "    .dataframe thead th {\n",
       "        text-align: right;\n",
       "    }\n",
       "</style>\n",
       "<table border=\"1\" class=\"dataframe\">\n",
       "  <thead>\n",
       "    <tr style=\"text-align: right;\">\n",
       "      <th></th>\n",
       "      <th>Model</th>\n",
       "      <th>Train Accuracy</th>\n",
       "      <th>Train AUC</th>\n",
       "      <th>Train F1</th>\n",
       "      <th>Train Recall</th>\n",
       "      <th>Train Precision</th>\n",
       "      <th>Test Accuracy</th>\n",
       "      <th>Test AUC</th>\n",
       "      <th>Test F1</th>\n",
       "      <th>Test Recall</th>\n",
       "      <th>Test Precision</th>\n",
       "    </tr>\n",
       "  </thead>\n",
       "  <tbody>\n",
       "    <tr>\n",
       "      <th>3</th>\n",
       "      <td>Random Forest</td>\n",
       "      <td>1.000000</td>\n",
       "      <td>1.000000</td>\n",
       "      <td>1.000000</td>\n",
       "      <td>1.000000</td>\n",
       "      <td>1.000000</td>\n",
       "      <td>0.948889</td>\n",
       "      <td>0.974854</td>\n",
       "      <td>0.836299</td>\n",
       "      <td>0.839286</td>\n",
       "      <td>0.833333</td>\n",
       "    </tr>\n",
       "    <tr>\n",
       "      <th>2</th>\n",
       "      <td>Gradient Boosting</td>\n",
       "      <td>0.960476</td>\n",
       "      <td>0.990844</td>\n",
       "      <td>0.869085</td>\n",
       "      <td>0.842508</td>\n",
       "      <td>0.897394</td>\n",
       "      <td>0.949444</td>\n",
       "      <td>0.980678</td>\n",
       "      <td>0.833028</td>\n",
       "      <td>0.810714</td>\n",
       "      <td>0.856604</td>\n",
       "    </tr>\n",
       "    <tr>\n",
       "      <th>4</th>\n",
       "      <td>XG Boost</td>\n",
       "      <td>0.998810</td>\n",
       "      <td>0.999997</td>\n",
       "      <td>0.996169</td>\n",
       "      <td>0.993884</td>\n",
       "      <td>0.998464</td>\n",
       "      <td>0.941667</td>\n",
       "      <td>0.979142</td>\n",
       "      <td>0.811490</td>\n",
       "      <td>0.807143</td>\n",
       "      <td>0.815884</td>\n",
       "    </tr>\n",
       "    <tr>\n",
       "      <th>1</th>\n",
       "      <td>Logistic Regression</td>\n",
       "      <td>0.936429</td>\n",
       "      <td>0.976972</td>\n",
       "      <td>0.780968</td>\n",
       "      <td>0.727829</td>\n",
       "      <td>0.842478</td>\n",
       "      <td>0.944444</td>\n",
       "      <td>0.980458</td>\n",
       "      <td>0.814126</td>\n",
       "      <td>0.782143</td>\n",
       "      <td>0.848837</td>\n",
       "    </tr>\n",
       "    <tr>\n",
       "      <th>0</th>\n",
       "      <td>Dummy</td>\n",
       "      <td>0.496667</td>\n",
       "      <td>0.500000</td>\n",
       "      <td>0.235719</td>\n",
       "      <td>0.498471</td>\n",
       "      <td>0.154356</td>\n",
       "      <td>0.505000</td>\n",
       "      <td>0.500000</td>\n",
       "      <td>0.237810</td>\n",
       "      <td>0.496429</td>\n",
       "      <td>0.156355</td>\n",
       "    </tr>\n",
       "  </tbody>\n",
       "</table>\n",
       "</div>"
      ],
      "text/plain": [
       "                 Model  Train Accuracy  Train AUC  Train F1  Train Recall  \\\n",
       "3        Random Forest        1.000000   1.000000  1.000000      1.000000   \n",
       "2    Gradient Boosting        0.960476   0.990844  0.869085      0.842508   \n",
       "4             XG Boost        0.998810   0.999997  0.996169      0.993884   \n",
       "1  Logistic Regression        0.936429   0.976972  0.780968      0.727829   \n",
       "0                Dummy        0.496667   0.500000  0.235719      0.498471   \n",
       "\n",
       "   Train Precision  Test Accuracy  Test AUC   Test F1  Test Recall  \\\n",
       "3         1.000000       0.948889  0.974854  0.836299     0.839286   \n",
       "2         0.897394       0.949444  0.980678  0.833028     0.810714   \n",
       "4         0.998464       0.941667  0.979142  0.811490     0.807143   \n",
       "1         0.842478       0.944444  0.980458  0.814126     0.782143   \n",
       "0         0.154356       0.505000  0.500000  0.237810     0.496429   \n",
       "\n",
       "   Test Precision  \n",
       "3        0.833333  \n",
       "2        0.856604  \n",
       "4        0.815884  \n",
       "1        0.848837  \n",
       "0        0.156355  "
      ]
     },
     "metadata": {},
     "output_type": "display_data"
    }
   ],
   "source": [
    "#inspect the initial model scores\n",
    "display(model_scores.sort_values(by='Test Recall', ascending=False))"
   ]
  },
  {
   "cell_type": "markdown",
   "id": "b3bb6352",
   "metadata": {},
   "source": [
    "After initial testing, the Random Forest model was the best model. It had the top Recall score and therefore should identify as many Successes as possible. \n",
    "\n",
    "Additionally, the Random Forest model had the best F1 score which indicates that it should be a good predictor of Successful email campaigns. This is important because although we want to use recall as our evaluation metric, we also want to ensure that we are not \"over-predicting\" Success which would result in a model that does not provide any value.      "
   ]
  },
  {
   "cell_type": "markdown",
   "id": "d917e67a",
   "metadata": {},
   "source": [
    "## Hyperparameter Tuning"
   ]
  },
  {
   "cell_type": "code",
   "execution_count": 41,
   "id": "bf26ceb0",
   "metadata": {},
   "outputs": [
    {
     "name": "stderr",
     "output_type": "stream",
     "text": [
      "One or more of the test scores are non-finite: [0.79041579 0.77505285 0.78735025 0.78576462 0.78118393 0.77963354\n",
      "        nan 0.78421424        nan 0.7521494  0.78731501 0.79041579\n",
      "        nan 0.78118393 0.78121917 0.74453841 0.78273432 0.78121917\n",
      "        nan        nan 0.77963354        nan 0.78424947 0.78424947\n",
      "        nan        nan 0.78731501        nan        nan 0.74453841]\n"
     ]
    }
   ],
   "source": [
    "#define the hyperparameter search grid\n",
    "grid_params = {\n",
    "    'n_estimators':[50, 100, 200, 500, 1000],\n",
    "    'max_depth':[3,6,7,8,9,10, None],\n",
    "    'max_features': ['sqrt','log2','None']\n",
    "}\n",
    "\n",
    "#Random Forest model (best score in initial modeling)\n",
    "rf_model_2 = ensemble.RandomForestClassifier(random_state=random_state)\n",
    "\n",
    "#Randomized CV search for best hyperparameters\n",
    "tuned_rf_model = model_selection.RandomizedSearchCV(rf_model_2,grid_params, scoring='recall',n_jobs=-1, \n",
    "                                                    cv=15, random_state=random_state, n_iter=30)\n",
    "\n",
    "#train the model, make predictions on train and test sets, evaluation metrics\n",
    "dict_so = train_predict_score(tuned_rf_model, X_train, y_train, X_test, y_test)\n",
    "dict_score['Model'] = 'Tuned Random Forest'\n",
    "\n",
    "model_scores = model_scores.append(dict_score, ignore_index=True)"
   ]
  },
  {
   "cell_type": "code",
   "execution_count": 42,
   "id": "d369c9b5",
   "metadata": {},
   "outputs": [
    {
     "data": {
      "text/plain": [
       "{'n_estimators': 100, 'max_features': 'sqrt', 'max_depth': 7}"
      ]
     },
     "execution_count": 42,
     "metadata": {},
     "output_type": "execute_result"
    }
   ],
   "source": [
    "#check the best parameters\n",
    "tuned_rf_model.best_params_"
   ]
  },
  {
   "cell_type": "code",
   "execution_count": 43,
   "id": "1b9a79e5",
   "metadata": {},
   "outputs": [
    {
     "data": {
      "text/html": [
       "<div>\n",
       "<style scoped>\n",
       "    .dataframe tbody tr th:only-of-type {\n",
       "        vertical-align: middle;\n",
       "    }\n",
       "\n",
       "    .dataframe tbody tr th {\n",
       "        vertical-align: top;\n",
       "    }\n",
       "\n",
       "    .dataframe thead th {\n",
       "        text-align: right;\n",
       "    }\n",
       "</style>\n",
       "<table border=\"1\" class=\"dataframe\">\n",
       "  <thead>\n",
       "    <tr style=\"text-align: right;\">\n",
       "      <th></th>\n",
       "      <th>Model</th>\n",
       "      <th>Train Accuracy</th>\n",
       "      <th>Train AUC</th>\n",
       "      <th>Train F1</th>\n",
       "      <th>Train Recall</th>\n",
       "      <th>Train Precision</th>\n",
       "      <th>Test Accuracy</th>\n",
       "      <th>Test AUC</th>\n",
       "      <th>Test F1</th>\n",
       "      <th>Test Recall</th>\n",
       "      <th>Test Precision</th>\n",
       "    </tr>\n",
       "  </thead>\n",
       "  <tbody>\n",
       "    <tr>\n",
       "      <th>3</th>\n",
       "      <td>Random Forest</td>\n",
       "      <td>1.000000</td>\n",
       "      <td>1.000000</td>\n",
       "      <td>1.000000</td>\n",
       "      <td>1.000000</td>\n",
       "      <td>1.000000</td>\n",
       "      <td>0.948889</td>\n",
       "      <td>0.974854</td>\n",
       "      <td>0.836299</td>\n",
       "      <td>0.839286</td>\n",
       "      <td>0.833333</td>\n",
       "    </tr>\n",
       "    <tr>\n",
       "      <th>2</th>\n",
       "      <td>Gradient Boosting</td>\n",
       "      <td>0.960476</td>\n",
       "      <td>0.990844</td>\n",
       "      <td>0.869085</td>\n",
       "      <td>0.842508</td>\n",
       "      <td>0.897394</td>\n",
       "      <td>0.949444</td>\n",
       "      <td>0.980678</td>\n",
       "      <td>0.833028</td>\n",
       "      <td>0.810714</td>\n",
       "      <td>0.856604</td>\n",
       "    </tr>\n",
       "    <tr>\n",
       "      <th>4</th>\n",
       "      <td>XG Boost</td>\n",
       "      <td>0.998810</td>\n",
       "      <td>0.999997</td>\n",
       "      <td>0.996169</td>\n",
       "      <td>0.993884</td>\n",
       "      <td>0.998464</td>\n",
       "      <td>0.941667</td>\n",
       "      <td>0.979142</td>\n",
       "      <td>0.811490</td>\n",
       "      <td>0.807143</td>\n",
       "      <td>0.815884</td>\n",
       "    </tr>\n",
       "    <tr>\n",
       "      <th>5</th>\n",
       "      <td>Tuned Random Forest</td>\n",
       "      <td>0.998810</td>\n",
       "      <td>0.999997</td>\n",
       "      <td>0.996169</td>\n",
       "      <td>0.993884</td>\n",
       "      <td>0.998464</td>\n",
       "      <td>0.941667</td>\n",
       "      <td>0.979142</td>\n",
       "      <td>0.811490</td>\n",
       "      <td>0.807143</td>\n",
       "      <td>0.815884</td>\n",
       "    </tr>\n",
       "    <tr>\n",
       "      <th>1</th>\n",
       "      <td>Logistic Regression</td>\n",
       "      <td>0.936429</td>\n",
       "      <td>0.976972</td>\n",
       "      <td>0.780968</td>\n",
       "      <td>0.727829</td>\n",
       "      <td>0.842478</td>\n",
       "      <td>0.944444</td>\n",
       "      <td>0.980458</td>\n",
       "      <td>0.814126</td>\n",
       "      <td>0.782143</td>\n",
       "      <td>0.848837</td>\n",
       "    </tr>\n",
       "    <tr>\n",
       "      <th>0</th>\n",
       "      <td>Dummy</td>\n",
       "      <td>0.496667</td>\n",
       "      <td>0.500000</td>\n",
       "      <td>0.235719</td>\n",
       "      <td>0.498471</td>\n",
       "      <td>0.154356</td>\n",
       "      <td>0.505000</td>\n",
       "      <td>0.500000</td>\n",
       "      <td>0.237810</td>\n",
       "      <td>0.496429</td>\n",
       "      <td>0.156355</td>\n",
       "    </tr>\n",
       "  </tbody>\n",
       "</table>\n",
       "</div>"
      ],
      "text/plain": [
       "                 Model  Train Accuracy  Train AUC  Train F1  Train Recall  \\\n",
       "3        Random Forest        1.000000   1.000000  1.000000      1.000000   \n",
       "2    Gradient Boosting        0.960476   0.990844  0.869085      0.842508   \n",
       "4             XG Boost        0.998810   0.999997  0.996169      0.993884   \n",
       "5  Tuned Random Forest        0.998810   0.999997  0.996169      0.993884   \n",
       "1  Logistic Regression        0.936429   0.976972  0.780968      0.727829   \n",
       "0                Dummy        0.496667   0.500000  0.235719      0.498471   \n",
       "\n",
       "   Train Precision  Test Accuracy  Test AUC   Test F1  Test Recall  \\\n",
       "3         1.000000       0.948889  0.974854  0.836299     0.839286   \n",
       "2         0.897394       0.949444  0.980678  0.833028     0.810714   \n",
       "4         0.998464       0.941667  0.979142  0.811490     0.807143   \n",
       "5         0.998464       0.941667  0.979142  0.811490     0.807143   \n",
       "1         0.842478       0.944444  0.980458  0.814126     0.782143   \n",
       "0         0.154356       0.505000  0.500000  0.237810     0.496429   \n",
       "\n",
       "   Test Precision  \n",
       "3        0.833333  \n",
       "2        0.856604  \n",
       "4        0.815884  \n",
       "5        0.815884  \n",
       "1        0.848837  \n",
       "0        0.156355  "
      ]
     },
     "metadata": {},
     "output_type": "display_data"
    }
   ],
   "source": [
    "#inspect all model scores\n",
    "display(model_scores.sort_values(by='Test Recall', ascending=False))"
   ]
  },
  {
   "cell_type": "markdown",
   "id": "4a8d0013",
   "metadata": {},
   "source": [
    "**We were unable to improve on the best model using hyperparameter tuning. The original Random Forest model had better Recall, Precision, and F1 scores. Therefore, the original Random Forest model is one of the models we will consider for our final model**"
   ]
  },
  {
   "cell_type": "markdown",
   "id": "2ecbb5a8",
   "metadata": {},
   "source": [
    "## 2. Models trained using Segmented datasets based on X1"
   ]
  },
  {
   "cell_type": "markdown",
   "id": "95dca442",
   "metadata": {},
   "source": [
    "During EDA we saw that X1 may be an important predictor of Success/Failure. Therefore, we can try segmenting the data based on X1 as a preprocessing step. This may improve the ability of our models to predict successful email campaigns."
   ]
  },
  {
   "cell_type": "code",
   "execution_count": 44,
   "id": "6ef6cdaa",
   "metadata": {},
   "outputs": [
    {
     "name": "stderr",
     "output_type": "stream",
     "text": [
      "Boolean Series key will be reindexed to match DataFrame index.\n",
      "Boolean Series key will be reindexed to match DataFrame index.\n",
      "Boolean Series key will be reindexed to match DataFrame index.\n",
      "Boolean Series key will be reindexed to match DataFrame index.\n"
     ]
    }
   ],
   "source": [
    "#get train/test data when X1 = True\n",
    "X_train_X1_true = X_train[df['X1'] == 1]\n",
    "y_train_X1_true = y_train[X_train_X1_true.index]\n",
    "X_test_X1_true = X_test[df['X1'] == 1]\n",
    "y_test_X1_true = y_test[X_test_X1_true.index]\n",
    "\n",
    "#get train/test data when X1 = False\n",
    "X_train_X1_false = X_train[df['X1'] == 0]\n",
    "y_train_X1_false = y_train[X_train_X1_false.index]\n",
    "X_test_X1_false = X_test[df['X1'] == 0]\n",
    "y_test_X1_false = y_test[X_test_X1_false.index]"
   ]
  },
  {
   "cell_type": "markdown",
   "id": "98cde5dc",
   "metadata": {},
   "source": [
    "## 2.1 Train Models on Data where X1 is True"
   ]
  },
  {
   "cell_type": "code",
   "execution_count": 45,
   "id": "114e0580",
   "metadata": {},
   "outputs": [],
   "source": [
    "#initial logistic regression model\n",
    "lr_model_X1_True = linear_model.LogisticRegression(random_state=random_state)\n",
    "\n",
    "dict_score = train_predict_score(lr_model_X1_True, X_train_X1_true, y_train_X1_true, \n",
    "                                 X_test_X1_true, y_test_X1_true)\n",
    "dict_score['Model'] = 'Logistic Regression, X1 = True'\n",
    "\n",
    "model_scores = model_scores.append(dict_score, ignore_index=True)"
   ]
  },
  {
   "cell_type": "code",
   "execution_count": 46,
   "id": "16ce276f",
   "metadata": {},
   "outputs": [],
   "source": [
    "#initial gradient boosting model\n",
    "gb_model_X1_True = ensemble.GradientBoostingClassifier(random_state=random_state)\n",
    "\n",
    "dict_score = train_predict_score(gb_model_X1_True, X_train_X1_true, y_train_X1_true, \n",
    "                                 X_test_X1_true, y_test_X1_true)\n",
    "dict_score['Model'] = 'Gradient Boosting, X1 = True'\n",
    "\n",
    "model_scores = model_scores.append(dict_score, ignore_index=True)"
   ]
  },
  {
   "cell_type": "code",
   "execution_count": 47,
   "id": "6d3b4986",
   "metadata": {},
   "outputs": [],
   "source": [
    "#initial random forest model\n",
    "rf_model_X1_True = ensemble.RandomForestClassifier(random_state=random_state)\n",
    "\n",
    "dict_score = train_predict_score(rf_model_X1_True, X_train_X1_true, y_train_X1_true, \n",
    "                                 X_test_X1_true, y_test_X1_true)\n",
    "dict_score['Model'] = 'Random Forest, X1 = True'\n",
    "\n",
    "model_scores = model_scores.append(dict_score, ignore_index=True)"
   ]
  },
  {
   "cell_type": "code",
   "execution_count": 48,
   "id": "4c683bff",
   "metadata": {},
   "outputs": [
    {
     "name": "stdout",
     "output_type": "stream",
     "text": [
      "[16:36:11] WARNING: D:\\bld\\xgboost-split_1645118015404\\work\\src\\learner.cc:1115: Starting in XGBoost 1.3.0, the default evaluation metric used with the objective 'binary:logistic' was changed from 'error' to 'logloss'. Explicitly set eval_metric if you'd like to restore the old behavior.\n"
     ]
    }
   ],
   "source": [
    "#initial XG Boost model\n",
    "\n",
    "xgb_model_X1_True = XGBClassifier(use_label_encoder=False, seed=random_state)\n",
    "\n",
    "dict_score = train_predict_score(xgb_model_X1_True, X_train_X1_true, y_train_X1_true, \n",
    "                                 X_test_X1_true, y_test_X1_true)\n",
    "dict_score['Model'] = 'XG Boost, X1 = True'\n",
    "\n",
    "model_scores = model_scores.append(dict_score, ignore_index=True)"
   ]
  },
  {
   "cell_type": "code",
   "execution_count": 49,
   "id": "3d2dd60b",
   "metadata": {},
   "outputs": [
    {
     "data": {
      "text/html": [
       "<div>\n",
       "<style scoped>\n",
       "    .dataframe tbody tr th:only-of-type {\n",
       "        vertical-align: middle;\n",
       "    }\n",
       "\n",
       "    .dataframe tbody tr th {\n",
       "        vertical-align: top;\n",
       "    }\n",
       "\n",
       "    .dataframe thead th {\n",
       "        text-align: right;\n",
       "    }\n",
       "</style>\n",
       "<table border=\"1\" class=\"dataframe\">\n",
       "  <thead>\n",
       "    <tr style=\"text-align: right;\">\n",
       "      <th></th>\n",
       "      <th>Model</th>\n",
       "      <th>Train Accuracy</th>\n",
       "      <th>Train AUC</th>\n",
       "      <th>Train F1</th>\n",
       "      <th>Train Recall</th>\n",
       "      <th>Train Precision</th>\n",
       "      <th>Test Accuracy</th>\n",
       "      <th>Test AUC</th>\n",
       "      <th>Test F1</th>\n",
       "      <th>Test Recall</th>\n",
       "      <th>Test Precision</th>\n",
       "    </tr>\n",
       "  </thead>\n",
       "  <tbody>\n",
       "    <tr>\n",
       "      <th>8</th>\n",
       "      <td>Random Forest, X1 = True</td>\n",
       "      <td>1.000000</td>\n",
       "      <td>1.000000</td>\n",
       "      <td>1.000000</td>\n",
       "      <td>1.000000</td>\n",
       "      <td>1.000000</td>\n",
       "      <td>0.914819</td>\n",
       "      <td>0.962655</td>\n",
       "      <td>0.854871</td>\n",
       "      <td>0.877551</td>\n",
       "      <td>0.833333</td>\n",
       "    </tr>\n",
       "    <tr>\n",
       "      <th>9</th>\n",
       "      <td>XG Boost, X1 = True</td>\n",
       "      <td>1.000000</td>\n",
       "      <td>1.000000</td>\n",
       "      <td>1.000000</td>\n",
       "      <td>1.000000</td>\n",
       "      <td>1.000000</td>\n",
       "      <td>0.904317</td>\n",
       "      <td>0.963999</td>\n",
       "      <td>0.837945</td>\n",
       "      <td>0.865306</td>\n",
       "      <td>0.812261</td>\n",
       "    </tr>\n",
       "    <tr>\n",
       "      <th>7</th>\n",
       "      <td>Gradient Boosting, X1 = True</td>\n",
       "      <td>0.943414</td>\n",
       "      <td>0.986442</td>\n",
       "      <td>0.895548</td>\n",
       "      <td>0.876047</td>\n",
       "      <td>0.915937</td>\n",
       "      <td>0.913652</td>\n",
       "      <td>0.967237</td>\n",
       "      <td>0.848980</td>\n",
       "      <td>0.848980</td>\n",
       "      <td>0.848980</td>\n",
       "    </tr>\n",
       "    <tr>\n",
       "      <th>3</th>\n",
       "      <td>Random Forest</td>\n",
       "      <td>1.000000</td>\n",
       "      <td>1.000000</td>\n",
       "      <td>1.000000</td>\n",
       "      <td>1.000000</td>\n",
       "      <td>1.000000</td>\n",
       "      <td>0.948889</td>\n",
       "      <td>0.974854</td>\n",
       "      <td>0.836299</td>\n",
       "      <td>0.839286</td>\n",
       "      <td>0.833333</td>\n",
       "    </tr>\n",
       "    <tr>\n",
       "      <th>6</th>\n",
       "      <td>Logistic Regression, X1 = True</td>\n",
       "      <td>0.899814</td>\n",
       "      <td>0.962138</td>\n",
       "      <td>0.808171</td>\n",
       "      <td>0.762144</td>\n",
       "      <td>0.860113</td>\n",
       "      <td>0.905484</td>\n",
       "      <td>0.965853</td>\n",
       "      <td>0.834356</td>\n",
       "      <td>0.832653</td>\n",
       "      <td>0.836066</td>\n",
       "    </tr>\n",
       "    <tr>\n",
       "      <th>2</th>\n",
       "      <td>Gradient Boosting</td>\n",
       "      <td>0.960476</td>\n",
       "      <td>0.990844</td>\n",
       "      <td>0.869085</td>\n",
       "      <td>0.842508</td>\n",
       "      <td>0.897394</td>\n",
       "      <td>0.949444</td>\n",
       "      <td>0.980678</td>\n",
       "      <td>0.833028</td>\n",
       "      <td>0.810714</td>\n",
       "      <td>0.856604</td>\n",
       "    </tr>\n",
       "    <tr>\n",
       "      <th>4</th>\n",
       "      <td>XG Boost</td>\n",
       "      <td>0.998810</td>\n",
       "      <td>0.999997</td>\n",
       "      <td>0.996169</td>\n",
       "      <td>0.993884</td>\n",
       "      <td>0.998464</td>\n",
       "      <td>0.941667</td>\n",
       "      <td>0.979142</td>\n",
       "      <td>0.811490</td>\n",
       "      <td>0.807143</td>\n",
       "      <td>0.815884</td>\n",
       "    </tr>\n",
       "    <tr>\n",
       "      <th>5</th>\n",
       "      <td>Tuned Random Forest</td>\n",
       "      <td>0.998810</td>\n",
       "      <td>0.999997</td>\n",
       "      <td>0.996169</td>\n",
       "      <td>0.993884</td>\n",
       "      <td>0.998464</td>\n",
       "      <td>0.941667</td>\n",
       "      <td>0.979142</td>\n",
       "      <td>0.811490</td>\n",
       "      <td>0.807143</td>\n",
       "      <td>0.815884</td>\n",
       "    </tr>\n",
       "    <tr>\n",
       "      <th>1</th>\n",
       "      <td>Logistic Regression</td>\n",
       "      <td>0.936429</td>\n",
       "      <td>0.976972</td>\n",
       "      <td>0.780968</td>\n",
       "      <td>0.727829</td>\n",
       "      <td>0.842478</td>\n",
       "      <td>0.944444</td>\n",
       "      <td>0.980458</td>\n",
       "      <td>0.814126</td>\n",
       "      <td>0.782143</td>\n",
       "      <td>0.848837</td>\n",
       "    </tr>\n",
       "    <tr>\n",
       "      <th>0</th>\n",
       "      <td>Dummy</td>\n",
       "      <td>0.496667</td>\n",
       "      <td>0.500000</td>\n",
       "      <td>0.235719</td>\n",
       "      <td>0.498471</td>\n",
       "      <td>0.154356</td>\n",
       "      <td>0.505000</td>\n",
       "      <td>0.500000</td>\n",
       "      <td>0.237810</td>\n",
       "      <td>0.496429</td>\n",
       "      <td>0.156355</td>\n",
       "    </tr>\n",
       "  </tbody>\n",
       "</table>\n",
       "</div>"
      ],
      "text/plain": [
       "                            Model  Train Accuracy  Train AUC  Train F1  \\\n",
       "8        Random Forest, X1 = True        1.000000   1.000000  1.000000   \n",
       "9             XG Boost, X1 = True        1.000000   1.000000  1.000000   \n",
       "7    Gradient Boosting, X1 = True        0.943414   0.986442  0.895548   \n",
       "3                   Random Forest        1.000000   1.000000  1.000000   \n",
       "6  Logistic Regression, X1 = True        0.899814   0.962138  0.808171   \n",
       "2               Gradient Boosting        0.960476   0.990844  0.869085   \n",
       "4                        XG Boost        0.998810   0.999997  0.996169   \n",
       "5             Tuned Random Forest        0.998810   0.999997  0.996169   \n",
       "1             Logistic Regression        0.936429   0.976972  0.780968   \n",
       "0                           Dummy        0.496667   0.500000  0.235719   \n",
       "\n",
       "   Train Recall  Train Precision  Test Accuracy  Test AUC   Test F1  \\\n",
       "8      1.000000         1.000000       0.914819  0.962655  0.854871   \n",
       "9      1.000000         1.000000       0.904317  0.963999  0.837945   \n",
       "7      0.876047         0.915937       0.913652  0.967237  0.848980   \n",
       "3      1.000000         1.000000       0.948889  0.974854  0.836299   \n",
       "6      0.762144         0.860113       0.905484  0.965853  0.834356   \n",
       "2      0.842508         0.897394       0.949444  0.980678  0.833028   \n",
       "4      0.993884         0.998464       0.941667  0.979142  0.811490   \n",
       "5      0.993884         0.998464       0.941667  0.979142  0.811490   \n",
       "1      0.727829         0.842478       0.944444  0.980458  0.814126   \n",
       "0      0.498471         0.154356       0.505000  0.500000  0.237810   \n",
       "\n",
       "   Test Recall  Test Precision  \n",
       "8     0.877551        0.833333  \n",
       "9     0.865306        0.812261  \n",
       "7     0.848980        0.848980  \n",
       "3     0.839286        0.833333  \n",
       "6     0.832653        0.836066  \n",
       "2     0.810714        0.856604  \n",
       "4     0.807143        0.815884  \n",
       "5     0.807143        0.815884  \n",
       "1     0.782143        0.848837  \n",
       "0     0.496429        0.156355  "
      ]
     },
     "metadata": {},
     "output_type": "display_data"
    }
   ],
   "source": [
    "#inspect the model scores\n",
    "display(model_scores.sort_values(by='Test Recall', ascending=False))"
   ]
  },
  {
   "cell_type": "markdown",
   "id": "23298194",
   "metadata": {},
   "source": [
    "For the X1 = True segment, the Random Forest model is once again the best model. It is the best performer in terms of Recall which is desirable for predicting as many Successes as possible. It is also the best performer in terms of F1-Score which helps to indicate that the model is balanced and has good predictive power."
   ]
  },
  {
   "cell_type": "markdown",
   "id": "9c9dc5b8",
   "metadata": {},
   "source": [
    "## Hyperparameter Tuning"
   ]
  },
  {
   "cell_type": "code",
   "execution_count": 50,
   "id": "42e8d1b1",
   "metadata": {},
   "outputs": [
    {
     "name": "stderr",
     "output_type": "stream",
     "text": [
      "One or more of the test scores are non-finite: [0.79730769 0.8007265  0.80235043 0.80568376 0.80568376 0.80235043\n",
      "        nan 0.80905983        nan 0.79059829 0.80401709 0.79564103\n",
      "        nan 0.80410256 0.80910256 0.78897436 0.80410256 0.80230769\n",
      "        nan        nan 0.80235043        nan 0.80235043 0.81076923\n",
      "        nan        nan 0.79730769        nan        nan 0.78897436]\n"
     ]
    }
   ],
   "source": [
    "#for the model where X1 = true\n",
    "\n",
    "#define the hyperparameter search grid\n",
    "grid_params = {\n",
    "    'n_estimators':[50, 100, 200, 500, 1000],\n",
    "    'max_depth':[3,6,7,8,9,10, None],\n",
    "    'max_features': ['sqrt','log2','None']\n",
    "}\n",
    "\n",
    "#Random Forest model (best score in initial modeling)\n",
    "rf_model_2_X1_True = ensemble.RandomForestClassifier(random_state=random_state)\n",
    "\n",
    "#Randomized CV search for best hyperparameters\n",
    "tuned_rf_model_X1_True = model_selection.RandomizedSearchCV(rf_model_2_X1_True,grid_params, scoring='recall',n_jobs=-1, \n",
    "                                                    cv=15, random_state=random_state, n_iter=30)\n",
    "\n",
    "#train the model, make predictions on train and test sets, evaluation metrics\n",
    "dict_so = train_predict_score(tuned_rf_model_X1_True, X_train_X1_true, y_train_X1_true, \n",
    "                                 X_test_X1_true, y_test_X1_true)\n",
    "dict_score['Model'] = 'Tuned Random Forest, X1 = True'\n",
    "\n",
    "model_scores = model_scores.append(dict_score, ignore_index=True)"
   ]
  },
  {
   "cell_type": "code",
   "execution_count": 51,
   "id": "8c5a6989",
   "metadata": {},
   "outputs": [
    {
     "data": {
      "text/html": [
       "<div>\n",
       "<style scoped>\n",
       "    .dataframe tbody tr th:only-of-type {\n",
       "        vertical-align: middle;\n",
       "    }\n",
       "\n",
       "    .dataframe tbody tr th {\n",
       "        vertical-align: top;\n",
       "    }\n",
       "\n",
       "    .dataframe thead th {\n",
       "        text-align: right;\n",
       "    }\n",
       "</style>\n",
       "<table border=\"1\" class=\"dataframe\">\n",
       "  <thead>\n",
       "    <tr style=\"text-align: right;\">\n",
       "      <th></th>\n",
       "      <th>Model</th>\n",
       "      <th>Train Accuracy</th>\n",
       "      <th>Train AUC</th>\n",
       "      <th>Train F1</th>\n",
       "      <th>Train Recall</th>\n",
       "      <th>Train Precision</th>\n",
       "      <th>Test Accuracy</th>\n",
       "      <th>Test AUC</th>\n",
       "      <th>Test F1</th>\n",
       "      <th>Test Recall</th>\n",
       "      <th>Test Precision</th>\n",
       "    </tr>\n",
       "  </thead>\n",
       "  <tbody>\n",
       "    <tr>\n",
       "      <th>8</th>\n",
       "      <td>Random Forest, X1 = True</td>\n",
       "      <td>1.000000</td>\n",
       "      <td>1.000000</td>\n",
       "      <td>1.000000</td>\n",
       "      <td>1.000000</td>\n",
       "      <td>1.000000</td>\n",
       "      <td>0.914819</td>\n",
       "      <td>0.962655</td>\n",
       "      <td>0.854871</td>\n",
       "      <td>0.877551</td>\n",
       "      <td>0.833333</td>\n",
       "    </tr>\n",
       "    <tr>\n",
       "      <th>9</th>\n",
       "      <td>XG Boost, X1 = True</td>\n",
       "      <td>1.000000</td>\n",
       "      <td>1.000000</td>\n",
       "      <td>1.000000</td>\n",
       "      <td>1.000000</td>\n",
       "      <td>1.000000</td>\n",
       "      <td>0.904317</td>\n",
       "      <td>0.963999</td>\n",
       "      <td>0.837945</td>\n",
       "      <td>0.865306</td>\n",
       "      <td>0.812261</td>\n",
       "    </tr>\n",
       "    <tr>\n",
       "      <th>10</th>\n",
       "      <td>Tuned Random Forest, X1 = True</td>\n",
       "      <td>1.000000</td>\n",
       "      <td>1.000000</td>\n",
       "      <td>1.000000</td>\n",
       "      <td>1.000000</td>\n",
       "      <td>1.000000</td>\n",
       "      <td>0.904317</td>\n",
       "      <td>0.963999</td>\n",
       "      <td>0.837945</td>\n",
       "      <td>0.865306</td>\n",
       "      <td>0.812261</td>\n",
       "    </tr>\n",
       "    <tr>\n",
       "      <th>7</th>\n",
       "      <td>Gradient Boosting, X1 = True</td>\n",
       "      <td>0.943414</td>\n",
       "      <td>0.986442</td>\n",
       "      <td>0.895548</td>\n",
       "      <td>0.876047</td>\n",
       "      <td>0.915937</td>\n",
       "      <td>0.913652</td>\n",
       "      <td>0.967237</td>\n",
       "      <td>0.848980</td>\n",
       "      <td>0.848980</td>\n",
       "      <td>0.848980</td>\n",
       "    </tr>\n",
       "    <tr>\n",
       "      <th>3</th>\n",
       "      <td>Random Forest</td>\n",
       "      <td>1.000000</td>\n",
       "      <td>1.000000</td>\n",
       "      <td>1.000000</td>\n",
       "      <td>1.000000</td>\n",
       "      <td>1.000000</td>\n",
       "      <td>0.948889</td>\n",
       "      <td>0.974854</td>\n",
       "      <td>0.836299</td>\n",
       "      <td>0.839286</td>\n",
       "      <td>0.833333</td>\n",
       "    </tr>\n",
       "    <tr>\n",
       "      <th>6</th>\n",
       "      <td>Logistic Regression, X1 = True</td>\n",
       "      <td>0.899814</td>\n",
       "      <td>0.962138</td>\n",
       "      <td>0.808171</td>\n",
       "      <td>0.762144</td>\n",
       "      <td>0.860113</td>\n",
       "      <td>0.905484</td>\n",
       "      <td>0.965853</td>\n",
       "      <td>0.834356</td>\n",
       "      <td>0.832653</td>\n",
       "      <td>0.836066</td>\n",
       "    </tr>\n",
       "    <tr>\n",
       "      <th>2</th>\n",
       "      <td>Gradient Boosting</td>\n",
       "      <td>0.960476</td>\n",
       "      <td>0.990844</td>\n",
       "      <td>0.869085</td>\n",
       "      <td>0.842508</td>\n",
       "      <td>0.897394</td>\n",
       "      <td>0.949444</td>\n",
       "      <td>0.980678</td>\n",
       "      <td>0.833028</td>\n",
       "      <td>0.810714</td>\n",
       "      <td>0.856604</td>\n",
       "    </tr>\n",
       "    <tr>\n",
       "      <th>4</th>\n",
       "      <td>XG Boost</td>\n",
       "      <td>0.998810</td>\n",
       "      <td>0.999997</td>\n",
       "      <td>0.996169</td>\n",
       "      <td>0.993884</td>\n",
       "      <td>0.998464</td>\n",
       "      <td>0.941667</td>\n",
       "      <td>0.979142</td>\n",
       "      <td>0.811490</td>\n",
       "      <td>0.807143</td>\n",
       "      <td>0.815884</td>\n",
       "    </tr>\n",
       "    <tr>\n",
       "      <th>5</th>\n",
       "      <td>Tuned Random Forest</td>\n",
       "      <td>0.998810</td>\n",
       "      <td>0.999997</td>\n",
       "      <td>0.996169</td>\n",
       "      <td>0.993884</td>\n",
       "      <td>0.998464</td>\n",
       "      <td>0.941667</td>\n",
       "      <td>0.979142</td>\n",
       "      <td>0.811490</td>\n",
       "      <td>0.807143</td>\n",
       "      <td>0.815884</td>\n",
       "    </tr>\n",
       "    <tr>\n",
       "      <th>1</th>\n",
       "      <td>Logistic Regression</td>\n",
       "      <td>0.936429</td>\n",
       "      <td>0.976972</td>\n",
       "      <td>0.780968</td>\n",
       "      <td>0.727829</td>\n",
       "      <td>0.842478</td>\n",
       "      <td>0.944444</td>\n",
       "      <td>0.980458</td>\n",
       "      <td>0.814126</td>\n",
       "      <td>0.782143</td>\n",
       "      <td>0.848837</td>\n",
       "    </tr>\n",
       "    <tr>\n",
       "      <th>0</th>\n",
       "      <td>Dummy</td>\n",
       "      <td>0.496667</td>\n",
       "      <td>0.500000</td>\n",
       "      <td>0.235719</td>\n",
       "      <td>0.498471</td>\n",
       "      <td>0.154356</td>\n",
       "      <td>0.505000</td>\n",
       "      <td>0.500000</td>\n",
       "      <td>0.237810</td>\n",
       "      <td>0.496429</td>\n",
       "      <td>0.156355</td>\n",
       "    </tr>\n",
       "  </tbody>\n",
       "</table>\n",
       "</div>"
      ],
      "text/plain": [
       "                             Model  Train Accuracy  Train AUC  Train F1  \\\n",
       "8         Random Forest, X1 = True        1.000000   1.000000  1.000000   \n",
       "9              XG Boost, X1 = True        1.000000   1.000000  1.000000   \n",
       "10  Tuned Random Forest, X1 = True        1.000000   1.000000  1.000000   \n",
       "7     Gradient Boosting, X1 = True        0.943414   0.986442  0.895548   \n",
       "3                    Random Forest        1.000000   1.000000  1.000000   \n",
       "6   Logistic Regression, X1 = True        0.899814   0.962138  0.808171   \n",
       "2                Gradient Boosting        0.960476   0.990844  0.869085   \n",
       "4                         XG Boost        0.998810   0.999997  0.996169   \n",
       "5              Tuned Random Forest        0.998810   0.999997  0.996169   \n",
       "1              Logistic Regression        0.936429   0.976972  0.780968   \n",
       "0                            Dummy        0.496667   0.500000  0.235719   \n",
       "\n",
       "    Train Recall  Train Precision  Test Accuracy  Test AUC   Test F1  \\\n",
       "8       1.000000         1.000000       0.914819  0.962655  0.854871   \n",
       "9       1.000000         1.000000       0.904317  0.963999  0.837945   \n",
       "10      1.000000         1.000000       0.904317  0.963999  0.837945   \n",
       "7       0.876047         0.915937       0.913652  0.967237  0.848980   \n",
       "3       1.000000         1.000000       0.948889  0.974854  0.836299   \n",
       "6       0.762144         0.860113       0.905484  0.965853  0.834356   \n",
       "2       0.842508         0.897394       0.949444  0.980678  0.833028   \n",
       "4       0.993884         0.998464       0.941667  0.979142  0.811490   \n",
       "5       0.993884         0.998464       0.941667  0.979142  0.811490   \n",
       "1       0.727829         0.842478       0.944444  0.980458  0.814126   \n",
       "0       0.498471         0.154356       0.505000  0.500000  0.237810   \n",
       "\n",
       "    Test Recall  Test Precision  \n",
       "8      0.877551        0.833333  \n",
       "9      0.865306        0.812261  \n",
       "10     0.865306        0.812261  \n",
       "7      0.848980        0.848980  \n",
       "3      0.839286        0.833333  \n",
       "6      0.832653        0.836066  \n",
       "2      0.810714        0.856604  \n",
       "4      0.807143        0.815884  \n",
       "5      0.807143        0.815884  \n",
       "1      0.782143        0.848837  \n",
       "0      0.496429        0.156355  "
      ]
     },
     "metadata": {},
     "output_type": "display_data"
    }
   ],
   "source": [
    "#inspect the model scores\n",
    "display(model_scores.sort_values(by='Test Recall', ascending=False))"
   ]
  },
  {
   "cell_type": "markdown",
   "id": "0449fb2a",
   "metadata": {},
   "source": [
    "Once again, we were unable to improve upon the best model with hyperparameter tuning"
   ]
  },
  {
   "cell_type": "markdown",
   "id": "68a542fd",
   "metadata": {},
   "source": [
    "## 2.2 Train Models on Data where X1 is False"
   ]
  },
  {
   "cell_type": "code",
   "execution_count": 52,
   "id": "f3ca6223",
   "metadata": {},
   "outputs": [],
   "source": [
    "#initial logistic regression model\n",
    "lr_model_X1_False = linear_model.LogisticRegression(random_state=random_state)\n",
    "\n",
    "dict_score = train_predict_score(lr_model_X1_False, X_train_X1_false, y_train_X1_false, \n",
    "                                 X_test_X1_false, y_test_X1_false)\n",
    "dict_score['Model'] = 'Logistic Regression, X1 = False'\n",
    "\n",
    "model_scores = model_scores.append(dict_score, ignore_index=True)"
   ]
  },
  {
   "cell_type": "code",
   "execution_count": 53,
   "id": "39a1cd19",
   "metadata": {},
   "outputs": [],
   "source": [
    "#initial gradient boosting model\n",
    "gb_model_X1_False = ensemble.GradientBoostingClassifier(random_state=random_state)\n",
    "\n",
    "dict_score = train_predict_score(gb_model_X1_False, X_train_X1_false, y_train_X1_false, \n",
    "                                 X_test_X1_false, y_test_X1_false)\n",
    "dict_score['Model'] = 'Gradient Boosting, X1 = False'\n",
    "\n",
    "model_scores = model_scores.append(dict_score, ignore_index=True)"
   ]
  },
  {
   "cell_type": "code",
   "execution_count": 54,
   "id": "d4fcfda1",
   "metadata": {},
   "outputs": [],
   "source": [
    "#initial random forest model\n",
    "rf_model_X1_False = ensemble.RandomForestClassifier(random_state=random_state)\n",
    "\n",
    "dict_score = train_predict_score(rf_model_X1_False, X_train_X1_false, y_train_X1_false, \n",
    "                                 X_test_X1_false, y_test_X1_false)\n",
    "dict_score['Model'] = 'Random Forest, X1 = False'\n",
    "\n",
    "model_scores = model_scores.append(dict_score, ignore_index=True)"
   ]
  },
  {
   "cell_type": "code",
   "execution_count": 55,
   "id": "e21fb18d",
   "metadata": {},
   "outputs": [
    {
     "name": "stdout",
     "output_type": "stream",
     "text": [
      "[16:36:49] WARNING: D:\\bld\\xgboost-split_1645118015404\\work\\src\\learner.cc:1115: Starting in XGBoost 1.3.0, the default evaluation metric used with the objective 'binary:logistic' was changed from 'error' to 'logloss'. Explicitly set eval_metric if you'd like to restore the old behavior.\n"
     ]
    }
   ],
   "source": [
    "#initial XG Boost model\n",
    "xgb_model_X1_False = XGBClassifier(use_label_encoder=False, seed=random_state)\n",
    "\n",
    "dict_score = train_predict_score(xgb_model_X1_False, X_train_X1_false, y_train_X1_false, \n",
    "                                 X_test_X1_false, y_test_X1_false)\n",
    "dict_score['Model'] = 'XG Boost, X1 = False'\n",
    "\n",
    "model_scores = model_scores.append(dict_score, ignore_index=True)"
   ]
  },
  {
   "cell_type": "code",
   "execution_count": 56,
   "id": "6ed0bf5b",
   "metadata": {},
   "outputs": [
    {
     "data": {
      "text/html": [
       "<div>\n",
       "<style scoped>\n",
       "    .dataframe tbody tr th:only-of-type {\n",
       "        vertical-align: middle;\n",
       "    }\n",
       "\n",
       "    .dataframe tbody tr th {\n",
       "        vertical-align: top;\n",
       "    }\n",
       "\n",
       "    .dataframe thead th {\n",
       "        text-align: right;\n",
       "    }\n",
       "</style>\n",
       "<table border=\"1\" class=\"dataframe\">\n",
       "  <thead>\n",
       "    <tr style=\"text-align: right;\">\n",
       "      <th></th>\n",
       "      <th>Model</th>\n",
       "      <th>Train Accuracy</th>\n",
       "      <th>Train AUC</th>\n",
       "      <th>Train F1</th>\n",
       "      <th>Train Recall</th>\n",
       "      <th>Train Precision</th>\n",
       "      <th>Test Accuracy</th>\n",
       "      <th>Test AUC</th>\n",
       "      <th>Test F1</th>\n",
       "      <th>Test Recall</th>\n",
       "      <th>Test Precision</th>\n",
       "    </tr>\n",
       "  </thead>\n",
       "  <tbody>\n",
       "    <tr>\n",
       "      <th>8</th>\n",
       "      <td>Random Forest, X1 = True</td>\n",
       "      <td>1.000000</td>\n",
       "      <td>1.000000</td>\n",
       "      <td>1.000000</td>\n",
       "      <td>1.000000</td>\n",
       "      <td>1.000000</td>\n",
       "      <td>0.914819</td>\n",
       "      <td>0.962655</td>\n",
       "      <td>0.854871</td>\n",
       "      <td>0.877551</td>\n",
       "      <td>0.833333</td>\n",
       "    </tr>\n",
       "    <tr>\n",
       "      <th>9</th>\n",
       "      <td>XG Boost, X1 = True</td>\n",
       "      <td>1.000000</td>\n",
       "      <td>1.000000</td>\n",
       "      <td>1.000000</td>\n",
       "      <td>1.000000</td>\n",
       "      <td>1.000000</td>\n",
       "      <td>0.904317</td>\n",
       "      <td>0.963999</td>\n",
       "      <td>0.837945</td>\n",
       "      <td>0.865306</td>\n",
       "      <td>0.812261</td>\n",
       "    </tr>\n",
       "    <tr>\n",
       "      <th>10</th>\n",
       "      <td>Tuned Random Forest, X1 = True</td>\n",
       "      <td>1.000000</td>\n",
       "      <td>1.000000</td>\n",
       "      <td>1.000000</td>\n",
       "      <td>1.000000</td>\n",
       "      <td>1.000000</td>\n",
       "      <td>0.904317</td>\n",
       "      <td>0.963999</td>\n",
       "      <td>0.837945</td>\n",
       "      <td>0.865306</td>\n",
       "      <td>0.812261</td>\n",
       "    </tr>\n",
       "    <tr>\n",
       "      <th>7</th>\n",
       "      <td>Gradient Boosting, X1 = True</td>\n",
       "      <td>0.943414</td>\n",
       "      <td>0.986442</td>\n",
       "      <td>0.895548</td>\n",
       "      <td>0.876047</td>\n",
       "      <td>0.915937</td>\n",
       "      <td>0.913652</td>\n",
       "      <td>0.967237</td>\n",
       "      <td>0.848980</td>\n",
       "      <td>0.848980</td>\n",
       "      <td>0.848980</td>\n",
       "    </tr>\n",
       "    <tr>\n",
       "      <th>3</th>\n",
       "      <td>Random Forest</td>\n",
       "      <td>1.000000</td>\n",
       "      <td>1.000000</td>\n",
       "      <td>1.000000</td>\n",
       "      <td>1.000000</td>\n",
       "      <td>1.000000</td>\n",
       "      <td>0.948889</td>\n",
       "      <td>0.974854</td>\n",
       "      <td>0.836299</td>\n",
       "      <td>0.839286</td>\n",
       "      <td>0.833333</td>\n",
       "    </tr>\n",
       "    <tr>\n",
       "      <th>6</th>\n",
       "      <td>Logistic Regression, X1 = True</td>\n",
       "      <td>0.899814</td>\n",
       "      <td>0.962138</td>\n",
       "      <td>0.808171</td>\n",
       "      <td>0.762144</td>\n",
       "      <td>0.860113</td>\n",
       "      <td>0.905484</td>\n",
       "      <td>0.965853</td>\n",
       "      <td>0.834356</td>\n",
       "      <td>0.832653</td>\n",
       "      <td>0.836066</td>\n",
       "    </tr>\n",
       "    <tr>\n",
       "      <th>2</th>\n",
       "      <td>Gradient Boosting</td>\n",
       "      <td>0.960476</td>\n",
       "      <td>0.990844</td>\n",
       "      <td>0.869085</td>\n",
       "      <td>0.842508</td>\n",
       "      <td>0.897394</td>\n",
       "      <td>0.949444</td>\n",
       "      <td>0.980678</td>\n",
       "      <td>0.833028</td>\n",
       "      <td>0.810714</td>\n",
       "      <td>0.856604</td>\n",
       "    </tr>\n",
       "    <tr>\n",
       "      <th>4</th>\n",
       "      <td>XG Boost</td>\n",
       "      <td>0.998810</td>\n",
       "      <td>0.999997</td>\n",
       "      <td>0.996169</td>\n",
       "      <td>0.993884</td>\n",
       "      <td>0.998464</td>\n",
       "      <td>0.941667</td>\n",
       "      <td>0.979142</td>\n",
       "      <td>0.811490</td>\n",
       "      <td>0.807143</td>\n",
       "      <td>0.815884</td>\n",
       "    </tr>\n",
       "    <tr>\n",
       "      <th>5</th>\n",
       "      <td>Tuned Random Forest</td>\n",
       "      <td>0.998810</td>\n",
       "      <td>0.999997</td>\n",
       "      <td>0.996169</td>\n",
       "      <td>0.993884</td>\n",
       "      <td>0.998464</td>\n",
       "      <td>0.941667</td>\n",
       "      <td>0.979142</td>\n",
       "      <td>0.811490</td>\n",
       "      <td>0.807143</td>\n",
       "      <td>0.815884</td>\n",
       "    </tr>\n",
       "    <tr>\n",
       "      <th>1</th>\n",
       "      <td>Logistic Regression</td>\n",
       "      <td>0.936429</td>\n",
       "      <td>0.976972</td>\n",
       "      <td>0.780968</td>\n",
       "      <td>0.727829</td>\n",
       "      <td>0.842478</td>\n",
       "      <td>0.944444</td>\n",
       "      <td>0.980458</td>\n",
       "      <td>0.814126</td>\n",
       "      <td>0.782143</td>\n",
       "      <td>0.848837</td>\n",
       "    </tr>\n",
       "    <tr>\n",
       "      <th>13</th>\n",
       "      <td>Random Forest, X1 = False</td>\n",
       "      <td>1.000000</td>\n",
       "      <td>1.000000</td>\n",
       "      <td>1.000000</td>\n",
       "      <td>1.000000</td>\n",
       "      <td>1.000000</td>\n",
       "      <td>0.983033</td>\n",
       "      <td>0.983638</td>\n",
       "      <td>0.724138</td>\n",
       "      <td>0.600000</td>\n",
       "      <td>0.913043</td>\n",
       "    </tr>\n",
       "    <tr>\n",
       "      <th>12</th>\n",
       "      <td>Gradient Boosting, X1 = False</td>\n",
       "      <td>0.997065</td>\n",
       "      <td>0.999912</td>\n",
       "      <td>0.944444</td>\n",
       "      <td>0.894737</td>\n",
       "      <td>1.000000</td>\n",
       "      <td>0.977731</td>\n",
       "      <td>0.981986</td>\n",
       "      <td>0.631579</td>\n",
       "      <td>0.514286</td>\n",
       "      <td>0.818182</td>\n",
       "    </tr>\n",
       "    <tr>\n",
       "      <th>14</th>\n",
       "      <td>XG Boost, X1 = False</td>\n",
       "      <td>1.000000</td>\n",
       "      <td>1.000000</td>\n",
       "      <td>1.000000</td>\n",
       "      <td>1.000000</td>\n",
       "      <td>1.000000</td>\n",
       "      <td>0.977731</td>\n",
       "      <td>0.982914</td>\n",
       "      <td>0.631579</td>\n",
       "      <td>0.514286</td>\n",
       "      <td>0.818182</td>\n",
       "    </tr>\n",
       "    <tr>\n",
       "      <th>0</th>\n",
       "      <td>Dummy</td>\n",
       "      <td>0.496667</td>\n",
       "      <td>0.500000</td>\n",
       "      <td>0.235719</td>\n",
       "      <td>0.498471</td>\n",
       "      <td>0.154356</td>\n",
       "      <td>0.505000</td>\n",
       "      <td>0.500000</td>\n",
       "      <td>0.237810</td>\n",
       "      <td>0.496429</td>\n",
       "      <td>0.156355</td>\n",
       "    </tr>\n",
       "    <tr>\n",
       "      <th>11</th>\n",
       "      <td>Logistic Regression, X1 = False</td>\n",
       "      <td>0.973092</td>\n",
       "      <td>0.968674</td>\n",
       "      <td>0.126984</td>\n",
       "      <td>0.070175</td>\n",
       "      <td>0.666667</td>\n",
       "      <td>0.967126</td>\n",
       "      <td>0.977565</td>\n",
       "      <td>0.205128</td>\n",
       "      <td>0.114286</td>\n",
       "      <td>1.000000</td>\n",
       "    </tr>\n",
       "  </tbody>\n",
       "</table>\n",
       "</div>"
      ],
      "text/plain": [
       "                              Model  Train Accuracy  Train AUC  Train F1  \\\n",
       "8          Random Forest, X1 = True        1.000000   1.000000  1.000000   \n",
       "9               XG Boost, X1 = True        1.000000   1.000000  1.000000   \n",
       "10   Tuned Random Forest, X1 = True        1.000000   1.000000  1.000000   \n",
       "7      Gradient Boosting, X1 = True        0.943414   0.986442  0.895548   \n",
       "3                     Random Forest        1.000000   1.000000  1.000000   \n",
       "6    Logistic Regression, X1 = True        0.899814   0.962138  0.808171   \n",
       "2                 Gradient Boosting        0.960476   0.990844  0.869085   \n",
       "4                          XG Boost        0.998810   0.999997  0.996169   \n",
       "5               Tuned Random Forest        0.998810   0.999997  0.996169   \n",
       "1               Logistic Regression        0.936429   0.976972  0.780968   \n",
       "13        Random Forest, X1 = False        1.000000   1.000000  1.000000   \n",
       "12    Gradient Boosting, X1 = False        0.997065   0.999912  0.944444   \n",
       "14             XG Boost, X1 = False        1.000000   1.000000  1.000000   \n",
       "0                             Dummy        0.496667   0.500000  0.235719   \n",
       "11  Logistic Regression, X1 = False        0.973092   0.968674  0.126984   \n",
       "\n",
       "    Train Recall  Train Precision  Test Accuracy  Test AUC   Test F1  \\\n",
       "8       1.000000         1.000000       0.914819  0.962655  0.854871   \n",
       "9       1.000000         1.000000       0.904317  0.963999  0.837945   \n",
       "10      1.000000         1.000000       0.904317  0.963999  0.837945   \n",
       "7       0.876047         0.915937       0.913652  0.967237  0.848980   \n",
       "3       1.000000         1.000000       0.948889  0.974854  0.836299   \n",
       "6       0.762144         0.860113       0.905484  0.965853  0.834356   \n",
       "2       0.842508         0.897394       0.949444  0.980678  0.833028   \n",
       "4       0.993884         0.998464       0.941667  0.979142  0.811490   \n",
       "5       0.993884         0.998464       0.941667  0.979142  0.811490   \n",
       "1       0.727829         0.842478       0.944444  0.980458  0.814126   \n",
       "13      1.000000         1.000000       0.983033  0.983638  0.724138   \n",
       "12      0.894737         1.000000       0.977731  0.981986  0.631579   \n",
       "14      1.000000         1.000000       0.977731  0.982914  0.631579   \n",
       "0       0.498471         0.154356       0.505000  0.500000  0.237810   \n",
       "11      0.070175         0.666667       0.967126  0.977565  0.205128   \n",
       "\n",
       "    Test Recall  Test Precision  \n",
       "8      0.877551        0.833333  \n",
       "9      0.865306        0.812261  \n",
       "10     0.865306        0.812261  \n",
       "7      0.848980        0.848980  \n",
       "3      0.839286        0.833333  \n",
       "6      0.832653        0.836066  \n",
       "2      0.810714        0.856604  \n",
       "4      0.807143        0.815884  \n",
       "5      0.807143        0.815884  \n",
       "1      0.782143        0.848837  \n",
       "13     0.600000        0.913043  \n",
       "12     0.514286        0.818182  \n",
       "14     0.514286        0.818182  \n",
       "0      0.496429        0.156355  \n",
       "11     0.114286        1.000000  "
      ]
     },
     "metadata": {},
     "output_type": "display_data"
    }
   ],
   "source": [
    "#inspect the model scores\n",
    "display(model_scores.sort_values(by='Test Recall', ascending=False))"
   ]
  },
  {
   "cell_type": "markdown",
   "id": "ba47f566",
   "metadata": {},
   "source": [
    "## Hyperparameter Tuning"
   ]
  },
  {
   "cell_type": "code",
   "execution_count": 57,
   "id": "e19e67bf",
   "metadata": {},
   "outputs": [
    {
     "name": "stderr",
     "output_type": "stream",
     "text": [
      "One or more of the test scores are non-finite: [0.46111111 0.47777778 0.51111111 0.46111111 0.47777778 0.51666667\n",
      "        nan 0.5               nan 0.35       0.47777778 0.49444444\n",
      "        nan 0.47777778 0.51666667 0.33333333 0.49444444 0.47777778\n",
      "        nan        nan 0.51666667        nan 0.47777778 0.51666667\n",
      "        nan        nan 0.46111111        nan        nan 0.33333333]\n"
     ]
    }
   ],
   "source": [
    "#for the model where X1 = false\n",
    "\n",
    "#define the hyperparameter search grid\n",
    "grid_params = {\n",
    "    'n_estimators':[50, 100, 200, 500, 1000],\n",
    "    'max_depth':[3,6,7,8,9,10, None],\n",
    "    'max_features': ['sqrt','log2','None']\n",
    "}\n",
    "\n",
    "#Random Forest model (best score in initial modeling)\n",
    "rf_model_2_X1_False = ensemble.RandomForestClassifier(random_state=random_state)\n",
    "\n",
    "#Randomized CV search for best hyperparameters\n",
    "tuned_rf_model_X1_False = model_selection.RandomizedSearchCV(rf_model_2_X1_False,grid_params, scoring='recall',n_jobs=-1, \n",
    "                                                    cv=15, random_state=random_state, n_iter=30)\n",
    "\n",
    "#train the model, make predictions on train and test sets, evaluation metrics\n",
    "dict_so = train_predict_score(tuned_rf_model_X1_True, X_train_X1_false, y_train_X1_false, \n",
    "                                 X_test_X1_false, y_test_X1_false)\n",
    "dict_score['Model'] = 'Tuned Random Forest, X1 = False'\n",
    "\n",
    "model_scores = model_scores.append(dict_score, ignore_index=True)"
   ]
  },
  {
   "cell_type": "code",
   "execution_count": 58,
   "id": "79a4b43d",
   "metadata": {
    "scrolled": true
   },
   "outputs": [
    {
     "data": {
      "text/html": [
       "<div>\n",
       "<style scoped>\n",
       "    .dataframe tbody tr th:only-of-type {\n",
       "        vertical-align: middle;\n",
       "    }\n",
       "\n",
       "    .dataframe tbody tr th {\n",
       "        vertical-align: top;\n",
       "    }\n",
       "\n",
       "    .dataframe thead th {\n",
       "        text-align: right;\n",
       "    }\n",
       "</style>\n",
       "<table border=\"1\" class=\"dataframe\">\n",
       "  <thead>\n",
       "    <tr style=\"text-align: right;\">\n",
       "      <th></th>\n",
       "      <th>Model</th>\n",
       "      <th>Train Accuracy</th>\n",
       "      <th>Train AUC</th>\n",
       "      <th>Train F1</th>\n",
       "      <th>Train Recall</th>\n",
       "      <th>Train Precision</th>\n",
       "      <th>Test Accuracy</th>\n",
       "      <th>Test AUC</th>\n",
       "      <th>Test F1</th>\n",
       "      <th>Test Recall</th>\n",
       "      <th>Test Precision</th>\n",
       "    </tr>\n",
       "  </thead>\n",
       "  <tbody>\n",
       "    <tr>\n",
       "      <th>8</th>\n",
       "      <td>Random Forest, X1 = True</td>\n",
       "      <td>1.000000</td>\n",
       "      <td>1.000000</td>\n",
       "      <td>1.000000</td>\n",
       "      <td>1.000000</td>\n",
       "      <td>1.000000</td>\n",
       "      <td>0.914819</td>\n",
       "      <td>0.962655</td>\n",
       "      <td>0.854871</td>\n",
       "      <td>0.877551</td>\n",
       "      <td>0.833333</td>\n",
       "    </tr>\n",
       "    <tr>\n",
       "      <th>9</th>\n",
       "      <td>XG Boost, X1 = True</td>\n",
       "      <td>1.000000</td>\n",
       "      <td>1.000000</td>\n",
       "      <td>1.000000</td>\n",
       "      <td>1.000000</td>\n",
       "      <td>1.000000</td>\n",
       "      <td>0.904317</td>\n",
       "      <td>0.963999</td>\n",
       "      <td>0.837945</td>\n",
       "      <td>0.865306</td>\n",
       "      <td>0.812261</td>\n",
       "    </tr>\n",
       "    <tr>\n",
       "      <th>10</th>\n",
       "      <td>Tuned Random Forest, X1 = True</td>\n",
       "      <td>1.000000</td>\n",
       "      <td>1.000000</td>\n",
       "      <td>1.000000</td>\n",
       "      <td>1.000000</td>\n",
       "      <td>1.000000</td>\n",
       "      <td>0.904317</td>\n",
       "      <td>0.963999</td>\n",
       "      <td>0.837945</td>\n",
       "      <td>0.865306</td>\n",
       "      <td>0.812261</td>\n",
       "    </tr>\n",
       "    <tr>\n",
       "      <th>7</th>\n",
       "      <td>Gradient Boosting, X1 = True</td>\n",
       "      <td>0.943414</td>\n",
       "      <td>0.986442</td>\n",
       "      <td>0.895548</td>\n",
       "      <td>0.876047</td>\n",
       "      <td>0.915937</td>\n",
       "      <td>0.913652</td>\n",
       "      <td>0.967237</td>\n",
       "      <td>0.848980</td>\n",
       "      <td>0.848980</td>\n",
       "      <td>0.848980</td>\n",
       "    </tr>\n",
       "    <tr>\n",
       "      <th>3</th>\n",
       "      <td>Random Forest</td>\n",
       "      <td>1.000000</td>\n",
       "      <td>1.000000</td>\n",
       "      <td>1.000000</td>\n",
       "      <td>1.000000</td>\n",
       "      <td>1.000000</td>\n",
       "      <td>0.948889</td>\n",
       "      <td>0.974854</td>\n",
       "      <td>0.836299</td>\n",
       "      <td>0.839286</td>\n",
       "      <td>0.833333</td>\n",
       "    </tr>\n",
       "    <tr>\n",
       "      <th>6</th>\n",
       "      <td>Logistic Regression, X1 = True</td>\n",
       "      <td>0.899814</td>\n",
       "      <td>0.962138</td>\n",
       "      <td>0.808171</td>\n",
       "      <td>0.762144</td>\n",
       "      <td>0.860113</td>\n",
       "      <td>0.905484</td>\n",
       "      <td>0.965853</td>\n",
       "      <td>0.834356</td>\n",
       "      <td>0.832653</td>\n",
       "      <td>0.836066</td>\n",
       "    </tr>\n",
       "    <tr>\n",
       "      <th>2</th>\n",
       "      <td>Gradient Boosting</td>\n",
       "      <td>0.960476</td>\n",
       "      <td>0.990844</td>\n",
       "      <td>0.869085</td>\n",
       "      <td>0.842508</td>\n",
       "      <td>0.897394</td>\n",
       "      <td>0.949444</td>\n",
       "      <td>0.980678</td>\n",
       "      <td>0.833028</td>\n",
       "      <td>0.810714</td>\n",
       "      <td>0.856604</td>\n",
       "    </tr>\n",
       "    <tr>\n",
       "      <th>4</th>\n",
       "      <td>XG Boost</td>\n",
       "      <td>0.998810</td>\n",
       "      <td>0.999997</td>\n",
       "      <td>0.996169</td>\n",
       "      <td>0.993884</td>\n",
       "      <td>0.998464</td>\n",
       "      <td>0.941667</td>\n",
       "      <td>0.979142</td>\n",
       "      <td>0.811490</td>\n",
       "      <td>0.807143</td>\n",
       "      <td>0.815884</td>\n",
       "    </tr>\n",
       "    <tr>\n",
       "      <th>5</th>\n",
       "      <td>Tuned Random Forest</td>\n",
       "      <td>0.998810</td>\n",
       "      <td>0.999997</td>\n",
       "      <td>0.996169</td>\n",
       "      <td>0.993884</td>\n",
       "      <td>0.998464</td>\n",
       "      <td>0.941667</td>\n",
       "      <td>0.979142</td>\n",
       "      <td>0.811490</td>\n",
       "      <td>0.807143</td>\n",
       "      <td>0.815884</td>\n",
       "    </tr>\n",
       "    <tr>\n",
       "      <th>1</th>\n",
       "      <td>Logistic Regression</td>\n",
       "      <td>0.936429</td>\n",
       "      <td>0.976972</td>\n",
       "      <td>0.780968</td>\n",
       "      <td>0.727829</td>\n",
       "      <td>0.842478</td>\n",
       "      <td>0.944444</td>\n",
       "      <td>0.980458</td>\n",
       "      <td>0.814126</td>\n",
       "      <td>0.782143</td>\n",
       "      <td>0.848837</td>\n",
       "    </tr>\n",
       "    <tr>\n",
       "      <th>13</th>\n",
       "      <td>Random Forest, X1 = False</td>\n",
       "      <td>1.000000</td>\n",
       "      <td>1.000000</td>\n",
       "      <td>1.000000</td>\n",
       "      <td>1.000000</td>\n",
       "      <td>1.000000</td>\n",
       "      <td>0.983033</td>\n",
       "      <td>0.983638</td>\n",
       "      <td>0.724138</td>\n",
       "      <td>0.600000</td>\n",
       "      <td>0.913043</td>\n",
       "    </tr>\n",
       "    <tr>\n",
       "      <th>12</th>\n",
       "      <td>Gradient Boosting, X1 = False</td>\n",
       "      <td>0.997065</td>\n",
       "      <td>0.999912</td>\n",
       "      <td>0.944444</td>\n",
       "      <td>0.894737</td>\n",
       "      <td>1.000000</td>\n",
       "      <td>0.977731</td>\n",
       "      <td>0.981986</td>\n",
       "      <td>0.631579</td>\n",
       "      <td>0.514286</td>\n",
       "      <td>0.818182</td>\n",
       "    </tr>\n",
       "    <tr>\n",
       "      <th>14</th>\n",
       "      <td>XG Boost, X1 = False</td>\n",
       "      <td>1.000000</td>\n",
       "      <td>1.000000</td>\n",
       "      <td>1.000000</td>\n",
       "      <td>1.000000</td>\n",
       "      <td>1.000000</td>\n",
       "      <td>0.977731</td>\n",
       "      <td>0.982914</td>\n",
       "      <td>0.631579</td>\n",
       "      <td>0.514286</td>\n",
       "      <td>0.818182</td>\n",
       "    </tr>\n",
       "    <tr>\n",
       "      <th>15</th>\n",
       "      <td>Tuned Random Forest, X1 = False</td>\n",
       "      <td>1.000000</td>\n",
       "      <td>1.000000</td>\n",
       "      <td>1.000000</td>\n",
       "      <td>1.000000</td>\n",
       "      <td>1.000000</td>\n",
       "      <td>0.977731</td>\n",
       "      <td>0.982914</td>\n",
       "      <td>0.631579</td>\n",
       "      <td>0.514286</td>\n",
       "      <td>0.818182</td>\n",
       "    </tr>\n",
       "    <tr>\n",
       "      <th>0</th>\n",
       "      <td>Dummy</td>\n",
       "      <td>0.496667</td>\n",
       "      <td>0.500000</td>\n",
       "      <td>0.235719</td>\n",
       "      <td>0.498471</td>\n",
       "      <td>0.154356</td>\n",
       "      <td>0.505000</td>\n",
       "      <td>0.500000</td>\n",
       "      <td>0.237810</td>\n",
       "      <td>0.496429</td>\n",
       "      <td>0.156355</td>\n",
       "    </tr>\n",
       "    <tr>\n",
       "      <th>11</th>\n",
       "      <td>Logistic Regression, X1 = False</td>\n",
       "      <td>0.973092</td>\n",
       "      <td>0.968674</td>\n",
       "      <td>0.126984</td>\n",
       "      <td>0.070175</td>\n",
       "      <td>0.666667</td>\n",
       "      <td>0.967126</td>\n",
       "      <td>0.977565</td>\n",
       "      <td>0.205128</td>\n",
       "      <td>0.114286</td>\n",
       "      <td>1.000000</td>\n",
       "    </tr>\n",
       "  </tbody>\n",
       "</table>\n",
       "</div>"
      ],
      "text/plain": [
       "                              Model  Train Accuracy  Train AUC  Train F1  \\\n",
       "8          Random Forest, X1 = True        1.000000   1.000000  1.000000   \n",
       "9               XG Boost, X1 = True        1.000000   1.000000  1.000000   \n",
       "10   Tuned Random Forest, X1 = True        1.000000   1.000000  1.000000   \n",
       "7      Gradient Boosting, X1 = True        0.943414   0.986442  0.895548   \n",
       "3                     Random Forest        1.000000   1.000000  1.000000   \n",
       "6    Logistic Regression, X1 = True        0.899814   0.962138  0.808171   \n",
       "2                 Gradient Boosting        0.960476   0.990844  0.869085   \n",
       "4                          XG Boost        0.998810   0.999997  0.996169   \n",
       "5               Tuned Random Forest        0.998810   0.999997  0.996169   \n",
       "1               Logistic Regression        0.936429   0.976972  0.780968   \n",
       "13        Random Forest, X1 = False        1.000000   1.000000  1.000000   \n",
       "12    Gradient Boosting, X1 = False        0.997065   0.999912  0.944444   \n",
       "14             XG Boost, X1 = False        1.000000   1.000000  1.000000   \n",
       "15  Tuned Random Forest, X1 = False        1.000000   1.000000  1.000000   \n",
       "0                             Dummy        0.496667   0.500000  0.235719   \n",
       "11  Logistic Regression, X1 = False        0.973092   0.968674  0.126984   \n",
       "\n",
       "    Train Recall  Train Precision  Test Accuracy  Test AUC   Test F1  \\\n",
       "8       1.000000         1.000000       0.914819  0.962655  0.854871   \n",
       "9       1.000000         1.000000       0.904317  0.963999  0.837945   \n",
       "10      1.000000         1.000000       0.904317  0.963999  0.837945   \n",
       "7       0.876047         0.915937       0.913652  0.967237  0.848980   \n",
       "3       1.000000         1.000000       0.948889  0.974854  0.836299   \n",
       "6       0.762144         0.860113       0.905484  0.965853  0.834356   \n",
       "2       0.842508         0.897394       0.949444  0.980678  0.833028   \n",
       "4       0.993884         0.998464       0.941667  0.979142  0.811490   \n",
       "5       0.993884         0.998464       0.941667  0.979142  0.811490   \n",
       "1       0.727829         0.842478       0.944444  0.980458  0.814126   \n",
       "13      1.000000         1.000000       0.983033  0.983638  0.724138   \n",
       "12      0.894737         1.000000       0.977731  0.981986  0.631579   \n",
       "14      1.000000         1.000000       0.977731  0.982914  0.631579   \n",
       "15      1.000000         1.000000       0.977731  0.982914  0.631579   \n",
       "0       0.498471         0.154356       0.505000  0.500000  0.237810   \n",
       "11      0.070175         0.666667       0.967126  0.977565  0.205128   \n",
       "\n",
       "    Test Recall  Test Precision  \n",
       "8      0.877551        0.833333  \n",
       "9      0.865306        0.812261  \n",
       "10     0.865306        0.812261  \n",
       "7      0.848980        0.848980  \n",
       "3      0.839286        0.833333  \n",
       "6      0.832653        0.836066  \n",
       "2      0.810714        0.856604  \n",
       "4      0.807143        0.815884  \n",
       "5      0.807143        0.815884  \n",
       "1      0.782143        0.848837  \n",
       "13     0.600000        0.913043  \n",
       "12     0.514286        0.818182  \n",
       "14     0.514286        0.818182  \n",
       "15     0.514286        0.818182  \n",
       "0      0.496429        0.156355  \n",
       "11     0.114286        1.000000  "
      ]
     },
     "metadata": {},
     "output_type": "display_data"
    }
   ],
   "source": [
    "#inspect the model scores\n",
    "display(model_scores.sort_values(by='Test Recall', ascending=False))"
   ]
  },
  {
   "cell_type": "markdown",
   "id": "aa8494be",
   "metadata": {},
   "source": [
    "Like the other cases, hyperparameter tuning for the X1 = False segment was unable to improve the model's performance."
   ]
  },
  {
   "cell_type": "markdown",
   "id": "af2f9c01",
   "metadata": {},
   "source": [
    "## Model Selection"
   ]
  },
  {
   "cell_type": "code",
   "execution_count": 59,
   "id": "d0c7264e",
   "metadata": {},
   "outputs": [
    {
     "data": {
      "text/html": [
       "<div>\n",
       "<style scoped>\n",
       "    .dataframe tbody tr th:only-of-type {\n",
       "        vertical-align: middle;\n",
       "    }\n",
       "\n",
       "    .dataframe tbody tr th {\n",
       "        vertical-align: top;\n",
       "    }\n",
       "\n",
       "    .dataframe thead th {\n",
       "        text-align: right;\n",
       "    }\n",
       "</style>\n",
       "<table border=\"1\" class=\"dataframe\">\n",
       "  <thead>\n",
       "    <tr style=\"text-align: right;\">\n",
       "      <th></th>\n",
       "      <th>Model</th>\n",
       "      <th>Train Accuracy</th>\n",
       "      <th>Train AUC</th>\n",
       "      <th>Train F1</th>\n",
       "      <th>Train Recall</th>\n",
       "      <th>Train Precision</th>\n",
       "      <th>Test Accuracy</th>\n",
       "      <th>Test AUC</th>\n",
       "      <th>Test F1</th>\n",
       "      <th>Test Recall</th>\n",
       "      <th>Test Precision</th>\n",
       "    </tr>\n",
       "  </thead>\n",
       "  <tbody>\n",
       "    <tr>\n",
       "      <th>8</th>\n",
       "      <td>Random Forest, X1 = True</td>\n",
       "      <td>1.0</td>\n",
       "      <td>1.0</td>\n",
       "      <td>1.0</td>\n",
       "      <td>1.0</td>\n",
       "      <td>1.0</td>\n",
       "      <td>0.914819</td>\n",
       "      <td>0.962655</td>\n",
       "      <td>0.854871</td>\n",
       "      <td>0.877551</td>\n",
       "      <td>0.833333</td>\n",
       "    </tr>\n",
       "    <tr>\n",
       "      <th>3</th>\n",
       "      <td>Random Forest</td>\n",
       "      <td>1.0</td>\n",
       "      <td>1.0</td>\n",
       "      <td>1.0</td>\n",
       "      <td>1.0</td>\n",
       "      <td>1.0</td>\n",
       "      <td>0.948889</td>\n",
       "      <td>0.974854</td>\n",
       "      <td>0.836299</td>\n",
       "      <td>0.839286</td>\n",
       "      <td>0.833333</td>\n",
       "    </tr>\n",
       "    <tr>\n",
       "      <th>13</th>\n",
       "      <td>Random Forest, X1 = False</td>\n",
       "      <td>1.0</td>\n",
       "      <td>1.0</td>\n",
       "      <td>1.0</td>\n",
       "      <td>1.0</td>\n",
       "      <td>1.0</td>\n",
       "      <td>0.983033</td>\n",
       "      <td>0.983638</td>\n",
       "      <td>0.724138</td>\n",
       "      <td>0.600000</td>\n",
       "      <td>0.913043</td>\n",
       "    </tr>\n",
       "  </tbody>\n",
       "</table>\n",
       "</div>"
      ],
      "text/plain": [
       "                        Model  Train Accuracy  Train AUC  Train F1  \\\n",
       "8    Random Forest, X1 = True             1.0        1.0       1.0   \n",
       "3               Random Forest             1.0        1.0       1.0   \n",
       "13  Random Forest, X1 = False             1.0        1.0       1.0   \n",
       "\n",
       "    Train Recall  Train Precision  Test Accuracy  Test AUC   Test F1  \\\n",
       "8            1.0              1.0       0.914819  0.962655  0.854871   \n",
       "3            1.0              1.0       0.948889  0.974854  0.836299   \n",
       "13           1.0              1.0       0.983033  0.983638  0.724138   \n",
       "\n",
       "    Test Recall  Test Precision  \n",
       "8      0.877551        0.833333  \n",
       "3      0.839286        0.833333  \n",
       "13     0.600000        0.913043  "
      ]
     },
     "execution_count": 59,
     "metadata": {},
     "output_type": "execute_result"
    }
   ],
   "source": [
    "#look at the best model for each segment\n",
    "model_scores.iloc[[8, 3, 13]].sort_values(by='Test Recall', ascending=False)"
   ]
  },
  {
   "cell_type": "markdown",
   "id": "39edbc3f",
   "metadata": {},
   "source": [
    "We can see that the model built using the X1 = True segment had the highest recall and F1 score. However, the model trained on the X1 = False segment had poor recall and F1 Scores compared to the model trained on all data. That said, we should keep in mind that the X1 = False data did not contain many Successes. \n",
    "\n",
    "In order to select the best model we need to look at which of the following models had the most successes:\n",
    "* Random Forest\n",
    "* Random Forest, X1 = True + Random Forest, X1 = False\n",
    "\n"
   ]
  },
  {
   "cell_type": "code",
   "execution_count": 19,
   "id": "f4ab24c7",
   "metadata": {
    "execution": {
     "iopub.execute_input": "2022-08-07T20:00:00.706094Z",
     "iopub.status.busy": "2022-08-07T20:00:00.706005Z",
     "iopub.status.idle": "2022-08-07T20:00:00.849971Z",
     "shell.execute_reply": "2022-08-07T20:00:00.849801Z",
     "shell.execute_reply.started": "2022-08-07T20:00:00.706068Z"
    },
    "tags": []
   },
   "outputs": [],
   "source": [
    "#get each model's predictions , we will use cutoff of 0.1556 as the proportion of success in X_train dataset is 15.56%,similarly for segmented dataset we will use 0.2769 and 0.027 respectively\n",
    "rf_predictions = (rf_model.predict_proba(X_test)[:,1] > 0.1556).astype(np.int64)\n",
    "rf_x1_true_predictions = (rf_model_X1_True.predict_proba(X_test_X1_true)[:,1] > 0.2769).astype(np.int64)\n",
    "rf_x1_false_predictions = (rf_model_X1_False.predict_proba(X_test_X1_false)[:,1] > 0.027).astype(np.int64)"
   ]
  },
  {
   "cell_type": "code",
   "execution_count": 20,
   "id": "9ec48841",
   "metadata": {
    "execution": {
     "iopub.execute_input": "2022-08-07T20:00:42.419814Z",
     "iopub.status.busy": "2022-08-07T20:00:42.419724Z",
     "iopub.status.idle": "2022-08-07T20:00:42.511179Z",
     "shell.execute_reply": "2022-08-07T20:00:42.511040Z",
     "shell.execute_reply.started": "2022-08-07T20:00:42.419788Z"
    },
    "tags": []
   },
   "outputs": [
    {
     "name": "stdout",
     "output_type": "stream",
     "text": [
      "Correctly predicted successes, all data: 261\n",
      "Correctly predicted successes, X1 segmented data: 264\n"
     ]
    }
   ],
   "source": [
    "#look at number of successes in order to select Model A\n",
    "rf_successes = ((rf_predictions == y_test) & (y_test == 1)).sum()\n",
    "rf_x1_true_successes = ((rf_x1_true_predictions == y_test_X1_true) & (y_test_X1_true == 1)).sum()\n",
    "rf_x1_false_successes = ((rf_x1_false_predictions == y_test_X1_false) & (y_test_X1_false == 1)).sum()\n",
    "\n",
    "rf_segmented_successes = rf_x1_true_successes + rf_x1_false_successes\n",
    "\n",
    "print('Correctly predicted successes, all data:', rf_successes)\n",
    "print('Correctly predicted successes, X1 segmented data:', rf_segmented_successes)"
   ]
  },
  {
   "cell_type": "markdown",
   "id": "33585269",
   "metadata": {},
   "source": [
    "With segmented data, there was one more correctly predicted success compared to the model that was trained on the full dataset. Because the models had very similar performances in terms of predicting Successes, it may be worth doing a cost/benefit analysis by taking false positives into account."
   ]
  },
  {
   "cell_type": "code",
   "execution_count": 21,
   "id": "7231a91a",
   "metadata": {
    "execution": {
     "iopub.execute_input": "2022-08-07T20:01:03.866325Z",
     "iopub.status.busy": "2022-08-07T20:01:03.866231Z",
     "iopub.status.idle": "2022-08-07T20:01:03.991957Z",
     "shell.execute_reply": "2022-08-07T20:01:03.991798Z",
     "shell.execute_reply.started": "2022-08-07T20:01:03.866301Z"
    },
    "tags": []
   },
   "outputs": [
    {
     "name": "stdout",
     "output_type": "stream",
     "text": [
      "False positives, all data: 129\n",
      "False positives, X1 segmented data: 150\n"
     ]
    }
   ],
   "source": [
    "#account for false positives\n",
    "rf_fp = ((rf_predictions != y_test) & (rf_predictions == 1)).sum()\n",
    "rf_x1_true_fp = ((rf_x1_true_predictions != y_test_X1_true) & (rf_x1_true_predictions == 1)).sum()\n",
    "rf_x1_false_fp = ((rf_x1_false_predictions != y_test_X1_false) & (rf_x1_false_predictions == 1)).sum()\n",
    "\n",
    "rf_segmented_fp = rf_x1_true_fp + rf_x1_false_fp\n",
    "\n",
    "print('False positives, all data:', rf_fp)\n",
    "print('False positives, X1 segmented data:', rf_segmented_fp)"
   ]
  },
  {
   "cell_type": "code",
   "execution_count": 23,
   "id": "30aee796",
   "metadata": {
    "execution": {
     "iopub.execute_input": "2022-08-07T20:02:18.536423Z",
     "iopub.status.busy": "2022-08-07T20:02:18.536314Z",
     "iopub.status.idle": "2022-08-07T20:02:18.706058Z",
     "shell.execute_reply": "2022-08-07T20:02:18.705890Z",
     "shell.execute_reply.started": "2022-08-07T20:02:18.536397Z"
    },
    "tags": []
   },
   "outputs": [
    {
     "name": "stdout",
     "output_type": "stream",
     "text": [
      "Value generated, all data: $61.35\n",
      "Value generated, segmented data: $61.86\n"
     ]
    }
   ],
   "source": [
    "#examine the net value produced by each modeling approach\n",
    "print('Value generated, all data: ${}'.format((rf_successes * 0.24) - (rf_fp * 0.01)))\n",
    "print('Value generated, segmented data: ${}'.format((rf_segmented_successes * 0.24) - (rf_segmented_fp * 0.01)))"
   ]
  },
  {
   "cell_type": "markdown",
   "id": "a7efbb9c",
   "metadata": {},
   "source": [
    "When segmenting the data using X1, we correctly predict more successful email campaigns and also generate more value. Therefore, the segmented approach appears to be the best approach."
   ]
  },
  {
   "cell_type": "code",
   "execution_count": 64,
   "id": "b25da889",
   "metadata": {},
   "outputs": [
    {
     "data": {
      "image/png": "[encoded data removed]",
      "text/plain": [
       "<Figure size 360x720 with 1 Axes>"
      ]
     },
     "metadata": {
      "needs_background": "light"
     },
     "output_type": "display_data"
    }
   ],
   "source": [
    "#examine feature importances, X1 = True segment\n",
    "\n",
    "df_feature_importances = \\\n",
    "    pd.DataFrame(rf_model_X1_True.feature_importances_, index=X_train_X1_true.columns, columns=['importance']) \\\n",
    "        .sort_values(by='importance', ascending=False)\n",
    "\n",
    "\n",
    "plt.subplots(figsize=(5,10))\n",
    "sns.barplot(data=df_feature_importances, y=df_feature_importances.index, x='importance', color='green', orient='h');\n",
    "plt.gca().set_title('Feature Importances - X1 = True');"
   ]
  },
  {
   "cell_type": "code",
   "execution_count": 65,
   "id": "1fb2b6f7",
   "metadata": {},
   "outputs": [
    {
     "data": {
      "image/png": "[encoded data removed]",
      "text/plain": [
       "<Figure size 360x720 with 1 Axes>"
      ]
     },
     "metadata": {
      "needs_background": "light"
     },
     "output_type": "display_data"
    }
   ],
   "source": [
    "#examine feature importances, X1 = False Segment\n",
    "\n",
    "df_feature_importances = \\\n",
    "    pd.DataFrame(rf_model_X1_False.feature_importances_, index=X_train_X1_false.columns, columns=['importance']) \\\n",
    "        .sort_values(by='importance', ascending=False)\n",
    "\n",
    "\n",
    "plt.subplots(figsize=(5,10))\n",
    "sns.barplot(data=df_feature_importances, y=df_feature_importances.index, x='importance', color='green', orient='h');\n",
    "plt.gca().set_title('Feature Importances - X1 = False');"
   ]
  },
  {
   "cell_type": "markdown",
   "id": "9a3c4c41",
   "metadata": {},
   "source": [
    "**Model A significantly relies on the output of Model B - this is by far the most important feature. However, X3 also had a fairly large contribution to the model. X2 and the month of August (month_8) also showed some importance. After, the top 4 features there was significant drop off in importance. It may be worth trying to build a model with only the top 4 features. This could lead to a simple, more robust, model.**"
   ]
  },
  {
   "cell_type": "markdown",
   "id": "b7324740",
   "metadata": {},
   "source": [
    "**SHAP Analysis**"
   ]
  },
  {
   "cell_type": "code",
   "execution_count": 66,
   "id": "4cc6cbc8",
   "metadata": {},
   "outputs": [
    {
     "name": "stderr",
     "output_type": "stream",
     "text": [
      "Using 300 background data samples could cause slower run times. Consider using shap.sample(data, K) or shap.kmeans(data, K) to summarize the background as K samples.\n"
     ]
    },
    {
     "data": {
      "application/vnd.jupyter.widget-view+json": {
       "model_id": "950960b04620442db77b27445142b78c",
       "version_major": 2,
       "version_minor": 0
      },
      "text/plain": [
       "  0%|          | 0/300 [00:00<?, ?it/s]"
      ]
     },
     "metadata": {},
     "output_type": "display_data"
    }
   ],
   "source": [
    "#get SHAP values for the X1 = True segment\n",
    "\n",
    "X_test_sample = shap.sample(X_test_X1_true,300)\n",
    "explainer = shap.KernelExplainer(rf_model_X1_True.predict, X_test_sample)\n",
    "shap_values = explainer.shap_values(X_test_sample)"
   ]
  },
  {
   "cell_type": "code",
   "execution_count": 67,
   "id": "f8df5a52",
   "metadata": {},
   "outputs": [
    {
     "data": {
      "image/png": "[encoded data removed]",
      "text/plain": [
       "<Figure size 576x424.8 with 2 Axes>"
      ]
     },
     "metadata": {
      "needs_background": "light"
     },
     "output_type": "display_data"
    }
   ],
   "source": [
    "#create SHAP summary plot\n",
    "\n",
    "shap.summary_plot(shap_values, X_test_sample)"
   ]
  },
  {
   "cell_type": "code",
   "execution_count": 68,
   "id": "950cf94e",
   "metadata": {},
   "outputs": [
    {
     "name": "stderr",
     "output_type": "stream",
     "text": [
      "Using 300 background data samples could cause slower run times. Consider using shap.sample(data, K) or shap.kmeans(data, K) to summarize the background as K samples.\n"
     ]
    },
    {
     "data": {
      "application/vnd.jupyter.widget-view+json": {
       "model_id": "f544389aae5d4e668007ecfc787ba5b9",
       "version_major": 2,
       "version_minor": 0
      },
      "text/plain": [
       "  0%|          | 0/300 [00:00<?, ?it/s]"
      ]
     },
     "metadata": {},
     "output_type": "display_data"
    }
   ],
   "source": [
    "#get SHAP values for the X1 = False segment\n",
    "\n",
    "X_test_sample = shap.sample(X_test_X1_false,300)\n",
    "explainer = shap.KernelExplainer(rf_model_X1_False.predict, X_test_sample)\n",
    "shap_values = explainer.shap_values(X_test_sample)"
   ]
  },
  {
   "cell_type": "code",
   "execution_count": 69,
   "id": "4db4240e",
   "metadata": {},
   "outputs": [
    {
     "data": {
      "image/png": "[encoded data removed]",
      "text/plain": [
       "<Figure size 576x424.8 with 2 Axes>"
      ]
     },
     "metadata": {
      "needs_background": "light"
     },
     "output_type": "display_data"
    }
   ],
   "source": [
    "#create SHAP summary plot\n",
    "\n",
    "shap.summary_plot(shap_values, X_test_sample)"
   ]
  },
  {
   "cell_type": "markdown",
   "id": "75740978-00fc-46f8-951c-562c168e9aa5",
   "metadata": {
    "execution": {
     "iopub.execute_input": "2022-08-07T20:14:45.958408Z",
     "iopub.status.busy": "2022-08-07T20:14:45.958298Z",
     "iopub.status.idle": "2022-08-07T20:14:46.381470Z",
     "shell.execute_reply": "2022-08-07T20:14:46.380310Z",
     "shell.execute_reply.started": "2022-08-07T20:14:45.958379Z"
    },
    "tags": []
   },
   "source": [
    "**As the Model_B value increases, it impacts the probability of success in a positive way whereas for X2 and X3 as the value increases the probability of success decreases**"
   ]
  },
  {
   "cell_type": "markdown",
   "id": "19fc2d32",
   "metadata": {},
   "source": [
    "## Part 3"
   ]
  },
  {
   "cell_type": "code",
   "execution_count": 70,
   "id": "59412fc0",
   "metadata": {},
   "outputs": [],
   "source": [
    "#get the model B predictions\n",
    "Model_B_predictions = (X_test.Model_B > 0.5).astype(np.int64)\n",
    "\n",
    "#get the number of true positives for Model A vs. Model B\n",
    "model_A_tp = rf_segmented_successes\n",
    "model_B_tp = ((Model_B_predictions == y_test) & (y_test == 1)).sum()\n",
    "\n",
    "#calculate recall for model B\n",
    "model_B_fn = ((Model_B_predictions != y_test) & (Model_B_predictions == 0)).sum()\n",
    "model_B_recall = model_B_tp / (model_B_tp + model_B_fn)\n",
    "\n",
    "#calculate recall for model A\n",
    "rf_x1_true_fn = ((rf_x1_true_predictions != y_test_X1_true) & (rf_x1_true_predictions == 0)).sum()\n",
    "rf_x1_false_fn = ((rf_x1_false_predictions != y_test_X1_false) & (rf_x1_false_predictions == 0)).sum()\n",
    "model_A_fn = rf_x1_true_fn + rf_x1_false_fn\n",
    "\n",
    "model_A_recall = rf_successes / (rf_successes + model_A_fn)\n",
    "\n",
    "#DataFrame to hold correct prediction count\n",
    "df_model_comparison = pd.DataFrame(columns=['Model','True Positives','Recall'])\n",
    "df_model_comparison = \\\n",
    "    df_model_comparison.append(dict({'Model':'A', 'True Positives': model_A_tp, \n",
    "                                 'Recall':model_A_recall}), ignore_index=True)\n",
    "df_model_comparison = \\\n",
    "    df_model_comparison.append(dict({'Model':'B', 'True Positives': model_B_tp, \n",
    "                                 'Recall':model_B_recall}), ignore_index=True)"
   ]
  },
  {
   "cell_type": "code",
   "execution_count": 30,
   "id": "3773c604",
   "metadata": {
    "execution": {
     "iopub.execute_input": "2022-08-07T20:16:28.887877Z",
     "iopub.status.busy": "2022-08-07T20:16:28.887776Z",
     "iopub.status.idle": "2022-08-07T20:16:28.964782Z",
     "shell.execute_reply": "2022-08-07T20:16:28.964631Z",
     "shell.execute_reply.started": "2022-08-07T20:16:28.887849Z"
    },
    "tags": []
   },
   "outputs": [
    {
     "data": {
      "text/html": [
       "<div>\n",
       "<style scoped>\n",
       "    .dataframe tbody tr th:only-of-type {\n",
       "        vertical-align: middle;\n",
       "    }\n",
       "\n",
       "    .dataframe tbody tr th {\n",
       "        vertical-align: top;\n",
       "    }\n",
       "\n",
       "    .dataframe thead th {\n",
       "        text-align: right;\n",
       "    }\n",
       "</style>\n",
       "<table border=\"1\" class=\"dataframe\">\n",
       "  <thead>\n",
       "    <tr style=\"text-align: right;\">\n",
       "      <th></th>\n",
       "      <th>Model</th>\n",
       "      <th>True Positives</th>\n",
       "      <th>Recall</th>\n",
       "    </tr>\n",
       "  </thead>\n",
       "  <tbody>\n",
       "    <tr>\n",
       "      <th>0</th>\n",
       "      <td>A</td>\n",
       "      <td>264</td>\n",
       "      <td>0.942238</td>\n",
       "    </tr>\n",
       "    <tr>\n",
       "      <th>1</th>\n",
       "      <td>B</td>\n",
       "      <td>280</td>\n",
       "      <td>1.0</td>\n",
       "    </tr>\n",
       "  </tbody>\n",
       "</table>\n",
       "</div>"
      ],
      "text/plain": [
       "  Model True Positives    Recall\n",
       "0     A            264  0.942238\n",
       "1     B            280       1.0"
      ]
     },
     "execution_count": 30,
     "metadata": {},
     "output_type": "execute_result"
    }
   ],
   "source": [
    "df_model_comparison"
   ]
  },
  {
   "cell_type": "markdown",
   "id": "6870a5fb",
   "metadata": {},
   "source": [
    "**Model B outperformed Model A in terms of both True Positives and Recall**"
   ]
  },
  {
   "cell_type": "markdown",
   "id": "f364cea0",
   "metadata": {},
   "source": [
    "## Part 4"
   ]
  },
  {
   "cell_type": "code",
   "execution_count": 73,
   "id": "03b90b02",
   "metadata": {},
   "outputs": [],
   "source": [
    "#Model A (segment X1 = True) predctions and actuals\n",
    "df_x1_true_predictions = pd.DataFrame(rf_model_X1_True.predict_proba(X_test_X1_true)[:,1])\n",
    "df_x1_true_predictions.index = y_test_X1_true.index\n",
    "df_x1_true_predictions['Actual'] = y_test_X1_true\n",
    "\n",
    "#rename the predictions column\n",
    "df_x1_true_predictions.rename(columns={0:'Model_A_Prob'}, inplace=True)\n",
    "\n",
    "#Model A (segment X1 = False) predictions and actuals\n",
    "df_x1_false_predictions = pd.DataFrame(rf_model_X1_False.predict_proba(X_test_X1_false)[:,1])\n",
    "df_x1_false_predictions.index = y_test_X1_false.index\n",
    "df_x1_false_predictions['Actual'] = y_test_X1_false\n",
    "\n",
    "#rename the predictions column\n",
    "df_x1_false_predictions.rename(columns={0:'Model_A_Prob'}, inplace=True)\n",
    "\n",
    "#stack the dataframes into a single set of of predictions/actuals for Model A\n",
    "df_actual_pred = pd.concat([df_x1_true_predictions, df_x1_false_predictions])\n",
    "\n",
    "#add the model B predictions\n",
    "df_actual_pred = pd.concat([df_actual_pred, X_test.Model_B], axis=1)\n",
    "df_actual_pred = df_actual_pred.rename(columns={'Model_B':'Model_B_Prob'})"
   ]
  },
  {
   "cell_type": "markdown",
   "id": "dfd864b3",
   "metadata": {},
   "source": [
    "## Model A"
   ]
  },
  {
   "cell_type": "code",
   "execution_count": 74,
   "id": "fbc67f26",
   "metadata": {},
   "outputs": [],
   "source": [
    "#since Model A predicted a lot of 0s we cannot use qcut on the 'Model_A_Prob' column,\n",
    "#therefore we can sort the dataframe and use rank values\n",
    "df_actual_pred = df_actual_pred.sort_values(by='Model_A_Prob')\n",
    "df_actual_pred['Rank_A'] = range(1,len(df_actual_pred) + 1)\n",
    "\n",
    "#cut the dataframe into 10 equal sized buckets (based on Model A Predictions)\n",
    "df_actual_pred['Bin'] = pd.qcut(df_actual_pred['Rank_A'],10)\n",
    "\n",
    "#group the data in order to inspect profit/loss for each bin/group\n",
    "df_grouped_data_A = df_actual_pred.groupby('Bin').agg({'Actual':'sum', 'Model_A_Prob':'count'}) \\\n",
    "    .rename(columns={'Model_A_Prob':'Count', 'Actual':'Successes'})\n",
    "\n",
    "#determine the cost of the emails and the value provided by the emails for each group/bin\n",
    "df_grouped_data_A['Cost'] = df_grouped_data_A['Count'] * 0.01\n",
    "df_grouped_data_A['Value'] = df_grouped_data_A['Successes'] * 0.25\n",
    "\n",
    "#determine profit or loss for each group/bin\n",
    "df_grouped_data_A['P/L'] = df_grouped_data_A['Value'] - df_grouped_data_A['Cost']\n",
    "\n",
    "df_actual_pred.drop(columns=['Rank_A','Bin'], inplace=True)"
   ]
  },
  {
   "cell_type": "code",
   "execution_count": 75,
   "id": "fdc80914",
   "metadata": {},
   "outputs": [
    {
     "data": {
      "image/png": "[encoded data removed]",
      "text/plain": [
       "<Figure size 864x288 with 1 Axes>"
      ]
     },
     "metadata": {
      "needs_background": "light"
     },
     "output_type": "display_data"
    }
   ],
   "source": [
    "#plot the profit/loss by bin/group for Model A\n",
    "plt.subplots(figsize=(12,4))\n",
    "sns.barplot(data=df_grouped_data_A, x=df_grouped_data_A.index, y='P/L');\n",
    "plt.gca().set_title('Profit/Loss by Predicted Success Group - Model A')\n",
    "for label in plt.gca().get_xticklabels():\n",
    "        label.set_rotation(45) \n",
    "        \n",
    "#line to separate profit vs. loss\n",
    "plt.gca().axhline(0, linestyle='--', color='red');"
   ]
  },
  {
   "cell_type": "markdown",
   "id": "2830618e",
   "metadata": {},
   "source": [
    "## Model B"
   ]
  },
  {
   "cell_type": "code",
   "execution_count": 76,
   "id": "91624d3a",
   "metadata": {},
   "outputs": [],
   "source": [
    "#cut the dataframe into 10 equal sized buckets (based on Model A Predictions)\n",
    "df_actual_pred['Bin'] = pd.qcut(df_actual_pred['Model_B_Prob'],10)\n",
    "\n",
    "#group the data in order to inspect profit/loss for each bin/group\n",
    "df_grouped_data_B = df_actual_pred.groupby('Bin').agg({'Actual':'sum', 'Model_B_Prob':'count'}) \\\n",
    "    .rename(columns={'Model_B_Prob':'Count', 'Actual':'Successes'})\n",
    "\n",
    "#determine the cost of the emails and the value provided by the emails for each group/bin\n",
    "df_grouped_data_B['Cost'] = df_grouped_data_B['Count'] * 0.01\n",
    "df_grouped_data_B['Value'] = df_grouped_data_B['Successes'] * 0.25\n",
    "\n",
    "#determine profit or loss for each group/bin\n",
    "df_grouped_data_B['P/L'] = df_grouped_data_B['Value'] - df_grouped_data_B['Cost']\n",
    "\n",
    "df_actual_pred.drop(columns='Bin', inplace=True)"
   ]
  },
  {
   "cell_type": "code",
   "execution_count": 77,
   "id": "7ad8c414",
   "metadata": {},
   "outputs": [
    {
     "data": {
      "image/png": "[encoded data removed]",
      "text/plain": [
       "<Figure size 864x288 with 1 Axes>"
      ]
     },
     "metadata": {
      "needs_background": "light"
     },
     "output_type": "display_data"
    }
   ],
   "source": [
    "#plot the profit/loss by bin/group for Model B\n",
    "plt.subplots(figsize=(12,4))\n",
    "sns.barplot(data=df_grouped_data_B, x=df_grouped_data_B.index, y='P/L');\n",
    "plt.gca().set_title('Profit/Loss by Predicted Success Group - Model B')\n",
    "for label in plt.gca().get_xticklabels():\n",
    "        label.set_rotation(45) \n",
    "        \n",
    "#line to separate profit vs. loss\n",
    "plt.gca().axhline(0, linestyle='--', color='red');"
   ]
  },
  {
   "cell_type": "markdown",
   "id": "4504ee83",
   "metadata": {},
   "source": [
    "As expected, the groups with the highest predicted values (most likely to be a Success) provide the most value for both Model A and Model B. With both models, roughly the top 30% of predicted probabilities result in profitable email campaigns. We can now look at the profit associated with selecting the top 30% of predictions from each model."
   ]
  },
  {
   "cell_type": "markdown",
   "id": "7c17d62f",
   "metadata": {},
   "source": [
    "## Model A vs. Model B"
   ]
  },
  {
   "cell_type": "code",
   "execution_count": 35,
   "id": "edc30e2a",
   "metadata": {
    "execution": {
     "iopub.execute_input": "2022-08-07T20:21:38.521108Z",
     "iopub.status.busy": "2022-08-07T20:21:38.521000Z",
     "iopub.status.idle": "2022-08-07T20:21:38.607988Z",
     "shell.execute_reply": "2022-08-07T20:21:38.607855Z",
     "shell.execute_reply.started": "2022-08-07T20:21:38.521079Z"
    },
    "tags": []
   },
   "outputs": [
    {
     "data": {
      "text/html": [
       "<div>\n",
       "<style scoped>\n",
       "    .dataframe tbody tr th:only-of-type {\n",
       "        vertical-align: middle;\n",
       "    }\n",
       "\n",
       "    .dataframe tbody tr th {\n",
       "        vertical-align: top;\n",
       "    }\n",
       "\n",
       "    .dataframe thead th {\n",
       "        text-align: right;\n",
       "    }\n",
       "</style>\n",
       "<table border=\"1\" class=\"dataframe\">\n",
       "  <thead>\n",
       "    <tr style=\"text-align: right;\">\n",
       "      <th></th>\n",
       "      <th>Successes</th>\n",
       "      <th>Count</th>\n",
       "      <th>Cost</th>\n",
       "      <th>Value</th>\n",
       "      <th>P/L</th>\n",
       "    </tr>\n",
       "    <tr>\n",
       "      <th>Bin</th>\n",
       "      <th></th>\n",
       "      <th></th>\n",
       "      <th></th>\n",
       "      <th></th>\n",
       "      <th></th>\n",
       "    </tr>\n",
       "  </thead>\n",
       "  <tbody>\n",
       "    <tr>\n",
       "      <th>(0.999, 180.9]</th>\n",
       "      <td>1</td>\n",
       "      <td>180</td>\n",
       "      <td>1.8</td>\n",
       "      <td>0.25</td>\n",
       "      <td>-1.55</td>\n",
       "    </tr>\n",
       "    <tr>\n",
       "      <th>(180.9, 360.8]</th>\n",
       "      <td>0</td>\n",
       "      <td>180</td>\n",
       "      <td>1.8</td>\n",
       "      <td>0.00</td>\n",
       "      <td>-1.80</td>\n",
       "    </tr>\n",
       "    <tr>\n",
       "      <th>(360.8, 540.7]</th>\n",
       "      <td>0</td>\n",
       "      <td>180</td>\n",
       "      <td>1.8</td>\n",
       "      <td>0.00</td>\n",
       "      <td>-1.80</td>\n",
       "    </tr>\n",
       "    <tr>\n",
       "      <th>(540.7, 720.6]</th>\n",
       "      <td>0</td>\n",
       "      <td>180</td>\n",
       "      <td>1.8</td>\n",
       "      <td>0.00</td>\n",
       "      <td>-1.80</td>\n",
       "    </tr>\n",
       "    <tr>\n",
       "      <th>(720.6, 900.5]</th>\n",
       "      <td>1</td>\n",
       "      <td>180</td>\n",
       "      <td>1.8</td>\n",
       "      <td>0.25</td>\n",
       "      <td>-1.55</td>\n",
       "    </tr>\n",
       "    <tr>\n",
       "      <th>(900.5, 1080.4]</th>\n",
       "      <td>0</td>\n",
       "      <td>180</td>\n",
       "      <td>1.8</td>\n",
       "      <td>0.00</td>\n",
       "      <td>-1.80</td>\n",
       "    </tr>\n",
       "    <tr>\n",
       "      <th>(1080.4, 1260.3]</th>\n",
       "      <td>3</td>\n",
       "      <td>180</td>\n",
       "      <td>1.8</td>\n",
       "      <td>0.75</td>\n",
       "      <td>-1.05</td>\n",
       "    </tr>\n",
       "    <tr>\n",
       "      <th>(1260.3, 1440.2]</th>\n",
       "      <td>18</td>\n",
       "      <td>180</td>\n",
       "      <td>1.8</td>\n",
       "      <td>4.50</td>\n",
       "      <td>2.70</td>\n",
       "    </tr>\n",
       "    <tr>\n",
       "      <th>(1440.2, 1620.1]</th>\n",
       "      <td>91</td>\n",
       "      <td>180</td>\n",
       "      <td>1.8</td>\n",
       "      <td>22.75</td>\n",
       "      <td>20.95</td>\n",
       "    </tr>\n",
       "    <tr>\n",
       "      <th>(1620.1, 1800.0]</th>\n",
       "      <td>166</td>\n",
       "      <td>180</td>\n",
       "      <td>1.8</td>\n",
       "      <td>41.50</td>\n",
       "      <td>39.70</td>\n",
       "    </tr>\n",
       "  </tbody>\n",
       "</table>\n",
       "</div>"
      ],
      "text/plain": [
       "                  Successes  Count  Cost  Value    P/L\n",
       "Bin                                                   \n",
       "(0.999, 180.9]            1    180   1.8   0.25  -1.55\n",
       "(180.9, 360.8]            0    180   1.8   0.00  -1.80\n",
       "(360.8, 540.7]            0    180   1.8   0.00  -1.80\n",
       "(540.7, 720.6]            0    180   1.8   0.00  -1.80\n",
       "(720.6, 900.5]            1    180   1.8   0.25  -1.55\n",
       "(900.5, 1080.4]           0    180   1.8   0.00  -1.80\n",
       "(1080.4, 1260.3]          3    180   1.8   0.75  -1.05\n",
       "(1260.3, 1440.2]         18    180   1.8   4.50   2.70\n",
       "(1440.2, 1620.1]         91    180   1.8  22.75  20.95\n",
       "(1620.1, 1800.0]        166    180   1.8  41.50  39.70"
      ]
     },
     "execution_count": 35,
     "metadata": {},
     "output_type": "execute_result"
    }
   ],
   "source": [
    "df_grouped_data_A"
   ]
  },
  {
   "cell_type": "code",
   "execution_count": 79,
   "id": "36dbf1df",
   "metadata": {},
   "outputs": [
    {
     "data": {
      "text/html": [
       "<div>\n",
       "<style scoped>\n",
       "    .dataframe tbody tr th:only-of-type {\n",
       "        vertical-align: middle;\n",
       "    }\n",
       "\n",
       "    .dataframe tbody tr th {\n",
       "        vertical-align: top;\n",
       "    }\n",
       "\n",
       "    .dataframe thead th {\n",
       "        text-align: right;\n",
       "    }\n",
       "</style>\n",
       "<table border=\"1\" class=\"dataframe\">\n",
       "  <thead>\n",
       "    <tr style=\"text-align: right;\">\n",
       "      <th></th>\n",
       "      <th>Successes</th>\n",
       "      <th>Count</th>\n",
       "      <th>Cost</th>\n",
       "      <th>Value</th>\n",
       "      <th>P/L</th>\n",
       "    </tr>\n",
       "    <tr>\n",
       "      <th>Bin</th>\n",
       "      <th></th>\n",
       "      <th></th>\n",
       "      <th></th>\n",
       "      <th></th>\n",
       "      <th></th>\n",
       "    </tr>\n",
       "  </thead>\n",
       "  <tbody>\n",
       "    <tr>\n",
       "      <th>(0.0219, 0.21]</th>\n",
       "      <td>0</td>\n",
       "      <td>180</td>\n",
       "      <td>1.8</td>\n",
       "      <td>0.00</td>\n",
       "      <td>-1.80</td>\n",
       "    </tr>\n",
       "    <tr>\n",
       "      <th>(0.21, 0.291]</th>\n",
       "      <td>0</td>\n",
       "      <td>180</td>\n",
       "      <td>1.8</td>\n",
       "      <td>0.00</td>\n",
       "      <td>-1.80</td>\n",
       "    </tr>\n",
       "    <tr>\n",
       "      <th>(0.291, 0.358]</th>\n",
       "      <td>0</td>\n",
       "      <td>180</td>\n",
       "      <td>1.8</td>\n",
       "      <td>0.00</td>\n",
       "      <td>-1.80</td>\n",
       "    </tr>\n",
       "    <tr>\n",
       "      <th>(0.358, 0.42]</th>\n",
       "      <td>0</td>\n",
       "      <td>180</td>\n",
       "      <td>1.8</td>\n",
       "      <td>0.00</td>\n",
       "      <td>-1.80</td>\n",
       "    </tr>\n",
       "    <tr>\n",
       "      <th>(0.42, 0.483]</th>\n",
       "      <td>0</td>\n",
       "      <td>180</td>\n",
       "      <td>1.8</td>\n",
       "      <td>0.00</td>\n",
       "      <td>-1.80</td>\n",
       "    </tr>\n",
       "    <tr>\n",
       "      <th>(0.483, 0.547]</th>\n",
       "      <td>0</td>\n",
       "      <td>180</td>\n",
       "      <td>1.8</td>\n",
       "      <td>0.00</td>\n",
       "      <td>-1.80</td>\n",
       "    </tr>\n",
       "    <tr>\n",
       "      <th>(0.547, 0.618]</th>\n",
       "      <td>4</td>\n",
       "      <td>180</td>\n",
       "      <td>1.8</td>\n",
       "      <td>1.00</td>\n",
       "      <td>-0.80</td>\n",
       "    </tr>\n",
       "    <tr>\n",
       "      <th>(0.618, 0.696]</th>\n",
       "      <td>18</td>\n",
       "      <td>180</td>\n",
       "      <td>1.8</td>\n",
       "      <td>4.50</td>\n",
       "      <td>2.70</td>\n",
       "    </tr>\n",
       "    <tr>\n",
       "      <th>(0.696, 0.788]</th>\n",
       "      <td>91</td>\n",
       "      <td>180</td>\n",
       "      <td>1.8</td>\n",
       "      <td>22.75</td>\n",
       "      <td>20.95</td>\n",
       "    </tr>\n",
       "    <tr>\n",
       "      <th>(0.788, 0.971]</th>\n",
       "      <td>167</td>\n",
       "      <td>180</td>\n",
       "      <td>1.8</td>\n",
       "      <td>41.75</td>\n",
       "      <td>39.95</td>\n",
       "    </tr>\n",
       "  </tbody>\n",
       "</table>\n",
       "</div>"
      ],
      "text/plain": [
       "                Successes  Count  Cost  Value    P/L\n",
       "Bin                                                 \n",
       "(0.0219, 0.21]          0    180   1.8   0.00  -1.80\n",
       "(0.21, 0.291]           0    180   1.8   0.00  -1.80\n",
       "(0.291, 0.358]          0    180   1.8   0.00  -1.80\n",
       "(0.358, 0.42]           0    180   1.8   0.00  -1.80\n",
       "(0.42, 0.483]           0    180   1.8   0.00  -1.80\n",
       "(0.483, 0.547]          0    180   1.8   0.00  -1.80\n",
       "(0.547, 0.618]          4    180   1.8   1.00  -0.80\n",
       "(0.618, 0.696]         18    180   1.8   4.50   2.70\n",
       "(0.696, 0.788]         91    180   1.8  22.75  20.95\n",
       "(0.788, 0.971]        167    180   1.8  41.75  39.95"
      ]
     },
     "execution_count": 79,
     "metadata": {},
     "output_type": "execute_result"
    }
   ],
   "source": [
    "df_grouped_data_B"
   ]
  },
  {
   "cell_type": "code",
   "execution_count": 36,
   "id": "a2809c23",
   "metadata": {
    "execution": {
     "iopub.execute_input": "2022-08-07T20:21:53.828197Z",
     "iopub.status.busy": "2022-08-07T20:21:53.828106Z",
     "iopub.status.idle": "2022-08-07T20:21:53.911486Z",
     "shell.execute_reply": "2022-08-07T20:21:53.911313Z",
     "shell.execute_reply.started": "2022-08-07T20:21:53.828170Z"
    },
    "tags": []
   },
   "outputs": [
    {
     "name": "stdout",
     "output_type": "stream",
     "text": [
      "If we select the top 30% of predictions from Model A, the profit will be $63.35\n"
     ]
    }
   ],
   "source": [
    "profit_A = df_grouped_data_A[df_grouped_data_A['P/L'] > 0]['P/L'].sum()\n",
    "print('If we select the top 30% of predictions from Model A, the profit will be ${}'.format(profit_A))"
   ]
  },
  {
   "cell_type": "code",
   "execution_count": 81,
   "id": "d7ed20f2",
   "metadata": {},
   "outputs": [
    {
     "name": "stdout",
     "output_type": "stream",
     "text": [
      "If we select the top 30% of predictions from Model B, the profit will be $63.6\n"
     ]
    }
   ],
   "source": [
    "profit_B = df_grouped_data_B[df_grouped_data_B['P/L'] > 0]['P/L'].sum()\n",
    "print('If we select the top 30% of predictions from Model B, the profit will be ${}'.format(profit_B))"
   ]
  },
  {
   "cell_type": "markdown",
   "id": "8612c9b9",
   "metadata": {},
   "source": [
    "Model B actually had slighly higher profit. Therefore, we should stick with Model B as model A does not provide any additional value. The simplicity associated with Model B will likely result in a more robust model. With Model_B we should go forward with email campaigns where the predicted probability is 0.618 or higher."
   ]
  }
 ],
 "metadata": {
  "kernelspec": {
   "display_name": "Python 3",
   "language": "python",
   "name": "python3"
  },
  "language_info": {
   "file_extension": ".py",
   "mimetype": "text/x-python",
   "name": "python",
   "version": "3.9.12"
  }
 },
 "nbformat": 4,
 "nbformat_minor": 5
}
