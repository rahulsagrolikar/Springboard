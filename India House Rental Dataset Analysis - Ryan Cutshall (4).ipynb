{
 "cells": [
  {
   "cell_type": "markdown",
   "id": "7d4fd405",
   "metadata": {},
   "source": [
    "First, I import all of the necessary libraries in order to perform analytic operations on the housing data I am using for this assignment"
   ]
  },
  {
   "cell_type": "code",
   "execution_count": 17,
   "id": "f4ab3435",
   "metadata": {},
   "outputs": [],
   "source": [
    "import pandas as pd\n",
    "import matplotlib.pyplot as plt\n",
    "import seaborn as sns\n",
    "import numpy as np\n",
    "import statsmodels.api as sm"
   ]
  },
  {
   "cell_type": "markdown",
   "id": "793f4faa",
   "metadata": {},
   "source": [
    "Next, I use the pandas function pd.read_csv in order to read the comma-separated values dataset \"House_Rent_Dataset.csv\""
   ]
  },
  {
   "cell_type": "code",
   "execution_count": 18,
   "id": "07f737d3",
   "metadata": {},
   "outputs": [],
   "source": [
    "HRData = pd.read_csv(\"House_Rent_Dataset.csv\")"
   ]
  },
  {
   "cell_type": "markdown",
   "id": "9bbde7dd",
   "metadata": {},
   "source": [
    "Then the .info() function in order to review the data at a high level. This also helps with the rest of the formulas in order to see all available columns in one place"
   ]
  },
  {
   "cell_type": "code",
   "execution_count": 19,
   "id": "6ca1c11d",
   "metadata": {},
   "outputs": [
    {
     "name": "stdout",
     "output_type": "stream",
     "text": [
      "<class 'pandas.core.frame.DataFrame'>\n",
      "RangeIndex: 4746 entries, 0 to 4745\n",
      "Data columns (total 13 columns):\n",
      " #   Column             Non-Null Count  Dtype \n",
      "---  ------             --------------  ----- \n",
      " 0   id                 4746 non-null   int64 \n",
      " 1   Posted On          4746 non-null   object\n",
      " 2   BHK                4746 non-null   int64 \n",
      " 3   Rent               4746 non-null   int64 \n",
      " 4   Size               4746 non-null   int64 \n",
      " 5   Floor              4746 non-null   object\n",
      " 6   Area Type          4746 non-null   object\n",
      " 7   Area Locality      4746 non-null   object\n",
      " 8   City               4746 non-null   object\n",
      " 9   Furnishing Status  4746 non-null   object\n",
      " 10  Tenant Preferred   4746 non-null   object\n",
      " 11  Bathroom           4746 non-null   int64 \n",
      " 12  Point of Contact   4746 non-null   object\n",
      "dtypes: int64(5), object(8)\n",
      "memory usage: 482.1+ KB\n"
     ]
    }
   ],
   "source": [
    "HRData.info()"
   ]
  },
  {
   "cell_type": "markdown",
   "id": "2e20fadc",
   "metadata": {},
   "source": [
    "I start my analysis by looking at the data broken down by City. We get a count of records as well as the percentage of data points from each city that make up the whole set. Then I graph the average rental rate in each city to give me an idea and visual into where the different classes of neighborhoods are in India. "
   ]
  },
  {
   "cell_type": "code",
   "execution_count": 20,
   "id": "4cfcf4c6",
   "metadata": {},
   "outputs": [
    {
     "data": {
      "text/plain": [
       "City\n",
       "Bangalore    886\n",
       "Chennai      891\n",
       "Delhi        605\n",
       "Hyderabad    868\n",
       "Kolkata      524\n",
       "Mumbai       972\n",
       "Name: id, dtype: int64"
      ]
     },
     "execution_count": 20,
     "metadata": {},
     "output_type": "execute_result"
    }
   ],
   "source": [
    "HRData.groupby(['City'])['id'].count()"
   ]
  },
  {
   "cell_type": "code",
   "execution_count": 21,
   "id": "77ebf9ee",
   "metadata": {},
   "outputs": [
    {
     "data": {
      "text/plain": [
       "Mumbai       0.204804\n",
       "Chennai      0.187737\n",
       "Bangalore    0.186684\n",
       "Hyderabad    0.182891\n",
       "Delhi        0.127476\n",
       "Kolkata      0.110409\n",
       "Name: City, dtype: float64"
      ]
     },
     "execution_count": 21,
     "metadata": {},
     "output_type": "execute_result"
    }
   ],
   "source": [
    "HRData['City'].value_counts(normalize=True)"
   ]
  },
  {
   "cell_type": "code",
   "execution_count": 22,
   "id": "df1e34dd",
   "metadata": {},
   "outputs": [
    {
     "data": {
      "text/plain": [
       "Text(0.5, 1.0, 'Average Rental Rate by City')"
      ]
     },
     "execution_count": 22,
     "metadata": {},
     "output_type": "execute_result"
    },
    {
     "data": {
      "image/png": "[encoded data removed]",
      "text/plain": [
       "<Figure size 432x288 with 1 Axes>"
      ]
     },
     "metadata": {
      "needs_background": "light"
     },
     "output_type": "display_data"
    }
   ],
   "source": [
    "HRData.groupby(['City'])['Rent'].mean().plot(kind=\"bar\")\n",
    "plt.xlabel(\"City\")\n",
    "plt.ylabel(\"AVG Rental Rate\")\n",
    "plt.title('Average Rental Rate by City', size=12)"
   ]
  },
  {
   "cell_type": "markdown",
   "id": "c5657475",
   "metadata": {},
   "source": [
    "I perform the same 3 functions as above on the Tenant Preferred column in order to understand more about the demographic of individuals in the dataset. This tells us who the owners are looking for when leasing their properties as well as who is making up the majority of the rental market in India."
   ]
  },
  {
   "cell_type": "code",
   "execution_count": 23,
   "id": "73b2610a",
   "metadata": {},
   "outputs": [
    {
     "data": {
      "text/plain": [
       "Tenant Preferred\n",
       "Bachelors            830\n",
       "Bachelors/Family    3444\n",
       "Family               472\n",
       "Name: id, dtype: int64"
      ]
     },
     "execution_count": 23,
     "metadata": {},
     "output_type": "execute_result"
    }
   ],
   "source": [
    "HRData.groupby(['Tenant Preferred'])['id'].count()"
   ]
  },
  {
   "cell_type": "code",
   "execution_count": 24,
   "id": "8a208f88",
   "metadata": {},
   "outputs": [
    {
     "data": {
      "text/plain": [
       "Bachelors/Family    0.725664\n",
       "Bachelors           0.174884\n",
       "Family              0.099452\n",
       "Name: Tenant Preferred, dtype: float64"
      ]
     },
     "execution_count": 24,
     "metadata": {},
     "output_type": "execute_result"
    }
   ],
   "source": [
    "HRData['Tenant Preferred'].value_counts(normalize=True)"
   ]
  },
  {
   "cell_type": "code",
   "execution_count": 25,
   "id": "7a8f393d",
   "metadata": {},
   "outputs": [
    {
     "data": {
      "text/plain": [
       "Text(0.5, 1.0, 'Average Rental Rate by Tenant Type')"
      ]
     },
     "execution_count": 25,
     "metadata": {},
     "output_type": "execute_result"
    },
    {
     "data": {
      "image/png": "[encoded data removed]",
      "text/plain": [
       "<Figure size 432x288 with 1 Axes>"
      ]
     },
     "metadata": {
      "needs_background": "light"
     },
     "output_type": "display_data"
    }
   ],
   "source": [
    "HRData.groupby(['Tenant Preferred'])['Rent'].mean().plot(kind=\"bar\")\n",
    "plt.xlabel(\"Tenant Type\")\n",
    "plt.ylabel(\"AVG Rental Rate\")\n",
    "plt.title('Average Rental Rate by Tenant Type', size=12)"
   ]
  },
  {
   "cell_type": "markdown",
   "id": "7bfd0b55",
   "metadata": {},
   "source": [
    "Next we run a compairison of rental rates vs. size of the units. This gives us a great macro visual of the data in order to identify where the majorit of the rental properties fall. We see a large group of data ranging up to 3000 sq. ft."
   ]
  },
  {
   "cell_type": "code",
   "execution_count": 26,
   "id": "ece16e7e",
   "metadata": {},
   "outputs": [
    {
     "data": {
      "image/png": "[encoded data removed]",
      "text/plain": [
       "<Figure size 432x288 with 1 Axes>"
      ]
     },
     "metadata": {
      "needs_background": "light"
     },
     "output_type": "display_data"
    }
   ],
   "source": [
    "fig, ax = plt.subplots()\n",
    "ax.scatter(HRData['Size'], HRData['Rent'], c=HRData.index)\n",
    "ax.set_xlabel('Size (Sq. Ft.)')\n",
    "ax.set_ylabel('Rent')\n",
    "plt.show()"
   ]
  },
  {
   "cell_type": "markdown",
   "id": "e540440a",
   "metadata": {},
   "source": [
    "The next step is to run a regression model on a One-Hot Encoded format of the House_Rent_Dataset. We once again use the pandas function pd.read_csv to pull in the dataset and .info() in order to get the information we will need to input in the regression formula. I classify the dependent variable as Rent and all other encoded values as the independent variables in the formula. I use statsmodel.api in order to output the regression model into a readable format. "
   ]
  },
  {
   "cell_type": "code",
   "execution_count": 27,
   "id": "66bdfb26",
   "metadata": {},
   "outputs": [],
   "source": [
    "HROneHotData = pd.read_csv(\"House_Rent_Dataset - One_Hot_Encoded.csv\")"
   ]
  },
  {
   "cell_type": "code",
   "execution_count": 28,
   "id": "f5ad45c3",
   "metadata": {},
   "outputs": [
    {
     "name": "stdout",
     "output_type": "stream",
     "text": [
      "<class 'pandas.core.frame.DataFrame'>\n",
      "RangeIndex: 4746 entries, 0 to 4745\n",
      "Data columns (total 18 columns):\n",
      " #   Column            Non-Null Count  Dtype\n",
      "---  ------            --------------  -----\n",
      " 0   BHK               4746 non-null   int64\n",
      " 1   Rent              4746 non-null   int64\n",
      " 2   Size              4746 non-null   int64\n",
      " 3   Floor Level       4746 non-null   int64\n",
      " 4   Building Levels   4746 non-null   int64\n",
      " 5   Delhi             4746 non-null   int64\n",
      " 6   Mumbai            4746 non-null   int64\n",
      " 7   Bangalore         4746 non-null   int64\n",
      " 8   Hyderabad         4746 non-null   int64\n",
      " 9   Chennai           4746 non-null   int64\n",
      " 10  Kolkata           4746 non-null   int64\n",
      " 11  Unfurnished       4746 non-null   int64\n",
      " 12  Semi-Furnished    4746 non-null   int64\n",
      " 13  Furnished         4746 non-null   int64\n",
      " 14  Bachelors/Family  4746 non-null   int64\n",
      " 15  Family            4746 non-null   int64\n",
      " 16  Bachelors         4746 non-null   int64\n",
      " 17  Bathroom          4746 non-null   int64\n",
      "dtypes: int64(18)\n",
      "memory usage: 667.5 KB\n"
     ]
    }
   ],
   "source": [
    "HROneHotData.info()"
   ]
  },
  {
   "cell_type": "markdown",
   "id": "86463c24",
   "metadata": {},
   "source": [
    "I run a regression model on all of the independent variables in the One-Hot dataset in order to evaluate all of the variables in the equation. "
   ]
  },
  {
   "cell_type": "code",
   "execution_count": 29,
   "id": "514bdf3e",
   "metadata": {},
   "outputs": [
    {
     "name": "stdout",
     "output_type": "stream",
     "text": [
      "                            OLS Regression Results                            \n",
      "==============================================================================\n",
      "Dep. Variable:                   Rent   R-squared:                       0.321\n",
      "Model:                            OLS   Adj. R-squared:                  0.319\n",
      "Method:                 Least Squares   F-statistic:                     159.7\n",
      "Date:                Fri, 02 Sep 2022   Prob (F-statistic):               0.00\n",
      "Time:                        13:00:51   Log-Likelihood:                -59283.\n",
      "No. Observations:                4746   AIC:                         1.186e+05\n",
      "Df Residuals:                    4731   BIC:                         1.187e+05\n",
      "Df Model:                          14                                         \n",
      "Covariance Type:            nonrobust                                         \n",
      "====================================================================================\n",
      "                       coef    std err          t      P>|t|      [0.025      0.975]\n",
      "------------------------------------------------------------------------------------\n",
      "const            -1.883e+04   1636.022    -11.509      0.000    -2.2e+04   -1.56e+04\n",
      "BHK               2367.9773   2022.618      1.171      0.242   -1597.296    6333.251\n",
      "Size                40.8230      2.444     16.701      0.000      36.031      45.615\n",
      "Floor Level        880.9818    327.603      2.689      0.007     238.728    1523.236\n",
      "Building Levels    347.1641    211.077      1.645      0.100     -66.644     760.972\n",
      "Delhi             2281.2273   2452.806      0.930      0.352   -2527.414    7089.869\n",
      "Mumbai            3.876e+04   2564.923     15.111      0.000    3.37e+04    4.38e+04\n",
      "Bangalore        -8927.7927   2077.613     -4.297      0.000    -1.3e+04   -4854.705\n",
      "Hyderabad        -2.572e+04   2123.840    -12.111      0.000   -2.99e+04   -2.16e+04\n",
      "Chennai          -1.563e+04   2064.524     -7.573      0.000   -1.97e+04   -1.16e+04\n",
      "Kolkata          -9585.0636   2670.052     -3.590      0.000   -1.48e+04   -4350.519\n",
      "Unfurnished      -9003.4721   1415.002     -6.363      0.000   -1.18e+04   -6229.409\n",
      "Semi-Furnished   -9172.0664   1452.632     -6.314      0.000    -1.2e+04   -6324.231\n",
      "Furnished         -653.5654   2004.803     -0.326      0.744   -4583.912    3276.781\n",
      "Bachelors/Family -4164.3935   1342.842     -3.101      0.002   -6796.988   -1531.799\n",
      "Family           -1.256e+04   2410.936     -5.212      0.000   -1.73e+04   -7838.165\n",
      "Bachelors        -2099.9892   1935.367     -1.085      0.278   -5894.209    1694.231\n",
      "Bathroom          9373.3463   2105.442      4.452      0.000    5245.700    1.35e+04\n",
      "==============================================================================\n",
      "Omnibus:                    12897.333   Durbin-Watson:                   1.939\n",
      "Prob(Omnibus):                  0.000   Jarque-Bera (JB):        541821587.198\n",
      "Skew:                          33.051   Prob(JB):                         0.00\n",
      "Kurtosis:                    1656.954   Cond. No.                     3.48e+18\n",
      "==============================================================================\n",
      "\n",
      "Notes:\n",
      "[1] Standard Errors assume that the covariance matrix of the errors is correctly specified.\n",
      "[2] The smallest eigenvalue is 5.23e-28. This might indicate that there are\n",
      "strong multicollinearity problems or that the design matrix is singular.\n"
     ]
    }
   ],
   "source": [
    "dependent_var = HROneHotData[['Rent']]\n",
    "independent_vars = HROneHotData[['BHK', 'Size', 'Floor Level', 'Building Levels', 'Delhi', 'Mumbai', 'Bangalore', 'Hyderabad', 'Chennai', 'Kolkata', 'Unfurnished', 'Semi-Furnished', 'Furnished', 'Bachelors/Family', 'Family', 'Bachelors', 'Bathroom']]\n",
    "independent_vars_c = sm.add_constant(independent_vars)\n",
    "regression_model = sm.OLS(dependent_var, independent_vars_c).fit()\n",
    "output = regression_model.summary()\n",
    "print(output)"
   ]
  },
  {
   "cell_type": "markdown",
   "id": "e6280d35",
   "metadata": {},
   "source": [
    "I am left with 12 independent variables with statistical significance (p-value) of less than 0.05. 4 of these variables have a positive correlation and the remaining 8 have a negative correlation to rental rates in India."
   ]
  },
  {
   "cell_type": "code",
   "execution_count": 30,
   "id": "c77e59a8",
   "metadata": {},
   "outputs": [
    {
     "name": "stdout",
     "output_type": "stream",
     "text": [
      "                            OLS Regression Results                            \n",
      "==============================================================================\n",
      "Dep. Variable:                   Rent   R-squared:                       0.320\n",
      "Model:                            OLS   Adj. R-squared:                  0.319\n",
      "Method:                 Least Squares   F-statistic:                     202.7\n",
      "Date:                Fri, 02 Sep 2022   Prob (F-statistic):               0.00\n",
      "Time:                        13:00:51   Log-Likelihood:                -59286.\n",
      "No. Observations:                4746   AIC:                         1.186e+05\n",
      "Df Residuals:                    4734   BIC:                         1.187e+05\n",
      "Df Model:                          11                                         \n",
      "Covariance Type:            nonrobust                                         \n",
      "==================================================================================\n",
      "                     coef    std err          t      P>|t|      [0.025      0.975]\n",
      "----------------------------------------------------------------------------------\n",
      "const           -1.95e+04   4143.404     -4.706      0.000   -2.76e+04   -1.14e+04\n",
      "Size              41.8585      2.340     17.888      0.000      37.271      46.446\n",
      "Floor Level     1318.0090    200.246      6.582      0.000     925.434    1710.583\n",
      "Mumbai          3.719e+04   3683.192     10.096      0.000       3e+04    4.44e+04\n",
      "Bangalore      -1.185e+04   3466.354     -3.419      0.001   -1.86e+04   -5054.631\n",
      "Hyderabad      -2.882e+04   3486.619     -8.267      0.000   -3.57e+04    -2.2e+04\n",
      "Chennai        -1.863e+04   3441.324     -5.415      0.000   -2.54e+04   -1.19e+04\n",
      "Kolkata         -1.18e+04   3940.162     -2.994      0.003   -1.95e+04   -4071.451\n",
      "Unfurnished    -8000.5733   2966.510     -2.697      0.007   -1.38e+04   -2184.834\n",
      "Semi-Furnished -8272.9426   2871.736     -2.881      0.004   -1.39e+04   -2643.004\n",
      "Family         -8553.9402   3205.080     -2.669      0.008   -1.48e+04   -2270.492\n",
      "Bathroom        1.104e+04   1731.585      6.375      0.000    7643.379    1.44e+04\n",
      "==============================================================================\n",
      "Omnibus:                    12887.566   Durbin-Watson:                   1.939\n",
      "Prob(Omnibus):                  0.000   Jarque-Bera (JB):        539245026.319\n",
      "Skew:                          32.985   Prob(JB):                         0.00\n",
      "Kurtosis:                    1653.015   Cond. No.                     8.66e+03\n",
      "==============================================================================\n",
      "\n",
      "Notes:\n",
      "[1] Standard Errors assume that the covariance matrix of the errors is correctly specified.\n",
      "[2] The condition number is large, 8.66e+03. This might indicate that there are\n",
      "strong multicollinearity or other numerical problems.\n"
     ]
    }
   ],
   "source": [
    "dependent_var = HROneHotData[['Rent']]\n",
    "independent_vars = HROneHotData[['Size', 'Floor Level', 'Mumbai', 'Bangalore', 'Hyderabad', 'Chennai', 'Kolkata', 'Unfurnished', 'Semi-Furnished', 'Family', 'Bathroom']]\n",
    "independent_vars_c = sm.add_constant(independent_vars)\n",
    "regression_model = sm.OLS(dependent_var, independent_vars_c).fit()\n",
    "output = regression_model.summary()\n",
    "print(output)"
   ]
  }
 ],
 "metadata": {
  "kernelspec": {
   "display_name": "Python 3 (ipykernel)",
   "language": "python",
   "name": "python3"
  },
  "language_info": {
   "codemirror_mode": {
    "name": "ipython",
    "version": 3
   },
   "file_extension": ".py",
   "mimetype": "text/x-python",
   "name": "python",
   "nbconvert_exporter": "python",
   "pygments_lexer": "ipython3",
   "version": "3.9.12"
  }
 },
 "nbformat": 4,
 "nbformat_minor": 5
}
