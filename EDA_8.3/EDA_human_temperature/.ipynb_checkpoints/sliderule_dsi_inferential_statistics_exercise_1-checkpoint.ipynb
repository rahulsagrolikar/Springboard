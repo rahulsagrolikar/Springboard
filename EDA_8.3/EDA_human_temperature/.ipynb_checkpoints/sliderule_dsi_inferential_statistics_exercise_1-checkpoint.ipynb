{
 "cells": [
  {
   "cell_type": "markdown",
   "metadata": {},
   "source": [
    "# What is the True Normal Human Body Temperature? \n",
    "\n",
    "#### Background\n",
    "\n",
    "The mean normal body temperature was held to be 37$^{\\circ}$C or 98.6$^{\\circ}$F for more than 120 years since it was first conceptualized and reported by Carl Wunderlich in a famous 1868 book. But, is this value statistically correct?"
   ]
  },
  {
   "cell_type": "markdown",
   "metadata": {},
   "source": [
    "<h3>Exercises</h3>\n",
    "\n",
    "<p>In this exercise, you will analyze a dataset of human body temperatures and employ the concepts of hypothesis testing, confidence intervals, and statistical significance.</p>\n",
    "\n",
    "<p>Answer the following questions <b>in this notebook below and submit to your Github account</b>.</p> \n",
    "\n",
    "<ol>\n",
    "<li>  Is the distribution of body temperatures normal? \n",
    "    <ul>\n",
    "    <li> Although this is not a requirement for the Central Limit Theorem to hold (read the introduction on Wikipedia's page about the CLT carefully: https://en.wikipedia.org/wiki/Central_limit_theorem), it gives us some peace of mind that the population may also be normally distributed if we assume that this sample is representative of the population.\n",
    "    <li> Think about the way you're going to check for the normality of the distribution. Graphical methods are usually used first, but there are also other ways: https://en.wikipedia.org/wiki/Normality_test\n",
    "    </ul>\n",
    "<li>  Is the sample size large? Are the observations independent?\n",
    "    <ul>\n",
    "    <li> Remember that this is a condition for the Central Limit Theorem, and hence the statistical tests we are using, to apply.\n",
    "    </ul>\n",
    "<li>  Is the true population mean really 98.6 degrees F?\n",
    "    <ul>\n",
    "    <li> First, try a bootstrap hypothesis test.\n",
    "    <li> Now, let's try frequentist statistical testing. Would you use a one-sample or two-sample test? Why?\n",
    "    <li> In this situation, is it appropriate to use the $t$ or $z$ statistic? \n",
    "    <li> Now try using the other test. How is the result be different? Why?\n",
    "    </ul>\n",
    "<li>  Draw a small sample of size 10 from the data and repeat both frequentist tests. \n",
    "    <ul>\n",
    "    <li> Which one is the correct one to use? \n",
    "    <li> What do you notice? What does this tell you about the difference in application of the $t$ and $z$ statistic?\n",
    "    </ul>\n",
    "<li>  At what temperature should we consider someone's temperature to be \"abnormal\"?\n",
    "    <ul>\n",
    "    <li> As in the previous example, try calculating everything using the boostrap approach, as well as the frequentist approach.\n",
    "    <li> Start by computing the margin of error and confidence interval. When calculating the confidence interval, keep in mind that you should use the appropriate formula for one draw, and not N draws.\n",
    "    </ul>\n",
    "<li>  Is there a significant difference between males and females in normal temperature?\n",
    "    <ul>\n",
    "    <li> What testing approach did you use and why?\n",
    "    <li> Write a story with your conclusion in the context of the original problem.\n",
    "    </ul>\n",
    "</ol>\n",
    "\n",
    "You can include written notes in notebook cells using Markdown: \n",
    "   - In the control panel at the top, choose Cell > Cell Type > Markdown\n",
    "   - Markdown syntax: http://nestacms.com/docs/creating-content/markdown-cheat-sheet\n",
    "\n",
    "#### Resources\n",
    "\n",
    "+ Information and data sources: http://www.amstat.org/publications/jse/datasets/normtemp.txt, http://www.amstat.org/publications/jse/jse_data_archive.htm\n",
    "+ Markdown syntax: http://nestacms.com/docs/creating-content/markdown-cheat-sheet\n",
    "\n",
    "****"
   ]
  },
  {
   "cell_type": "code",
   "execution_count": 33,
   "metadata": {},
   "outputs": [],
   "source": [
    "import pandas as pd\n",
    "\n",
    "df = pd.read_csv('data/human_body_temperature.csv')"
   ]
  },
  {
   "cell_type": "code",
   "execution_count": 68,
   "metadata": {},
   "outputs": [],
   "source": [
    "import pandas as pd\n",
    "import seaborn as sns\n",
    "import numpy as np\n",
    "import matplotlib.pyplot as plt\n",
    "import scipy.stats as stats\n",
    "import statsmodels as sm"
   ]
  },
  {
   "cell_type": "code",
   "execution_count": 35,
   "metadata": {},
   "outputs": [
    {
     "name": "stdout",
     "output_type": "stream",
     "text": [
      "   temperature gender  heart_rate\n",
      "0         99.3      F        68.0\n",
      "1         98.4      F        81.0\n",
      "2         97.8      M        73.0\n",
      "3         99.2      F        66.0\n",
      "4         98.0      F        73.0\n"
     ]
    }
   ],
   "source": [
    "print(df.head()) #Examine the data"
   ]
  },
  {
   "cell_type": "code",
   "execution_count": 36,
   "metadata": {},
   "outputs": [],
   "source": [
    "df['gender'] = df['gender'].astype('category') #Change gender column to data type category to reduce memory requirements"
   ]
  },
  {
   "cell_type": "code",
   "execution_count": 37,
   "metadata": {},
   "outputs": [
    {
     "name": "stdout",
     "output_type": "stream",
     "text": [
      "       temperature  heart_rate\n",
      "count   130.000000  130.000000\n",
      "mean     98.249231   73.761538\n",
      "std       0.733183    7.062077\n",
      "min      96.300000   57.000000\n",
      "25%      97.800000   69.000000\n",
      "50%      98.300000   74.000000\n",
      "75%      98.700000   79.000000\n",
      "max     100.800000   89.000000\n"
     ]
    }
   ],
   "source": [
    "print(df.describe()) #Conduct describtive statisical analysis "
   ]
  },
  {
   "cell_type": "markdown",
   "metadata": {},
   "source": [
    "# 1 Is the distribution of body temperatures normal?"
   ]
  },
  {
   "cell_type": "code",
   "execution_count": 38,
   "metadata": {},
   "outputs": [
    {
     "data": {
      "text/plain": [
       "(array([ 4.,  6., 15., 26., 30., 30., 15.,  1.,  2.,  1.]),\n",
       " array([ 96.3 ,  96.75,  97.2 ,  97.65,  98.1 ,  98.55,  99.  ,  99.45,\n",
       "         99.9 , 100.35, 100.8 ]),\n",
       " <a list of 10 Patch objects>)"
      ]
     },
     "execution_count": 38,
     "metadata": {},
     "output_type": "execute_result"
    },
    {
     "data": {
      "image/png": "[encoded data removed]",
      "text/plain": [
       "<Figure size 432x288 with 1 Axes>"
      ]
     },
     "metadata": {},
     "output_type": "display_data"
    }
   ],
   "source": [
    "plt.hist(df['temperature']) \n",
    "#1. With a histogram test, we can see the that the data is centralized and mostly bell shaped\n",
    "#so the distrubution is normal"
   ]
  },
  {
   "cell_type": "markdown",
   "metadata": {},
   "source": [
    "# 2. Is the sample size large? Are the observations independent?"
   ]
  },
  {
   "cell_type": "code",
   "execution_count": 39,
   "metadata": {},
   "outputs": [
    {
     "name": "stdout",
     "output_type": "stream",
     "text": [
      "<class 'pandas.core.frame.DataFrame'>\n",
      "RangeIndex: 130 entries, 0 to 129\n",
      "Data columns (total 3 columns):\n",
      "temperature    130 non-null float64\n",
      "gender         130 non-null category\n",
      "heart_rate     130 non-null float64\n",
      "dtypes: category(1), float64(2)\n",
      "memory usage: 2.3 KB\n"
     ]
    }
   ],
   "source": [
    "df.info() #2 The sample size is 130, well over 30+, so this requirement is satisfied. \n",
    "#The sample is less than 10% of the total population, and we asssume the data to be random\n",
    "#So the observations should be indepdendent "
   ]
  },
  {
   "cell_type": "code",
   "execution_count": 40,
   "metadata": {},
   "outputs": [],
   "source": [
    "def bootstrap_replicate_1d(data, func):\n",
    "    return func(np.random.choice(data, size=len(data)))\n",
    "\n",
    "def draw_bs_reps(data, func, size=1):\n",
    "    \"\"\"Draw bootstrap replicates.\"\"\"\n",
    "\n",
    "    # Initialize array of replicates: bs_replicates\n",
    "    bs_replicates = np.empty(size)\n",
    "\n",
    "    # Generate replicates\n",
    "    for i in range(size):\n",
    "        bs_replicates[i] = bootstrap_replicate_1d(data, func)\n",
    "\n",
    "    return bs_replicates"
   ]
  },
  {
   "cell_type": "markdown",
   "metadata": {},
   "source": [
    "### 3. Is the true population mean really 98.6 degrees F?"
   ]
  },
  {
   "cell_type": "code",
   "execution_count": 41,
   "metadata": {},
   "outputs": [
    {
     "name": "stdout",
     "output_type": "stream",
     "text": [
      "There is a 95% confidence interval that the mean of the population is 98.24914769230769 with a range of [98.12607692 98.37696154]\n"
     ]
    }
   ],
   "source": [
    "bs_temp = draw_bs_reps(df['temperature'], np.mean, size=1000)\n",
    "bs_temp_percentile = np.percentile(bs_temp, (2.5, 97.5))\n",
    "print('There is a 95% confidence interval that the mean of the population is', np.mean(bs_temp), \\\n",
    "      'with a range of', bs_temp_percentile)\n",
    "\n",
    "#3. Given the confidence interval, I don't believe the population mean is 98.6"
   ]
  },
  {
   "cell_type": "code",
   "execution_count": 42,
   "metadata": {},
   "outputs": [
    {
     "name": "stdout",
     "output_type": "stream",
     "text": [
      "The T statistic is:  5.4548232923645195\n",
      "Since the probability of getting a mean of 98.6 is so far from the samples means, it is safe to reject the null hypothesis\n"
     ]
    }
   ],
   "source": [
    "#Since we do not know the population standard deviation, we will use a t statistic\n",
    "\n",
    "n = len(df.temperature)\n",
    "temp_std = df.temperature.std() #standard deviation of temperature sample\n",
    "se = temp_std/np.sqrt(n) #standard error formula\n",
    "\n",
    "temp_mean = df.temperature.mean() #mean of teamperature sample\n",
    "\n",
    "t_stat = (temp_mean - 98.6)/se #t score formula\n",
    "\n",
    "print('The T statistic is: ', abs(t_stat))\n",
    "print('Since the probability of getting a mean of 98.6 is so far from the samples means, it is safe to reject the null hypothesis')"
   ]
  },
  {
   "cell_type": "code",
   "execution_count": 43,
   "metadata": {},
   "outputs": [
    {
     "name": "stdout",
     "output_type": "stream",
     "text": [
      "Ttest_1sampResult(statistic=-5.4548232923645195, pvalue=2.4106320415561276e-07)\n",
      "z stat:  -5.4548232923645195\n"
     ]
    }
   ],
   "source": [
    "#Using a z statistic\n",
    "\n",
    "z_stat = (temp_mean - 98.6) / se\n",
    "\n",
    "x = stats.ttest_1samp(df.temperature, 98.6) #Comparing with scipy\n",
    "print(x)\n",
    "\n",
    "print('z stat: ', z_stat)"
   ]
  },
  {
   "cell_type": "markdown",
   "metadata": {},
   "source": [
    "With a z score of:  -5.4548232923645195 the probability of a mean of 98.6 has a p probability of nearly 0, so we still reject the null hypothesis\n",
    "Both results using a t test or  z test are nearly 0, with a z test having an even lower probability\n",
    "The z test is better used for when the population is above 30, but in this case we didnt know the population standard deviation, so we used a t test primarily."
   ]
  },
  {
   "cell_type": "markdown",
   "metadata": {},
   "source": [
    "# 4 Draw a small sample of size 10 from the data and repeat both frequentist tests"
   ]
  },
  {
   "cell_type": "code",
   "execution_count": 44,
   "metadata": {},
   "outputs": [
    {
     "name": "stdout",
     "output_type": "stream",
     "text": [
      "z stat = -2.5010049674508013\n",
      "Ttest_1sampResult(statistic=-2.3726616409619443, pvalue=0.04172655212894381)\n"
     ]
    }
   ],
   "source": [
    "np.random.seed(1)\n",
    "sample1 = np.random.choice(df.temperature, size=10)\n",
    "\n",
    "n = 10\n",
    "sample1_std = sample1.std()\n",
    "se1 = sample1_std / np.sqrt(n) #standard error\n",
    "samp1_mean = sample1.mean()\n",
    "ztest = (samp1_mean - 98.6) / se1\n",
    "\n",
    "print('z stat =', ztest) #The t score and z score will be the same. need to reject / fix\n",
    "\n",
    "ttest = stats.ttest_1samp(sample1, 98.6)\n",
    "print(ttest)\n"
   ]
  },
  {
   "cell_type": "markdown",
   "metadata": {},
   "source": [
    "With a random sample of 10, the z score is: -2.5010049674508013 with a probabilty value between of .06%, so with a z test we would reject the null hypothesis. \n",
    "\n",
    "The t test is -2.37 with a p value of = 4.17%, so we would reject the null hypothesis. "
   ]
  },
  {
   "cell_type": "markdown",
   "metadata": {},
   "source": [
    "# 5. At what temperature should we consider someone's temperature to be \"abnormal\"?\n",
    "As in the previous example, try calculating everything using the boostrap approach, as well as the frequentist approach.\n",
    "Start by computing the margin of error and confidence interval. When calculating the confidence interval, keep in mind that you should use the appropriate formula for one draw, and not N draws."
   ]
  },
  {
   "cell_type": "code",
   "execution_count": 45,
   "metadata": {},
   "outputs": [
    {
     "name": "stdout",
     "output_type": "stream",
     "text": [
      "Margin of error: 0.2586160397191184\n",
      "A temperature below: 98.0113839602809 or above: 98.52861603971913 would be considered abnormal\n"
     ]
    }
   ],
   "source": [
    "\n",
    "margin_of_error = 1.96 * se1 #with an alpha of .05, the z stat will be 1.96 (with 2.5% on both ends of the curve)\n",
    "print('Margin of error:',margin_of_error)\n",
    "print('A temperature below:', samp1_mean - margin_of_error, 'or above:', samp1_mean + margin_of_error, 'would be considered abnormal')"
   ]
  },
  {
   "cell_type": "code",
   "execution_count": 46,
   "metadata": {},
   "outputs": [],
   "source": [
    "sample2 = draw_bs_reps(df['temperature'], np.mean, size=1)"
   ]
  },
  {
   "cell_type": "markdown",
   "metadata": {},
   "source": [
    "# 6. Is there a significant difference between males and females in normal temperature?\n",
    "What testing approach did you use and why?\n",
    "Write a story with your conclusion in the context of the original problem."
   ]
  },
  {
   "cell_type": "markdown",
   "metadata": {},
   "source": [
    "Null : male temp mean = female temp mean.  Alternative : male temp mean != female temp mean"
   ]
  },
  {
   "cell_type": "markdown",
   "metadata": {},
   "source": [
    "I utilized the stats model package which conducted the following\n",
    "1. Compared the means of two samples based on normal distrubutions, assumed to be independent\n",
    "2. Provided a test statistic (the mean differences of the two samples)\n",
    "3. The p value of the null hypothesis\n",
    "\n",
    "With a p value of 0.02228736076065755, we reject the null hypothesis. \n",
    "\n",
    "Conclusion: Female body temperature is higher than mens. "
   ]
  },
  {
   "cell_type": "code",
   "execution_count": 56,
   "metadata": {},
   "outputs": [],
   "source": [
    "male_temp = df['temperature'][df.gender == 'M']\n",
    "female_temp = df['temperature'][df.gender == 'F']"
   ]
  },
  {
   "cell_type": "code",
   "execution_count": 62,
   "metadata": {},
   "outputs": [
    {
     "ename": "AttributeError",
     "evalue": "module 'statsmodels' has no attribute 'stats'",
     "output_type": "error",
     "traceback": [
      "\u001b[1;31m---------------------------------------------------------------------------\u001b[0m",
      "\u001b[1;31mAttributeError\u001b[0m                            Traceback (most recent call last)",
      "\u001b[1;32m<ipython-input-62-ccfd94e0c24c>\u001b[0m in \u001b[0;36m<module>\u001b[1;34m()\u001b[0m\n\u001b[1;32m----> 1\u001b[1;33m \u001b[0mtest_stat\u001b[0m\u001b[1;33m,\u001b[0m \u001b[0mpvalue\u001b[0m \u001b[1;33m=\u001b[0m \u001b[0msm\u001b[0m\u001b[1;33m.\u001b[0m\u001b[0mstats\u001b[0m\u001b[1;33m.\u001b[0m\u001b[0mweightstats\u001b[0m\u001b[1;33m.\u001b[0m\u001b[0mztest\u001b[0m\u001b[1;33m(\u001b[0m\u001b[0mx1\u001b[0m\u001b[1;33m=\u001b[0m\u001b[0mmale_temp\u001b[0m\u001b[1;33m,\u001b[0m \u001b[0mx2\u001b[0m\u001b[1;33m=\u001b[0m\u001b[0mfemale_temp\u001b[0m\u001b[1;33m)\u001b[0m\u001b[1;33m\u001b[0m\u001b[0m\n\u001b[0m\u001b[0;32m      2\u001b[0m print('test statistic =', test_stat,\n\u001b[0;32m      3\u001b[0m       'p-value =', pvalue)\n",
      "\u001b[1;31mAttributeError\u001b[0m: module 'statsmodels' has no attribute 'stats'"
     ]
    }
   ],
   "source": [
    "test_stat, pvalue = sm.stats.weightstats.ztest(x1=male_temp, x2=female_temp)\n",
    "print('test statistic =', test_stat,\n",
    "      'p-value =', pvalue)"
   ]
  },
  {
   "cell_type": "code",
   "execution_count": 67,
   "metadata": {},
   "outputs": [
    {
     "ename": "AttributeError",
     "evalue": "module 'statsmodels' has no attribute 'stats'",
     "output_type": "error",
     "traceback": [
      "\u001b[1;31m---------------------------------------------------------------------------\u001b[0m",
      "\u001b[1;31mAttributeError\u001b[0m                            Traceback (most recent call last)",
      "\u001b[1;32m<ipython-input-67-0373de251b3c>\u001b[0m in \u001b[0;36m<module>\u001b[1;34m()\u001b[0m\n\u001b[1;32m----> 1\u001b[1;33m \u001b[0mtest_stat\u001b[0m\u001b[1;33m,\u001b[0m \u001b[0mpvalue\u001b[0m \u001b[1;33m=\u001b[0m \u001b[0msm\u001b[0m\u001b[1;33m.\u001b[0m\u001b[0mstats\u001b[0m\u001b[1;33m.\u001b[0m\u001b[0mweightstats\u001b[0m\u001b[1;33m.\u001b[0m\u001b[0mztest\u001b[0m\u001b[1;33m(\u001b[0m\u001b[0mx1\u001b[0m\u001b[1;33m=\u001b[0m\u001b[0mmale_temp\u001b[0m\u001b[1;33m,\u001b[0m \u001b[0mx2\u001b[0m\u001b[1;33m=\u001b[0m\u001b[0mfemale_temp\u001b[0m\u001b[1;33m)\u001b[0m\u001b[1;33m\u001b[0m\u001b[0m\n\u001b[0m",
      "\u001b[1;31mAttributeError\u001b[0m: module 'statsmodels' has no attribute 'stats'"
     ]
    }
   ],
   "source": [
    "test_stat, pvalue = sm.stats.weightstats.ztest(x1=male_temp, x2=female_temp)"
   ]
  },
  {
   "cell_type": "code",
   "execution_count": null,
   "metadata": {},
   "outputs": [],
   "source": []
  },
  {
   "cell_type": "code",
   "execution_count": null,
   "metadata": {},
   "outputs": [],
   "source": []
  },
  {
   "cell_type": "code",
   "execution_count": null,
   "metadata": {},
   "outputs": [],
   "source": []
  },
  {
   "cell_type": "code",
   "execution_count": null,
   "metadata": {},
   "outputs": [],
   "source": []
  }
 ],
 "metadata": {
  "kernelspec": {
   "display_name": "Python 3",
   "language": "python",
   "name": "python3"
  },
  "language_info": {
   "codemirror_mode": {
    "name": "ipython",
    "version": 3
   },
   "file_extension": ".py",
   "mimetype": "text/x-python",
   "name": "python",
   "nbconvert_exporter": "python",
   "pygments_lexer": "ipython3",
   "version": "3.6.4"
  }
 },
 "nbformat": 4,
 "nbformat_minor": 1
}
