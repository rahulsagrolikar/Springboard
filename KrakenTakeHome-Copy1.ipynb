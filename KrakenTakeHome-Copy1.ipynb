{
 "cells": [
  {
   "cell_type": "code",
   "execution_count": 1,
   "id": "d71c05dc",
   "metadata": {
    "execution": {
     "iopub.execute_input": "2022-08-07T16:29:31.443643Z",
     "iopub.status.busy": "2022-08-07T16:29:31.443552Z",
     "iopub.status.idle": "2022-08-07T16:29:33.560641Z",
     "shell.execute_reply": "2022-08-07T16:29:33.560527Z",
     "shell.execute_reply.started": "2022-08-07T16:29:31.443615Z"
    },
    "tags": []
   },
   "outputs": [],
   "source": [
    "import numpy as np\n",
    "import pandas as pd\n",
    "import matplotlib.pyplot as plt\n",
    "import seaborn as sns\n",
    "from sklearn import model_selection, preprocessing, metrics, dummy, linear_model, ensemble\n",
    "from xgboost import XGBClassifier\n",
    "from statsmodels.stats.outliers_influence import variance_inflation_factor\n",
    "import shap"
   ]
  },
  {
   "cell_type": "markdown",
   "id": "e6e3501a",
   "metadata": {},
   "source": [
    "## Part 1"
   ]
  },
  {
   "cell_type": "markdown",
   "id": "4bd6dc41",
   "metadata": {},
   "source": [
    "## Data Wrangling"
   ]
  },
  {
   "cell_type": "code",
   "execution_count": 3,
   "id": "0ce88076",
   "metadata": {
    "execution": {
     "iopub.execute_input": "2022-08-07T16:30:03.720378Z",
     "iopub.status.busy": "2022-08-07T16:30:03.720241Z",
     "iopub.status.idle": "2022-08-07T16:30:03.847757Z",
     "shell.execute_reply": "2022-08-07T16:30:03.847630Z",
     "shell.execute_reply.started": "2022-08-07T16:30:03.720320Z"
    },
    "tags": []
   },
   "outputs": [
    {
     "data": {
      "text/html": [
       "<div>\n",
       "<style scoped>\n",
       "    .dataframe tbody tr th:only-of-type {\n",
       "        vertical-align: middle;\n",
       "    }\n",
       "\n",
       "    .dataframe tbody tr th {\n",
       "        vertical-align: top;\n",
       "    }\n",
       "\n",
       "    .dataframe thead th {\n",
       "        text-align: right;\n",
       "    }\n",
       "</style>\n",
       "<table border=\"1\" class=\"dataframe\">\n",
       "  <thead>\n",
       "    <tr style=\"text-align: right;\">\n",
       "      <th></th>\n",
       "      <th>Success</th>\n",
       "      <th>Model_B</th>\n",
       "      <th>Date</th>\n",
       "      <th>X1</th>\n",
       "      <th>X2</th>\n",
       "      <th>X3</th>\n",
       "      <th>X4</th>\n",
       "    </tr>\n",
       "  </thead>\n",
       "  <tbody>\n",
       "    <tr>\n",
       "      <th>0</th>\n",
       "      <td>0</td>\n",
       "      <td>0.320440</td>\n",
       "      <td>2018-07</td>\n",
       "      <td>0</td>\n",
       "      <td>-0.897088</td>\n",
       "      <td>0.804294</td>\n",
       "      <td>0.707665</td>\n",
       "    </tr>\n",
       "    <tr>\n",
       "      <th>1</th>\n",
       "      <td>0</td>\n",
       "      <td>0.491581</td>\n",
       "      <td>2018-09</td>\n",
       "      <td>1</td>\n",
       "      <td>-0.328084</td>\n",
       "      <td>-0.332256</td>\n",
       "      <td>-0.340870</td>\n",
       "    </tr>\n",
       "    <tr>\n",
       "      <th>2</th>\n",
       "      <td>0</td>\n",
       "      <td>0.085481</td>\n",
       "      <td>2015-08</td>\n",
       "      <td>0</td>\n",
       "      <td>1.272140</td>\n",
       "      <td>2.243532</td>\n",
       "      <td>0.815581</td>\n",
       "    </tr>\n",
       "    <tr>\n",
       "      <th>3</th>\n",
       "      <td>1</td>\n",
       "      <td>0.839927</td>\n",
       "      <td>2017-07</td>\n",
       "      <td>1</td>\n",
       "      <td>0.290594</td>\n",
       "      <td>-1.161187</td>\n",
       "      <td>-0.881761</td>\n",
       "    </tr>\n",
       "    <tr>\n",
       "      <th>4</th>\n",
       "      <td>0</td>\n",
       "      <td>0.146804</td>\n",
       "      <td>2018-09</td>\n",
       "      <td>0</td>\n",
       "      <td>-0.307462</td>\n",
       "      <td>1.161276</td>\n",
       "      <td>1.597084</td>\n",
       "    </tr>\n",
       "  </tbody>\n",
       "</table>\n",
       "</div>"
      ],
      "text/plain": [
       "   Success   Model_B     Date  X1        X2        X3        X4\n",
       "0        0  0.320440  2018-07   0 -0.897088  0.804294  0.707665\n",
       "1        0  0.491581  2018-09   1 -0.328084 -0.332256 -0.340870\n",
       "2        0  0.085481  2015-08   0  1.272140  2.243532  0.815581\n",
       "3        1  0.839927  2017-07   1  0.290594 -1.161187 -0.881761\n",
       "4        0  0.146804  2018-09   0 -0.307462  1.161276  1.597084"
      ]
     },
     "execution_count": 3,
     "metadata": {},
     "output_type": "execute_result"
    }
   ],
   "source": [
    "#load the data and insepect the first few rows\n",
    "\n",
    "path = 'data_science_assignment.csv'\n",
    "\n",
    "df = pd.read_csv(path)\n",
    "\n",
    "df.head()"
   ]
  },
  {
   "cell_type": "code",
   "execution_count": 5,
   "id": "5ab1c9a9",
   "metadata": {
    "execution": {
     "iopub.execute_input": "2022-08-07T16:30:15.457594Z",
     "iopub.status.busy": "2022-08-07T16:30:15.457503Z",
     "iopub.status.idle": "2022-08-07T16:30:15.539512Z",
     "shell.execute_reply": "2022-08-07T16:30:15.539356Z",
     "shell.execute_reply.started": "2022-08-07T16:30:15.457568Z"
    },
    "tags": []
   },
   "outputs": [],
   "source": [
    "#convert the Date field from object to datetime\n",
    "df.Date = pd.to_datetime(df.Date)"
   ]
  },
  {
   "cell_type": "code",
   "execution_count": 9,
   "id": "b95e4587",
   "metadata": {
    "execution": {
     "iopub.execute_input": "2022-08-07T16:31:42.836207Z",
     "iopub.status.busy": "2022-08-07T16:31:42.836112Z",
     "iopub.status.idle": "2022-08-07T16:31:42.900751Z",
     "shell.execute_reply": "2022-08-07T16:31:42.900634Z",
     "shell.execute_reply.started": "2022-08-07T16:31:42.836180Z"
    },
    "tags": []
   },
   "outputs": [
    {
     "data": {
      "text/plain": [
       "0        7\n",
       "1        9\n",
       "2        8\n",
       "3        7\n",
       "4        9\n",
       "        ..\n",
       "5995     2\n",
       "5996    11\n",
       "5997     4\n",
       "5998    12\n",
       "5999     4\n",
       "Name: month, Length: 6000, dtype: int64"
      ]
     },
     "execution_count": 9,
     "metadata": {},
     "output_type": "execute_result"
    }
   ],
   "source": [
    "#month\n",
    "df['month'] = df.Date.dt.month\n",
    "df.month"
   ]
  },
  {
   "cell_type": "markdown",
   "id": "4d9a5fef",
   "metadata": {},
   "source": [
    "Success rates are highest in the 1st quarter of the year. They tend to be lowest in the 3rd quarter and moderate in quarters 2 and 4. A feature can be created to reflect the quarter."
   ]
  },
  {
   "cell_type": "code",
   "execution_count": 10,
   "id": "cc52a4c3",
   "metadata": {
    "execution": {
     "iopub.execute_input": "2022-08-07T16:31:48.919190Z",
     "iopub.status.busy": "2022-08-07T16:31:48.919042Z",
     "iopub.status.idle": "2022-08-07T16:31:48.996131Z",
     "shell.execute_reply": "2022-08-07T16:31:48.995975Z",
     "shell.execute_reply.started": "2022-08-07T16:31:48.919135Z"
    },
    "tags": []
   },
   "outputs": [],
   "source": [
    "#function to map month to quarter\n",
    "def map_month_quarter(row):\n",
    "    if row['month'] <= 3:\n",
    "        return 'Q1'\n",
    "    elif row['month'] >3 and row['month'] <=6:\n",
    "        return 'Q2'\n",
    "    elif row['month'] >6 and row['month'] <=9:\n",
    "        return 'Q3'\n",
    "    else:\n",
    "        return 'Q4'"
   ]
  },
  {
   "cell_type": "code",
   "execution_count": 11,
   "id": "265dcb3d",
   "metadata": {
    "execution": {
     "iopub.execute_input": "2022-08-07T16:31:51.386138Z",
     "iopub.status.busy": "2022-08-07T16:31:51.386014Z",
     "iopub.status.idle": "2022-08-07T16:31:51.594719Z",
     "shell.execute_reply": "2022-08-07T16:31:51.594593Z",
     "shell.execute_reply.started": "2022-08-07T16:31:51.386101Z"
    },
    "tags": []
   },
   "outputs": [],
   "source": [
    "#map each month to a quarter\n",
    "df['quarter'] = df.apply(lambda row : map_month_quarter(row), axis=1)"
   ]
  },
  {
   "cell_type": "code",
   "execution_count": 12,
   "id": "b87fbcd0",
   "metadata": {
    "execution": {
     "iopub.execute_input": "2022-08-07T16:32:08.610980Z",
     "iopub.status.busy": "2022-08-07T16:32:08.610846Z",
     "iopub.status.idle": "2022-08-07T16:32:08.698158Z",
     "shell.execute_reply": "2022-08-07T16:32:08.697990Z",
     "shell.execute_reply.started": "2022-08-07T16:32:08.610935Z"
    },
    "tags": []
   },
   "outputs": [],
   "source": [
    "#drop the Date column\n",
    "df.drop(columns=['Date'],inplace=True)"
   ]
  },
  {
   "cell_type": "code",
   "execution_count": 13,
   "id": "80dbc227",
   "metadata": {
    "execution": {
     "iopub.execute_input": "2022-08-07T16:32:11.118902Z",
     "iopub.status.busy": "2022-08-07T16:32:11.118778Z",
     "iopub.status.idle": "2022-08-07T16:32:11.186131Z",
     "shell.execute_reply": "2022-08-07T16:32:11.186010Z",
     "shell.execute_reply.started": "2022-08-07T16:32:11.118872Z"
    },
    "tags": []
   },
   "outputs": [],
   "source": [
    "#set a value from random state to ensure repeatability\n",
    "random_state=42"
   ]
  },
  {
   "cell_type": "code",
   "execution_count": 188,
   "id": "e8d8812a-4ede-4944-9643-eff68e2943f7",
   "metadata": {
    "execution": {
     "iopub.execute_input": "2022-08-07T19:29:17.541852Z",
     "iopub.status.busy": "2022-08-07T19:29:17.541694Z",
     "iopub.status.idle": "2022-08-07T19:29:17.654015Z",
     "shell.execute_reply": "2022-08-07T19:29:17.653876Z",
     "shell.execute_reply.started": "2022-08-07T19:29:17.541820Z"
    },
    "tags": []
   },
   "outputs": [
    {
     "name": "stderr",
     "output_type": "stream",
     "text": [
      "Boolean Series key will be reindexed to match DataFrame index.\n",
      "Boolean Series key will be reindexed to match DataFrame index.\n",
      "Boolean Series key will be reindexed to match DataFrame index.\n",
      "Boolean Series key will be reindexed to match DataFrame index.\n"
     ]
    }
   ],
   "source": [
    "#get train/test data when X1 = True\n",
    "X_train_X1_true = X_train[df['X1'] == 1]\n",
    "y_train_X1_true = y_train[X_train_X1_true.index]\n",
    "X_test_X1_true = X_test[df['X1'] == 1]\n",
    "y_test_X1_true = y_test[X_test_X1_true.index]\n",
    "\n",
    "#get train/test data when X1 = False\n",
    "X_train_X1_false = X_train[df['X1'] == 0]\n",
    "y_train_X1_false = y_train[X_train_X1_false.index]\n",
    "X_test_X1_false = X_test[df['X1'] == 0]\n",
    "y_test_X1_false = y_test[X_test_X1_false.index]"
   ]
  },
  {
   "cell_type": "code",
   "execution_count": 193,
   "id": "d3c25ea6-59ab-4c52-b364-349f07c02be9",
   "metadata": {
    "execution": {
     "iopub.execute_input": "2022-08-07T19:32:18.947642Z",
     "iopub.status.busy": "2022-08-07T19:32:18.947549Z",
     "iopub.status.idle": "2022-08-07T19:32:21.529692Z",
     "shell.execute_reply": "2022-08-07T19:32:21.529565Z",
     "shell.execute_reply.started": "2022-08-07T19:32:18.947616Z"
    },
    "tags": []
   },
   "outputs": [],
   "source": [
    "rf_model_X1_True = ensemble.RandomForestClassifier(random_state=random_state)\n",
    "\n",
    "dict_score = train_predict_score(rf_model_X1_True, X_train_X1_true, y_train_X1_true, \n",
    "                                 X_test_X1_true, y_test_X1_true)\n",
    "rf_model_X1_False = ensemble.RandomForestClassifier(random_state=random_state)\n",
    "\n",
    "dict_score = train_predict_score(rf_model_X1_False, X_train_X1_false, y_train_X1_false, \n",
    "                                 X_test_X1_false, y_test_X1_false)"
   ]
  },
  {
   "cell_type": "code",
   "execution_count": 194,
   "id": "7703dd2a-a99e-41dc-a635-4c3e624e80e0",
   "metadata": {
    "execution": {
     "iopub.execute_input": "2022-08-07T19:33:47.874841Z",
     "iopub.status.busy": "2022-08-07T19:33:47.874744Z",
     "iopub.status.idle": "2022-08-07T19:33:48.470550Z",
     "shell.execute_reply": "2022-08-07T19:33:48.469200Z",
     "shell.execute_reply.started": "2022-08-07T19:33:47.874812Z"
    },
    "tags": []
   },
   "outputs": [],
   "source": [
    "df_x1_true_predictions = pd.DataFrame(rf_model_X1_True.predict_proba(X_test_X1_true)[:,1])\n",
    "df_x1_true_predictions.index = y_test_X1_true.index\n",
    "df_x1_true_predictions['Actual'] = y_test_X1_true\n",
    "\n",
    "#rename the predictions column\n",
    "df_x1_true_predictions.rename(columns={0:'Model_A_Prob'}, inplace=True)\n",
    "\n",
    "#Model A (segment X1 = False) predictions and actuals\n",
    "df_x1_false_predictions = pd.DataFrame(rf_model_X1_False.predict_proba(X_test_X1_false)[:,1])\n",
    "df_x1_false_predictions.index = y_test_X1_false.index\n",
    "df_x1_false_predictions['Actual'] = y_test_X1_false\n",
    "\n",
    "#rename the predictions column\n",
    "df_x1_false_predictions.rename(columns={0:'Model_A_Prob'}, inplace=True)\n",
    "\n",
    "#stack the dataframes into a single set of of predictions/actuals for Model A\n",
    "df_actual_pred = pd.concat([df_x1_true_predictions, df_x1_false_predictions])\n",
    "\n",
    "#add the model B predictions\n",
    "df_actual_pred = pd.concat([df_actual_pred, X_test.Model_B], axis=1)\n",
    "df_actual_pred = df_actual_pred.rename(columns={'Model_B':'Model_B_Prob'})"
   ]
  },
  {
   "cell_type": "code",
   "execution_count": 195,
   "id": "64a3f549-8141-4f02-8a4e-94496b41985b",
   "metadata": {
    "execution": {
     "iopub.execute_input": "2022-08-07T19:34:07.619739Z",
     "iopub.status.busy": "2022-08-07T19:34:07.619622Z",
     "iopub.status.idle": "2022-08-07T19:34:07.728390Z",
     "shell.execute_reply": "2022-08-07T19:34:07.728245Z",
     "shell.execute_reply.started": "2022-08-07T19:34:07.619693Z"
    },
    "tags": []
   },
   "outputs": [],
   "source": [
    "df_actual_pred = df_actual_pred.sort_values(by='Model_A_Prob')\n",
    "df_actual_pred['Rank_A'] = range(1,len(df_actual_pred) + 1)\n",
    "\n",
    "#cut the dataframe into 10 equal sized buckets (based on Model A Predictions)\n",
    "df_actual_pred['Bin'] = pd.qcut(df_actual_pred['Rank_A'],10)\n",
    "\n",
    "#group the data in order to inspect profit/loss for each bin/group\n",
    "df_grouped_data_A = df_actual_pred.groupby('Bin').agg({'Actual':'sum', 'Model_A_Prob':'count'}) \\\n",
    "    .rename(columns={'Model_A_Prob':'Count', 'Actual':'Successes'})\n",
    "\n",
    "#determine the cost of the emails and the value provided by the emails for each group/bin\n",
    "df_grouped_data_A['Cost'] = df_grouped_data_A['Count'] * 0.01\n",
    "df_grouped_data_A['Value'] = df_grouped_data_A['Successes'] * 0.25\n",
    "\n",
    "#determine profit or loss for each group/bin\n",
    "df_grouped_data_A['P/L'] = df_grouped_data_A['Value'] - df_grouped_data_A['Cost']\n",
    "\n",
    "df_actual_pred.drop(columns=['Rank_A','Bin'], inplace=True)"
   ]
  },
  {
   "cell_type": "code",
   "execution_count": 14,
   "id": "0ba80362",
   "metadata": {
    "execution": {
     "iopub.execute_input": "2022-08-07T16:32:13.427001Z",
     "iopub.status.busy": "2022-08-07T16:32:13.426893Z",
     "iopub.status.idle": "2022-08-07T16:32:13.521281Z",
     "shell.execute_reply": "2022-08-07T16:32:13.521088Z",
     "shell.execute_reply.started": "2022-08-07T16:32:13.426973Z"
    },
    "tags": []
   },
   "outputs": [],
   "source": [
    "#separate X (feature matrix) and y (target vector)\n",
    "X = df.drop(columns=['Success'])\n",
    "y = df.Success"
   ]
  },
  {
   "cell_type": "code",
   "execution_count": 163,
   "id": "1a684972",
   "metadata": {
    "execution": {
     "iopub.execute_input": "2022-08-07T19:17:22.224112Z",
     "iopub.status.busy": "2022-08-07T19:17:22.224011Z",
     "iopub.status.idle": "2022-08-07T19:17:22.322482Z",
     "shell.execute_reply": "2022-08-07T19:17:22.322334Z",
     "shell.execute_reply.started": "2022-08-07T19:17:22.224084Z"
    },
    "tags": []
   },
   "outputs": [],
   "source": [
    "#train/test split\n",
    "X_train, X_test, y_train, y_test = \\\n",
    "    model_selection.train_test_split(X, y, train_size=0.7, stratify=y, random_state=random_state)"
   ]
  },
  {
   "cell_type": "markdown",
   "id": "cc313c28",
   "metadata": {},
   "source": [
    "**Categorical Encoding**"
   ]
  },
  {
   "cell_type": "code",
   "execution_count": 164,
   "id": "33471adb",
   "metadata": {
    "execution": {
     "iopub.execute_input": "2022-08-07T19:17:32.857335Z",
     "iopub.status.busy": "2022-08-07T19:17:32.857243Z",
     "iopub.status.idle": "2022-08-07T19:17:32.967453Z",
     "shell.execute_reply": "2022-08-07T19:17:32.967280Z",
     "shell.execute_reply.started": "2022-08-07T19:17:32.857308Z"
    },
    "tags": []
   },
   "outputs": [
    {
     "name": "stderr",
     "output_type": "stream",
     "text": [
      "Function get_feature_names is deprecated; get_feature_names is deprecated in 1.0 and will be removed in 1.2. Please use get_feature_names_out instead.\n",
      "Function get_feature_names is deprecated; get_feature_names is deprecated in 1.0 and will be removed in 1.2. Please use get_feature_names_out instead.\n"
     ]
    }
   ],
   "source": [
    "#encode categorical columns using One Hot Encoding\n",
    "\n",
    "#get the categorical columns from the training data\n",
    "categorical_columns = ['month', 'quarter']\n",
    "df_categorical = X_train[categorical_columns]\n",
    "\n",
    "#initialize the One Hot encoder\n",
    "encoder = preprocessing.OneHotEncoder(sparse=False)\n",
    "\n",
    "#fit the encoder to the training data, encode the training data, add the encoded columns to the dataframe\n",
    "encoded_cols = encoder.fit_transform(df_categorical)\n",
    "df_encoded = pd.DataFrame(encoded_cols, \n",
    "                          columns=encoder.get_feature_names(categorical_columns),\n",
    "                         index=X_train.index)\n",
    "X_train = pd.concat([X_train,df_encoded], axis=1)\n",
    "\n",
    "#drop the original categorical columns\n",
    "X_train.drop(columns=categorical_columns, inplace=True)\n",
    "\n",
    "\n",
    "#get the categorical columns from the test data\n",
    "df_categorical = X_test[categorical_columns]\n",
    "\n",
    "#encode the test data using the encoder that was fitted to the training data\n",
    "encoded_cols = encoder.transform(df_categorical)\n",
    "df_encoded = pd.DataFrame(encoded_cols, \n",
    "                          columns=encoder.get_feature_names(categorical_columns),\n",
    "                         index=X_test.index)\n",
    "X_test = pd.concat([X_test,df_encoded], axis=1)\n",
    "\n",
    "#drop the original categorical columns\n",
    "X_test.drop(columns=categorical_columns, inplace=True)"
   ]
  },
  {
   "cell_type": "markdown",
   "id": "d75eb149",
   "metadata": {},
   "source": [
    "**Typically the numerical columns would be scaled. However, this data already appears to have been scaled so the scaling step can be skipped**"
   ]
  },
  {
   "cell_type": "markdown",
   "id": "58803f74",
   "metadata": {},
   "source": [
    "## Multicollinearity"
   ]
  },
  {
   "cell_type": "markdown",
   "id": "9da2c706",
   "metadata": {},
   "source": [
    "**Remove the Feature With the Greatest VIF Until All Features Have VIF < 2:**"
   ]
  },
  {
   "cell_type": "code",
   "execution_count": 165,
   "id": "84ebfb04",
   "metadata": {
    "execution": {
     "iopub.execute_input": "2022-08-07T19:17:38.587631Z",
     "iopub.status.busy": "2022-08-07T19:17:38.587530Z",
     "iopub.status.idle": "2022-08-07T19:17:38.685047Z",
     "shell.execute_reply": "2022-08-07T19:17:38.684897Z",
     "shell.execute_reply.started": "2022-08-07T19:17:38.587600Z"
    },
    "tags": []
   },
   "outputs": [],
   "source": [
    "#We want to keep the Model_B feature. Therefore, we will remove it from the dataframe, remove multicollinear features,\n",
    "#and then add Model_B back to the dataframe.\n",
    "X_train_model_B = X_train['Model_B']\n",
    "X_test_model_B = X_test['Model_B']\n",
    "\n",
    "X_train.drop(columns=['Model_B'], inplace=True)\n",
    "X_test.drop(columns=['Model_B'], inplace=True)"
   ]
  },
  {
   "cell_type": "code",
   "execution_count": 166,
   "id": "8d684370-1d60-4ea1-ac50-e841bf53b67d",
   "metadata": {
    "execution": {
     "iopub.execute_input": "2022-08-07T19:18:02.386998Z",
     "iopub.status.busy": "2022-08-07T19:18:02.386881Z",
     "iopub.status.idle": "2022-08-07T19:19:10.460850Z",
     "shell.execute_reply": "2022-08-07T19:19:10.460672Z",
     "shell.execute_reply.started": "2022-08-07T19:18:02.386971Z"
    },
    "tags": []
   },
   "outputs": [
    {
     "name": "stderr",
     "output_type": "stream",
     "text": [
      "divide by zero encountered in double_scalars\n",
      "divide by zero encountered in double_scalars\n",
      "divide by zero encountered in double_scalars\n",
      "divide by zero encountered in double_scalars\n"
     ]
    }
   ],
   "source": [
    "X_train = X_train.sort_index(axis=1)\n",
    "X_test = X_test.sort_index(axis=1)\n",
    "\n",
    "while len(X_train.columns) > 0:\n",
    "\n",
    "    df_VIF = pd.DataFrame({'Feature':X_train.columns})\n",
    "    df_VIF['VIF'] = [variance_inflation_factor(X_train.values, i) for i in range(len(X_train.columns))]\n",
    "    \n",
    "    if df_VIF.loc[df_VIF['VIF'].idxmax()]['VIF'] < 2:\n",
    "        break\n",
    "        \n",
    "    X_train = X_train.drop(columns=df_VIF.loc[df_VIF['VIF'].idxmax()]['Feature'])   "
   ]
  },
  {
   "cell_type": "code",
   "execution_count": 167,
   "id": "ed81cdf0-da01-4025-b392-f00340395255",
   "metadata": {
    "execution": {
     "iopub.execute_input": "2022-08-07T19:19:14.551932Z",
     "iopub.status.busy": "2022-08-07T19:19:14.551822Z",
     "iopub.status.idle": "2022-08-07T19:19:14.676548Z",
     "shell.execute_reply": "2022-08-07T19:19:14.676384Z",
     "shell.execute_reply.started": "2022-08-07T19:19:14.551904Z"
    },
    "tags": []
   },
   "outputs": [],
   "source": [
    "X_train['Model_B'] = X_train_model_B \n",
    "X_test['Model_B'] = X_test_model_B "
   ]
  },
  {
   "cell_type": "markdown",
   "id": "4d2e28fc",
   "metadata": {},
   "source": [
    "**Select the same columns from the test data**"
   ]
  },
  {
   "cell_type": "code",
   "execution_count": 170,
   "id": "4f3247b4",
   "metadata": {
    "execution": {
     "iopub.execute_input": "2022-08-07T19:19:49.386838Z",
     "iopub.status.busy": "2022-08-07T19:19:49.386725Z",
     "iopub.status.idle": "2022-08-07T19:19:49.515790Z",
     "shell.execute_reply": "2022-08-07T19:19:49.515613Z",
     "shell.execute_reply.started": "2022-08-07T19:19:49.386809Z"
    },
    "tags": []
   },
   "outputs": [],
   "source": [
    "#Select the same columns from the test data\n",
    "X_test = X_test[X_train.columns]"
   ]
  },
  {
   "cell_type": "code",
   "execution_count": 169,
   "id": "34eef45e-cd28-4d18-9f21-67e184ec53e5",
   "metadata": {
    "execution": {
     "iopub.execute_input": "2022-08-07T19:19:37.739891Z",
     "iopub.status.busy": "2022-08-07T19:19:37.739771Z",
     "iopub.status.idle": "2022-08-07T19:19:37.860888Z",
     "shell.execute_reply": "2022-08-07T19:19:37.860712Z",
     "shell.execute_reply.started": "2022-08-07T19:19:37.739841Z"
    },
    "tags": []
   },
   "outputs": [
    {
     "data": {
      "text/html": [
       "<div>\n",
       "<style scoped>\n",
       "    .dataframe tbody tr th:only-of-type {\n",
       "        vertical-align: middle;\n",
       "    }\n",
       "\n",
       "    .dataframe tbody tr th {\n",
       "        vertical-align: top;\n",
       "    }\n",
       "\n",
       "    .dataframe thead th {\n",
       "        text-align: right;\n",
       "    }\n",
       "</style>\n",
       "<table border=\"1\" class=\"dataframe\">\n",
       "  <thead>\n",
       "    <tr style=\"text-align: right;\">\n",
       "      <th></th>\n",
       "      <th>X2</th>\n",
       "      <th>X3</th>\n",
       "      <th>month_11</th>\n",
       "      <th>month_12</th>\n",
       "      <th>month_2</th>\n",
       "      <th>month_3</th>\n",
       "      <th>month_5</th>\n",
       "      <th>month_6</th>\n",
       "      <th>month_8</th>\n",
       "      <th>month_9</th>\n",
       "      <th>Model_B</th>\n",
       "    </tr>\n",
       "  </thead>\n",
       "  <tbody>\n",
       "    <tr>\n",
       "      <th>2062</th>\n",
       "      <td>-0.935495</td>\n",
       "      <td>-1.656392</td>\n",
       "      <td>0.0</td>\n",
       "      <td>0.0</td>\n",
       "      <td>0.0</td>\n",
       "      <td>0.0</td>\n",
       "      <td>0.0</td>\n",
       "      <td>0.0</td>\n",
       "      <td>0.0</td>\n",
       "      <td>0.0</td>\n",
       "      <td>0.765860</td>\n",
       "    </tr>\n",
       "    <tr>\n",
       "      <th>1966</th>\n",
       "      <td>0.754162</td>\n",
       "      <td>0.162420</td>\n",
       "      <td>0.0</td>\n",
       "      <td>0.0</td>\n",
       "      <td>0.0</td>\n",
       "      <td>1.0</td>\n",
       "      <td>0.0</td>\n",
       "      <td>0.0</td>\n",
       "      <td>0.0</td>\n",
       "      <td>0.0</td>\n",
       "      <td>0.320886</td>\n",
       "    </tr>\n",
       "    <tr>\n",
       "      <th>4758</th>\n",
       "      <td>1.681657</td>\n",
       "      <td>2.247262</td>\n",
       "      <td>0.0</td>\n",
       "      <td>0.0</td>\n",
       "      <td>0.0</td>\n",
       "      <td>0.0</td>\n",
       "      <td>0.0</td>\n",
       "      <td>0.0</td>\n",
       "      <td>0.0</td>\n",
       "      <td>0.0</td>\n",
       "      <td>0.219703</td>\n",
       "    </tr>\n",
       "    <tr>\n",
       "      <th>1949</th>\n",
       "      <td>-0.006841</td>\n",
       "      <td>-0.064094</td>\n",
       "      <td>0.0</td>\n",
       "      <td>0.0</td>\n",
       "      <td>0.0</td>\n",
       "      <td>0.0</td>\n",
       "      <td>0.0</td>\n",
       "      <td>0.0</td>\n",
       "      <td>0.0</td>\n",
       "      <td>0.0</td>\n",
       "      <td>0.770482</td>\n",
       "    </tr>\n",
       "    <tr>\n",
       "      <th>1891</th>\n",
       "      <td>0.188642</td>\n",
       "      <td>0.828965</td>\n",
       "      <td>0.0</td>\n",
       "      <td>1.0</td>\n",
       "      <td>0.0</td>\n",
       "      <td>0.0</td>\n",
       "      <td>0.0</td>\n",
       "      <td>0.0</td>\n",
       "      <td>0.0</td>\n",
       "      <td>0.0</td>\n",
       "      <td>0.347914</td>\n",
       "    </tr>\n",
       "  </tbody>\n",
       "</table>\n",
       "</div>"
      ],
      "text/plain": [
       "            X2        X3  month_11  month_12  month_2  month_3  month_5  \\\n",
       "2062 -0.935495 -1.656392       0.0       0.0      0.0      0.0      0.0   \n",
       "1966  0.754162  0.162420       0.0       0.0      0.0      1.0      0.0   \n",
       "4758  1.681657  2.247262       0.0       0.0      0.0      0.0      0.0   \n",
       "1949 -0.006841 -0.064094       0.0       0.0      0.0      0.0      0.0   \n",
       "1891  0.188642  0.828965       0.0       1.0      0.0      0.0      0.0   \n",
       "\n",
       "      month_6  month_8  month_9   Model_B  \n",
       "2062      0.0      0.0      0.0  0.765860  \n",
       "1966      0.0      0.0      0.0  0.320886  \n",
       "4758      0.0      0.0      0.0  0.219703  \n",
       "1949      0.0      0.0      0.0  0.770482  \n",
       "1891      0.0      0.0      0.0  0.347914  "
      ]
     },
     "execution_count": 169,
     "metadata": {},
     "output_type": "execute_result"
    }
   ],
   "source": [
    "X_train.head()"
   ]
  },
  {
   "cell_type": "code",
   "execution_count": 149,
   "id": "7dfce48d-966c-4eac-97d7-09584672a7e2",
   "metadata": {
    "execution": {
     "iopub.execute_input": "2022-08-07T19:06:48.531274Z",
     "iopub.status.busy": "2022-08-07T19:06:48.531183Z",
     "iopub.status.idle": "2022-08-07T19:06:48.649785Z",
     "shell.execute_reply": "2022-08-07T19:06:48.649661Z",
     "shell.execute_reply.started": "2022-08-07T19:06:48.531247Z"
    },
    "tags": []
   },
   "outputs": [
    {
     "data": {
      "text/html": [
       "<div>\n",
       "<style scoped>\n",
       "    .dataframe tbody tr th:only-of-type {\n",
       "        vertical-align: middle;\n",
       "    }\n",
       "\n",
       "    .dataframe tbody tr th {\n",
       "        vertical-align: top;\n",
       "    }\n",
       "\n",
       "    .dataframe thead th {\n",
       "        text-align: right;\n",
       "    }\n",
       "</style>\n",
       "<table border=\"1\" class=\"dataframe\">\n",
       "  <thead>\n",
       "    <tr style=\"text-align: right;\">\n",
       "      <th></th>\n",
       "      <th>X2</th>\n",
       "      <th>X3</th>\n",
       "      <th>month_11</th>\n",
       "      <th>month_12</th>\n",
       "      <th>month_2</th>\n",
       "      <th>month_3</th>\n",
       "      <th>month_5</th>\n",
       "      <th>month_6</th>\n",
       "      <th>month_8</th>\n",
       "      <th>month_9</th>\n",
       "    </tr>\n",
       "  </thead>\n",
       "  <tbody>\n",
       "    <tr>\n",
       "      <th>2062</th>\n",
       "      <td>-0.935495</td>\n",
       "      <td>-1.656392</td>\n",
       "      <td>0.0</td>\n",
       "      <td>0.0</td>\n",
       "      <td>0.0</td>\n",
       "      <td>0.0</td>\n",
       "      <td>0.0</td>\n",
       "      <td>0.0</td>\n",
       "      <td>0.0</td>\n",
       "      <td>0.0</td>\n",
       "    </tr>\n",
       "    <tr>\n",
       "      <th>1966</th>\n",
       "      <td>0.754162</td>\n",
       "      <td>0.162420</td>\n",
       "      <td>0.0</td>\n",
       "      <td>0.0</td>\n",
       "      <td>0.0</td>\n",
       "      <td>1.0</td>\n",
       "      <td>0.0</td>\n",
       "      <td>0.0</td>\n",
       "      <td>0.0</td>\n",
       "      <td>0.0</td>\n",
       "    </tr>\n",
       "    <tr>\n",
       "      <th>4758</th>\n",
       "      <td>1.681657</td>\n",
       "      <td>2.247262</td>\n",
       "      <td>0.0</td>\n",
       "      <td>0.0</td>\n",
       "      <td>0.0</td>\n",
       "      <td>0.0</td>\n",
       "      <td>0.0</td>\n",
       "      <td>0.0</td>\n",
       "      <td>0.0</td>\n",
       "      <td>0.0</td>\n",
       "    </tr>\n",
       "    <tr>\n",
       "      <th>1949</th>\n",
       "      <td>-0.006841</td>\n",
       "      <td>-0.064094</td>\n",
       "      <td>0.0</td>\n",
       "      <td>0.0</td>\n",
       "      <td>0.0</td>\n",
       "      <td>0.0</td>\n",
       "      <td>0.0</td>\n",
       "      <td>0.0</td>\n",
       "      <td>0.0</td>\n",
       "      <td>0.0</td>\n",
       "    </tr>\n",
       "    <tr>\n",
       "      <th>1891</th>\n",
       "      <td>0.188642</td>\n",
       "      <td>0.828965</td>\n",
       "      <td>0.0</td>\n",
       "      <td>1.0</td>\n",
       "      <td>0.0</td>\n",
       "      <td>0.0</td>\n",
       "      <td>0.0</td>\n",
       "      <td>0.0</td>\n",
       "      <td>0.0</td>\n",
       "      <td>0.0</td>\n",
       "    </tr>\n",
       "  </tbody>\n",
       "</table>\n",
       "</div>"
      ],
      "text/plain": [
       "            X2        X3  month_11  month_12  month_2  month_3  month_5  \\\n",
       "2062 -0.935495 -1.656392       0.0       0.0      0.0      0.0      0.0   \n",
       "1966  0.754162  0.162420       0.0       0.0      0.0      1.0      0.0   \n",
       "4758  1.681657  2.247262       0.0       0.0      0.0      0.0      0.0   \n",
       "1949 -0.006841 -0.064094       0.0       0.0      0.0      0.0      0.0   \n",
       "1891  0.188642  0.828965       0.0       1.0      0.0      0.0      0.0   \n",
       "\n",
       "      month_6  month_8  month_9  \n",
       "2062      0.0      0.0      0.0  \n",
       "1966      0.0      0.0      0.0  \n",
       "4758      0.0      0.0      0.0  \n",
       "1949      0.0      0.0      0.0  \n",
       "1891      0.0      0.0      0.0  "
      ]
     },
     "execution_count": 149,
     "metadata": {},
     "output_type": "execute_result"
    }
   ],
   "source": [
    "X_train.head()"
   ]
  },
  {
   "cell_type": "markdown",
   "id": "01bfbd05",
   "metadata": {},
   "source": [
    "**Add the Model_B columns back into the dataset**"
   ]
  },
  {
   "cell_type": "code",
   "execution_count": 53,
   "id": "5f0d9f57",
   "metadata": {
    "execution": {
     "iopub.execute_input": "2022-08-07T16:51:11.208456Z",
     "iopub.status.busy": "2022-08-07T16:51:11.208328Z",
     "iopub.status.idle": "2022-08-07T16:51:11.364800Z",
     "shell.execute_reply": "2022-08-07T16:51:11.364635Z",
     "shell.execute_reply.started": "2022-08-07T16:51:11.208425Z"
    },
    "tags": []
   },
   "outputs": [],
   "source": [
    "#add the model B columns back to X_train and X_test\n",
    "X_train['Model_B'] = X_train_model_B \n",
    "X_test['Model_B'] = X_test_model_B "
   ]
  },
  {
   "cell_type": "code",
   "execution_count": 150,
   "id": "2d3a20c0",
   "metadata": {
    "execution": {
     "iopub.execute_input": "2022-08-07T19:07:02.220547Z",
     "iopub.status.busy": "2022-08-07T19:07:02.220440Z",
     "iopub.status.idle": "2022-08-07T19:07:02.328256Z",
     "shell.execute_reply": "2022-08-07T19:07:02.328131Z",
     "shell.execute_reply.started": "2022-08-07T19:07:02.220501Z"
    },
    "tags": []
   },
   "outputs": [],
   "source": [
    "#method to train, predict, and score each model\n",
    "def train_predict_score(model, X_train, y_train, X_test, y_test):\n",
    "    model.fit(X_train,y_train)\n",
    "    \n",
    "    #metrics on training data\n",
    "    train_accuracy = metrics.accuracy_score(y_train,model.predict(X_train))\n",
    "    train_auc = metrics.roc_auc_score(y_train,model.predict_proba(X_train)[:,1])\n",
    "    train_f1 = metrics.f1_score(y_train,model.predict(X_train))\n",
    "    train_recall = metrics.recall_score(y_train, model.predict(X_train))\n",
    "    train_precision = metrics.precision_score(y_train, model.predict(X_train))\n",
    "    \n",
    "    #metrics on test data\n",
    "    test_accuracy = metrics.accuracy_score(y_test,model.predict(X_test))\n",
    "    test_auc = metrics.roc_auc_score(y_test,model.predict_proba(X_test)[:,1])\n",
    "    test_f1 = metrics.f1_score(y_test,model.predict(X_test))\n",
    "    test_recall = metrics.recall_score(y_test, model.predict(X_test))\n",
    "    test_precision = metrics.precision_score(y_test, model.predict(X_test))\n",
    "      \n",
    "    return dict({\n",
    "        'Train Accuracy':train_accuracy,\n",
    "        'Train AUC': train_auc,\n",
    "        'Train F1': train_f1,\n",
    "        'Train Recall': train_recall,\n",
    "        'Train Precision': train_precision,\n",
    "        'Test Accuracy':test_accuracy,\n",
    "        'Test AUC':test_auc,\n",
    "        'Test F1':test_f1,\n",
    "        'Test Recall': test_recall,\n",
    "        'Test Precision': test_precision})"
   ]
  },
  {
   "cell_type": "code",
   "execution_count": 171,
   "id": "54573195",
   "metadata": {
    "execution": {
     "iopub.execute_input": "2022-08-07T19:19:56.923665Z",
     "iopub.status.busy": "2022-08-07T19:19:56.923557Z",
     "iopub.status.idle": "2022-08-07T19:19:57.484550Z",
     "shell.execute_reply": "2022-08-07T19:19:57.482420Z",
     "shell.execute_reply.started": "2022-08-07T19:19:56.923635Z"
    },
    "tags": []
   },
   "outputs": [],
   "source": [
    "#DataFrame to hold scores\n",
    "model_scores = pd.DataFrame(columns=['Model','Train Accuracy','Train AUC','Train F1', 'Train Recall', \n",
    "                                     'Train Precision', 'Test Accuracy','Test AUC', 'Test F1',\n",
    "                                     'Test Recall', 'Test Precision'])"
   ]
  },
  {
   "cell_type": "code",
   "execution_count": 172,
   "id": "08cdb4a9",
   "metadata": {
    "execution": {
     "iopub.execute_input": "2022-08-07T19:20:00.325502Z",
     "iopub.status.busy": "2022-08-07T19:20:00.325336Z",
     "iopub.status.idle": "2022-08-07T19:20:07.617943Z",
     "shell.execute_reply": "2022-08-07T19:20:07.617820Z",
     "shell.execute_reply.started": "2022-08-07T19:20:00.325472Z"
    },
    "tags": []
   },
   "outputs": [
    {
     "name": "stderr",
     "output_type": "stream",
     "text": [
      "The frame.append method is deprecated and will be removed from pandas in a future version. Use pandas.concat instead.\n"
     ]
    }
   ],
   "source": [
    "#initial logistic regression model\n",
    "lr_model = linear_model.LogisticRegression(random_state=random_state)\n",
    "\n",
    "dict_score = train_predict_score(lr_model, X_train, y_train, X_test, y_test)\n",
    "dict_score['Model'] = 'Logistic Regression'\n",
    "\n",
    "model_scores = model_scores.append(dict_score, ignore_index=True)"
   ]
  },
  {
   "cell_type": "code",
   "execution_count": 173,
   "id": "6c22b0a1",
   "metadata": {
    "execution": {
     "iopub.execute_input": "2022-08-07T19:20:07.618146Z",
     "iopub.status.busy": "2022-08-07T19:20:07.618089Z",
     "iopub.status.idle": "2022-08-07T19:20:11.477555Z",
     "shell.execute_reply": "2022-08-07T19:20:11.477424Z",
     "shell.execute_reply.started": "2022-08-07T19:20:07.618122Z"
    },
    "tags": []
   },
   "outputs": [
    {
     "name": "stderr",
     "output_type": "stream",
     "text": [
      "The frame.append method is deprecated and will be removed from pandas in a future version. Use pandas.concat instead.\n"
     ]
    }
   ],
   "source": [
    "#initial random forest model\n",
    "rf_model = ensemble.RandomForestClassifier(random_state=random_state)\n",
    "\n",
    "dict_score = train_predict_score(rf_model, X_train, y_train, X_test, y_test)\n",
    "dict_score['Model'] = 'Random Forest'\n",
    "\n",
    "model_scores = model_scores.append(dict_score, ignore_index=True)"
   ]
  },
  {
   "cell_type": "code",
   "execution_count": 97,
   "id": "78b478b8",
   "metadata": {
    "execution": {
     "iopub.execute_input": "2022-08-07T18:17:20.738111Z",
     "iopub.status.busy": "2022-08-07T18:17:20.738057Z",
     "iopub.status.idle": "2022-08-07T18:17:20.819133Z",
     "shell.execute_reply": "2022-08-07T18:17:20.819012Z",
     "shell.execute_reply.started": "2022-08-07T18:17:20.738089Z"
    },
    "scrolled": true,
    "tags": []
   },
   "outputs": [
    {
     "data": {
      "text/html": [
       "<div>\n",
       "<style scoped>\n",
       "    .dataframe tbody tr th:only-of-type {\n",
       "        vertical-align: middle;\n",
       "    }\n",
       "\n",
       "    .dataframe tbody tr th {\n",
       "        vertical-align: top;\n",
       "    }\n",
       "\n",
       "    .dataframe thead th {\n",
       "        text-align: right;\n",
       "    }\n",
       "</style>\n",
       "<table border=\"1\" class=\"dataframe\">\n",
       "  <thead>\n",
       "    <tr style=\"text-align: right;\">\n",
       "      <th></th>\n",
       "      <th>Model</th>\n",
       "      <th>Train Accuracy</th>\n",
       "      <th>Train AUC</th>\n",
       "      <th>Train F1</th>\n",
       "      <th>Train Recall</th>\n",
       "      <th>Train Precision</th>\n",
       "      <th>Test Accuracy</th>\n",
       "      <th>Test AUC</th>\n",
       "      <th>Test F1</th>\n",
       "      <th>Test Recall</th>\n",
       "      <th>Test Precision</th>\n",
       "    </tr>\n",
       "  </thead>\n",
       "  <tbody>\n",
       "    <tr>\n",
       "      <th>1</th>\n",
       "      <td>Random Forest</td>\n",
       "      <td>1.0</td>\n",
       "      <td>1.0</td>\n",
       "      <td>1.0</td>\n",
       "      <td>1.0</td>\n",
       "      <td>1.0</td>\n",
       "      <td>0.948889</td>\n",
       "      <td>0.974854</td>\n",
       "      <td>0.836299</td>\n",
       "      <td>0.839286</td>\n",
       "      <td>0.833333</td>\n",
       "    </tr>\n",
       "    <tr>\n",
       "      <th>0</th>\n",
       "      <td>Logistic Regression</td>\n",
       "      <td>0.936429</td>\n",
       "      <td>0.976972</td>\n",
       "      <td>0.780968</td>\n",
       "      <td>0.727829</td>\n",
       "      <td>0.842478</td>\n",
       "      <td>0.944444</td>\n",
       "      <td>0.980458</td>\n",
       "      <td>0.814126</td>\n",
       "      <td>0.782143</td>\n",
       "      <td>0.848837</td>\n",
       "    </tr>\n",
       "  </tbody>\n",
       "</table>\n",
       "</div>"
      ],
      "text/plain": [
       "                 Model Train Accuracy Train AUC  Train F1 Train Recall  \\\n",
       "1        Random Forest            1.0       1.0       1.0          1.0   \n",
       "0  Logistic Regression       0.936429  0.976972  0.780968     0.727829   \n",
       "\n",
       "  Train Precision Test Accuracy  Test AUC   Test F1 Test Recall Test Precision  \n",
       "1             1.0      0.948889  0.974854  0.836299    0.839286       0.833333  \n",
       "0        0.842478      0.944444  0.980458  0.814126    0.782143       0.848837  "
      ]
     },
     "metadata": {},
     "output_type": "display_data"
    }
   ],
   "source": [
    "#inspect the initial model scores\n",
    "display(model_scores.sort_values(by='Test Recall', ascending=False))"
   ]
  },
  {
   "cell_type": "code",
   "execution_count": 174,
   "id": "348d489d-44aa-4d4a-ad9d-16b6c94d8e38",
   "metadata": {
    "execution": {
     "iopub.execute_input": "2022-08-07T19:20:17.207787Z",
     "iopub.status.busy": "2022-08-07T19:20:17.207690Z",
     "iopub.status.idle": "2022-08-07T19:20:17.347080Z",
     "shell.execute_reply": "2022-08-07T19:20:17.346939Z",
     "shell.execute_reply.started": "2022-08-07T19:20:17.207759Z"
    },
    "tags": []
   },
   "outputs": [
    {
     "data": {
      "text/html": [
       "<div>\n",
       "<style scoped>\n",
       "    .dataframe tbody tr th:only-of-type {\n",
       "        vertical-align: middle;\n",
       "    }\n",
       "\n",
       "    .dataframe tbody tr th {\n",
       "        vertical-align: top;\n",
       "    }\n",
       "\n",
       "    .dataframe thead th {\n",
       "        text-align: right;\n",
       "    }\n",
       "</style>\n",
       "<table border=\"1\" class=\"dataframe\">\n",
       "  <thead>\n",
       "    <tr style=\"text-align: right;\">\n",
       "      <th></th>\n",
       "      <th>Model</th>\n",
       "      <th>Train Accuracy</th>\n",
       "      <th>Train AUC</th>\n",
       "      <th>Train F1</th>\n",
       "      <th>Train Recall</th>\n",
       "      <th>Train Precision</th>\n",
       "      <th>Test Accuracy</th>\n",
       "      <th>Test AUC</th>\n",
       "      <th>Test F1</th>\n",
       "      <th>Test Recall</th>\n",
       "      <th>Test Precision</th>\n",
       "    </tr>\n",
       "  </thead>\n",
       "  <tbody>\n",
       "    <tr>\n",
       "      <th>1</th>\n",
       "      <td>Random Forest</td>\n",
       "      <td>1.0</td>\n",
       "      <td>1.0</td>\n",
       "      <td>1.0</td>\n",
       "      <td>1.0</td>\n",
       "      <td>1.0</td>\n",
       "      <td>0.948889</td>\n",
       "      <td>0.974854</td>\n",
       "      <td>0.836299</td>\n",
       "      <td>0.839286</td>\n",
       "      <td>0.833333</td>\n",
       "    </tr>\n",
       "    <tr>\n",
       "      <th>0</th>\n",
       "      <td>Logistic Regression</td>\n",
       "      <td>0.936429</td>\n",
       "      <td>0.976972</td>\n",
       "      <td>0.780968</td>\n",
       "      <td>0.727829</td>\n",
       "      <td>0.842478</td>\n",
       "      <td>0.944444</td>\n",
       "      <td>0.980458</td>\n",
       "      <td>0.814126</td>\n",
       "      <td>0.782143</td>\n",
       "      <td>0.848837</td>\n",
       "    </tr>\n",
       "  </tbody>\n",
       "</table>\n",
       "</div>"
      ],
      "text/plain": [
       "                 Model Train Accuracy Train AUC  Train F1 Train Recall  \\\n",
       "1        Random Forest            1.0       1.0       1.0          1.0   \n",
       "0  Logistic Regression       0.936429  0.976972  0.780968     0.727829   \n",
       "\n",
       "  Train Precision Test Accuracy  Test AUC   Test F1 Test Recall Test Precision  \n",
       "1             1.0      0.948889  0.974854  0.836299    0.839286       0.833333  \n",
       "0        0.842478      0.944444  0.980458  0.814126    0.782143       0.848837  "
      ]
     },
     "metadata": {},
     "output_type": "display_data"
    }
   ],
   "source": [
    "#inspect the initial model scores\n",
    "display(model_scores.sort_values(by='Test Recall', ascending=False))"
   ]
  },
  {
   "cell_type": "code",
   "execution_count": 181,
   "id": "f4ab24c7",
   "metadata": {
    "execution": {
     "iopub.execute_input": "2022-08-07T19:21:31.658204Z",
     "iopub.status.busy": "2022-08-07T19:21:31.658105Z",
     "iopub.status.idle": "2022-08-07T19:21:31.751117Z",
     "shell.execute_reply": "2022-08-07T19:21:31.750990Z",
     "shell.execute_reply.started": "2022-08-07T19:21:31.658176Z"
    },
    "tags": []
   },
   "outputs": [],
   "source": [
    "#get each model's predictions\n",
    "rf_predictions = (rf_model.predict_proba(X_test)[:,1] > 0.15).astype(np.int64)\n",
    "#rf_x1_true_predictions = (rf_model_X1_True.predict_proba(X_test_X1_true)[:,1] > 0.5).astype(np.int64)\n",
    "#rf_x1_false_predictions = (rf_model_X1_False.predict_proba(X_test_X1_false)[:,1] > 0.5).astype(np.int64)"
   ]
  },
  {
   "cell_type": "code",
   "execution_count": 182,
   "id": "d6256c9b-d9f4-4cc4-ac11-cfc76c5c199c",
   "metadata": {
    "execution": {
     "iopub.execute_input": "2022-08-07T19:21:35.686676Z",
     "iopub.status.busy": "2022-08-07T19:21:35.686561Z",
     "iopub.status.idle": "2022-08-07T19:21:35.804517Z",
     "shell.execute_reply": "2022-08-07T19:21:35.804380Z",
     "shell.execute_reply.started": "2022-08-07T19:21:35.686648Z"
    },
    "tags": []
   },
   "outputs": [
    {
     "data": {
      "text/html": [
       "<div>\n",
       "<style scoped>\n",
       "    .dataframe tbody tr th:only-of-type {\n",
       "        vertical-align: middle;\n",
       "    }\n",
       "\n",
       "    .dataframe tbody tr th {\n",
       "        vertical-align: top;\n",
       "    }\n",
       "\n",
       "    .dataframe thead th {\n",
       "        text-align: right;\n",
       "    }\n",
       "</style>\n",
       "<table border=\"1\" class=\"dataframe\">\n",
       "  <thead>\n",
       "    <tr style=\"text-align: right;\">\n",
       "      <th>col_0</th>\n",
       "      <th>0</th>\n",
       "      <th>1</th>\n",
       "    </tr>\n",
       "    <tr>\n",
       "      <th>Success</th>\n",
       "      <th></th>\n",
       "      <th></th>\n",
       "    </tr>\n",
       "  </thead>\n",
       "  <tbody>\n",
       "    <tr>\n",
       "      <th>0</th>\n",
       "      <td>1391</td>\n",
       "      <td>129</td>\n",
       "    </tr>\n",
       "    <tr>\n",
       "      <th>1</th>\n",
       "      <td>19</td>\n",
       "      <td>261</td>\n",
       "    </tr>\n",
       "  </tbody>\n",
       "</table>\n",
       "</div>"
      ],
      "text/plain": [
       "col_0       0    1\n",
       "Success           \n",
       "0        1391  129\n",
       "1          19  261"
      ]
     },
     "execution_count": 182,
     "metadata": {},
     "output_type": "execute_result"
    }
   ],
   "source": [
    "pd.crosstab(y_test,rf_predictions)"
   ]
  },
  {
   "cell_type": "code",
   "execution_count": 183,
   "id": "33af9706-386e-4c1f-a2b3-bd212fd8b5f6",
   "metadata": {
    "execution": {
     "iopub.execute_input": "2022-08-07T19:21:39.757281Z",
     "iopub.status.busy": "2022-08-07T19:21:39.757180Z",
     "iopub.status.idle": "2022-08-07T19:21:39.887086Z",
     "shell.execute_reply": "2022-08-07T19:21:39.886951Z",
     "shell.execute_reply.started": "2022-08-07T19:21:39.757251Z"
    },
    "tags": []
   },
   "outputs": [
    {
     "data": {
      "text/plain": [
       "61.35"
      ]
     },
     "execution_count": 183,
     "metadata": {},
     "output_type": "execute_result"
    }
   ],
   "source": [
    "rf_successes = ((rf_predictions == y_test) & (y_test == 1)).sum()\n",
    "rf_fp = ((rf_predictions != y_test) & (rf_predictions == 1)).sum()\n",
    "(rf_successes * 0.24) - (rf_fp * 0.01)"
   ]
  },
  {
   "cell_type": "code",
   "execution_count": 137,
   "id": "85d19082-a77a-4af1-bf40-ac790beb3a59",
   "metadata": {
    "execution": {
     "iopub.execute_input": "2022-08-07T18:54:02.208800Z",
     "iopub.status.busy": "2022-08-07T18:54:02.207840Z",
     "iopub.status.idle": "2022-08-07T18:54:02.138578Z",
     "shell.execute_reply": "2022-08-07T18:54:02.138464Z",
     "shell.execute_reply.started": "2022-08-07T18:54:02.20852Z"
    },
    "tags": []
   },
   "outputs": [
    {
     "data": {
      "text/plain": [
       "61.5"
      ]
     },
     "execution_count": 137,
     "metadata": {},
     "output_type": "execute_result"
    }
   ],
   "source": [
    "B_predictions = (X_test.Model_B > 0.5).astype(np.int64)\n",
    "B_successes = ((B_predictions == y_test) & (y_test == 1)).sum()\n",
    "B_fp = ((B_predictions != y_test) & (B_predictions == 1)).sum()\n",
    "(B_successes * 0.24) - (B_fp * 0.01)"
   ]
  },
  {
   "cell_type": "code",
   "execution_count": 138,
   "id": "59412fc0",
   "metadata": {
    "execution": {
     "iopub.execute_input": "2022-08-07T18:57:47.909036Z",
     "iopub.status.busy": "2022-08-07T18:57:47.908942Z",
     "iopub.status.idle": "2022-08-07T18:57:48.238940Z",
     "shell.execute_reply": "2022-08-07T18:57:48.237640Z",
     "shell.execute_reply.started": "2022-08-07T18:57:47.909008Z"
    },
    "tags": []
   },
   "outputs": [
    {
     "name": "stderr",
     "output_type": "stream",
     "text": [
      "The frame.append method is deprecated and will be removed from pandas in a future version. Use pandas.concat instead.\n",
      "The frame.append method is deprecated and will be removed from pandas in a future version. Use pandas.concat instead.\n"
     ]
    }
   ],
   "source": [
    "#get the model B predictions\n",
    "Model_B_predictions = (X_test.Model_B > 0.5).astype(np.int64)\n",
    "\n",
    "#get the number of true positives for Model A vs. Model B\n",
    "model_A_tp = rf_successes\n",
    "model_B_tp = ((Model_B_predictions == y_test) & (y_test == 1)).sum()\n",
    "\n",
    "#calculate recall for model B\n",
    "model_B_fn = ((Model_B_predictions != y_test) & (Model_B_predictions == 0)).sum()\n",
    "model_B_recall = model_B_tp / (model_B_tp + model_B_fn)\n",
    "\n",
    "#calculate recall for model A\n",
    "rf_x1_true_fn = ((rf_predictions != y_test) & (rf_predictions == 0)).sum()\n",
    "rf_x1_false_fn = ((rf_predictions != y_test) & (rf_predictions == 0)).sum()\n",
    "model_A_fn = rf_x1_true_fn + rf_x1_false_fn\n",
    "\n",
    "model_A_recall = rf_successes / (rf_successes + model_A_fn)\n",
    "\n",
    "#DataFrame to hold correct prediction count\n",
    "df_model_comparison = pd.DataFrame(columns=['Model','True Positives','Recall'])\n",
    "df_model_comparison = \\\n",
    "    df_model_comparison.append(dict({'Model':'A', 'True Positives': model_A_tp, \n",
    "                                 'Recall':model_A_recall}), ignore_index=True)\n",
    "df_model_comparison = \\\n",
    "    df_model_comparison.append(dict({'Model':'B', 'True Positives': model_B_tp, \n",
    "                                 'Recall':model_B_recall}), ignore_index=True)"
   ]
  },
  {
   "cell_type": "code",
   "execution_count": 139,
   "id": "3773c604",
   "metadata": {
    "execution": {
     "iopub.execute_input": "2022-08-07T18:57:51.736540Z",
     "iopub.status.busy": "2022-08-07T18:57:51.736444Z",
     "iopub.status.idle": "2022-08-07T18:57:51.860307Z",
     "shell.execute_reply": "2022-08-07T18:57:51.860185Z",
     "shell.execute_reply.started": "2022-08-07T18:57:51.736510Z"
    },
    "tags": []
   },
   "outputs": [
    {
     "data": {
      "text/html": [
       "<div>\n",
       "<style scoped>\n",
       "    .dataframe tbody tr th:only-of-type {\n",
       "        vertical-align: middle;\n",
       "    }\n",
       "\n",
       "    .dataframe tbody tr th {\n",
       "        vertical-align: top;\n",
       "    }\n",
       "\n",
       "    .dataframe thead th {\n",
       "        text-align: right;\n",
       "    }\n",
       "</style>\n",
       "<table border=\"1\" class=\"dataframe\">\n",
       "  <thead>\n",
       "    <tr style=\"text-align: right;\">\n",
       "      <th></th>\n",
       "      <th>Model</th>\n",
       "      <th>True Positives</th>\n",
       "      <th>Recall</th>\n",
       "    </tr>\n",
       "  </thead>\n",
       "  <tbody>\n",
       "    <tr>\n",
       "      <th>0</th>\n",
       "      <td>A</td>\n",
       "      <td>269</td>\n",
       "      <td>0.924399</td>\n",
       "    </tr>\n",
       "    <tr>\n",
       "      <th>1</th>\n",
       "      <td>B</td>\n",
       "      <td>280</td>\n",
       "      <td>1.0</td>\n",
       "    </tr>\n",
       "  </tbody>\n",
       "</table>\n",
       "</div>"
      ],
      "text/plain": [
       "  Model True Positives    Recall\n",
       "0     A            269  0.924399\n",
       "1     B            280       1.0"
      ]
     },
     "execution_count": 139,
     "metadata": {},
     "output_type": "execute_result"
    }
   ],
   "source": [
    "df_model_comparison"
   ]
  },
  {
   "cell_type": "markdown",
   "id": "6870a5fb",
   "metadata": {},
   "source": [
    "**Model B outperformed Model A in terms of both True Positives and Recall**"
   ]
  },
  {
   "cell_type": "markdown",
   "id": "f364cea0",
   "metadata": {},
   "source": [
    "## Part 4"
   ]
  },
  {
   "cell_type": "code",
   "execution_count": 158,
   "id": "03b90b02",
   "metadata": {
    "execution": {
     "iopub.execute_input": "2022-08-07T19:09:19.564881Z",
     "iopub.status.busy": "2022-08-07T19:09:19.564765Z",
     "iopub.status.idle": "2022-08-07T19:09:20.196484Z",
     "shell.execute_reply": "2022-08-07T19:09:20.196342Z",
     "shell.execute_reply.started": "2022-08-07T19:09:19.564829Z"
    },
    "tags": []
   },
   "outputs": [
    {
     "ename": "<class 'AttributeError'>",
     "evalue": "'DataFrame' object has no attribute 'Model_B'",
     "output_type": "error",
     "traceback": [
      "\u001b[0;31m---------------------------------------------------------------------------\u001b[0m",
      "\u001b[0;31mAttributeError\u001b[0m                            Traceback (most recent call last)",
      "Input \u001b[0;32mIn [158]\u001b[0m, in \u001b[0;36m<cell line: 12>\u001b[0;34m()\u001b[0m\n\u001b[1;32m      7\u001b[0m df_x1_true_predictions\u001b[38;5;241m.\u001b[39mrename(columns\u001b[38;5;241m=\u001b[39m{\u001b[38;5;241m0\u001b[39m:\u001b[38;5;124m'\u001b[39m\u001b[38;5;124mModel_A_Prob\u001b[39m\u001b[38;5;124m'\u001b[39m}, inplace\u001b[38;5;241m=\u001b[39m\u001b[38;5;28;01mTrue\u001b[39;00m)\n\u001b[1;32m     11\u001b[0m \u001b[38;5;66;03m#add the model B predictions\u001b[39;00m\n\u001b[0;32m---> 12\u001b[0m df_actual_pred \u001b[38;5;241m=\u001b[39m pd\u001b[38;5;241m.\u001b[39mconcat([df_x1_true_predictions, X_test\u001b[38;5;241m.\u001b[39mModel_B], axis\u001b[38;5;241m=\u001b[39m\u001b[38;5;241m1\u001b[39m)\n\u001b[1;32m     13\u001b[0m df_actual_pred \u001b[38;5;241m=\u001b[39m df_actual_pred\u001b[38;5;241m.\u001b[39mrename(columns\u001b[38;5;241m=\u001b[39m{\u001b[38;5;124m'\u001b[39m\u001b[38;5;124mModel_B\u001b[39m\u001b[38;5;124m'\u001b[39m:\u001b[38;5;124m'\u001b[39m\u001b[38;5;124mModel_B_Prob\u001b[39m\u001b[38;5;124m'\u001b[39m})\n",
      "File \u001b[0;32m/usr/local/lib/python3.9/site-packages/pandas/core/generic.py:5575\u001b[0m, in \u001b[0;36mNDFrame.__getattr__\u001b[0;34m(self, name)\u001b[0m\n\u001b[1;32m   5568\u001b[0m \u001b[38;5;28;01mif\u001b[39;00m (\n\u001b[1;32m   5569\u001b[0m     name \u001b[38;5;129;01mnot\u001b[39;00m \u001b[38;5;129;01min\u001b[39;00m \u001b[38;5;28mself\u001b[39m\u001b[38;5;241m.\u001b[39m_internal_names_set\n\u001b[1;32m   5570\u001b[0m     \u001b[38;5;129;01mand\u001b[39;00m name \u001b[38;5;129;01mnot\u001b[39;00m \u001b[38;5;129;01min\u001b[39;00m \u001b[38;5;28mself\u001b[39m\u001b[38;5;241m.\u001b[39m_metadata\n\u001b[1;32m   5571\u001b[0m     \u001b[38;5;129;01mand\u001b[39;00m name \u001b[38;5;129;01mnot\u001b[39;00m \u001b[38;5;129;01min\u001b[39;00m \u001b[38;5;28mself\u001b[39m\u001b[38;5;241m.\u001b[39m_accessors\n\u001b[1;32m   5572\u001b[0m     \u001b[38;5;129;01mand\u001b[39;00m \u001b[38;5;28mself\u001b[39m\u001b[38;5;241m.\u001b[39m_info_axis\u001b[38;5;241m.\u001b[39m_can_hold_identifiers_and_holds_name(name)\n\u001b[1;32m   5573\u001b[0m ):\n\u001b[1;32m   5574\u001b[0m     \u001b[38;5;28;01mreturn\u001b[39;00m \u001b[38;5;28mself\u001b[39m[name]\n\u001b[0;32m-> 5575\u001b[0m \u001b[38;5;28;01mreturn\u001b[39;00m \u001b[38;5;28;43mobject\u001b[39;49m\u001b[38;5;241;43m.\u001b[39;49m\u001b[38;5;21;43m__getattribute__\u001b[39;49m\u001b[43m(\u001b[49m\u001b[38;5;28;43mself\u001b[39;49m\u001b[43m,\u001b[49m\u001b[43m \u001b[49m\u001b[43mname\u001b[49m\u001b[43m)\u001b[49m\n",
      "\u001b[0;31mAttributeError\u001b[0m: 'DataFrame' object has no attribute 'Model_B'"
     ]
    }
   ],
   "source": [
    "#Model A (segment X1 = True) predctions and actuals\n",
    "df_x1_true_predictions = pd.DataFrame(rf_model.predict_proba(X_test)[:,1])\n",
    "df_x1_true_predictions.index = y_test.index\n",
    "df_x1_true_predictions['Actual'] = y_test\n",
    "\n",
    "#rename the predictions column\n",
    "df_x1_true_predictions.rename(columns={0:'Model_A_Prob'}, inplace=True)\n",
    "\n",
    "\n",
    "\n",
    "#add the model B predictions\n",
    "df_actual_pred = pd.concat([df_x1_true_predictions, X_test.Model_B], axis=1)\n",
    "df_actual_pred = df_actual_pred.rename(columns={'Model_B':'Model_B_Prob'})"
   ]
  },
  {
   "cell_type": "code",
   "execution_count": 184,
   "id": "ecf0f785-ff9f-4bfc-8f6f-80c13b140707",
   "metadata": {
    "execution": {
     "iopub.execute_input": "2022-08-07T19:22:10.341110Z",
     "iopub.status.busy": "2022-08-07T19:22:10.341019Z",
     "iopub.status.idle": "2022-08-07T19:22:10.447100Z",
     "shell.execute_reply": "2022-08-07T19:22:10.446970Z",
     "shell.execute_reply.started": "2022-08-07T19:22:10.341083Z"
    },
    "tags": []
   },
   "outputs": [],
   "source": [
    "#Model A (segment X1 = True) predctions and actuals\n",
    "df_x1_true_predictions = pd.DataFrame(rf_model.predict_proba(X_test)[:,1])\n",
    "df_x1_true_predictions.index = y_test.index\n",
    "df_x1_true_predictions['Actual'] = y_test\n",
    "\n",
    "#rename the predictions column\n",
    "df_x1_true_predictions.rename(columns={0:'Model_A_Prob'}, inplace=True)\n",
    "\n",
    "\n",
    "\n",
    "#add the model B predictions\n",
    "df_actual_pred = df_x1_true_predictions\n"
   ]
  },
  {
   "cell_type": "code",
   "execution_count": 185,
   "id": "d4deffe1-3064-4518-b3e9-e5ad58188b76",
   "metadata": {
    "execution": {
     "iopub.execute_input": "2022-08-07T19:22:14.935596Z",
     "iopub.status.busy": "2022-08-07T19:22:14.935502Z",
     "iopub.status.idle": "2022-08-07T19:22:15.406440Z",
     "shell.execute_reply": "2022-08-07T19:22:15.405140Z",
     "shell.execute_reply.started": "2022-08-07T19:22:14.935569Z"
    },
    "tags": []
   },
   "outputs": [
    {
     "data": {
      "text/html": [
       "<div>\n",
       "<style scoped>\n",
       "    .dataframe tbody tr th:only-of-type {\n",
       "        vertical-align: middle;\n",
       "    }\n",
       "\n",
       "    .dataframe tbody tr th {\n",
       "        vertical-align: top;\n",
       "    }\n",
       "\n",
       "    .dataframe thead th {\n",
       "        text-align: right;\n",
       "    }\n",
       "</style>\n",
       "<table border=\"1\" class=\"dataframe\">\n",
       "  <thead>\n",
       "    <tr style=\"text-align: right;\">\n",
       "      <th></th>\n",
       "      <th>Model_A_Prob</th>\n",
       "      <th>Actual</th>\n",
       "    </tr>\n",
       "  </thead>\n",
       "  <tbody>\n",
       "    <tr>\n",
       "      <th>count</th>\n",
       "      <td>1800.000000</td>\n",
       "      <td>1800.000000</td>\n",
       "    </tr>\n",
       "    <tr>\n",
       "      <th>mean</th>\n",
       "      <td>0.158767</td>\n",
       "      <td>0.155556</td>\n",
       "    </tr>\n",
       "    <tr>\n",
       "      <th>std</th>\n",
       "      <td>0.309317</td>\n",
       "      <td>0.362534</td>\n",
       "    </tr>\n",
       "    <tr>\n",
       "      <th>min</th>\n",
       "      <td>0.000000</td>\n",
       "      <td>0.000000</td>\n",
       "    </tr>\n",
       "    <tr>\n",
       "      <th>25%</th>\n",
       "      <td>0.000000</td>\n",
       "      <td>0.000000</td>\n",
       "    </tr>\n",
       "    <tr>\n",
       "      <th>50%</th>\n",
       "      <td>0.000000</td>\n",
       "      <td>0.000000</td>\n",
       "    </tr>\n",
       "    <tr>\n",
       "      <th>75%</th>\n",
       "      <td>0.080000</td>\n",
       "      <td>0.000000</td>\n",
       "    </tr>\n",
       "    <tr>\n",
       "      <th>max</th>\n",
       "      <td>1.000000</td>\n",
       "      <td>1.000000</td>\n",
       "    </tr>\n",
       "  </tbody>\n",
       "</table>\n",
       "</div>"
      ],
      "text/plain": [
       "       Model_A_Prob       Actual\n",
       "count   1800.000000  1800.000000\n",
       "mean       0.158767     0.155556\n",
       "std        0.309317     0.362534\n",
       "min        0.000000     0.000000\n",
       "25%        0.000000     0.000000\n",
       "50%        0.000000     0.000000\n",
       "75%        0.080000     0.000000\n",
       "max        1.000000     1.000000"
      ]
     },
     "execution_count": 185,
     "metadata": {},
     "output_type": "execute_result"
    }
   ],
   "source": [
    "df_actual_pred.describe()"
   ]
  },
  {
   "cell_type": "markdown",
   "id": "dfd864b3",
   "metadata": {},
   "source": [
    "## Model A"
   ]
  },
  {
   "cell_type": "code",
   "execution_count": 186,
   "id": "fbc67f26",
   "metadata": {
    "execution": {
     "iopub.execute_input": "2022-08-07T19:22:22.969468Z",
     "iopub.status.busy": "2022-08-07T19:22:22.969338Z",
     "iopub.status.idle": "2022-08-07T19:22:23.741100Z",
     "shell.execute_reply": "2022-08-07T19:22:23.739790Z",
     "shell.execute_reply.started": "2022-08-07T19:22:22.969436Z"
    },
    "tags": []
   },
   "outputs": [],
   "source": [
    "#since Model A predicted a lot of 0s we cannot use qcut on the 'Model_A_Prob' column,\n",
    "#therefore we can sort the dataframe and use rank values\n",
    "df_actual_pred = df_actual_pred.sort_values(by='Model_A_Prob')\n",
    "df_actual_pred['Rank_A'] = range(1,len(df_actual_pred) + 1)\n",
    "\n",
    "#cut the dataframe into 10 equal sized buckets (based on Model A Predictions)\n",
    "df_actual_pred['Bin'] = pd.qcut(df_actual_pred['Rank_A'],10)\n",
    "\n",
    "#group the data in order to inspect profit/loss for each bin/group\n",
    "df_grouped_data_A = df_actual_pred.groupby('Bin').agg({'Actual':'sum', 'Model_A_Prob':'count'}) \\\n",
    "    .rename(columns={'Model_A_Prob':'Count', 'Actual':'Successes'})\n",
    "\n",
    "#determine the cost of the emails and the value provided by the emails for each group/bin\n",
    "df_grouped_data_A['Cost'] = df_grouped_data_A['Count'] * 0.01\n",
    "df_grouped_data_A['Value'] = df_grouped_data_A['Successes'] * 0.25\n",
    "\n",
    "#determine profit or loss for each group/bin\n",
    "df_grouped_data_A['P/L'] = df_grouped_data_A['Value'] - df_grouped_data_A['Cost']\n",
    "\n",
    "df_actual_pred.drop(columns=['Rank_A','Bin'], inplace=True)"
   ]
  },
  {
   "cell_type": "markdown",
   "id": "2830618e",
   "metadata": {},
   "source": [
    "## Model B"
   ]
  },
  {
   "cell_type": "code",
   "execution_count": 145,
   "id": "91624d3a",
   "metadata": {
    "execution": {
     "iopub.execute_input": "2022-08-07T19:03:39.307142Z",
     "iopub.status.busy": "2022-08-07T19:03:39.307047Z",
     "iopub.status.idle": "2022-08-07T19:03:39.448418Z",
     "shell.execute_reply": "2022-08-07T19:03:39.448272Z",
     "shell.execute_reply.started": "2022-08-07T19:03:39.307114Z"
    },
    "tags": []
   },
   "outputs": [],
   "source": [
    "#cut the dataframe into 10 equal sized buckets (based on Model A Predictions)\n",
    "df_actual_pred['Bin'] = pd.qcut(df_actual_pred['Model_B_Prob'],10)\n",
    "\n",
    "#group the data in order to inspect profit/loss for each bin/group\n",
    "df_grouped_data_B = df_actual_pred.groupby('Bin').agg({'Actual':'sum', 'Model_B_Prob':'count'}) \\\n",
    "    .rename(columns={'Model_B_Prob':'Count', 'Actual':'Successes'})\n",
    "\n",
    "#determine the cost of the emails and the value provided by the emails for each group/bin\n",
    "df_grouped_data_B['Cost'] = df_grouped_data_B['Count'] * 0.01\n",
    "df_grouped_data_B['Value'] = df_grouped_data_B['Successes'] * 0.25\n",
    "\n",
    "#determine profit or loss for each group/bin\n",
    "df_grouped_data_B['P/L'] = df_grouped_data_B['Value'] - df_grouped_data_B['Cost']\n",
    "\n",
    "df_actual_pred.drop(columns='Bin', inplace=True)"
   ]
  },
  {
   "cell_type": "code",
   "execution_count": 196,
   "id": "edc30e2a",
   "metadata": {
    "execution": {
     "iopub.execute_input": "2022-08-07T19:35:08.279139Z",
     "iopub.status.busy": "2022-08-07T19:35:08.279035Z",
     "iopub.status.idle": "2022-08-07T19:35:08.375446Z",
     "shell.execute_reply": "2022-08-07T19:35:08.375303Z",
     "shell.execute_reply.started": "2022-08-07T19:35:08.279108Z"
    },
    "tags": []
   },
   "outputs": [
    {
     "data": {
      "text/html": [
       "<div>\n",
       "<style scoped>\n",
       "    .dataframe tbody tr th:only-of-type {\n",
       "        vertical-align: middle;\n",
       "    }\n",
       "\n",
       "    .dataframe tbody tr th {\n",
       "        vertical-align: top;\n",
       "    }\n",
       "\n",
       "    .dataframe thead th {\n",
       "        text-align: right;\n",
       "    }\n",
       "</style>\n",
       "<table border=\"1\" class=\"dataframe\">\n",
       "  <thead>\n",
       "    <tr style=\"text-align: right;\">\n",
       "      <th></th>\n",
       "      <th>Successes</th>\n",
       "      <th>Count</th>\n",
       "      <th>Cost</th>\n",
       "      <th>Value</th>\n",
       "      <th>P/L</th>\n",
       "    </tr>\n",
       "    <tr>\n",
       "      <th>Bin</th>\n",
       "      <th></th>\n",
       "      <th></th>\n",
       "      <th></th>\n",
       "      <th></th>\n",
       "      <th></th>\n",
       "    </tr>\n",
       "  </thead>\n",
       "  <tbody>\n",
       "    <tr>\n",
       "      <th>(0.999, 180.9]</th>\n",
       "      <td>1</td>\n",
       "      <td>180</td>\n",
       "      <td>1.8</td>\n",
       "      <td>0.25</td>\n",
       "      <td>-1.55</td>\n",
       "    </tr>\n",
       "    <tr>\n",
       "      <th>(180.9, 360.8]</th>\n",
       "      <td>0</td>\n",
       "      <td>180</td>\n",
       "      <td>1.8</td>\n",
       "      <td>0.00</td>\n",
       "      <td>-1.80</td>\n",
       "    </tr>\n",
       "    <tr>\n",
       "      <th>(360.8, 540.7]</th>\n",
       "      <td>0</td>\n",
       "      <td>180</td>\n",
       "      <td>1.8</td>\n",
       "      <td>0.00</td>\n",
       "      <td>-1.80</td>\n",
       "    </tr>\n",
       "    <tr>\n",
       "      <th>(540.7, 720.6]</th>\n",
       "      <td>0</td>\n",
       "      <td>180</td>\n",
       "      <td>1.8</td>\n",
       "      <td>0.00</td>\n",
       "      <td>-1.80</td>\n",
       "    </tr>\n",
       "    <tr>\n",
       "      <th>(720.6, 900.5]</th>\n",
       "      <td>1</td>\n",
       "      <td>180</td>\n",
       "      <td>1.8</td>\n",
       "      <td>0.25</td>\n",
       "      <td>-1.55</td>\n",
       "    </tr>\n",
       "    <tr>\n",
       "      <th>(900.5, 1080.4]</th>\n",
       "      <td>0</td>\n",
       "      <td>180</td>\n",
       "      <td>1.8</td>\n",
       "      <td>0.00</td>\n",
       "      <td>-1.80</td>\n",
       "    </tr>\n",
       "    <tr>\n",
       "      <th>(1080.4, 1260.3]</th>\n",
       "      <td>3</td>\n",
       "      <td>180</td>\n",
       "      <td>1.8</td>\n",
       "      <td>0.75</td>\n",
       "      <td>-1.05</td>\n",
       "    </tr>\n",
       "    <tr>\n",
       "      <th>(1260.3, 1440.2]</th>\n",
       "      <td>18</td>\n",
       "      <td>180</td>\n",
       "      <td>1.8</td>\n",
       "      <td>4.50</td>\n",
       "      <td>2.70</td>\n",
       "    </tr>\n",
       "    <tr>\n",
       "      <th>(1440.2, 1620.1]</th>\n",
       "      <td>91</td>\n",
       "      <td>180</td>\n",
       "      <td>1.8</td>\n",
       "      <td>22.75</td>\n",
       "      <td>20.95</td>\n",
       "    </tr>\n",
       "    <tr>\n",
       "      <th>(1620.1, 1800.0]</th>\n",
       "      <td>166</td>\n",
       "      <td>180</td>\n",
       "      <td>1.8</td>\n",
       "      <td>41.50</td>\n",
       "      <td>39.70</td>\n",
       "    </tr>\n",
       "  </tbody>\n",
       "</table>\n",
       "</div>"
      ],
      "text/plain": [
       "                  Successes  Count  Cost  Value    P/L\n",
       "Bin                                                   \n",
       "(0.999, 180.9]            1    180   1.8   0.25  -1.55\n",
       "(180.9, 360.8]            0    180   1.8   0.00  -1.80\n",
       "(360.8, 540.7]            0    180   1.8   0.00  -1.80\n",
       "(540.7, 720.6]            0    180   1.8   0.00  -1.80\n",
       "(720.6, 900.5]            1    180   1.8   0.25  -1.55\n",
       "(900.5, 1080.4]           0    180   1.8   0.00  -1.80\n",
       "(1080.4, 1260.3]          3    180   1.8   0.75  -1.05\n",
       "(1260.3, 1440.2]         18    180   1.8   4.50   2.70\n",
       "(1440.2, 1620.1]         91    180   1.8  22.75  20.95\n",
       "(1620.1, 1800.0]        166    180   1.8  41.50  39.70"
      ]
     },
     "execution_count": 196,
     "metadata": {},
     "output_type": "execute_result"
    }
   ],
   "source": [
    "df_grouped_data_A"
   ]
  },
  {
   "cell_type": "code",
   "execution_count": 147,
   "id": "36dbf1df",
   "metadata": {
    "execution": {
     "iopub.execute_input": "2022-08-07T19:03:57.827384Z",
     "iopub.status.busy": "2022-08-07T19:03:57.827259Z",
     "iopub.status.idle": "2022-08-07T19:03:57.933199Z",
     "shell.execute_reply": "2022-08-07T19:03:57.933081Z",
     "shell.execute_reply.started": "2022-08-07T19:03:57.827330Z"
    },
    "tags": []
   },
   "outputs": [
    {
     "data": {
      "text/html": [
       "<div>\n",
       "<style scoped>\n",
       "    .dataframe tbody tr th:only-of-type {\n",
       "        vertical-align: middle;\n",
       "    }\n",
       "\n",
       "    .dataframe tbody tr th {\n",
       "        vertical-align: top;\n",
       "    }\n",
       "\n",
       "    .dataframe thead th {\n",
       "        text-align: right;\n",
       "    }\n",
       "</style>\n",
       "<table border=\"1\" class=\"dataframe\">\n",
       "  <thead>\n",
       "    <tr style=\"text-align: right;\">\n",
       "      <th></th>\n",
       "      <th>Successes</th>\n",
       "      <th>Count</th>\n",
       "      <th>Cost</th>\n",
       "      <th>Value</th>\n",
       "      <th>P/L</th>\n",
       "    </tr>\n",
       "    <tr>\n",
       "      <th>Bin</th>\n",
       "      <th></th>\n",
       "      <th></th>\n",
       "      <th></th>\n",
       "      <th></th>\n",
       "      <th></th>\n",
       "    </tr>\n",
       "  </thead>\n",
       "  <tbody>\n",
       "    <tr>\n",
       "      <th>(0.0219, 0.21]</th>\n",
       "      <td>0</td>\n",
       "      <td>180</td>\n",
       "      <td>1.8</td>\n",
       "      <td>0.00</td>\n",
       "      <td>-1.80</td>\n",
       "    </tr>\n",
       "    <tr>\n",
       "      <th>(0.21, 0.291]</th>\n",
       "      <td>0</td>\n",
       "      <td>180</td>\n",
       "      <td>1.8</td>\n",
       "      <td>0.00</td>\n",
       "      <td>-1.80</td>\n",
       "    </tr>\n",
       "    <tr>\n",
       "      <th>(0.291, 0.358]</th>\n",
       "      <td>0</td>\n",
       "      <td>180</td>\n",
       "      <td>1.8</td>\n",
       "      <td>0.00</td>\n",
       "      <td>-1.80</td>\n",
       "    </tr>\n",
       "    <tr>\n",
       "      <th>(0.358, 0.42]</th>\n",
       "      <td>0</td>\n",
       "      <td>180</td>\n",
       "      <td>1.8</td>\n",
       "      <td>0.00</td>\n",
       "      <td>-1.80</td>\n",
       "    </tr>\n",
       "    <tr>\n",
       "      <th>(0.42, 0.483]</th>\n",
       "      <td>0</td>\n",
       "      <td>180</td>\n",
       "      <td>1.8</td>\n",
       "      <td>0.00</td>\n",
       "      <td>-1.80</td>\n",
       "    </tr>\n",
       "    <tr>\n",
       "      <th>(0.483, 0.547]</th>\n",
       "      <td>0</td>\n",
       "      <td>180</td>\n",
       "      <td>1.8</td>\n",
       "      <td>0.00</td>\n",
       "      <td>-1.80</td>\n",
       "    </tr>\n",
       "    <tr>\n",
       "      <th>(0.547, 0.618]</th>\n",
       "      <td>4</td>\n",
       "      <td>180</td>\n",
       "      <td>1.8</td>\n",
       "      <td>1.00</td>\n",
       "      <td>-0.80</td>\n",
       "    </tr>\n",
       "    <tr>\n",
       "      <th>(0.618, 0.696]</th>\n",
       "      <td>18</td>\n",
       "      <td>180</td>\n",
       "      <td>1.8</td>\n",
       "      <td>4.50</td>\n",
       "      <td>2.70</td>\n",
       "    </tr>\n",
       "    <tr>\n",
       "      <th>(0.696, 0.788]</th>\n",
       "      <td>91</td>\n",
       "      <td>180</td>\n",
       "      <td>1.8</td>\n",
       "      <td>22.75</td>\n",
       "      <td>20.95</td>\n",
       "    </tr>\n",
       "    <tr>\n",
       "      <th>(0.788, 0.971]</th>\n",
       "      <td>167</td>\n",
       "      <td>180</td>\n",
       "      <td>1.8</td>\n",
       "      <td>41.75</td>\n",
       "      <td>39.95</td>\n",
       "    </tr>\n",
       "  </tbody>\n",
       "</table>\n",
       "</div>"
      ],
      "text/plain": [
       "                Successes  Count  Cost  Value    P/L\n",
       "Bin                                                 \n",
       "(0.0219, 0.21]          0    180   1.8   0.00  -1.80\n",
       "(0.21, 0.291]           0    180   1.8   0.00  -1.80\n",
       "(0.291, 0.358]          0    180   1.8   0.00  -1.80\n",
       "(0.358, 0.42]           0    180   1.8   0.00  -1.80\n",
       "(0.42, 0.483]           0    180   1.8   0.00  -1.80\n",
       "(0.483, 0.547]          0    180   1.8   0.00  -1.80\n",
       "(0.547, 0.618]          4    180   1.8   1.00  -0.80\n",
       "(0.618, 0.696]         18    180   1.8   4.50   2.70\n",
       "(0.696, 0.788]         91    180   1.8  22.75  20.95\n",
       "(0.788, 0.971]        167    180   1.8  41.75  39.95"
      ]
     },
     "execution_count": 147,
     "metadata": {},
     "output_type": "execute_result"
    }
   ],
   "source": [
    "df_grouped_data_B"
   ]
  }
 ],
 "metadata": {
  "kernelspec": {
   "display_name": "Python 3",
   "language": "python",
   "name": "python3"
  },
  "language_info": {
   "file_extension": ".py",
   "mimetype": "text/x-python",
   "name": "python",
   "version": "3.9.12"
  }
 },
 "nbformat": 4,
 "nbformat_minor": 5
}
