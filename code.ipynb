{
 "cells": [
  {
   "cell_type": "markdown",
   "id": "f321aa9f-755b-45b5-886d-9415dfba457c",
   "metadata": {},
   "source": [
    "# ML Engineer Take Home Project"
   ]
  },
  {
   "cell_type": "markdown",
   "id": "02eabf10-de33-4a5e-b55c-1c61e755c006",
   "metadata": {},
   "source": [
    "## Install dependencies"
   ]
  },
  {
   "cell_type": "code",
   "execution_count": 40,
   "id": "96dc0ae1-0ed8-47d9-9931-3387f7c8075c",
   "metadata": {},
   "outputs": [
    {
     "name": "stdout",
     "output_type": "stream",
     "text": [
      "Python 3.9.17\n"
     ]
    }
   ],
   "source": [
    "!python -V"
   ]
  },
  {
   "cell_type": "code",
   "execution_count": 1,
   "id": "04bf38da-b082-40b5-b78a-b41095461642",
   "metadata": {},
   "outputs": [
    {
     "name": "stdout",
     "output_type": "stream",
     "text": [
      "Requirement already satisfied: pandas in ./.venv/lib/python3.9/site-packages (2.1.4)\n",
      "Requirement already satisfied: scikit-learn in ./.venv/lib/python3.9/site-packages (1.3.2)\n",
      "Requirement already satisfied: imbalanced-learn in ./.venv/lib/python3.9/site-packages (0.11.0)\n",
      "Requirement already satisfied: lightgbm in ./.venv/lib/python3.9/site-packages (4.2.0)\n",
      "Requirement already satisfied: tzdata>=2022.1 in ./.venv/lib/python3.9/site-packages (from pandas) (2023.4)\n",
      "Requirement already satisfied: numpy<2,>=1.22.4 in ./.venv/lib/python3.9/site-packages (from pandas) (1.26.3)\n",
      "Requirement already satisfied: pytz>=2020.1 in ./.venv/lib/python3.9/site-packages (from pandas) (2023.3.post1)\n",
      "Requirement already satisfied: python-dateutil>=2.8.2 in ./.venv/lib/python3.9/site-packages (from pandas) (2.8.2)\n",
      "Requirement already satisfied: scipy>=1.5.0 in ./.venv/lib/python3.9/site-packages (from scikit-learn) (1.11.4)\n",
      "Requirement already satisfied: joblib>=1.1.1 in ./.venv/lib/python3.9/site-packages (from scikit-learn) (1.3.2)\n",
      "Requirement already satisfied: threadpoolctl>=2.0.0 in ./.venv/lib/python3.9/site-packages (from scikit-learn) (3.2.0)\n",
      "Requirement already satisfied: six>=1.5 in ./.venv/lib/python3.9/site-packages (from python-dateutil>=2.8.2->pandas) (1.16.0)\n",
      "\n",
      "\u001b[1m[\u001b[0m\u001b[34;49mnotice\u001b[0m\u001b[1;39;49m]\u001b[0m\u001b[39;49m A new release of pip is available: \u001b[0m\u001b[31;49m23.0.1\u001b[0m\u001b[39;49m -> \u001b[0m\u001b[32;49m23.3.2\u001b[0m\n",
      "\u001b[1m[\u001b[0m\u001b[34;49mnotice\u001b[0m\u001b[1;39;49m]\u001b[0m\u001b[39;49m To update, run: \u001b[0m\u001b[32;49mpip install --upgrade pip\u001b[0m\n"
     ]
    }
   ],
   "source": [
    "!pip install pandas scikit-learn imbalanced-learn lightgbm"
   ]
  },
  {
   "cell_type": "markdown",
   "id": "53ec09ad-079d-4113-8904-2f526280cfa6",
   "metadata": {},
   "source": [
    "## Load dataset"
   ]
  },
  {
   "cell_type": "code",
   "execution_count": 2,
   "id": "73792786-c3d6-4643-98eb-575eddee4755",
   "metadata": {},
   "outputs": [],
   "source": [
    "dataset_path = \"dataset.csv\""
   ]
  },
  {
   "cell_type": "code",
   "execution_count": 3,
   "id": "825c3d32-cd02-490b-bedc-193ad367778d",
   "metadata": {},
   "outputs": [],
   "source": [
    "import pandas as pd\n",
    "dataset = pd.read_csv(dataset_path)"
   ]
  },
  {
   "cell_type": "code",
   "execution_count": 4,
   "id": "80028e7a-9258-4ec1-9e77-5a8139757725",
   "metadata": {
    "scrolled": true
   },
   "outputs": [
    {
     "data": {
      "text/html": [
       "<div>\n",
       "<style scoped>\n",
       "    .dataframe tbody tr th:only-of-type {\n",
       "        vertical-align: middle;\n",
       "    }\n",
       "\n",
       "    .dataframe tbody tr th {\n",
       "        vertical-align: top;\n",
       "    }\n",
       "\n",
       "    .dataframe thead th {\n",
       "        text-align: right;\n",
       "    }\n",
       "</style>\n",
       "<table border=\"1\" class=\"dataframe\">\n",
       "  <thead>\n",
       "    <tr style=\"text-align: right;\">\n",
       "      <th></th>\n",
       "      <th>Received Email? (1=Yes)</th>\n",
       "      <th>Date</th>\n",
       "      <th>X1</th>\n",
       "      <th>X2</th>\n",
       "      <th>X3</th>\n",
       "      <th>X4</th>\n",
       "    </tr>\n",
       "  </thead>\n",
       "  <tbody>\n",
       "    <tr>\n",
       "      <th>0</th>\n",
       "      <td>0</td>\n",
       "      <td>2018-07</td>\n",
       "      <td>0</td>\n",
       "      <td>-0.897088</td>\n",
       "      <td>0.804294</td>\n",
       "      <td>0.707665</td>\n",
       "    </tr>\n",
       "    <tr>\n",
       "      <th>1</th>\n",
       "      <td>0</td>\n",
       "      <td>2018-09</td>\n",
       "      <td>1</td>\n",
       "      <td>-0.328084</td>\n",
       "      <td>-0.332256</td>\n",
       "      <td>-0.340870</td>\n",
       "    </tr>\n",
       "    <tr>\n",
       "      <th>2</th>\n",
       "      <td>0</td>\n",
       "      <td>2015-08</td>\n",
       "      <td>0</td>\n",
       "      <td>1.272140</td>\n",
       "      <td>2.243532</td>\n",
       "      <td>0.815581</td>\n",
       "    </tr>\n",
       "    <tr>\n",
       "      <th>3</th>\n",
       "      <td>1</td>\n",
       "      <td>2017-07</td>\n",
       "      <td>1</td>\n",
       "      <td>0.290594</td>\n",
       "      <td>-1.161187</td>\n",
       "      <td>-0.881761</td>\n",
       "    </tr>\n",
       "    <tr>\n",
       "      <th>4</th>\n",
       "      <td>0</td>\n",
       "      <td>2018-09</td>\n",
       "      <td>0</td>\n",
       "      <td>-0.307462</td>\n",
       "      <td>1.161276</td>\n",
       "      <td>1.597084</td>\n",
       "    </tr>\n",
       "    <tr>\n",
       "      <th>...</th>\n",
       "      <td>...</td>\n",
       "      <td>...</td>\n",
       "      <td>...</td>\n",
       "      <td>...</td>\n",
       "      <td>...</td>\n",
       "      <td>...</td>\n",
       "    </tr>\n",
       "    <tr>\n",
       "      <th>5995</th>\n",
       "      <td>1</td>\n",
       "      <td>2017-02</td>\n",
       "      <td>1</td>\n",
       "      <td>-0.650209</td>\n",
       "      <td>-1.861279</td>\n",
       "      <td>-1.565142</td>\n",
       "    </tr>\n",
       "    <tr>\n",
       "      <th>5996</th>\n",
       "      <td>0</td>\n",
       "      <td>2015-11</td>\n",
       "      <td>0</td>\n",
       "      <td>0.000512</td>\n",
       "      <td>0.027472</td>\n",
       "      <td>0.669969</td>\n",
       "    </tr>\n",
       "    <tr>\n",
       "      <th>5997</th>\n",
       "      <td>1</td>\n",
       "      <td>2017-04</td>\n",
       "      <td>1</td>\n",
       "      <td>0.620417</td>\n",
       "      <td>-0.508042</td>\n",
       "      <td>-0.973381</td>\n",
       "    </tr>\n",
       "    <tr>\n",
       "      <th>5998</th>\n",
       "      <td>0</td>\n",
       "      <td>2017-12</td>\n",
       "      <td>0</td>\n",
       "      <td>0.503849</td>\n",
       "      <td>0.893938</td>\n",
       "      <td>0.519877</td>\n",
       "    </tr>\n",
       "    <tr>\n",
       "      <th>5999</th>\n",
       "      <td>1</td>\n",
       "      <td>2017-04</td>\n",
       "      <td>1</td>\n",
       "      <td>-0.307048</td>\n",
       "      <td>-1.306521</td>\n",
       "      <td>-1.467989</td>\n",
       "    </tr>\n",
       "  </tbody>\n",
       "</table>\n",
       "<p>6000 rows × 6 columns</p>\n",
       "</div>"
      ],
      "text/plain": [
       "      Received Email? (1=Yes)     Date  X1        X2        X3        X4\n",
       "0                           0  2018-07   0 -0.897088  0.804294  0.707665\n",
       "1                           0  2018-09   1 -0.328084 -0.332256 -0.340870\n",
       "2                           0  2015-08   0  1.272140  2.243532  0.815581\n",
       "3                           1  2017-07   1  0.290594 -1.161187 -0.881761\n",
       "4                           0  2018-09   0 -0.307462  1.161276  1.597084\n",
       "...                       ...      ...  ..       ...       ...       ...\n",
       "5995                        1  2017-02   1 -0.650209 -1.861279 -1.565142\n",
       "5996                        0  2015-11   0  0.000512  0.027472  0.669969\n",
       "5997                        1  2017-04   1  0.620417 -0.508042 -0.973381\n",
       "5998                        0  2017-12   0  0.503849  0.893938  0.519877\n",
       "5999                        1  2017-04   1 -0.307048 -1.306521 -1.467989\n",
       "\n",
       "[6000 rows x 6 columns]"
      ]
     },
     "execution_count": 4,
     "metadata": {},
     "output_type": "execute_result"
    }
   ],
   "source": [
    "dataset"
   ]
  },
  {
   "cell_type": "markdown",
   "id": "a2c61fc9-1d29-48cb-8ab6-2807c3558e29",
   "metadata": {},
   "source": [
    "## Exploration"
   ]
  },
  {
   "cell_type": "markdown",
   "id": "445021a4-70c5-44f3-a0cd-528f1ae667a9",
   "metadata": {},
   "source": [
    "### Convert column types"
   ]
  },
  {
   "cell_type": "code",
   "execution_count": 5,
   "id": "1e4f78c2-aa15-4d12-a420-495dfc0d71d6",
   "metadata": {},
   "outputs": [
    {
     "data": {
      "text/plain": [
       "Received Email? (1=Yes)      int64\n",
       "Date                        object\n",
       "X1                           int64\n",
       "X2                         float64\n",
       "X3                         float64\n",
       "X4                         float64\n",
       "dtype: object"
      ]
     },
     "execution_count": 5,
     "metadata": {},
     "output_type": "execute_result"
    }
   ],
   "source": [
    "dataset.dtypes"
   ]
  },
  {
   "cell_type": "code",
   "execution_count": 6,
   "id": "2142401c-c78d-419e-8aba-90f7719a6688",
   "metadata": {},
   "outputs": [],
   "source": [
    "dataset[\"Date\"] = pd.to_datetime(dataset[\"Date\"])\n",
    "dataset[\"Received Email? (1=Yes)\"] = dataset[\"Received Email? (1=Yes)\"].astype(\"bool\")\n",
    "dataset[\"X1\"] = dataset[\"X1\"].astype(\"bool\")"
   ]
  },
  {
   "cell_type": "code",
   "execution_count": 7,
   "id": "7376b0b1-7f30-4484-8a7f-5c3a20a0aed9",
   "metadata": {},
   "outputs": [
    {
     "data": {
      "text/plain": [
       "Received Email? (1=Yes)              bool\n",
       "Date                       datetime64[ns]\n",
       "X1                                   bool\n",
       "X2                                float64\n",
       "X3                                float64\n",
       "X4                                float64\n",
       "dtype: object"
      ]
     },
     "execution_count": 7,
     "metadata": {},
     "output_type": "execute_result"
    }
   ],
   "source": [
    "dataset.dtypes"
   ]
  },
  {
   "cell_type": "markdown",
   "id": "a55f8fef-5296-44d7-a1bb-034888476792",
   "metadata": {},
   "source": [
    "### EDA"
   ]
  },
  {
   "cell_type": "markdown",
   "id": "6d788dab-1c21-4314-a963-bc88c011a5a9",
   "metadata": {},
   "source": [
    "#### Null values"
   ]
  },
  {
   "cell_type": "code",
   "execution_count": 8,
   "id": "a1778fad-7430-4fb8-a979-121017c3c54a",
   "metadata": {},
   "outputs": [
    {
     "data": {
      "text/plain": [
       "0"
      ]
     },
     "execution_count": 8,
     "metadata": {},
     "output_type": "execute_result"
    }
   ],
   "source": [
    "# number of rows with a null value\n",
    "dataset.isnull().sum(axis=1).sum()"
   ]
  },
  {
   "cell_type": "markdown",
   "id": "51cfeab8-ce24-4278-af2d-243cd9b36686",
   "metadata": {},
   "source": [
    "#### Dataset balance"
   ]
  },
  {
   "cell_type": "code",
   "execution_count": 9,
   "id": "987587fc-0de3-4eb4-a356-c8d78581747d",
   "metadata": {},
   "outputs": [
    {
     "data": {
      "text/plain": [
       "Received Email? (1=Yes)\n",
       "False    5066\n",
       "True      934\n",
       "Name: count, dtype: int64"
      ]
     },
     "execution_count": 9,
     "metadata": {},
     "output_type": "execute_result"
    }
   ],
   "source": [
    "dataset[\"Received Email? (1=Yes)\"].value_counts()\n",
    "# the dataset is highly unbalanced"
   ]
  },
  {
   "cell_type": "markdown",
   "id": "2247ffdb-07b6-4378-add5-3ba00b98d95e",
   "metadata": {},
   "source": [
    "#### Features distribution"
   ]
  },
  {
   "cell_type": "code",
   "execution_count": 10,
   "id": "e3a798cd-95fb-4b82-b57e-466f41d95b07",
   "metadata": {},
   "outputs": [
    {
     "data": {
      "text/plain": [
       "X1   \n",
       "False    2895\n",
       "True     2171\n",
       "Name: count, dtype: int64"
      ]
     },
     "execution_count": 10,
     "metadata": {},
     "output_type": "execute_result"
    }
   ],
   "source": [
    "dataset[dataset[\"Received Email? (1=Yes)\"] == 0][[\"X1\"]].value_counts()"
   ]
  },
  {
   "cell_type": "code",
   "execution_count": 11,
   "id": "bc03c261-39d0-400e-8c36-03ba9aa3e7cc",
   "metadata": {},
   "outputs": [
    {
     "data": {
      "text/plain": [
       "X1   \n",
       "True     842\n",
       "False     92\n",
       "Name: count, dtype: int64"
      ]
     },
     "execution_count": 11,
     "metadata": {},
     "output_type": "execute_result"
    }
   ],
   "source": [
    "dataset[dataset[\"Received Email? (1=Yes)\"] == 1][[\"X1\"]].value_counts()"
   ]
  },
  {
   "cell_type": "code",
   "execution_count": 12,
   "id": "779d01af-84cd-4a0c-9b82-e8cba8d09f0e",
   "metadata": {},
   "outputs": [
    {
     "data": {
      "text/html": [
       "<div>\n",
       "<style scoped>\n",
       "    .dataframe tbody tr th:only-of-type {\n",
       "        vertical-align: middle;\n",
       "    }\n",
       "\n",
       "    .dataframe tbody tr th {\n",
       "        vertical-align: top;\n",
       "    }\n",
       "\n",
       "    .dataframe thead th {\n",
       "        text-align: right;\n",
       "    }\n",
       "</style>\n",
       "<table border=\"1\" class=\"dataframe\">\n",
       "  <thead>\n",
       "    <tr style=\"text-align: right;\">\n",
       "      <th></th>\n",
       "      <th>X2</th>\n",
       "      <th>X3</th>\n",
       "      <th>X4</th>\n",
       "    </tr>\n",
       "  </thead>\n",
       "  <tbody>\n",
       "    <tr>\n",
       "      <th>count</th>\n",
       "      <td>6000.000000</td>\n",
       "      <td>6000.000000</td>\n",
       "      <td>6000.000000</td>\n",
       "    </tr>\n",
       "    <tr>\n",
       "      <th>mean</th>\n",
       "      <td>-0.003326</td>\n",
       "      <td>0.007374</td>\n",
       "      <td>0.015992</td>\n",
       "    </tr>\n",
       "    <tr>\n",
       "      <th>std</th>\n",
       "      <td>1.004197</td>\n",
       "      <td>1.012626</td>\n",
       "      <td>1.013181</td>\n",
       "    </tr>\n",
       "    <tr>\n",
       "      <th>min</th>\n",
       "      <td>-3.612620</td>\n",
       "      <td>-4.860280</td>\n",
       "      <td>-4.416066</td>\n",
       "    </tr>\n",
       "    <tr>\n",
       "      <th>25%</th>\n",
       "      <td>-0.702663</td>\n",
       "      <td>-0.673058</td>\n",
       "      <td>-0.662022</td>\n",
       "    </tr>\n",
       "    <tr>\n",
       "      <th>50%</th>\n",
       "      <td>-0.001634</td>\n",
       "      <td>0.015458</td>\n",
       "      <td>0.020163</td>\n",
       "    </tr>\n",
       "    <tr>\n",
       "      <th>75%</th>\n",
       "      <td>0.685290</td>\n",
       "      <td>0.681624</td>\n",
       "      <td>0.681972</td>\n",
       "    </tr>\n",
       "    <tr>\n",
       "      <th>max</th>\n",
       "      <td>3.896294</td>\n",
       "      <td>3.852129</td>\n",
       "      <td>3.641890</td>\n",
       "    </tr>\n",
       "  </tbody>\n",
       "</table>\n",
       "</div>"
      ],
      "text/plain": [
       "                X2           X3           X4\n",
       "count  6000.000000  6000.000000  6000.000000\n",
       "mean     -0.003326     0.007374     0.015992\n",
       "std       1.004197     1.012626     1.013181\n",
       "min      -3.612620    -4.860280    -4.416066\n",
       "25%      -0.702663    -0.673058    -0.662022\n",
       "50%      -0.001634     0.015458     0.020163\n",
       "75%       0.685290     0.681624     0.681972\n",
       "max       3.896294     3.852129     3.641890"
      ]
     },
     "execution_count": 12,
     "metadata": {},
     "output_type": "execute_result"
    }
   ],
   "source": [
    "dataset[[\"X2\", \"X3\", \"X4\"]].describe()\n",
    "# X2-X4 are (roughly) within the same distribution"
   ]
  },
  {
   "cell_type": "code",
   "execution_count": 13,
   "id": "58e7c41a-7706-44bb-98d3-b90d39152faa",
   "metadata": {},
   "outputs": [
    {
     "data": {
      "image/png": "[encoded data removed]",
      "text/plain": [
       "<Figure size 640x480 with 1 Axes>"
      ]
     },
     "metadata": {},
     "output_type": "display_data"
    }
   ],
   "source": [
    "import matplotlib.pyplot as plt\n",
    "\n",
    "plt.hist(dataset[[\"X2\", \"X3\", \"X4\"]], label=[\"X2\", \"X3\", \"X4\"])\n",
    "plt.legend()\n",
    "plt.show()\n",
    "# X2-X4 are within the same distribution"
   ]
  },
  {
   "cell_type": "code",
   "execution_count": 14,
   "id": "fcc707b9-6537-4bea-884f-596e7e112846",
   "metadata": {},
   "outputs": [
    {
     "data": {
      "image/png": "[encoded data removed]",
      "text/plain": [
       "<Figure size 640x480 with 1 Axes>"
      ]
     },
     "metadata": {},
     "output_type": "display_data"
    }
   ],
   "source": [
    "import matplotlib.pyplot as plt\n",
    "\n",
    "plt.hist(dataset[dataset[\"Received Email? (1=Yes)\"] == 0][[\"X2\", \"X3\", \"X4\"]], label=[\"X2_0\", \"X3_0\", \"X4_0\"])\n",
    "plt.legend()\n",
    "plt.show()\n",
    "# X2-X4 are within the same distribution for the negative labelled features"
   ]
  },
  {
   "cell_type": "code",
   "execution_count": 15,
   "id": "3f895d69-4aaf-453f-9e57-c4fabb925496",
   "metadata": {},
   "outputs": [
    {
     "data": {
      "image/png": "[encoded data removed]",
      "text/plain": [
       "<Figure size 640x480 with 1 Axes>"
      ]
     },
     "metadata": {},
     "output_type": "display_data"
    }
   ],
   "source": [
    "import matplotlib.pyplot as plt\n",
    "\n",
    "plt.hist(dataset[dataset[\"Received Email? (1=Yes)\"] == 1][[\"X2\", \"X3\", \"X4\"]], label=[\"X2_1\", \"X3_1\", \"X4_1\"])\n",
    "plt.legend()\n",
    "plt.show()\n",
    "# X2-X4 distribution is more diverse for the positive labelled features"
   ]
  },
  {
   "cell_type": "markdown",
   "id": "a6871851-7453-4d40-b868-862d9ba8fc77",
   "metadata": {},
   "source": [
    "#### Features correlation"
   ]
  },
  {
   "cell_type": "code",
   "execution_count": 16,
   "id": "017634ec-5080-4c98-b4a4-ae201a331767",
   "metadata": {},
   "outputs": [],
   "source": [
    "def highlight_high_correlations(val):\n",
    "    \"\"\"\n",
    "    Highlights cells with correlation > 0.9 in yellow.\n",
    "    \"\"\"\n",
    "    color = 'yellow' if (val > 0.9 and val < 1) else 'none'\n",
    "    return f'background-color: {color}'"
   ]
  },
  {
   "cell_type": "code",
   "execution_count": 17,
   "id": "be2102f0-7f4d-452e-9260-8bdb9509816f",
   "metadata": {},
   "outputs": [
    {
     "data": {
      "text/html": [
       "<style type=\"text/css\">\n",
       "#T_20bdd_row0_col0, #T_20bdd_row0_col1, #T_20bdd_row0_col2, #T_20bdd_row1_col0, #T_20bdd_row1_col1, #T_20bdd_row2_col0, #T_20bdd_row2_col2 {\n",
       "  background-color: none;\n",
       "}\n",
       "#T_20bdd_row1_col2, #T_20bdd_row2_col1 {\n",
       "  background-color: yellow;\n",
       "}\n",
       "</style>\n",
       "<table id=\"T_20bdd\">\n",
       "  <thead>\n",
       "    <tr>\n",
       "      <th class=\"blank level0\" >&nbsp;</th>\n",
       "      <th id=\"T_20bdd_level0_col0\" class=\"col_heading level0 col0\" >X2</th>\n",
       "      <th id=\"T_20bdd_level0_col1\" class=\"col_heading level0 col1\" >X3</th>\n",
       "      <th id=\"T_20bdd_level0_col2\" class=\"col_heading level0 col2\" >X4</th>\n",
       "    </tr>\n",
       "  </thead>\n",
       "  <tbody>\n",
       "    <tr>\n",
       "      <th id=\"T_20bdd_level0_row0\" class=\"row_heading level0 row0\" >X2</th>\n",
       "      <td id=\"T_20bdd_row0_col0\" class=\"data row0 col0\" >1.000000</td>\n",
       "      <td id=\"T_20bdd_row0_col1\" class=\"data row0 col1\" >0.049200</td>\n",
       "      <td id=\"T_20bdd_row0_col2\" class=\"data row0 col2\" >0.050250</td>\n",
       "    </tr>\n",
       "    <tr>\n",
       "      <th id=\"T_20bdd_level0_row1\" class=\"row_heading level0 row1\" >X3</th>\n",
       "      <td id=\"T_20bdd_row1_col0\" class=\"data row1 col0\" >0.049200</td>\n",
       "      <td id=\"T_20bdd_row1_col1\" class=\"data row1 col1\" >1.000000</td>\n",
       "      <td id=\"T_20bdd_row1_col2\" class=\"data row1 col2\" >0.901980</td>\n",
       "    </tr>\n",
       "    <tr>\n",
       "      <th id=\"T_20bdd_level0_row2\" class=\"row_heading level0 row2\" >X4</th>\n",
       "      <td id=\"T_20bdd_row2_col0\" class=\"data row2 col0\" >0.050250</td>\n",
       "      <td id=\"T_20bdd_row2_col1\" class=\"data row2 col1\" >0.901980</td>\n",
       "      <td id=\"T_20bdd_row2_col2\" class=\"data row2 col2\" >1.000000</td>\n",
       "    </tr>\n",
       "  </tbody>\n",
       "</table>\n"
      ],
      "text/plain": [
       "<pandas.io.formats.style.Styler at 0x7f35357c2c10>"
      ]
     },
     "execution_count": 17,
     "metadata": {},
     "output_type": "execute_result"
    }
   ],
   "source": [
    "dataset[[\"X2\", \"X3\", \"X4\"]].corr().style.map(highlight_high_correlations)\n",
    "# X3 and X4 are highly correlated"
   ]
  },
  {
   "cell_type": "markdown",
   "id": "e8f88c5f-4202-4b53-83f6-8f2667830e2e",
   "metadata": {},
   "source": [
    "#### Outliers"
   ]
  },
  {
   "cell_type": "code",
   "execution_count": 18,
   "id": "28e25ede-97dc-4a37-8e03-5a66624e5b52",
   "metadata": {},
   "outputs": [
    {
     "data": {
      "text/html": [
       "<div>\n",
       "<style scoped>\n",
       "    .dataframe tbody tr th:only-of-type {\n",
       "        vertical-align: middle;\n",
       "    }\n",
       "\n",
       "    .dataframe tbody tr th {\n",
       "        vertical-align: top;\n",
       "    }\n",
       "\n",
       "    .dataframe thead th {\n",
       "        text-align: right;\n",
       "    }\n",
       "</style>\n",
       "<table border=\"1\" class=\"dataframe\">\n",
       "  <thead>\n",
       "    <tr style=\"text-align: right;\">\n",
       "      <th></th>\n",
       "      <th>Received Email? (1=Yes)</th>\n",
       "      <th>Date</th>\n",
       "      <th>X1</th>\n",
       "      <th>X2</th>\n",
       "      <th>X3</th>\n",
       "      <th>X4</th>\n",
       "      <th>Z2</th>\n",
       "      <th>Z3</th>\n",
       "      <th>Z4</th>\n",
       "    </tr>\n",
       "  </thead>\n",
       "  <tbody>\n",
       "    <tr>\n",
       "      <th>0</th>\n",
       "      <td>False</td>\n",
       "      <td>2018-07-01</td>\n",
       "      <td>False</td>\n",
       "      <td>-0.897088</td>\n",
       "      <td>0.804294</td>\n",
       "      <td>0.707665</td>\n",
       "      <td>-0.890102</td>\n",
       "      <td>0.787049</td>\n",
       "      <td>0.682732</td>\n",
       "    </tr>\n",
       "    <tr>\n",
       "      <th>1</th>\n",
       "      <td>False</td>\n",
       "      <td>2018-09-01</td>\n",
       "      <td>True</td>\n",
       "      <td>-0.328084</td>\n",
       "      <td>-0.332256</td>\n",
       "      <td>-0.340870</td>\n",
       "      <td>-0.323428</td>\n",
       "      <td>-0.335423</td>\n",
       "      <td>-0.352249</td>\n",
       "    </tr>\n",
       "    <tr>\n",
       "      <th>2</th>\n",
       "      <td>False</td>\n",
       "      <td>2015-08-01</td>\n",
       "      <td>False</td>\n",
       "      <td>1.272140</td>\n",
       "      <td>2.243532</td>\n",
       "      <td>0.815581</td>\n",
       "      <td>1.270241</td>\n",
       "      <td>2.208461</td>\n",
       "      <td>0.789253</td>\n",
       "    </tr>\n",
       "    <tr>\n",
       "      <th>3</th>\n",
       "      <td>True</td>\n",
       "      <td>2017-07-01</td>\n",
       "      <td>True</td>\n",
       "      <td>0.290594</td>\n",
       "      <td>-1.161187</td>\n",
       "      <td>-0.881761</td>\n",
       "      <td>0.292716</td>\n",
       "      <td>-1.154087</td>\n",
       "      <td>-0.886147</td>\n",
       "    </tr>\n",
       "    <tr>\n",
       "      <th>4</th>\n",
       "      <td>False</td>\n",
       "      <td>2018-09-01</td>\n",
       "      <td>False</td>\n",
       "      <td>-0.307462</td>\n",
       "      <td>1.161276</td>\n",
       "      <td>1.597084</td>\n",
       "      <td>-0.302891</td>\n",
       "      <td>1.139610</td>\n",
       "      <td>1.560653</td>\n",
       "    </tr>\n",
       "    <tr>\n",
       "      <th>...</th>\n",
       "      <td>...</td>\n",
       "      <td>...</td>\n",
       "      <td>...</td>\n",
       "      <td>...</td>\n",
       "      <td>...</td>\n",
       "      <td>...</td>\n",
       "      <td>...</td>\n",
       "      <td>...</td>\n",
       "      <td>...</td>\n",
       "    </tr>\n",
       "    <tr>\n",
       "      <th>5995</th>\n",
       "      <td>True</td>\n",
       "      <td>2017-02-01</td>\n",
       "      <td>True</td>\n",
       "      <td>-0.650209</td>\n",
       "      <td>-1.861279</td>\n",
       "      <td>-1.565142</td>\n",
       "      <td>-0.644234</td>\n",
       "      <td>-1.845507</td>\n",
       "      <td>-1.560694</td>\n",
       "    </tr>\n",
       "    <tr>\n",
       "      <th>5996</th>\n",
       "      <td>False</td>\n",
       "      <td>2015-11-01</td>\n",
       "      <td>False</td>\n",
       "      <td>0.000512</td>\n",
       "      <td>0.027472</td>\n",
       "      <td>0.669969</td>\n",
       "      <td>0.003822</td>\n",
       "      <td>0.019849</td>\n",
       "      <td>0.645523</td>\n",
       "    </tr>\n",
       "    <tr>\n",
       "      <th>5997</th>\n",
       "      <td>True</td>\n",
       "      <td>2017-04-01</td>\n",
       "      <td>True</td>\n",
       "      <td>0.620417</td>\n",
       "      <td>-0.508042</td>\n",
       "      <td>-0.973381</td>\n",
       "      <td>0.621188</td>\n",
       "      <td>-0.509032</td>\n",
       "      <td>-0.976583</td>\n",
       "    </tr>\n",
       "    <tr>\n",
       "      <th>5998</th>\n",
       "      <td>False</td>\n",
       "      <td>2017-12-01</td>\n",
       "      <td>False</td>\n",
       "      <td>0.503849</td>\n",
       "      <td>0.893938</td>\n",
       "      <td>0.519877</td>\n",
       "      <td>0.505097</td>\n",
       "      <td>0.875583</td>\n",
       "      <td>0.497371</td>\n",
       "    </tr>\n",
       "    <tr>\n",
       "      <th>5999</th>\n",
       "      <td>True</td>\n",
       "      <td>2017-04-01</td>\n",
       "      <td>True</td>\n",
       "      <td>-0.307048</td>\n",
       "      <td>-1.306521</td>\n",
       "      <td>-1.467989</td>\n",
       "      <td>-0.302478</td>\n",
       "      <td>-1.297621</td>\n",
       "      <td>-1.464797</td>\n",
       "    </tr>\n",
       "  </tbody>\n",
       "</table>\n",
       "<p>5958 rows × 9 columns</p>\n",
       "</div>"
      ],
      "text/plain": [
       "      Received Email? (1=Yes)       Date     X1        X2        X3        X4  \\\n",
       "0                       False 2018-07-01  False -0.897088  0.804294  0.707665   \n",
       "1                       False 2018-09-01   True -0.328084 -0.332256 -0.340870   \n",
       "2                       False 2015-08-01  False  1.272140  2.243532  0.815581   \n",
       "3                        True 2017-07-01   True  0.290594 -1.161187 -0.881761   \n",
       "4                       False 2018-09-01  False -0.307462  1.161276  1.597084   \n",
       "...                       ...        ...    ...       ...       ...       ...   \n",
       "5995                     True 2017-02-01   True -0.650209 -1.861279 -1.565142   \n",
       "5996                    False 2015-11-01  False  0.000512  0.027472  0.669969   \n",
       "5997                     True 2017-04-01   True  0.620417 -0.508042 -0.973381   \n",
       "5998                    False 2017-12-01  False  0.503849  0.893938  0.519877   \n",
       "5999                     True 2017-04-01   True -0.307048 -1.306521 -1.467989   \n",
       "\n",
       "            Z2        Z3        Z4  \n",
       "0    -0.890102  0.787049  0.682732  \n",
       "1    -0.323428 -0.335423 -0.352249  \n",
       "2     1.270241  2.208461  0.789253  \n",
       "3     0.292716 -1.154087 -0.886147  \n",
       "4    -0.302891  1.139610  1.560653  \n",
       "...        ...       ...       ...  \n",
       "5995 -0.644234 -1.845507 -1.560694  \n",
       "5996  0.003822  0.019849  0.645523  \n",
       "5997  0.621188 -0.509032 -0.976583  \n",
       "5998  0.505097  0.875583  0.497371  \n",
       "5999 -0.302478 -1.297621 -1.464797  \n",
       "\n",
       "[5958 rows x 9 columns]"
      ]
     },
     "execution_count": 18,
     "metadata": {},
     "output_type": "execute_result"
    }
   ],
   "source": [
    "import pandas as pd\n",
    "import scipy.stats as stats\n",
    "\n",
    "# Calculate Z-Scores\n",
    "dataset[[\"Z2\", \"Z3\", \"Z4\"]] = dataset[['X2', 'X3', 'X4']].apply(stats.zscore)\n",
    "\n",
    "# Check for Outliers\n",
    "outliers_mask = (dataset[[\"Z2\", \"Z3\", \"Z4\"]].abs() > 3).any(axis=1)\n",
    "dataset[~outliers_mask]"
   ]
  },
  {
   "cell_type": "markdown",
   "id": "da6092f0-ef6b-4dc0-a7fe-818d83cc8eb7",
   "metadata": {},
   "source": [
    "## Feature Engineering"
   ]
  },
  {
   "cell_type": "markdown",
   "id": "c6e2788b-7d03-4ab4-9e6e-240752f3e825",
   "metadata": {},
   "source": [
    "### Dates"
   ]
  },
  {
   "cell_type": "markdown",
   "id": "4b98af60-0c07-43ac-bb22-f8fb90c6da64",
   "metadata": {},
   "source": [
    "Assume that `Date` is the date where the user got the last email and this mode\n",
    "will predict if the user should get an email again"
   ]
  },
  {
   "cell_type": "code",
   "execution_count": 19,
   "id": "7e525112-7ca6-49c6-bddc-7554c9b2c3b9",
   "metadata": {},
   "outputs": [],
   "source": [
    "# Extract year, month and day of week from date as features\n",
    "dataset[\"month\"] = dataset[\"Date\"].dt.month\n",
    "dataset[\"year\"] = dataset[\"Date\"].dt.year\n",
    "dataset[\"day_of_week\"] = dataset[\"Date\"].dt.weekday"
   ]
  },
  {
   "cell_type": "code",
   "execution_count": 20,
   "id": "8a52124d-95bf-41b9-9242-6b77bc0e00fd",
   "metadata": {},
   "outputs": [],
   "source": [
    "from datetime import datetime\n",
    "\n",
    "# computing the number of days from last received email assuming 2024/01/01 as reference\n",
    "dataset[\"days_since_last_email\"] = (datetime(year=2024, month=1, day=1) - dataset[\"Date\"]).dt.days"
   ]
  },
  {
   "cell_type": "markdown",
   "id": "56b9171e-c2a5-479f-b80b-8f48ecb3ecd6",
   "metadata": {},
   "source": [
    "### X_avg"
   ]
  },
  {
   "cell_type": "code",
   "execution_count": 21,
   "id": "d5ce23f8-aedd-4c68-beaf-0e4459aaa981",
   "metadata": {},
   "outputs": [],
   "source": [
    "dataset[\"X_avg\"] = dataset[[\"X2\", \"X3\"]].mean(axis=1)\n",
    "\n",
    "# we excluded X4 because it is highly correlated with X3"
   ]
  },
  {
   "cell_type": "code",
   "execution_count": 22,
   "id": "09d7f3d6-ac5e-49a9-af9d-d13b469770a5",
   "metadata": {},
   "outputs": [
    {
     "data": {
      "text/html": [
       "<div>\n",
       "<style scoped>\n",
       "    .dataframe tbody tr th:only-of-type {\n",
       "        vertical-align: middle;\n",
       "    }\n",
       "\n",
       "    .dataframe tbody tr th {\n",
       "        vertical-align: top;\n",
       "    }\n",
       "\n",
       "    .dataframe thead th {\n",
       "        text-align: right;\n",
       "    }\n",
       "</style>\n",
       "<table border=\"1\" class=\"dataframe\">\n",
       "  <thead>\n",
       "    <tr style=\"text-align: right;\">\n",
       "      <th></th>\n",
       "      <th>Received Email? (1=Yes)</th>\n",
       "      <th>Date</th>\n",
       "      <th>X1</th>\n",
       "      <th>X2</th>\n",
       "      <th>X3</th>\n",
       "      <th>X4</th>\n",
       "      <th>Z2</th>\n",
       "      <th>Z3</th>\n",
       "      <th>Z4</th>\n",
       "      <th>month</th>\n",
       "      <th>year</th>\n",
       "      <th>day_of_week</th>\n",
       "      <th>days_since_last_email</th>\n",
       "      <th>X_avg</th>\n",
       "    </tr>\n",
       "  </thead>\n",
       "  <tbody>\n",
       "    <tr>\n",
       "      <th>0</th>\n",
       "      <td>False</td>\n",
       "      <td>2018-07-01</td>\n",
       "      <td>False</td>\n",
       "      <td>-0.897088</td>\n",
       "      <td>0.804294</td>\n",
       "      <td>0.707665</td>\n",
       "      <td>-0.890102</td>\n",
       "      <td>0.787049</td>\n",
       "      <td>0.682732</td>\n",
       "      <td>7</td>\n",
       "      <td>2018</td>\n",
       "      <td>6</td>\n",
       "      <td>2010</td>\n",
       "      <td>-0.046397</td>\n",
       "    </tr>\n",
       "    <tr>\n",
       "      <th>1</th>\n",
       "      <td>False</td>\n",
       "      <td>2018-09-01</td>\n",
       "      <td>True</td>\n",
       "      <td>-0.328084</td>\n",
       "      <td>-0.332256</td>\n",
       "      <td>-0.340870</td>\n",
       "      <td>-0.323428</td>\n",
       "      <td>-0.335423</td>\n",
       "      <td>-0.352249</td>\n",
       "      <td>9</td>\n",
       "      <td>2018</td>\n",
       "      <td>5</td>\n",
       "      <td>1948</td>\n",
       "      <td>-0.330170</td>\n",
       "    </tr>\n",
       "    <tr>\n",
       "      <th>2</th>\n",
       "      <td>False</td>\n",
       "      <td>2015-08-01</td>\n",
       "      <td>False</td>\n",
       "      <td>1.272140</td>\n",
       "      <td>2.243532</td>\n",
       "      <td>0.815581</td>\n",
       "      <td>1.270241</td>\n",
       "      <td>2.208461</td>\n",
       "      <td>0.789253</td>\n",
       "      <td>8</td>\n",
       "      <td>2015</td>\n",
       "      <td>5</td>\n",
       "      <td>3075</td>\n",
       "      <td>1.757836</td>\n",
       "    </tr>\n",
       "    <tr>\n",
       "      <th>3</th>\n",
       "      <td>True</td>\n",
       "      <td>2017-07-01</td>\n",
       "      <td>True</td>\n",
       "      <td>0.290594</td>\n",
       "      <td>-1.161187</td>\n",
       "      <td>-0.881761</td>\n",
       "      <td>0.292716</td>\n",
       "      <td>-1.154087</td>\n",
       "      <td>-0.886147</td>\n",
       "      <td>7</td>\n",
       "      <td>2017</td>\n",
       "      <td>5</td>\n",
       "      <td>2375</td>\n",
       "      <td>-0.435296</td>\n",
       "    </tr>\n",
       "    <tr>\n",
       "      <th>4</th>\n",
       "      <td>False</td>\n",
       "      <td>2018-09-01</td>\n",
       "      <td>False</td>\n",
       "      <td>-0.307462</td>\n",
       "      <td>1.161276</td>\n",
       "      <td>1.597084</td>\n",
       "      <td>-0.302891</td>\n",
       "      <td>1.139610</td>\n",
       "      <td>1.560653</td>\n",
       "      <td>9</td>\n",
       "      <td>2018</td>\n",
       "      <td>5</td>\n",
       "      <td>1948</td>\n",
       "      <td>0.426907</td>\n",
       "    </tr>\n",
       "    <tr>\n",
       "      <th>...</th>\n",
       "      <td>...</td>\n",
       "      <td>...</td>\n",
       "      <td>...</td>\n",
       "      <td>...</td>\n",
       "      <td>...</td>\n",
       "      <td>...</td>\n",
       "      <td>...</td>\n",
       "      <td>...</td>\n",
       "      <td>...</td>\n",
       "      <td>...</td>\n",
       "      <td>...</td>\n",
       "      <td>...</td>\n",
       "      <td>...</td>\n",
       "      <td>...</td>\n",
       "    </tr>\n",
       "    <tr>\n",
       "      <th>5995</th>\n",
       "      <td>True</td>\n",
       "      <td>2017-02-01</td>\n",
       "      <td>True</td>\n",
       "      <td>-0.650209</td>\n",
       "      <td>-1.861279</td>\n",
       "      <td>-1.565142</td>\n",
       "      <td>-0.644234</td>\n",
       "      <td>-1.845507</td>\n",
       "      <td>-1.560694</td>\n",
       "      <td>2</td>\n",
       "      <td>2017</td>\n",
       "      <td>2</td>\n",
       "      <td>2525</td>\n",
       "      <td>-1.255744</td>\n",
       "    </tr>\n",
       "    <tr>\n",
       "      <th>5996</th>\n",
       "      <td>False</td>\n",
       "      <td>2015-11-01</td>\n",
       "      <td>False</td>\n",
       "      <td>0.000512</td>\n",
       "      <td>0.027472</td>\n",
       "      <td>0.669969</td>\n",
       "      <td>0.003822</td>\n",
       "      <td>0.019849</td>\n",
       "      <td>0.645523</td>\n",
       "      <td>11</td>\n",
       "      <td>2015</td>\n",
       "      <td>6</td>\n",
       "      <td>2983</td>\n",
       "      <td>0.013992</td>\n",
       "    </tr>\n",
       "    <tr>\n",
       "      <th>5997</th>\n",
       "      <td>True</td>\n",
       "      <td>2017-04-01</td>\n",
       "      <td>True</td>\n",
       "      <td>0.620417</td>\n",
       "      <td>-0.508042</td>\n",
       "      <td>-0.973381</td>\n",
       "      <td>0.621188</td>\n",
       "      <td>-0.509032</td>\n",
       "      <td>-0.976583</td>\n",
       "      <td>4</td>\n",
       "      <td>2017</td>\n",
       "      <td>5</td>\n",
       "      <td>2466</td>\n",
       "      <td>0.056188</td>\n",
       "    </tr>\n",
       "    <tr>\n",
       "      <th>5998</th>\n",
       "      <td>False</td>\n",
       "      <td>2017-12-01</td>\n",
       "      <td>False</td>\n",
       "      <td>0.503849</td>\n",
       "      <td>0.893938</td>\n",
       "      <td>0.519877</td>\n",
       "      <td>0.505097</td>\n",
       "      <td>0.875583</td>\n",
       "      <td>0.497371</td>\n",
       "      <td>12</td>\n",
       "      <td>2017</td>\n",
       "      <td>4</td>\n",
       "      <td>2222</td>\n",
       "      <td>0.698894</td>\n",
       "    </tr>\n",
       "    <tr>\n",
       "      <th>5999</th>\n",
       "      <td>True</td>\n",
       "      <td>2017-04-01</td>\n",
       "      <td>True</td>\n",
       "      <td>-0.307048</td>\n",
       "      <td>-1.306521</td>\n",
       "      <td>-1.467989</td>\n",
       "      <td>-0.302478</td>\n",
       "      <td>-1.297621</td>\n",
       "      <td>-1.464797</td>\n",
       "      <td>4</td>\n",
       "      <td>2017</td>\n",
       "      <td>5</td>\n",
       "      <td>2466</td>\n",
       "      <td>-0.806784</td>\n",
       "    </tr>\n",
       "  </tbody>\n",
       "</table>\n",
       "<p>6000 rows × 14 columns</p>\n",
       "</div>"
      ],
      "text/plain": [
       "      Received Email? (1=Yes)       Date     X1        X2        X3        X4  \\\n",
       "0                       False 2018-07-01  False -0.897088  0.804294  0.707665   \n",
       "1                       False 2018-09-01   True -0.328084 -0.332256 -0.340870   \n",
       "2                       False 2015-08-01  False  1.272140  2.243532  0.815581   \n",
       "3                        True 2017-07-01   True  0.290594 -1.161187 -0.881761   \n",
       "4                       False 2018-09-01  False -0.307462  1.161276  1.597084   \n",
       "...                       ...        ...    ...       ...       ...       ...   \n",
       "5995                     True 2017-02-01   True -0.650209 -1.861279 -1.565142   \n",
       "5996                    False 2015-11-01  False  0.000512  0.027472  0.669969   \n",
       "5997                     True 2017-04-01   True  0.620417 -0.508042 -0.973381   \n",
       "5998                    False 2017-12-01  False  0.503849  0.893938  0.519877   \n",
       "5999                     True 2017-04-01   True -0.307048 -1.306521 -1.467989   \n",
       "\n",
       "            Z2        Z3        Z4  month  year  day_of_week  \\\n",
       "0    -0.890102  0.787049  0.682732      7  2018            6   \n",
       "1    -0.323428 -0.335423 -0.352249      9  2018            5   \n",
       "2     1.270241  2.208461  0.789253      8  2015            5   \n",
       "3     0.292716 -1.154087 -0.886147      7  2017            5   \n",
       "4    -0.302891  1.139610  1.560653      9  2018            5   \n",
       "...        ...       ...       ...    ...   ...          ...   \n",
       "5995 -0.644234 -1.845507 -1.560694      2  2017            2   \n",
       "5996  0.003822  0.019849  0.645523     11  2015            6   \n",
       "5997  0.621188 -0.509032 -0.976583      4  2017            5   \n",
       "5998  0.505097  0.875583  0.497371     12  2017            4   \n",
       "5999 -0.302478 -1.297621 -1.464797      4  2017            5   \n",
       "\n",
       "      days_since_last_email     X_avg  \n",
       "0                      2010 -0.046397  \n",
       "1                      1948 -0.330170  \n",
       "2                      3075  1.757836  \n",
       "3                      2375 -0.435296  \n",
       "4                      1948  0.426907  \n",
       "...                     ...       ...  \n",
       "5995                   2525 -1.255744  \n",
       "5996                   2983  0.013992  \n",
       "5997                   2466  0.056188  \n",
       "5998                   2222  0.698894  \n",
       "5999                   2466 -0.806784  \n",
       "\n",
       "[6000 rows x 14 columns]"
      ]
     },
     "execution_count": 22,
     "metadata": {},
     "output_type": "execute_result"
    }
   ],
   "source": [
    "dataset"
   ]
  },
  {
   "cell_type": "markdown",
   "id": "276707c2-32e7-4f5e-b67b-cc414f88968a",
   "metadata": {},
   "source": [
    "### Balance dataset"
   ]
  },
  {
   "cell_type": "code",
   "execution_count": 23,
   "id": "0c6d0931-9998-4ed0-a083-78fb54ab9506",
   "metadata": {},
   "outputs": [
    {
     "data": {
      "text/plain": [
       "{0: 0.5921831819976313, 1: 3.2119914346895073}"
      ]
     },
     "execution_count": 23,
     "metadata": {},
     "output_type": "execute_result"
    }
   ],
   "source": [
    "from sklearn.utils.class_weight import compute_class_weight\n",
    "\n",
    "# Class labels\n",
    "classes = [0, 1]\n",
    "\n",
    "# Class weights\n",
    "class_weights = compute_class_weight('balanced', classes=classes, y=dataset[\"Received Email? (1=Yes)\"])\n",
    "\n",
    "# Creating a dictionary that can be passed to the model if we don't balance the dataset for ourselves\n",
    "class_weights_dict = dict(zip(classes, class_weights))\n",
    "class_weights_dict"
   ]
  },
  {
   "cell_type": "code",
   "execution_count": 24,
   "id": "ff2d6f9f-1a36-43b5-a466-58ddb360149a",
   "metadata": {},
   "outputs": [],
   "source": [
    "# remove X4 because it has high correlation with X3\n",
    "\n",
    "X = dataset[~outliers_mask][[\"X1\", \"X2\", \"X3\", \"year\", \"month\", \"day_of_week\", \"days_since_last_email\", \"X_avg\"]]\n",
    "y = dataset[~outliers_mask][\"Received Email? (1=Yes)\"]"
   ]
  },
  {
   "cell_type": "code",
   "execution_count": 25,
   "id": "48d66d4e-aba8-4781-b9f6-469992fd40b9",
   "metadata": {},
   "outputs": [],
   "source": [
    "from imblearn.over_sampling import SMOTE\n",
    "\n",
    "sm = SMOTE(random_state=42)\n",
    "X_res, y_res = sm.fit_resample(X, y)\n",
    "X_res = X_res.dropna()\n",
    "y_res = y_res[X_res.index]"
   ]
  },
  {
   "cell_type": "markdown",
   "id": "469af951-3798-459c-b88c-a65c358687ea",
   "metadata": {},
   "source": [
    "## Split dataset"
   ]
  },
  {
   "cell_type": "code",
   "execution_count": 26,
   "id": "951bc62e-0e0e-40ac-a32d-4fcf5c99a1f7",
   "metadata": {},
   "outputs": [],
   "source": [
    "from sklearn.model_selection import train_test_split"
   ]
  },
  {
   "cell_type": "code",
   "execution_count": 27,
   "id": "2cf6d106-9180-4a8e-9946-d467e6d60d1e",
   "metadata": {},
   "outputs": [],
   "source": [
    "# `stratify` will take into account label distribution when splitting the data\n",
    "\n",
    "X_train, X_val_and_test, y_train, y_val_and_test = train_test_split(X_res, y_res, test_size=0.2, random_state=42, stratify=y_res)\n",
    "X_val, X_test, y_val, y_test = train_test_split(X_val_and_test, y_val_and_test, test_size=0.5, random_state=42, stratify=y_val_and_test)"
   ]
  },
  {
   "cell_type": "markdown",
   "id": "d36722c9-2322-4530-959b-b2a514d75cc9",
   "metadata": {},
   "source": [
    "## Model trials"
   ]
  },
  {
   "cell_type": "code",
   "execution_count": 28,
   "id": "0cff7f79-2f43-4e9b-8727-6b48d1fc734e",
   "metadata": {},
   "outputs": [],
   "source": [
    "import numpy as np\n",
    "\n",
    "def plot_feature_importance(coef, feature_names):\n",
    "    \"\"\"Plots the feature importance according to feature coeficients.\"\"\"\n",
    "    feature_importances = pd.DataFrame( np.absolute(coef),\n",
    "                                   index = feature_names,\n",
    "                                   columns=['importance']).sort_values('importance', ascending=False)\n",
    "    feature_importances.plot(kind='bar')\n",
    "    plt.title('Feature Importance')\n",
    "    plt.show()"
   ]
  },
  {
   "cell_type": "markdown",
   "id": "0447819a-5e7a-4704-9053-55033916f93d",
   "metadata": {},
   "source": [
    "### Logistic Regression"
   ]
  },
  {
   "cell_type": "code",
   "execution_count": 29,
   "id": "2e9cc477-78f5-42f7-b68f-86da6c22a3f3",
   "metadata": {},
   "outputs": [
    {
     "name": "stdout",
     "output_type": "stream",
     "text": [
      "              precision    recall  f1-score   support\n",
      "\n",
      "       False      0.885     0.830     0.856      1009\n",
      "        True      0.840     0.892     0.865      1009\n",
      "\n",
      "    accuracy                          0.861      2018\n",
      "   macro avg      0.862     0.861     0.861      2018\n",
      "weighted avg      0.862     0.861     0.861      2018\n",
      "\n"
     ]
    }
   ],
   "source": [
    "from sklearn.linear_model import LogisticRegression\n",
    "from sklearn.metrics import classification_report\n",
    "\n",
    "# max_iter was changed because the default max_iter does not allow convergence\n",
    "clf = LogisticRegression(random_state=0, max_iter=10_000).fit(X_train, y_train)\n",
    "y_pred = clf.predict(pd.concat([X_val, X_test]))\n",
    "report = classification_report(pd.concat([y_val, y_test]), y_pred, digits=3)\n",
    "print(report)"
   ]
  },
  {
   "cell_type": "code",
   "execution_count": 30,
   "id": "7aa091f0-74fd-47b4-ba09-2b5add32ab55",
   "metadata": {},
   "outputs": [
    {
     "data": {
      "image/png": "[encoded data removed]",
      "text/plain": [
       "<Figure size 640x480 with 1 Axes>"
      ]
     },
     "metadata": {},
     "output_type": "display_data"
    }
   ],
   "source": [
    "plot_feature_importance(clf.coef_.reshape(-1), clf.feature_names_in_)"
   ]
  },
  {
   "cell_type": "markdown",
   "id": "fd266285-55d3-4df1-a681-8cf77283e002",
   "metadata": {},
   "source": [
    "### Random Forest"
   ]
  },
  {
   "cell_type": "code",
   "execution_count": 31,
   "id": "b8c2cb79-ad00-4c64-a2b7-06a19e6c4c47",
   "metadata": {},
   "outputs": [
    {
     "name": "stdout",
     "output_type": "stream",
     "text": [
      "              precision    recall  f1-score   support\n",
      "\n",
      "       False      0.922     0.860     0.890      1009\n",
      "        True      0.869     0.928     0.897      1009\n",
      "\n",
      "    accuracy                          0.894      2018\n",
      "   macro avg      0.896     0.894     0.894      2018\n",
      "weighted avg      0.896     0.894     0.894      2018\n",
      "\n"
     ]
    }
   ],
   "source": [
    "from sklearn.ensemble import RandomForestClassifier\n",
    "    from sklearn.metrics import classification_report\n",
    "\n",
    "rf = RandomForestClassifier(random_state=0).fit(X_train, y_train)\n",
    "y_pred = rf.predict(pd.concat([X_val, X_test]))\n",
    "report = classification_report(pd.concat([y_val, y_test]), y_pred, digits=3)\n",
    "print(report)"
   ]
  },
  {
   "cell_type": "code",
   "execution_count": 32,
   "id": "f08715eb-b9b4-4774-87f9-b5f90a424af0",
   "metadata": {},
   "outputs": [
    {
     "data": {
      "image/png": "[encoded data removed]",
      "text/plain": [
       "<Figure size 640x480 with 1 Axes>"
      ]
     },
     "metadata": {},
     "output_type": "display_data"
    }
   ],
   "source": [
    "plot_feature_importance(rf.feature_importances_.reshape(-1), rf.feature_names_in_)"
   ]
  },
  {
   "cell_type": "markdown",
   "id": "497827b9-399b-4f7e-9347-2ce86441bebb",
   "metadata": {},
   "source": [
    "### Support Vector Machines"
   ]
  },
  {
   "cell_type": "code",
   "execution_count": 33,
   "id": "b2eaf1bf-dec4-4d94-9e41-496f50078c7a",
   "metadata": {},
   "outputs": [
    {
     "name": "stdout",
     "output_type": "stream",
     "text": [
      "              precision    recall  f1-score   support\n",
      "\n",
      "       False      0.883     0.810     0.845       505\n",
      "        True      0.824     0.893     0.857       504\n",
      "\n",
      "    accuracy                          0.851      1009\n",
      "   macro avg      0.854     0.851     0.851      1009\n",
      "weighted avg      0.854     0.851     0.851      1009\n",
      "\n"
     ]
    }
   ],
   "source": [
    "from sklearn.svm import LinearSVC\n",
    "from sklearn.metrics import classification_report\n",
    "\n",
    "# Without dual=\"auto\" the model does not converge\n",
    "svm = LinearSVC(dual=\"auto\", random_state=0).fit(X_train, y_train)\n",
    "y_pred = svm.predict(X_test)\n",
    "report = classification_report(y_test, y_pred, digits=3)\n",
    "print(report)"
   ]
  },
  {
   "cell_type": "code",
   "execution_count": 34,
   "id": "de08ce5a-7ec4-438c-a6d4-ab6c6af9200f",
   "metadata": {},
   "outputs": [
    {
     "data": {
      "image/png": "[encoded data removed]",
      "text/plain": [
       "<Figure size 640x480 with 1 Axes>"
      ]
     },
     "metadata": {},
     "output_type": "display_data"
    }
   ],
   "source": [
    "plot_feature_importance(svm.coef_.reshape(-1),svm.feature_names_in_)"
   ]
  },
  {
   "cell_type": "markdown",
   "id": "4b40c3de-fd56-4d7c-9952-0e3c0fa3ab6b",
   "metadata": {},
   "source": [
    "### LightGBM"
   ]
  },
  {
   "cell_type": "code",
   "execution_count": 35,
   "id": "ccc5acbb-133b-4cc6-b735-06c325cfdbab",
   "metadata": {},
   "outputs": [],
   "source": [
    "import lightgbm as lgb\n",
    "from sklearn.metrics import classification_report"
   ]
  },
  {
   "cell_type": "code",
   "execution_count": 36,
   "id": "2b822735-0604-4316-8f23-3068b9d285af",
   "metadata": {},
   "outputs": [],
   "source": [
    "train_data = lgb.Dataset(X_train, label=y_train)\n",
    "validation_data = lgb.Dataset(X_val, label=y_val, reference=train_data)"
   ]
  },
  {
   "cell_type": "code",
   "execution_count": 37,
   "id": "59d946bc-469e-497d-b6c3-12704347cc7d",
   "metadata": {},
   "outputs": [
    {
     "name": "stdout",
     "output_type": "stream",
     "text": [
      "[LightGBM] [Info] Number of positive: 4035, number of negative: 4035\n",
      "[LightGBM] [Info] Auto-choosing row-wise multi-threading, the overhead of testing was 0.000110 seconds.\n",
      "You can set `force_row_wise=true` to remove the overhead.\n",
      "And if memory is not enough, you can set `force_col_wise=true`.\n",
      "[LightGBM] [Info] Total Bins 841\n",
      "[LightGBM] [Info] Number of data points in the train set: 8070, number of used features: 8\n",
      "[LightGBM] [Info] [binary:BoostFromScore]: pavg=0.500000 -> initscore=0.000000\n"
     ]
    }
   ],
   "source": [
    "params = {\n",
    "    'objective': 'binary',\n",
    "    'metric': 'binary_logloss',\n",
    "}\n",
    "\n",
    "lgbm_model = lgb.train(params, train_data, valid_sets=[validation_data], num_boost_round=100)"
   ]
  },
  {
   "cell_type": "code",
   "execution_count": 38,
   "id": "03048195-0052-4744-b736-870743e5dfd8",
   "metadata": {},
   "outputs": [
    {
     "name": "stdout",
     "output_type": "stream",
     "text": [
      "              precision    recall  f1-score   support\n",
      "\n",
      "       False      0.914     0.846     0.879       505\n",
      "        True      0.856     0.921     0.887       504\n",
      "\n",
      "    accuracy                          0.883      1009\n",
      "   macro avg      0.885     0.883     0.883      1009\n",
      "weighted avg      0.885     0.883     0.883      1009\n",
      "\n"
     ]
    }
   ],
   "source": [
    "y_pred = lgbm_model.predict(X_test, num_iteration=lgbm_model.best_iteration)\n",
    "# Convert probabilities to binary output (0 or 1) if it's a binary classification\n",
    "y_pred_binary = (y_pred > 0.5).astype(int)\n",
    "report = classification_report(y_test, y_pred_binary, digits=3)\n",
    "print(report)"
   ]
  },
  {
   "cell_type": "code",
   "execution_count": 39,
   "id": "671feb98-2a6f-4c50-8c9d-3c8dd5aea5b8",
   "metadata": {},
   "outputs": [
    {
     "data": {
      "image/png": "[encoded data removed]",
      "text/plain": [
       "<Figure size 640x480 with 1 Axes>"
      ]
     },
     "metadata": {},
     "output_type": "display_data"
    }
   ],
   "source": [
    "plot_feature_importance(lgbm_model.feature_importance().reshape(-1), lgbm_model.feature_name())"
   ]
  },
  {
   "cell_type": "code",
   "execution_count": null,
   "id": "8962cd3b-d7ae-48b2-b813-cc8adca6149a",
   "metadata": {},
   "outputs": [],
   "source": [
    "    "
   ]
  }
 ],
 "metadata": {
  "language_info": {
   "codemirror_mode": {
    "name": "ipython",
    "version": 3
   },
   "file_extension": ".py",
   "mimetype": "text/x-python",
   "name": "python",
   "nbconvert_exporter": "python",
   "pygments_lexer": "ipython3",
   "version": "3.9.17"
  }
 },
 "nbformat": 4,
 "nbformat_minor": 5
}
