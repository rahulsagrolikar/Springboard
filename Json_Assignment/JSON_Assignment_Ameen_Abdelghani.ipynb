{
 "cells": [
  {
   "cell_type": "code",
   "execution_count": 1,
   "metadata": {},
   "outputs": [],
   "source": [
    "import pandas as pd # import pandas"
   ]
  },
  {
   "cell_type": "code",
   "execution_count": 2,
   "metadata": {},
   "outputs": [],
   "source": [
    "import json #import json"
   ]
  },
  {
   "cell_type": "code",
   "execution_count": 3,
   "metadata": {},
   "outputs": [],
   "source": [
    "from pandas.io.json import json_normalize #import json_normalize"
   ]
  },
  {
   "cell_type": "code",
   "execution_count": 4,
   "metadata": {},
   "outputs": [],
   "source": [
    "data = json.load((open('data/world_bank_projects.json')))#load the json file"
   ]
  },
  {
   "cell_type": "code",
   "execution_count": 19,
   "metadata": {},
   "outputs": [],
   "source": [
    "df_mjthemes = json_normalize(data, 'mjtheme_namecode') #get a normalized dataframe of the mjtheme_namecode column"
   ]
  },
  {
   "cell_type": "code",
   "execution_count": 11,
   "metadata": {},
   "outputs": [],
   "source": [
    "wb_df = pd.read_json('data/world_bank_projects.json') #turn the json file into a pandas dataframe"
   ]
  },
  {
   "cell_type": "code",
   "execution_count": 12,
   "metadata": {},
   "outputs": [
    {
     "name": "stdout",
     "output_type": "stream",
     "text": [
      "Index(['_id', 'approvalfy', 'board_approval_month', 'boardapprovaldate',\n",
      "       'borrower', 'closingdate', 'country_namecode', 'countrycode',\n",
      "       'countryname', 'countryshortname', 'docty', 'envassesmentcategorycode',\n",
      "       'grantamt', 'ibrdcommamt', 'id', 'idacommamt', 'impagency',\n",
      "       'lendinginstr', 'lendinginstrtype', 'lendprojectcost',\n",
      "       'majorsector_percent', 'mjsector_namecode', 'mjtheme',\n",
      "       'mjtheme_namecode', 'mjthemecode', 'prodline', 'prodlinetext',\n",
      "       'productlinetype', 'project_abstract', 'project_name', 'projectdocs',\n",
      "       'projectfinancialtype', 'projectstatusdisplay', 'regionname', 'sector',\n",
      "       'sector1', 'sector2', 'sector3', 'sector4', 'sector_namecode',\n",
      "       'sectorcode', 'source', 'status', 'supplementprojectflg', 'theme1',\n",
      "       'theme_namecode', 'themecode', 'totalamt', 'totalcommamt', 'url'],\n",
      "      dtype='object')\n"
     ]
    }
   ],
   "source": [
    "print(wb_df.columns) #examine the columns"
   ]
  },
  {
   "cell_type": "code",
   "execution_count": 15,
   "metadata": {},
   "outputs": [],
   "source": [
    "wb_df_index_set = wb_df.set_index('countryname') #Turn the json file into a pandas dataframe. Set the index by country name\n",
    "wb_p = wb_df_index_set['mjtheme_namecode'] #reduce the dataframe to just show the total amount for projects which is already indexed by country name\n",
    "grouped1 = wb_p.groupby('countryname').count() #group the reduced dataframe by countryname and count the values of the mjtheme_namecode dolumn, which is the only column.\n"
   ]
  },
  {
   "cell_type": "code",
   "execution_count": 16,
   "metadata": {},
   "outputs": [
    {
     "name": "stdout",
     "output_type": "stream",
     "text": [
      "countryname\n",
      "Africa                    11\n",
      "Antigua and Barbuda        1\n",
      "Arab Republic of Egypt     2\n",
      "Argentine Republic         2\n",
      "Bosnia and Herzegovina     1\n",
      "Name: mjtheme_namecode, dtype: int64\n"
     ]
    }
   ],
   "source": [
    "print(grouped1.head()) #Examine the results"
   ]
  },
  {
   "cell_type": "code",
   "execution_count": 17,
   "metadata": {},
   "outputs": [],
   "source": [
    "grouped_sorted = grouped1.sort_values(ascending=False) #sort the dataframe by descending order to get the highest values\n",
    "grouped_sorted = grouped_sorted.drop('Africa') #Remove Africa from the list because it is a continent and not a country."
   ]
  },
  {
   "cell_type": "code",
   "execution_count": 18,
   "metadata": {},
   "outputs": [
    {
     "name": "stdout",
     "output_type": "stream",
     "text": [
      "countryname\n",
      "People's Republic of China         19\n",
      "Republic of Indonesia              19\n",
      "Socialist Republic of Vietnam      17\n",
      "Republic of India                  16\n",
      "Republic of Yemen                  13\n",
      "Nepal                              12\n",
      "People's Republic of Bangladesh    12\n",
      "Kingdom of Morocco                 12\n",
      "Republic of Mozambique             11\n",
      "Burkina Faso                        9\n",
      "Name: mjtheme_namecode, dtype: int64\n"
     ]
    }
   ],
   "source": [
    "print(grouped_sorted.head(10)) #Top ten countries with the most projects. Problem 1 solved"
   ]
  },
  {
   "cell_type": "code",
   "execution_count": 23,
   "metadata": {},
   "outputs": [],
   "source": [
    "#problem 2"
   ]
  },
  {
   "cell_type": "code",
   "execution_count": 26,
   "metadata": {},
   "outputs": [
    {
     "name": "stdout",
     "output_type": "stream",
     "text": [
      "  code                                   name\n",
      "0    8                      Human development\n",
      "1   11                                       \n",
      "2    1                    Economic management\n",
      "3    6  Social protection and risk management\n",
      "4    5                  Trade and integration\n"
     ]
    }
   ],
   "source": [
    "print(df_mjthemes.head())"
   ]
  },
  {
   "cell_type": "code",
   "execution_count": 44,
   "metadata": {},
   "outputs": [],
   "source": [
    "count_by_theme = df_mjthemes.groupby(['code', 'name']).size().reset_index(name='count').sort_values(by='count', ascending=False) #grouped the normalized dataframe by 'code' and 'name' aggregating by size, reset the index calling the aggregated column 'count'. and then sorted the values by 'count' by descending order. "
   ]
  },
  {
   "cell_type": "code",
   "execution_count": 45,
   "metadata": {},
   "outputs": [
    {
     "name": "stdout",
     "output_type": "stream",
     "text": [
      "   code                                          name  count\n",
      "5    11  Environment and natural resources management    223\n",
      "3    10                             Rural development    202\n",
      "19    8                             Human development    197\n",
      "7     2                      Public sector governance    184\n",
      "15    6         Social protection and risk management    158\n",
      "11    4      Financial and private sector development    130\n",
      "17    7                   Social dev/gender/inclusion    119\n",
      "13    5                         Trade and integration     72\n",
      "21    9                             Urban development     47\n",
      "1     1                           Economic management     33\n",
      "4    11                                                   27\n",
      "10    4                                                   16\n",
      "6     2                                                   15\n",
      "2    10                                                   14\n",
      "18    8                                                   13\n",
      "9     3                                   Rule of law     12\n",
      "16    7                                                   11\n",
      "14    6                                                   10\n",
      "12    5                                                    5\n",
      "0     1                                                    5\n",
      "8     3                                                    3\n",
      "20    9                                                    3\n"
     ]
    }
   ],
   "source": [
    "print(count_by_theme) #Problem 2 solved."
   ]
  },
  {
   "cell_type": "code",
   "execution_count": null,
   "metadata": {},
   "outputs": [],
   "source": []
  },
  {
   "cell_type": "code",
   "execution_count": 46,
   "metadata": {},
   "outputs": [],
   "source": [
    "#Problem 3"
   ]
  },
  {
   "cell_type": "code",
   "execution_count": 57,
   "metadata": {},
   "outputs": [],
   "source": [
    "df_mjthemes_map = df_mjthemes.groupby('code')['name'].describe().reset_index() #get a description of the code column against the name column. reset the index"
   ]
  },
  {
   "cell_type": "code",
   "execution_count": 58,
   "metadata": {},
   "outputs": [
    {
     "name": "stdout",
     "output_type": "stream",
     "text": [
      "   code count unique                                           top freq\n",
      "0     1    38      2                           Economic management   33\n",
      "1    10   216      2                             Rural development  202\n",
      "2    11   250      2  Environment and natural resources management  223\n",
      "3     2   199      2                      Public sector governance  184\n",
      "4     3    15      2                                   Rule of law   12\n",
      "5     4   146      2      Financial and private sector development  130\n",
      "6     5    77      2                         Trade and integration   72\n",
      "7     6   168      2         Social protection and risk management  158\n",
      "8     7   130      2                   Social dev/gender/inclusion  119\n",
      "9     8   210      2                             Human development  197\n",
      "10    9    50      2                             Urban development   47\n"
     ]
    }
   ],
   "source": [
    "print(df_mjthemes_map)"
   ]
  },
  {
   "cell_type": "code",
   "execution_count": 62,
   "metadata": {},
   "outputs": [],
   "source": [
    "df_mjthemes_map = df_mjthemes_map[['code', 'top']].rename(columns={'top':'name'}) #rename the columns"
   ]
  },
  {
   "cell_type": "code",
   "execution_count": 63,
   "metadata": {},
   "outputs": [
    {
     "name": "stdout",
     "output_type": "stream",
     "text": [
      "   code                                          name\n",
      "0     1                           Economic management\n",
      "1    10                             Rural development\n",
      "2    11  Environment and natural resources management\n",
      "3     2                      Public sector governance\n",
      "4     3                                   Rule of law\n",
      "5     4      Financial and private sector development\n",
      "6     5                         Trade and integration\n",
      "7     6         Social protection and risk management\n",
      "8     7                   Social dev/gender/inclusion\n",
      "9     8                             Human development\n",
      "10    9                             Urban development\n"
     ]
    }
   ],
   "source": [
    "print(df_mjthemes_map)"
   ]
  },
  {
   "cell_type": "code",
   "execution_count": 64,
   "metadata": {},
   "outputs": [],
   "source": [
    "df_mjthemes_fill = df_mjthemes[[\"code\"]].merge(df_mjthemes_map,\n",
    "how=\"left\", on=\"code\") #merge the two datafarmes by the 'code' column in the left dataframe"
   ]
  },
  {
   "cell_type": "code",
   "execution_count": 68,
   "metadata": {},
   "outputs": [
    {
     "name": "stdout",
     "output_type": "stream",
     "text": [
      "   code                                          name\n",
      "0     8                             Human development\n",
      "1    11  Environment and natural resources management\n",
      "2     1                           Economic management\n",
      "3     6         Social protection and risk management\n",
      "4     5                         Trade and integration\n",
      "5     2                      Public sector governance\n",
      "6    11  Environment and natural resources management\n",
      "7     6         Social protection and risk management\n",
      "8     7                   Social dev/gender/inclusion\n",
      "9     7                   Social dev/gender/inclusion\n",
      "10    5                         Trade and integration\n",
      "11    4      Financial and private sector development\n",
      "12    6         Social protection and risk management\n",
      "13    6         Social protection and risk management\n",
      "14    2                      Public sector governance\n"
     ]
    }
   ],
   "source": [
    "print(df_mjthemes_fill.head(15)) #examine the results"
   ]
  },
  {
   "cell_type": "code",
   "execution_count": 69,
   "metadata": {},
   "outputs": [],
   "source": [
    "count_by_theme = df_mjthemes_fill.groupby([\"code\",\"name\"]).size() \\\n",
    "                    .reset_index(name=\"count\") \\\n",
    "                    .sort_values(\"count\", ascending=False) #reapply the code from problem 2 now with the new filled dataframe "
   ]
  },
  {
   "cell_type": "code",
   "execution_count": 71,
   "metadata": {},
   "outputs": [
    {
     "name": "stdout",
     "output_type": "stream",
     "text": [
      "   code                                          name  count\n",
      "2    11  Environment and natural resources management    250\n",
      "1    10                             Rural development    216\n",
      "9     8                             Human development    210\n",
      "3     2                      Public sector governance    199\n",
      "7     6         Social protection and risk management    168\n",
      "5     4      Financial and private sector development    146\n",
      "8     7                   Social dev/gender/inclusion    130\n",
      "6     5                         Trade and integration     77\n",
      "10    9                             Urban development     50\n",
      "0     1                           Economic management     38\n",
      "4     3                                   Rule of law     15\n"
     ]
    }
   ],
   "source": [
    "print(count_by_theme) #Top 10 projects with the nan values correctly filled. "
   ]
  },
  {
   "cell_type": "code",
   "execution_count": null,
   "metadata": {},
   "outputs": [],
   "source": []
  }
 ],
 "metadata": {
  "kernelspec": {
   "display_name": "Python 3",
   "language": "python",
   "name": "python3"
  },
  "language_info": {
   "codemirror_mode": {
    "name": "ipython",
    "version": 3
   },
   "file_extension": ".py",
   "mimetype": "text/x-python",
   "name": "python",
   "nbconvert_exporter": "python",
   "pygments_lexer": "ipython3",
   "version": "3.6.4"
  }
 },
 "nbformat": 4,
 "nbformat_minor": 2
}
