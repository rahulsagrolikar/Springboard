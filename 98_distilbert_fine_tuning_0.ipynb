{
  "cells": [
    {
      "cell_type": "markdown",
      "metadata": {
        "id": "2_IhsK2RjtrX"
      },
      "source": [
        "# Fine tuning distillbert\n",
        "\n",
        "> code to fine tune a bert model specific building a search term classifier"
      ]
    },
    {
      "cell_type": "code",
      "execution_count": null,
      "metadata": {
        "id": "lvZWRbvGjtrY"
      },
      "outputs": [],
      "source": [
        "#| default_exp distilbert_fine_tuning"
      ]
    },
    {
      "cell_type": "code",
      "execution_count": null,
      "metadata": {
        "colab": {
          "base_uri": "https://localhost:8080/"
        },
        "id": "1doay98ajtrZ",
        "outputId": "66b449b2-d4cd-409f-bf03-8fc96194dc37"
      },
      "outputs": [
        {
          "output_type": "stream",
          "name": "stdout",
          "text": [
            "Running in Google Colab\n"
          ]
        }
      ],
      "source": [
        "#| hide\n",
        "import sys, os\n",
        "if 'google.colab' in sys.modules:\n",
        "    print('Running in Google Colab')\n",
        "    COLAB = True\n",
        "else:\n",
        "    print('Not running in Google Colab')\n",
        "    from nbdev.showdoc import *\n",
        "    COLAB = False"
      ]
    },
    {
      "cell_type": "code",
      "source": [
        "if COLAB and not os.path.exists('amz2-0.0.1-py3-none-any.whl'):\n",
        "    !unzip colab.zip\n",
        "    !pip install amz2-0.0.1-py3-none-any.whl # Installing package we created\n",
        "    from google.colab import drive\n",
        "    drive.mount('/content/drive')"
      ],
      "metadata": {
        "id": "Q4gRAxd251Fr"
      },
      "execution_count": null,
      "outputs": []
    },
    {
      "cell_type": "code",
      "source": [
        "DEBUG = True\n",
        "MODEL_PREFIX = 'drive/MyDrive/bias_no_grad/bert_' if COLAB else 'models/bert_'\n",
        "\n",
        "!nvidia-smi"
      ],
      "metadata": {
        "colab": {
          "base_uri": "https://localhost:8080/"
        },
        "id": "5tfqzAkY5uRm",
        "outputId": "dba1b1fb-4fad-420f-daea-0b6116232fe8"
      },
      "execution_count": null,
      "outputs": [
        {
          "output_type": "stream",
          "name": "stdout",
          "text": [
            "Mon Jun  5 17:06:16 2023       \n",
            "+-----------------------------------------------------------------------------+\n",
            "| NVIDIA-SMI 525.85.12    Driver Version: 525.85.12    CUDA Version: 12.0     |\n",
            "|-------------------------------+----------------------+----------------------+\n",
            "| GPU  Name        Persistence-M| Bus-Id        Disp.A | Volatile Uncorr. ECC |\n",
            "| Fan  Temp  Perf  Pwr:Usage/Cap|         Memory-Usage | GPU-Util  Compute M. |\n",
            "|                               |                      |               MIG M. |\n",
            "|===============================+======================+======================|\n",
            "|   0  Tesla T4            Off  | 00000000:00:04.0 Off |                    0 |\n",
            "| N/A   55C    P8    10W /  70W |      0MiB / 15360MiB |      0%      Default |\n",
            "|                               |                      |                  N/A |\n",
            "+-------------------------------+----------------------+----------------------+\n",
            "                                                                               \n",
            "+-----------------------------------------------------------------------------+\n",
            "| Processes:                                                                  |\n",
            "|  GPU   GI   CI        PID   Type   Process name                  GPU Memory |\n",
            "|        ID   ID                                                   Usage      |\n",
            "|=============================================================================|\n",
            "|  No running processes found                                                 |\n",
            "+-----------------------------------------------------------------------------+\n"
          ]
        }
      ]
    },
    {
      "cell_type": "markdown",
      "metadata": {
        "id": "FOhMRfdLjtra"
      },
      "source": [
        "## Imports"
      ]
    },
    {
      "cell_type": "code",
      "execution_count": null,
      "metadata": {
        "id": "ffeT_uWHjtra"
      },
      "outputs": [],
      "source": [
        "#| export\n",
        "import os, copy, multiprocessing, logging, gc\n",
        "from pathlib import Path\n",
        "\n",
        "import numpy as np\n",
        "import pandas as pd\n",
        "import matplotlib.pyplot as plt\n",
        "from sklearn.model_selection import StratifiedKFold\n",
        "from sklearn.metrics import accuracy_score\n",
        "import torch\n",
        "from tqdm import tqdm, trange\n",
        "from torch.utils.data import DataLoader, TensorDataset\n",
        "from transformers import AutoTokenizer, AutoModelForSequenceClassification\n",
        "import warnings\n",
        "from fastcore.script import call_parse, Param\n",
        "\n",
        "#### amz2 is the package we created, which was installed with pip install amz2-0.0.1-py3-none-any.whl\n",
        "from amz2.core import read_train, read_test, remap_category_index, load_int2int_dict\n",
        "\n",
        "warnings.filterwarnings(\"ignore\")\n",
        "logging.getLogger(\"transformers.tokenization_utils_base\").setLevel(logging.ERROR)\n",
        "logging.getLogger(\"transformers.modeling_utils\").setLevel(logging.ERROR)\n",
        "\n",
        "os.environ[\"TOKENIZERS_PARALLELISM\"] = \"false\""
      ]
    },
    {
      "cell_type": "code",
      "source": [
        "DEBUG = False\n",
        "print(DEBUG)"
      ],
      "metadata": {
        "colab": {
          "base_uri": "https://localhost:8080/"
        },
        "id": "oHG24oun7SJE",
        "outputId": "4149fc8d-cce1-414d-b44d-243e3b5f7d7f"
      },
      "execution_count": null,
      "outputs": [
        {
          "output_type": "stream",
          "name": "stdout",
          "text": [
            "False\n"
          ]
        }
      ]
    },
    {
      "cell_type": "code",
      "execution_count": null,
      "metadata": {
        "id": "eGQexpwjjtra"
      },
      "outputs": [],
      "source": [
        "data = Path('data' if not COLAB else '.')\n",
        "train_file = 'trainSet.csv'\n",
        "test_file = 'candidateTestSet.csv' # To be read and saved to candidateTestSet.csv\n",
        "\n",
        "train = pd.read_csv(data/train_file, header=None)\n",
        "if not COLAB: test = pd.read_csv(data/test_file, header=None)\n",
        "# os.listdir(data)\n",
        "###############################"
      ]
    },
    {
      "cell_type": "markdown",
      "metadata": {
        "id": "g4DLx3qnjtra"
      },
      "source": [
        "## Bert fine tuning"
      ]
    },
    {
      "cell_type": "markdown",
      "source": [
        "The purpose of following two cells is to simulate a true train/test split. I save `val` to \"test_target.csv\", and then treat `trn` as my full training set."
      ],
      "metadata": {
        "id": "Wmv4lfrGq_pe"
      }
    },
    {
      "cell_type": "code",
      "execution_count": null,
      "metadata": {
        "id": "H3yWsVnFjtrb"
      },
      "outputs": [],
      "source": [
        "kf = StratifiedKFold()\n",
        "for fold, (trn_ind, val_ind) in enumerate(kf.split(train, train[1])):\n",
        "    trn, val = train.loc[trn_ind], train.loc[val_ind]\n",
        "    break\n",
        "if DEBUG: trn = trn.sample(frac=.1)\n",
        "# val = val.sample(frac=.05)"
      ]
    },
    {
      "cell_type": "code",
      "execution_count": null,
      "metadata": {
        "colab": {
          "base_uri": "https://localhost:8080/",
          "height": 130
        },
        "id": "8l5_npNPjtrb",
        "outputId": "60b9a1e2-0f52-4537-9c1a-73d7cd964129"
      },
      "outputs": [
        {
          "output_type": "display_data",
          "data": {
            "text/plain": [
              "                    st\n",
              "0            yew hedge\n",
              "1  fire detection shop"
            ],
            "text/html": [
              "\n",
              "  <div id=\"df-0eb04f76-b21b-477a-aa55-6d380c3537f5\">\n",
              "    <div class=\"colab-df-container\">\n",
              "      <div>\n",
              "<style scoped>\n",
              "    .dataframe tbody tr th:only-of-type {\n",
              "        vertical-align: middle;\n",
              "    }\n",
              "\n",
              "    .dataframe tbody tr th {\n",
              "        vertical-align: top;\n",
              "    }\n",
              "\n",
              "    .dataframe thead th {\n",
              "        text-align: right;\n",
              "    }\n",
              "</style>\n",
              "<table border=\"1\" class=\"dataframe\">\n",
              "  <thead>\n",
              "    <tr style=\"text-align: right;\">\n",
              "      <th></th>\n",
              "      <th>st</th>\n",
              "    </tr>\n",
              "  </thead>\n",
              "  <tbody>\n",
              "    <tr>\n",
              "      <th>0</th>\n",
              "      <td>yew hedge</td>\n",
              "    </tr>\n",
              "    <tr>\n",
              "      <th>1</th>\n",
              "      <td>fire detection shop</td>\n",
              "    </tr>\n",
              "  </tbody>\n",
              "</table>\n",
              "</div>\n",
              "      <button class=\"colab-df-convert\" onclick=\"convertToInteractive('df-0eb04f76-b21b-477a-aa55-6d380c3537f5')\"\n",
              "              title=\"Convert this dataframe to an interactive table.\"\n",
              "              style=\"display:none;\">\n",
              "        \n",
              "  <svg xmlns=\"http://www.w3.org/2000/svg\" height=\"24px\"viewBox=\"0 0 24 24\"\n",
              "       width=\"24px\">\n",
              "    <path d=\"M0 0h24v24H0V0z\" fill=\"none\"/>\n",
              "    <path d=\"M18.56 5.44l.94 2.06.94-2.06 2.06-.94-2.06-.94-.94-2.06-.94 2.06-2.06.94zm-11 1L8.5 8.5l.94-2.06 2.06-.94-2.06-.94L8.5 2.5l-.94 2.06-2.06.94zm10 10l.94 2.06.94-2.06 2.06-.94-2.06-.94-.94-2.06-.94 2.06-2.06.94z\"/><path d=\"M17.41 7.96l-1.37-1.37c-.4-.4-.92-.59-1.43-.59-.52 0-1.04.2-1.43.59L10.3 9.45l-7.72 7.72c-.78.78-.78 2.05 0 2.83L4 21.41c.39.39.9.59 1.41.59.51 0 1.02-.2 1.41-.59l7.78-7.78 2.81-2.81c.8-.78.8-2.07 0-2.86zM5.41 20L4 18.59l7.72-7.72 1.47 1.35L5.41 20z\"/>\n",
              "  </svg>\n",
              "      </button>\n",
              "      \n",
              "  <style>\n",
              "    .colab-df-container {\n",
              "      display:flex;\n",
              "      flex-wrap:wrap;\n",
              "      gap: 12px;\n",
              "    }\n",
              "\n",
              "    .colab-df-convert {\n",
              "      background-color: #E8F0FE;\n",
              "      border: none;\n",
              "      border-radius: 50%;\n",
              "      cursor: pointer;\n",
              "      display: none;\n",
              "      fill: #1967D2;\n",
              "      height: 32px;\n",
              "      padding: 0 0 0 0;\n",
              "      width: 32px;\n",
              "    }\n",
              "\n",
              "    .colab-df-convert:hover {\n",
              "      background-color: #E2EBFA;\n",
              "      box-shadow: 0px 1px 2px rgba(60, 64, 67, 0.3), 0px 1px 3px 1px rgba(60, 64, 67, 0.15);\n",
              "      fill: #174EA6;\n",
              "    }\n",
              "\n",
              "    [theme=dark] .colab-df-convert {\n",
              "      background-color: #3B4455;\n",
              "      fill: #D2E3FC;\n",
              "    }\n",
              "\n",
              "    [theme=dark] .colab-df-convert:hover {\n",
              "      background-color: #434B5C;\n",
              "      box-shadow: 0px 1px 3px 1px rgba(0, 0, 0, 0.15);\n",
              "      filter: drop-shadow(0px 1px 2px rgba(0, 0, 0, 0.3));\n",
              "      fill: #FFFFFF;\n",
              "    }\n",
              "  </style>\n",
              "\n",
              "      <script>\n",
              "        const buttonEl =\n",
              "          document.querySelector('#df-0eb04f76-b21b-477a-aa55-6d380c3537f5 button.colab-df-convert');\n",
              "        buttonEl.style.display =\n",
              "          google.colab.kernel.accessAllowed ? 'block' : 'none';\n",
              "\n",
              "        async function convertToInteractive(key) {\n",
              "          const element = document.querySelector('#df-0eb04f76-b21b-477a-aa55-6d380c3537f5');\n",
              "          const dataTable =\n",
              "            await google.colab.kernel.invokeFunction('convertToInteractive',\n",
              "                                                     [key], {});\n",
              "          if (!dataTable) return;\n",
              "\n",
              "          const docLinkHtml = 'Like what you see? Visit the ' +\n",
              "            '<a target=\"_blank\" href=https://colab.research.google.com/notebooks/data_table.ipynb>data table notebook</a>'\n",
              "            + ' to learn more about interactive tables.';\n",
              "          element.innerHTML = '';\n",
              "          dataTable['output_type'] = 'display_data';\n",
              "          await google.colab.output.renderOutput(dataTable, element);\n",
              "          const docLink = document.createElement('div');\n",
              "          docLink.innerHTML = docLinkHtml;\n",
              "          element.appendChild(docLink);\n",
              "        }\n",
              "      </script>\n",
              "    </div>\n",
              "  </div>\n",
              "  "
            ]
          },
          "metadata": {}
        },
        {
          "output_type": "execute_result",
          "data": {
            "text/plain": [
              "59"
            ]
          },
          "metadata": {},
          "execution_count": 9
        }
      ],
      "source": [
        "trn.to_csv('train.csv', header=False, index=False)\n",
        "val[0].to_csv('test_input.csv', header=False, index=False)\n",
        "val[1].to_csv('test_target.csv', header=False, index=False)\n",
        "display(read_test('test_input.csv').head(2))\n",
        "del trn, val, train\n",
        "gc.collect()"
      ]
    },
    {
      "cell_type": "markdown",
      "source": [
        "## Library"
      ],
      "metadata": {
        "id": "WkIijEuRrQ2c"
      }
    },
    {
      "cell_type": "code",
      "execution_count": null,
      "metadata": {
        "id": "h9cE7cl1jtrb"
      },
      "outputs": [],
      "source": [
        "def get_train_dataloader(text_list, label_list, tokenizer, batch_size=32, num_workers=0):\n",
        "    encoded_dict = tokenizer.batch_encode_plus(text_list, padding=True, truncation=True, max_length=128)\n",
        "    input_ids = torch.tensor(encoded_dict['input_ids'])\n",
        "    attention_masks = torch.tensor(encoded_dict['attention_mask'])\n",
        "    labels = torch.tensor(label_list)\n",
        "    dataset = TensorDataset(input_ids, attention_masks, labels)\n",
        "    if num_workers == -1: num_workers = multiprocessing.cpu_count()\n",
        "    return DataLoader(dataset, batch_size=batch_size, num_workers=num_workers, shuffle=True)\n",
        "\n",
        "def get_test_dataloader(text_list, tokenizer, batch_size=32, num_workers=0):\n",
        "    encoded_dict = tokenizer.batch_encode_plus(text_list, padding=True, truncation=True, max_length=128)\n",
        "    input_ids = torch.tensor(encoded_dict['input_ids'])\n",
        "    attention_masks = torch.tensor(encoded_dict['attention_mask'])\n",
        "    dataset = TensorDataset(input_ids, attention_masks)\n",
        "    if num_workers == -1: num_workers = multiprocessing.cpu_count()\n",
        "    return DataLoader(dataset, batch_size=batch_size, num_workers=num_workers)\n",
        "\n",
        "sigmoid = lambda x: 1 / (1 + np.exp(-x))\n",
        "def binary_cross_entropy(label, preds, dim=None, no_mean=None):\n",
        "    \"\"\"More flexible implementation so we can get mean per target if we want.\"\"\"\n",
        "    epsilon = 1e-15  # add a small value to avoid taking log of zero\n",
        "    preds = torch.clamp(preds, epsilon, 1 - epsilon)\n",
        "    bce_loss = -(torch.log(preds) * label + torch.log(1 - preds) * (1 - label))\n",
        "    if no_mean:\n",
        "        return bce_loss\n",
        "    if dim is not None: return torch.mean(bce_loss, dim=dim)\n",
        "    return torch.mean(bce_loss)\n",
        "\n",
        "class BertTuner:\n",
        "    def __init__(\n",
        "        self,\n",
        "        num_labels,\n",
        "        device='cuda:0',\n",
        "        model=None,\n",
        "        trn_dl=None,\n",
        "        val_dls:list=None,\n",
        "        model_prefix='bert_',\n",
        "        target_list=None,\n",
        "        bias_requires_grad=True,\n",
        "    ):\n",
        "        \"\"\"A class to fine tune a bert model with the input data loaders and model.\"\"\"\n",
        "        self.device = device\n",
        "        self.model = model.to(self.device)\n",
        "        self.trn_dl = trn_dl\n",
        "        self.val_dls = val_dls if val_dls else []\n",
        "        self.bce_lists = [[] for _ in range(len(self.val_dls))]\n",
        "        self.accuracy_lists = [[] for _ in range(len(self.val_dls))]\n",
        "        self.num_labels = num_labels\n",
        "        self.model_prefix = model_prefix\n",
        "        self.epoch_cnt = 1\n",
        "        if target_list: self.set_mean_as_bias(target_list, bias_requires_grad) # Give if you want to set mean to bias\n",
        "\n",
        "    def set_mean_as_bias(self, target_list, bias_requires_grad=True):\n",
        "        print('setting the last layer to the mean for each class')\n",
        "        ohe = torch.nn.functional.one_hot(torch.tensor(target_list), num_classes=self.num_labels)\n",
        "        class_mean = ohe.float().mean(dim=0)\n",
        "        self.model.classifier.bias = torch.nn.Parameter(\n",
        "            class_mean.detach(), requires_grad=bias_requires_grad)\n",
        "        self.model.to(self.device)\n",
        "\n",
        "    def fit(self, epochs=1, lr=2e-5, lr_finder_dict: dict=None, fit_one_cycle=False, foc_lr_mult=10):\n",
        "        if lr_finder_dict: lr = self.lr_finder(**lr_finder_dict)\n",
        "        model = self.model\n",
        "        if fit_one_cycle:\n",
        "            optimizer = torch.optim.Adam(model.parameters(), lr=lr * foc_lr_mult)\n",
        "            scheduler = torch.optim.lr_scheduler.OneCycleLR(\n",
        "                optimizer, max_lr=lr, steps_per_epoch=len(self.trn_dl), epochs=epochs, div_factor=foc_lr_mult)\n",
        "        else:\n",
        "            optimizer = torch.optim.Adam(model.parameters(), lr=lr)\n",
        "        for epoch in range(epochs):\n",
        "            print(f'############### Epoch {self.epoch_cnt} #################')\n",
        "            for batch in tqdm(self.trn_dl):\n",
        "                model.train()\n",
        "                batch = tuple(t.to(self.device) for t in batch)\n",
        "                inputs = {'input_ids': batch[0], 'attention_mask': batch[1], 'labels': batch[2]}\n",
        "                outputs = model(**inputs)\n",
        "                loss = outputs[0]\n",
        "                loss.backward()\n",
        "                optimizer.step()\n",
        "                optimizer.zero_grad()\n",
        "                if fit_one_cycle: scheduler.step()\n",
        "\n",
        "            overall_acc = 0.0\n",
        "            zipped = zip(self.bce_lists, self.accuracy_lists, self.val_dls)\n",
        "            for i, (bce_list, accuracy_list, dl) in enumerate(zipped):\n",
        "                bces, overall_acc = self.score_dl(dl)\n",
        "                bce_list.append(bces)\n",
        "                accuracy_list.append(overall_acc)\n",
        "                print(f'Overall Accuracy for valid set {i}: {overall_acc}')\n",
        "\n",
        "            # save the model\n",
        "            acc_int = f'{int(round(overall_acc, 3) * 1000) :0>3}'\n",
        "            self.save_model(f'{self.model_prefix}_epoch_{self.epoch_cnt}_acc_{acc_int}.pth')\n",
        "            self.epoch_cnt += 1\n",
        "\n",
        "    def score_dl(self, dl):\n",
        "        \"\"\"Returns binary_cross_entropy mean for each class and overall accuracy score\"\"\"\n",
        "        preds, targets = self.predict(dl)\n",
        "        tar_ohe = torch.nn.functional.one_hot(targets, num_classes=self.num_labels)\n",
        "        bces = binary_cross_entropy(tar_ohe, preds, dim=0)\n",
        "        overall_acc = accuracy_score(targets, preds.argmax(axis=1))\n",
        "        return bces, overall_acc\n",
        "\n",
        "    def predict(self, dataloader):\n",
        "        \"\"\"Returns torch tensor of probabilities, and torch tensor of targets if label in batch\"\"\"\n",
        "        model = self.model\n",
        "        model.eval()\n",
        "        preds = []\n",
        "        targets = []\n",
        "        cnt = 0\n",
        "        for batch in tqdm(dataloader):\n",
        "            cnt += 1\n",
        "            batch = tuple(t for t in batch)\n",
        "            inputs = {'input_ids': batch[0].to(self.device), 'attention_mask': batch[1].to(self.device)}\n",
        "            if len(batch) == 3: targets.append(batch[2])\n",
        "            with torch.no_grad():\n",
        "                logits = model(**inputs)[0]\n",
        "            preds.append(logits.cpu())\n",
        "        return torch.sigmoid(torch.vstack(preds)), torch.concat(targets) if targets else None\n",
        "\n",
        "    def save_model(self, file_path='bert_model.pth'):\n",
        "        torch.save(self.model.state_dict(), file_path)\n",
        "\n",
        "    def load_model(self, file_path='bert_model.pth'):\n",
        "        self.model.load_state_dict(torch.load(file_path))\n",
        "\n",
        "    def best_epochs(self):\n",
        "        return [np.vstack(ls).argmin(axis=0) for ls in self.bce_lists]\n",
        "\n",
        "    def lr_finder(self, start_lr=1e-7, end_lr=.1, num_it=25, batches_per_it=5, offset=3):\n",
        "        print('############ Finding the best learning rate ##########')\n",
        "        # Save the original model parameters\n",
        "        # original_params = copy.deepcopy(self.model.state_dict())\n",
        "        self.save_model('tmp_state_dict')\n",
        "\n",
        "        # Create a model optimizer and a learning rate scheduler\n",
        "        optimizer = torch.optim.Adam(self.model.parameters(), lr=end_lr)\n",
        "        lr_lambda = lambda x: start_lr * (end_lr/start_lr) ** (x/num_it)\n",
        "        scheduler = torch.optim.lr_scheduler.LambdaLR(optimizer, lr_lambda)\n",
        "\n",
        "        # Create lists to store the losses and learning rates\n",
        "        losses = []\n",
        "        lrs = []\n",
        "\n",
        "        # Loop through the iterations and adjust the learning rate\n",
        "        for _ in trange(num_it):\n",
        "            self.load_model('tmp_state_dict')\n",
        "            # self.model.load_state_dict(original_params) # To test the lr fairly\n",
        "            model = self.model\n",
        "            lr_loss = 0\n",
        "            for i, batch in enumerate(self.trn_dl):\n",
        "                model.train()\n",
        "                batch = tuple(t.to(self.device) for t in batch)\n",
        "                inputs = {'input_ids': batch[0], 'attention_mask': batch[1], 'labels': batch[2]}\n",
        "                outputs = model(**inputs)\n",
        "                loss = outputs[0]\n",
        "                loss.backward()\n",
        "                lr_loss += loss.item() / batches_per_it\n",
        "                optimizer.step()\n",
        "                optimizer.zero_grad()\n",
        "                if i == batches_per_it - 1: break\n",
        "            # Save the loss and learning rate and step scheduler\n",
        "            lrs.append(scheduler.get_lr()[0])\n",
        "            scheduler.step()\n",
        "            losses.append(lr_loss)\n",
        "\n",
        "        # Restore the original model parameters\n",
        "        self.load_model('tmp_state_dict')\n",
        "        # self.model.load_state_dict(original_params)\n",
        "\n",
        "        # Plot the loss versus the learning rate\n",
        "        plt.plot(lrs, losses)\n",
        "        plt.xscale('log')\n",
        "        plt.xlabel('Learning rate')\n",
        "        plt.ylabel('Loss')\n",
        "        plt.show()\n",
        "\n",
        "        min_loss_idx = max(0, np.argmin(losses) - offset)\n",
        "        best_lr = lrs[min_loss_idx]\n",
        "        print(f\"Best learning rate: {best_lr:.2E}\")\n",
        "        return best_lr\n",
        ""
      ]
    },
    {
      "cell_type": "code",
      "execution_count": null,
      "metadata": {
        "id": "U-BogUJ6jtrc"
      },
      "outputs": [],
      "source": [
        "class BertFineTuneMethod:\n",
        "    def __init__(self, **kwargs):\n",
        "        \"\"\"A class to wrap the general bert fine tuner, adapting it to the\n",
        "        current problem. The goal is that we can use simple code to solve\n",
        "        our problem such as:\n",
        "\n",
        "        m = BertFineTuneMethod()\n",
        "        m.fit('train.csv')\n",
        "        pred = m.predict_str('golfing shoes')\n",
        "        pred = m.predict_test_file('test.csv')\n",
        "        \"\"\"\n",
        "        self.kwargs = kwargs\n",
        "\n",
        "        self.batch_size = kwargs.get('batch_size', 180)\n",
        "        self.dense2tar = load_int2int_dict(kwargs.get('path_dense2tar', 'dense2tar.json'))\n",
        "        self.tar2dense = load_int2int_dict(kwargs.get('path_tar2dense', 'tar2dense.json'))\n",
        "\n",
        "        self.pre_train_weights = kwargs.get('pre_train_weights', 'distilbert-base-uncased')\n",
        "        self.tokenizer = AutoTokenizer.from_pretrained(self.pre_train_weights)\n",
        "        self.num_labels = max(self.dense2tar.keys()) + 1\n",
        "        self.model = AutoModelForSequenceClassification.from_pretrained(self.pre_train_weights, num_labels=self.num_labels)\n",
        "        self.device = 'cuda:0' if torch.cuda.is_available() else 'cpu'\n",
        "        default_fit_params = dict(lr_finder_dict=dict(start_lr=1e-7, end_lr=.1, num_it=25, batches_per_it=25))\n",
        "        self.fit_params = kwargs.get('fit_params', default_fit_params)\n",
        "        print(kwargs)\n",
        "\n",
        "    def fit(self, path_to_train):\n",
        "        path_to_remap = (remap_category_index(path_to_train, cat_col_idx=1, path_dict='category_mapper.json'))\n",
        "        trn = read_train(path_to_remap)\n",
        "        trn['cat'] = trn['cat'].map(self.tar2dense)\n",
        "        trn_dl = get_train_dataloader(trn.st.to_list(), trn.cat.to_list(), self.tokenizer, self.batch_size)\n",
        "        if not hasattr(self, 'm'):\n",
        "            self.m = BertTuner(\n",
        "                num_labels=self.num_labels,\n",
        "                device=self.device,\n",
        "                model=self.model,\n",
        "                trn_dl=trn_dl,\n",
        "                val_dls=None,\n",
        "                model_prefix=self.kwargs.get('model_prefix', 'bert_'),\n",
        "                target_list=trn.cat.tolist() if self.kwargs.get('set_bias', True) else None\n",
        "            )\n",
        "        else:\n",
        "            self.m.trn_dl = trn_dl\n",
        "        for epoch in range(self.kwargs.get('epochs', 7)):\n",
        "            self.m.fit(**self.fit_params)\n",
        "\n",
        "    def predict_test_file(self, fpath, out_path='test_predictions.csv', batch_size=None):\n",
        "        if not batch_size: batch_size = self.batch_size * 2\n",
        "        tst = read_test(fpath)\n",
        "        tst_dl = get_test_dataloader(tst.st.to_list(), self.tokenizer, batch_size)\n",
        "        preds, _ = self.m.predict(tst_dl)\n",
        "        tst['cat'] = np.argmax(preds.numpy(), axis=1)\n",
        "        tst['cat'] = tst['cat'].map(self.dense2tar)\n",
        "        tst['cat'].to_csv(out_path, index=False, header=False)\n",
        "        return preds\n",
        "\n",
        "    def predict_str(self, x):\n",
        "        encoded_input = self.tokenizer.encode_plus(\n",
        "            x,\n",
        "            add_special_tokens=True,\n",
        "            max_length=512,  # Max length of input\n",
        "            padding=\"max_length\",\n",
        "            truncation=True,\n",
        "            return_tensors=\"pt\"  # Return PyTorch tensors\n",
        "        )\n",
        "        input_ids = encoded_input[\"input_ids\"].to(self.device)\n",
        "        attention_mask = encoded_input[\"attention_mask\"].to(self.device)\n",
        "        with torch.no_grad():\n",
        "            outputs = self.m.model(input_ids, attention_mask=attention_mask)\n",
        "            logits = outputs.logits\n",
        "        predictions = torch.argmax(logits, dim=1).tolist()[0]\n",
        "        return self.dense2tar[predictions]\n",
        "\n",
        "    def predict_list(self, x, use_dl=False, batch_size=None):\n",
        "        if not batch_size: batch_size = self.batch_size * 2\n",
        "        if use_dl:\n",
        "            tst_dl = get_test_dataloader(x, self.tokenizer, batch_size)\n",
        "            preds, _ = self.m.predict(tst_dl)\n",
        "            preds = np.argmax(preds.numpy(), axis=1)\n",
        "            return list(map(lambda x: self.dense2tar[x], preds))\n",
        "        else:\n",
        "            return [self.predict_str(y) for y in x]\n",
        "\n",
        "    def predict(self, x, use_dl=False):\n",
        "        \"\"\"predicts list of search terms or one\"\"\"\n",
        "        if type(x) == str:\n",
        "            return self.predict_str(x)\n",
        "        if type(x) == list:\n",
        "            return self.predict_list(x, use_dl)"
      ]
    },
    {
      "cell_type": "markdown",
      "source": [
        "Trainig took a very long time, so it had to be broken up into multiple training sessions, saving and loading models from google drive."
      ],
      "metadata": {
        "id": "g7YmtZMjxv7x"
      }
    },
    {
      "cell_type": "code",
      "source": [
        "####### Code to clear out colab storage space when starting a new model ##########\n",
        "# import os\n",
        "# print('clearing test run model saves')\n",
        "# import shutil\n",
        "# parent = os.path.split(MODEL_PREFIX)[0]\n",
        "# print(parent)\n",
        "# if os.path.exists(parent): shutil.rmtree(parent)\n",
        "# os.makedirs(parent, exist_ok=True)"
      ],
      "metadata": {
        "id": "wH1Otxlq5mi0"
      },
      "execution_count": null,
      "outputs": []
    },
    {
      "cell_type": "code",
      "source": [
        "############ Code to run when training a model from scratch ##########\n",
        "# kwargs = {\n",
        "#     'model_prefix': MODEL_PREFIX,\n",
        "\n",
        "#     # Training data mean will be set as last bias, but not trainable with False setting\n",
        "#     'bias_requires_grad': False,\n",
        "# }\n",
        "# m = BertFineTuneMethod(**kwargs)\n",
        "# m.fit('train.csv')"
      ],
      "metadata": {
        "id": "bbHqLRk3DUC3"
      },
      "execution_count": null,
      "outputs": []
    },
    {
      "cell_type": "code",
      "source": [
        "######## Code for continued training ############\n",
        "\n",
        "print('Setting up state of model')\n",
        "parent = os.path.split(MODEL_PREFIX)[0]\n",
        "\n",
        "ep = sorted([(int(x.split('_')[3]), x) for x in os.listdir(parent)])\n",
        "last_epoch, state_dict = ep[-1]\n",
        "print(state_dict)\n",
        "state_dict = os.path.join(parent, state_dict)\n",
        "epoch_cnt = last_epoch + 1\n",
        "print(state_dict, 'epoch_cnt: ', epoch_cnt )\n",
        "\n",
        "m = BertFineTuneMethod()\n",
        "m.m = BertTuner(0, model=m.model)\n",
        "m.m.load_model(state_dict)\n",
        "m.m.epoch_cnt = epoch_cnt\n",
        "m.m.model_prefix = MODEL_PREFIX\n",
        "m.batch_size = 180 ########## Batch size #################\n",
        "print('model prefix: ', m.m.model_prefix)"
      ],
      "metadata": {
        "colab": {
          "base_uri": "https://localhost:8080/"
        },
        "id": "M_4OpA9zROni",
        "outputId": "b617f910-77e6-4d3f-c5e8-dac859851ec6"
      },
      "execution_count": null,
      "outputs": [
        {
          "output_type": "stream",
          "name": "stdout",
          "text": [
            "Setting up state of model\n",
            "bert__epoch_14_acc_000.pth\n",
            "drive/MyDrive/bias_no_grad/bert__epoch_14_acc_000.pth epoch_cnt:  15\n",
            "{}\n",
            "model prefix:  drive/MyDrive/bias_no_grad/bert_\n"
          ]
        }
      ]
    },
    {
      "cell_type": "code",
      "source": [
        "samples_seen_per_iteration = 25 * 180\n",
        "batches_per_it = samples_seen_per_iteration // m.batch_size\n",
        "print(f'batches_per_it: {batches_per_it}')\n",
        "m.fit_params = dict(lr_finder_dict=dict(\n",
        "    start_lr=1e-7, end_lr=.1, num_it=25, batches_per_it=batches_per_it))\n",
        "m.kwargs['epochs'] = 3\n",
        "m.fit('train.csv')"
      ],
      "metadata": {
        "colab": {
          "base_uri": "https://localhost:8080/",
          "height": 1000
        },
        "id": "7jw1kw4EHLXd",
        "outputId": "936b23e9-a86b-4ef3-caea-7585d47c44f3"
      },
      "execution_count": null,
      "outputs": [
        {
          "output_type": "stream",
          "name": "stdout",
          "text": [
            "batches_per_it: 25\n",
            "\n",
            "loading in train.csv, remapping column index 1,\n",
            "    and saving the resuling df to train_remapped.csv\n",
            "\n",
            "############ Finding the best learning rate ##########\n"
          ]
        },
        {
          "output_type": "stream",
          "name": "stderr",
          "text": [
            "100%|██████████| 25/25 [04:52<00:00, 11.70s/it]\n"
          ]
        },
        {
          "output_type": "display_data",
          "data": {
            "text/plain": [
              "<Figure size 640x480 with 1 Axes>"
            ],
            "image/png": "[encoded data removed]"
          },
          "metadata": {}
        },
        {
          "output_type": "stream",
          "name": "stdout",
          "text": [
            "Best learning rate: 1.74E-08\n",
            "############### Epoch 15 #################\n"
          ]
        },
        {
          "output_type": "stream",
          "name": "stderr",
          "text": [
            "100%|██████████| 2697/2697 [20:45<00:00,  2.16it/s]\n"
          ]
        },
        {
          "output_type": "stream",
          "name": "stdout",
          "text": [
            "############ Finding the best learning rate ##########\n"
          ]
        },
        {
          "output_type": "stream",
          "name": "stderr",
          "text": [
            "100%|██████████| 25/25 [04:52<00:00, 11.71s/it]\n"
          ]
        },
        {
          "output_type": "display_data",
          "data": {
            "text/plain": [
              "<Figure size 640x480 with 1 Axes>"
            ],
            "image/png": "[encoded data removed]"
          },
          "metadata": {}
        },
        {
          "output_type": "stream",
          "name": "stdout",
          "text": [
            "Best learning rate: 2.75E-07\n",
            "############### Epoch 16 #################\n"
          ]
        },
        {
          "output_type": "stream",
          "name": "stderr",
          "text": [
            "100%|██████████| 2697/2697 [20:45<00:00,  2.17it/s]\n"
          ]
        },
        {
          "output_type": "stream",
          "name": "stdout",
          "text": [
            "############ Finding the best learning rate ##########\n"
          ]
        },
        {
          "output_type": "stream",
          "name": "stderr",
          "text": [
            "100%|██████████| 25/25 [04:52<00:00, 11.71s/it]\n"
          ]
        },
        {
          "output_type": "display_data",
          "data": {
            "text/plain": [
              "<Figure size 640x480 with 1 Axes>"
            ],
            "image/png": "[encoded data removed]"
          },
          "metadata": {}
        },
        {
          "output_type": "stream",
          "name": "stdout",
          "text": [
            "Best learning rate: 1.00E-08\n",
            "############### Epoch 17 #################\n"
          ]
        },
        {
          "output_type": "stream",
          "name": "stderr",
          "text": [
            "100%|██████████| 2697/2697 [20:45<00:00,  2.16it/s]\n"
          ]
        }
      ]
    },
    {
      "cell_type": "code",
      "source": [
        "m.fit('train.csv')"
      ],
      "metadata": {
        "colab": {
          "base_uri": "https://localhost:8080/",
          "height": 1000
        },
        "id": "E3o5DtYOhUka",
        "outputId": "cde9e57f-aa06-46f1-867a-36663e48fa7e"
      },
      "execution_count": null,
      "outputs": [
        {
          "output_type": "stream",
          "name": "stdout",
          "text": [
            "\n",
            "loading in train.csv, remapping column index 1,\n",
            "    and saving the resuling df to train_remapped.csv\n",
            "\n",
            "############ Finding the best learning rate ##########\n"
          ]
        },
        {
          "output_type": "stream",
          "name": "stderr",
          "text": [
            "100%|██████████| 25/25 [04:52<00:00, 11.72s/it]\n"
          ]
        },
        {
          "output_type": "display_data",
          "data": {
            "text/plain": [
              "<Figure size 640x480 with 1 Axes>"
            ],
            "image/png": "[encoded data removed]"
          },
          "metadata": {}
        },
        {
          "output_type": "stream",
          "name": "stdout",
          "text": [
            "Best learning rate: 3.02E-08\n",
            "############### Epoch 18 #################\n"
          ]
        },
        {
          "output_type": "stream",
          "name": "stderr",
          "text": [
            "100%|██████████| 2697/2697 [20:45<00:00,  2.17it/s]\n"
          ]
        },
        {
          "output_type": "stream",
          "name": "stdout",
          "text": [
            "############ Finding the best learning rate ##########\n"
          ]
        },
        {
          "output_type": "stream",
          "name": "stderr",
          "text": [
            "100%|██████████| 25/25 [04:52<00:00, 11.71s/it]\n"
          ]
        },
        {
          "output_type": "display_data",
          "data": {
            "text/plain": [
              "<Figure size 640x480 with 1 Axes>"
            ],
            "image/png": "[encoded data removed]"
          },
          "metadata": {}
        },
        {
          "output_type": "stream",
          "name": "stdout",
          "text": [
            "Best learning rate: 9.12E-08\n",
            "############### Epoch 19 #################\n"
          ]
        },
        {
          "output_type": "stream",
          "name": "stderr",
          "text": [
            "100%|██████████| 2697/2697 [20:45<00:00,  2.17it/s]\n"
          ]
        },
        {
          "output_type": "stream",
          "name": "stdout",
          "text": [
            "############ Finding the best learning rate ##########\n"
          ]
        },
        {
          "output_type": "stream",
          "name": "stderr",
          "text": [
            "100%|██████████| 25/25 [04:52<00:00, 11.71s/it]\n"
          ]
        },
        {
          "output_type": "display_data",
          "data": {
            "text/plain": [
              "<Figure size 640x480 with 1 Axes>"
            ],
            "image/png": "[encoded data removed]"
          },
          "metadata": {}
        },
        {
          "output_type": "stream",
          "name": "stdout",
          "text": [
            "Best learning rate: 1.45E-06\n",
            "############### Epoch 20 #################\n"
          ]
        },
        {
          "output_type": "stream",
          "name": "stderr",
          "text": [
            "100%|██████████| 2697/2697 [20:44<00:00,  2.17it/s]\n"
          ]
        }
      ]
    },
    {
      "cell_type": "code",
      "source": [
        "m.fit('train.csv')"
      ],
      "metadata": {
        "colab": {
          "base_uri": "https://localhost:8080/",
          "height": 618
        },
        "id": "dFtIpcMFjSf9",
        "outputId": "50fcdeca-66f3-4902-f063-4011aa9dfabc"
      },
      "execution_count": null,
      "outputs": [
        {
          "output_type": "stream",
          "name": "stdout",
          "text": [
            "\n",
            "loading in train.csv, remapping column index 1,\n",
            "    and saving the resuling df to train_remapped.csv\n",
            "\n",
            "############ Finding the best learning rate ##########\n"
          ]
        },
        {
          "output_type": "stream",
          "name": "stderr",
          "text": [
            "100%|██████████| 25/25 [04:52<00:00, 11.72s/it]\n"
          ]
        },
        {
          "output_type": "display_data",
          "data": {
            "text/plain": [
              "<Figure size 640x480 with 1 Axes>"
            ],
            "image/png": "[encoded data removed]"
          },
          "metadata": {}
        },
        {
          "output_type": "stream",
          "name": "stdout",
          "text": [
            "Best learning rate: 1.00E-08\n",
            "############### Epoch 21 #################\n"
          ]
        },
        {
          "output_type": "stream",
          "name": "stderr",
          "text": [
            " 98%|█████████▊| 2631/2697 [20:15<00:30,  2.17it/s]"
          ]
        }
      ]
    },
    {
      "cell_type": "code",
      "execution_count": null,
      "metadata": {
        "colab": {
          "base_uri": "https://localhost:8080/"
        },
        "id": "-BBSl-Mtjtrc",
        "outputId": "7cf26672-d1e1-4ce5-cdef-09bf365bb093"
      },
      "outputs": [
        {
          "output_type": "stream",
          "name": "stdout",
          "text": [
            "{'model_prefix': 'drive/MyDrive/bias_no_grad/bert_', 'bias_requires_grad': False}\n",
            "\n",
            "loading in train.csv, remapping column index 1,\n",
            "    and saving the resuling df to train_remapped.csv\n",
            "\n",
            "setting the last layer to the mean for each class\n"
          ]
        }
      ],
      "source": []
    },
    {
      "cell_type": "code",
      "execution_count": null,
      "metadata": {
        "id": "NDTMPRzEjtrd"
      },
      "outputs": [],
      "source": [
        "m.predict_list(['alkjf', 'whats up', 'lkdjflsakdjf'], use_dl=True)"
      ]
    },
    {
      "cell_type": "code",
      "execution_count": null,
      "metadata": {
        "id": "pRQdQl1Cjtrd"
      },
      "outputs": [],
      "source": [
        " m.predict_list(['alkjf', 'whats up', 'lkdjflsakdjf'], use_dl=False)"
      ]
    },
    {
      "cell_type": "code",
      "execution_count": null,
      "metadata": {
        "id": "SS8dQyCBjtrd"
      },
      "outputs": [],
      "source": [
        "m.predict_str('hello')"
      ]
    },
    {
      "cell_type": "code",
      "execution_count": null,
      "metadata": {
        "id": "WtjlWr93jtrd"
      },
      "outputs": [],
      "source": [
        "#| hide\n",
        "# import nbdev; nbdev.nbdev_export()"
      ]
    }
  ],
  "metadata": {
    "kernelspec": {
      "display_name": "Python 3",
      "name": "python3"
    },
    "colab": {
      "provenance": [],
      "gpuType": "T4"
    }
  },
  "nbformat": 4,
  "nbformat_minor": 0
}