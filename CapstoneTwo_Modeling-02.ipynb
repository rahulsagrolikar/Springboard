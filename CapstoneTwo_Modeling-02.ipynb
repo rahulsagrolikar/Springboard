{
 "cells": [
  {
   "cell_type": "markdown",
   "metadata": {},
   "source": [
    "# Capstone2: Modeling - West Nile Virus (WNV) Prediction"
   ]
  },
  {
   "cell_type": "code",
   "execution_count": 1,
   "metadata": {},
   "outputs": [],
   "source": [
    "import pandas as pd\n",
    "import numpy as np\n",
    "import matplotlib.pyplot as plt\n",
    "import seaborn as sns\n",
    "from sklearn.preprocessing import LabelEncoder\n",
    "%matplotlib inline \n",
    "import warnings\n",
    "warnings.filterwarnings('ignore')"
   ]
  },
  {
   "cell_type": "code",
   "execution_count": 2,
   "metadata": {},
   "outputs": [
    {
     "data": {
      "text/html": [
       "<div>\n",
       "<style scoped>\n",
       "    .dataframe tbody tr th:only-of-type {\n",
       "        vertical-align: middle;\n",
       "    }\n",
       "\n",
       "    .dataframe tbody tr th {\n",
       "        vertical-align: top;\n",
       "    }\n",
       "\n",
       "    .dataframe thead th {\n",
       "        text-align: right;\n",
       "    }\n",
       "</style>\n",
       "<table border=\"1\" class=\"dataframe\">\n",
       "  <thead>\n",
       "    <tr style=\"text-align: right;\">\n",
       "      <th></th>\n",
       "      <th>Latitude</th>\n",
       "      <th>Longitude</th>\n",
       "      <th>NumMosquitos</th>\n",
       "      <th>Tmax</th>\n",
       "      <th>Tmin</th>\n",
       "      <th>Tavg</th>\n",
       "      <th>PrecipTotal</th>\n",
       "      <th>StnPressure</th>\n",
       "      <th>SeaLevel</th>\n",
       "      <th>AvgSpeed</th>\n",
       "      <th>WnvPresent</th>\n",
       "      <th>DayOfWeek</th>\n",
       "      <th>WeekNumber</th>\n",
       "      <th>IsWeekend</th>\n",
       "      <th>Quarter</th>\n",
       "      <th>Season</th>\n",
       "      <th>Species_CULEX PIPIENS</th>\n",
       "      <th>Species_CULEX PIPIENS/RESTUANS</th>\n",
       "      <th>Species_CULEX RESTUANS</th>\n",
       "    </tr>\n",
       "  </thead>\n",
       "  <tbody>\n",
       "    <tr>\n",
       "      <th>0</th>\n",
       "      <td>41.644612</td>\n",
       "      <td>-87.604498</td>\n",
       "      <td>12</td>\n",
       "      <td>91.0</td>\n",
       "      <td>71.5</td>\n",
       "      <td>81.5</td>\n",
       "      <td>0.000</td>\n",
       "      <td>29.285</td>\n",
       "      <td>29.960</td>\n",
       "      <td>6.55</td>\n",
       "      <td>0</td>\n",
       "      <td>3</td>\n",
       "      <td>31</td>\n",
       "      <td>0</td>\n",
       "      <td>3</td>\n",
       "      <td>2</td>\n",
       "      <td>1</td>\n",
       "      <td>0</td>\n",
       "      <td>0</td>\n",
       "    </tr>\n",
       "    <tr>\n",
       "      <th>1</th>\n",
       "      <td>41.644612</td>\n",
       "      <td>-87.604498</td>\n",
       "      <td>52</td>\n",
       "      <td>91.5</td>\n",
       "      <td>72.5</td>\n",
       "      <td>82.5</td>\n",
       "      <td>0.685</td>\n",
       "      <td>29.085</td>\n",
       "      <td>29.750</td>\n",
       "      <td>8.90</td>\n",
       "      <td>0</td>\n",
       "      <td>1</td>\n",
       "      <td>32</td>\n",
       "      <td>0</td>\n",
       "      <td>3</td>\n",
       "      <td>2</td>\n",
       "      <td>1</td>\n",
       "      <td>0</td>\n",
       "      <td>0</td>\n",
       "    </tr>\n",
       "    <tr>\n",
       "      <th>2</th>\n",
       "      <td>41.644612</td>\n",
       "      <td>-87.604498</td>\n",
       "      <td>30</td>\n",
       "      <td>80.5</td>\n",
       "      <td>71.5</td>\n",
       "      <td>76.5</td>\n",
       "      <td>0.530</td>\n",
       "      <td>29.200</td>\n",
       "      <td>29.880</td>\n",
       "      <td>6.45</td>\n",
       "      <td>0</td>\n",
       "      <td>2</td>\n",
       "      <td>33</td>\n",
       "      <td>0</td>\n",
       "      <td>3</td>\n",
       "      <td>2</td>\n",
       "      <td>1</td>\n",
       "      <td>0</td>\n",
       "      <td>0</td>\n",
       "    </tr>\n",
       "    <tr>\n",
       "      <th>3</th>\n",
       "      <td>41.644612</td>\n",
       "      <td>-87.604498</td>\n",
       "      <td>4</td>\n",
       "      <td>90.0</td>\n",
       "      <td>69.5</td>\n",
       "      <td>80.0</td>\n",
       "      <td>0.625</td>\n",
       "      <td>29.260</td>\n",
       "      <td>29.935</td>\n",
       "      <td>8.95</td>\n",
       "      <td>0</td>\n",
       "      <td>2</td>\n",
       "      <td>34</td>\n",
       "      <td>0</td>\n",
       "      <td>3</td>\n",
       "      <td>2</td>\n",
       "      <td>1</td>\n",
       "      <td>0</td>\n",
       "      <td>0</td>\n",
       "    </tr>\n",
       "    <tr>\n",
       "      <th>4</th>\n",
       "      <td>41.644612</td>\n",
       "      <td>-87.604498</td>\n",
       "      <td>4</td>\n",
       "      <td>80.5</td>\n",
       "      <td>69.0</td>\n",
       "      <td>75.0</td>\n",
       "      <td>0.220</td>\n",
       "      <td>29.135</td>\n",
       "      <td>29.815</td>\n",
       "      <td>7.20</td>\n",
       "      <td>0</td>\n",
       "      <td>4</td>\n",
       "      <td>34</td>\n",
       "      <td>0</td>\n",
       "      <td>3</td>\n",
       "      <td>2</td>\n",
       "      <td>1</td>\n",
       "      <td>0</td>\n",
       "      <td>0</td>\n",
       "    </tr>\n",
       "  </tbody>\n",
       "</table>\n",
       "</div>"
      ],
      "text/plain": [
       "    Latitude  Longitude  NumMosquitos  Tmax  Tmin  Tavg  PrecipTotal  \\\n",
       "0  41.644612 -87.604498            12  91.0  71.5  81.5        0.000   \n",
       "1  41.644612 -87.604498            52  91.5  72.5  82.5        0.685   \n",
       "2  41.644612 -87.604498            30  80.5  71.5  76.5        0.530   \n",
       "3  41.644612 -87.604498             4  90.0  69.5  80.0        0.625   \n",
       "4  41.644612 -87.604498             4  80.5  69.0  75.0        0.220   \n",
       "\n",
       "   StnPressure  SeaLevel  AvgSpeed  WnvPresent  DayOfWeek  WeekNumber  \\\n",
       "0       29.285    29.960      6.55           0          3          31   \n",
       "1       29.085    29.750      8.90           0          1          32   \n",
       "2       29.200    29.880      6.45           0          2          33   \n",
       "3       29.260    29.935      8.95           0          2          34   \n",
       "4       29.135    29.815      7.20           0          4          34   \n",
       "\n",
       "   IsWeekend  Quarter  Season  Species_CULEX PIPIENS  \\\n",
       "0          0        3       2                      1   \n",
       "1          0        3       2                      1   \n",
       "2          0        3       2                      1   \n",
       "3          0        3       2                      1   \n",
       "4          0        3       2                      1   \n",
       "\n",
       "   Species_CULEX PIPIENS/RESTUANS  Species_CULEX RESTUANS  \n",
       "0                               0                       0  \n",
       "1                               0                       0  \n",
       "2                               0                       0  \n",
       "3                               0                       0  \n",
       "4                               0                       0  "
      ]
     },
     "execution_count": 2,
     "metadata": {},
     "output_type": "execute_result"
    }
   ],
   "source": [
    "df=pd.read_csv('CleanData_ForModeling.csv')\n",
    "df.head()"
   ]
  },
  {
   "cell_type": "code",
   "execution_count": 3,
   "metadata": {},
   "outputs": [],
   "source": [
    "from sklearn.model_selection import train_test_split\n",
    "X = df.drop(columns=['WnvPresent'])\n",
    "y = df['WnvPresent']\n",
    "X_train, X_test, y_train, y_test = train_test_split(X, y, test_size=0.3, random_state=42)"
   ]
  },
  {
   "cell_type": "code",
   "execution_count": 4,
   "metadata": {},
   "outputs": [
    {
     "name": "stdout",
     "output_type": "stream",
     "text": [
      "(5718, 18)\n",
      "(2451, 18)\n",
      "(5718,)\n",
      "(2451,)\n"
     ]
    }
   ],
   "source": [
    "print(X_train.shape)\n",
    "print(X_test.shape)\n",
    "print(y_train.shape)\n",
    "print(y_test.shape)"
   ]
  },
  {
   "cell_type": "markdown",
   "metadata": {},
   "source": [
    "### This is the classification problem of supervised learning. I will test following different models to this problem."
   ]
  },
  {
   "cell_type": "markdown",
   "metadata": {},
   "source": [
    "# 1. Logistic Regression"
   ]
  },
  {
   "cell_type": "code",
   "execution_count": 5,
   "metadata": {},
   "outputs": [],
   "source": [
    "from sklearn.model_selection import train_test_split\n",
    "from sklearn.model_selection import cross_val_score\n",
    "from sklearn.preprocessing import MinMaxScaler\n",
    "from sklearn.linear_model import LogisticRegression\n",
    "from sklearn.model_selection import GridSearchCV\n",
    "from sklearn.ensemble import RandomForestClassifier\n",
    "from sklearn.metrics import accuracy_score\n",
    "from sklearn.model_selection import learning_curve"
   ]
  },
  {
   "cell_type": "code",
   "execution_count": 6,
   "metadata": {},
   "outputs": [
    {
     "data": {
      "text/html": [
       "<div>\n",
       "<style scoped>\n",
       "    .dataframe tbody tr th:only-of-type {\n",
       "        vertical-align: middle;\n",
       "    }\n",
       "\n",
       "    .dataframe tbody tr th {\n",
       "        vertical-align: top;\n",
       "    }\n",
       "\n",
       "    .dataframe thead th {\n",
       "        text-align: right;\n",
       "    }\n",
       "</style>\n",
       "<table border=\"1\" class=\"dataframe\">\n",
       "  <thead>\n",
       "    <tr style=\"text-align: right;\">\n",
       "      <th></th>\n",
       "      <th>C_parameter</th>\n",
       "      <th>Accuracy</th>\n",
       "    </tr>\n",
       "  </thead>\n",
       "  <tbody>\n",
       "    <tr>\n",
       "      <th>0</th>\n",
       "      <td>0.001</td>\n",
       "      <td>0.959608</td>\n",
       "    </tr>\n",
       "    <tr>\n",
       "      <th>1</th>\n",
       "      <td>0.010</td>\n",
       "      <td>0.959608</td>\n",
       "    </tr>\n",
       "    <tr>\n",
       "      <th>2</th>\n",
       "      <td>0.100</td>\n",
       "      <td>0.959608</td>\n",
       "    </tr>\n",
       "    <tr>\n",
       "      <th>3</th>\n",
       "      <td>1.000</td>\n",
       "      <td>0.959608</td>\n",
       "    </tr>\n",
       "    <tr>\n",
       "      <th>4</th>\n",
       "      <td>10.000</td>\n",
       "      <td>0.959608</td>\n",
       "    </tr>\n",
       "    <tr>\n",
       "      <th>5</th>\n",
       "      <td>100.000</td>\n",
       "      <td>0.959608</td>\n",
       "    </tr>\n",
       "  </tbody>\n",
       "</table>\n",
       "</div>"
      ],
      "text/plain": [
       "   C_parameter  Accuracy\n",
       "0        0.001  0.959608\n",
       "1        0.010  0.959608\n",
       "2        0.100  0.959608\n",
       "3        1.000  0.959608\n",
       "4       10.000  0.959608\n",
       "5      100.000  0.959608"
      ]
     },
     "execution_count": 6,
     "metadata": {},
     "output_type": "execute_result"
    }
   ],
   "source": [
    "C_param_range = [0.001,0.01,0.1,1,10,100]\n",
    "\n",
    "table = pd.DataFrame(columns = ['C_parameter','Accuracy'])\n",
    "table['C_parameter'] = C_param_range\n",
    "\n",
    "j = 0\n",
    "for i in C_param_range:\n",
    "    \n",
    "    # Apply logistic regression model to training data\n",
    "    Logreg = LogisticRegression(penalty = 'l2', C = i,random_state = 40)\n",
    "    Logreg.fit(X_train,y_train)\n",
    "    \n",
    "    # Predict using model\n",
    "    y_pred_lr = Logreg.predict(X_test)\n",
    "    \n",
    "    # Saving accuracy score in table\n",
    "    table.iloc[j,1] = accuracy_score(y_test,y_pred_lr)\n",
    "    j += 1\n",
    "    \n",
    "table   "
   ]
  },
  {
   "cell_type": "code",
   "execution_count": 7,
   "metadata": {},
   "outputs": [
    {
     "name": "stdout",
     "output_type": "stream",
     "text": [
      "0.9596083231334149\n",
      "[[2352    0]\n",
      " [  99    0]]\n"
     ]
    }
   ],
   "source": [
    "from sklearn.metrics import confusion_matrix\n",
    "cnf_matrix = confusion_matrix(y_test, y_pred_lr)\n",
    "Accuracy_lr=Logreg.score(X_test,y_test)\n",
    "print(Accuracy_lr)\n",
    "print(cnf_matrix)"
   ]
  },
  {
   "cell_type": "markdown",
   "metadata": {},
   "source": [
    "### This shows that the model is not able to correctly identify any instances of the positive class (class 1). Let's try to use the cross validation"
   ]
  },
  {
   "cell_type": "code",
   "execution_count": 8,
   "metadata": {},
   "outputs": [
    {
     "name": "stdout",
     "output_type": "stream",
     "text": [
      "[0.71677282 0.65795061 0.62680851 0.67914894 0.7287234 ]\n",
      "Mean cross validation test score: 0.6818808567699233\n",
      "Mean cross validation train score: 0.7415633609966366\n",
      "Standard deviation in cv test scores: 0.0374826815297855\n"
     ]
    }
   ],
   "source": [
    "from sklearn.model_selection import cross_val_score\n",
    "cv_scores_test= cross_val_score(Logreg,X_test,y_test,cv=5,scoring='roc_auc')\n",
    "cv_scores_train= cross_val_score(Logreg,X_train,y_train,cv=5,scoring='roc_auc')\n",
    "print(cv_scores_test)\n",
    "cv_scores_lr_test= cv_scores_test.mean()\n",
    "cv_scores_lr_train= cv_scores_train.mean()\n",
    "cv_scores_std_test_lr= cv_scores_test.std()\n",
    "print ('Mean cross validation test score: ' +str(cv_scores_lr_test))\n",
    "print ('Mean cross validation train score: ' +str(cv_scores_lr_train))\n",
    "print ('Standard deviation in cv test scores: ' +str(cv_scores_std_test_lr))"
   ]
  },
  {
   "cell_type": "markdown",
   "metadata": {},
   "source": [
    "### This shows that using cross validation is important."
   ]
  },
  {
   "cell_type": "markdown",
   "metadata": {},
   "source": [
    "# 2. K-Nearest Neighbor(KNN)"
   ]
  },
  {
   "cell_type": "code",
   "execution_count": 9,
   "metadata": {},
   "outputs": [],
   "source": [
    "from sklearn.neighbors import KNeighborsClassifier\n",
    "from sklearn.metrics import accuracy_score, classification_report"
   ]
  },
  {
   "cell_type": "code",
   "execution_count": 10,
   "metadata": {},
   "outputs": [
    {
     "data": {
      "text/html": [
       "<div>\n",
       "<style scoped>\n",
       "    .dataframe tbody tr th:only-of-type {\n",
       "        vertical-align: middle;\n",
       "    }\n",
       "\n",
       "    .dataframe tbody tr th {\n",
       "        vertical-align: top;\n",
       "    }\n",
       "\n",
       "    .dataframe thead th {\n",
       "        text-align: right;\n",
       "    }\n",
       "</style>\n",
       "<table border=\"1\" class=\"dataframe\">\n",
       "  <thead>\n",
       "    <tr style=\"text-align: right;\">\n",
       "      <th></th>\n",
       "      <th>N_neighbors</th>\n",
       "      <th>Accuracy</th>\n",
       "    </tr>\n",
       "  </thead>\n",
       "  <tbody>\n",
       "    <tr>\n",
       "      <th>0</th>\n",
       "      <td>3</td>\n",
       "      <td>0.943288</td>\n",
       "    </tr>\n",
       "    <tr>\n",
       "      <th>1</th>\n",
       "      <td>5</td>\n",
       "      <td>0.950224</td>\n",
       "    </tr>\n",
       "    <tr>\n",
       "      <th>2</th>\n",
       "      <td>10</td>\n",
       "      <td>0.957976</td>\n",
       "    </tr>\n",
       "    <tr>\n",
       "      <th>3</th>\n",
       "      <td>25</td>\n",
       "      <td>0.959608</td>\n",
       "    </tr>\n",
       "    <tr>\n",
       "      <th>4</th>\n",
       "      <td>50</td>\n",
       "      <td>0.959608</td>\n",
       "    </tr>\n",
       "    <tr>\n",
       "      <th>5</th>\n",
       "      <td>100</td>\n",
       "      <td>0.959608</td>\n",
       "    </tr>\n",
       "  </tbody>\n",
       "</table>\n",
       "</div>"
      ],
      "text/plain": [
       "   N_neighbors  Accuracy\n",
       "0            3  0.943288\n",
       "1            5  0.950224\n",
       "2           10  0.957976\n",
       "3           25  0.959608\n",
       "4           50  0.959608\n",
       "5          100  0.959608"
      ]
     },
     "execution_count": 10,
     "metadata": {},
     "output_type": "execute_result"
    }
   ],
   "source": [
    "N_neighbors_range = [3,5,10,25,50,100]\n",
    "\n",
    "table = pd.DataFrame(columns = ['N_neighbors','Accuracy'])\n",
    "table['N_neighbors'] = N_neighbors_range\n",
    "\n",
    "j = 0\n",
    "for i in N_neighbors_range:\n",
    "    \n",
    "    # Apply logistic regression model to training data\n",
    "    knn = KNeighborsClassifier(n_neighbors=i)\n",
    "    knn.fit(X_train,y_train)\n",
    "    \n",
    "    # Predict using model\n",
    "    pred_knn = knn.predict(X_test)\n",
    "    \n",
    "    # Saving accuracy score in table\n",
    "    table.iloc[j,1] = accuracy_score(y_test,pred_knn)\n",
    "    j += 1\n",
    "    \n",
    "table  "
   ]
  },
  {
   "cell_type": "markdown",
   "metadata": {},
   "source": [
    "### Looks like Accuracy is good enough at n_neighbors=10"
   ]
  },
  {
   "cell_type": "code",
   "execution_count": 11,
   "metadata": {
    "scrolled": true
   },
   "outputs": [
    {
     "name": "stdout",
     "output_type": "stream",
     "text": [
      "0.9579763361893104\n",
      "              precision    recall  f1-score   support\n",
      "\n",
      "           0       0.96      1.00      0.98      2352\n",
      "           1       0.25      0.02      0.04        99\n",
      "\n",
      "    accuracy                           0.96      2451\n",
      "   macro avg       0.61      0.51      0.51      2451\n",
      "weighted avg       0.93      0.96      0.94      2451\n",
      "\n",
      "0.9579763361893104\n",
      "[[2346    6]\n",
      " [  97    2]]\n"
     ]
    }
   ],
   "source": [
    "knn = KNeighborsClassifier(n_neighbors=10)\n",
    "knn.fit(X_train, y_train)\n",
    "pred_knn= knn.predict(X_test)\n",
    "print(accuracy_score(y_test, pred_knn))\n",
    "print(classification_report(y_test, pred_knn))\n",
    "Accuracy_knn=knn.score(X_test,y_test)\n",
    "print(Accuracy_knn)\n",
    "print(confusion_matrix(y_test, pred_knn))"
   ]
  },
  {
   "cell_type": "code",
   "execution_count": 12,
   "metadata": {},
   "outputs": [
    {
     "name": "stdout",
     "output_type": "stream",
     "text": [
      "[0.76268577 0.70823556 0.71739362 0.67702128 0.74845745]\n",
      "Mean cross validation test score: 0.7227587344835866\n",
      "Mean cross validation train score: 0.7924592431418291\n",
      "Standard deviation in cv test scores: 0.030286018548647892\n"
     ]
    }
   ],
   "source": [
    "from sklearn.model_selection import cross_val_score\n",
    "cv_scores_test= cross_val_score(knn,X_test,y_test,cv=5,scoring='roc_auc')\n",
    "cv_scores_train= cross_val_score(knn,X_train,y_train,cv=5,scoring='roc_auc')\n",
    "print(cv_scores_test)\n",
    "cv_scores_knn_test= cv_scores_test.mean()\n",
    "cv_scores_knn_train= cv_scores_train.mean()\n",
    "cv_scores_std_test_knn= cv_scores_test.std()\n",
    "print ('Mean cross validation test score: ' +str(cv_scores_knn_test))\n",
    "print ('Mean cross validation train score: ' +str(cv_scores_knn_train))\n",
    "print ('Standard deviation in cv test scores: ' +str(cv_scores_std_test_knn))"
   ]
  },
  {
   "cell_type": "markdown",
   "metadata": {},
   "source": [
    "# 3. Support Vector Machine (SVM)"
   ]
  },
  {
   "cell_type": "code",
   "execution_count": 13,
   "metadata": {},
   "outputs": [
    {
     "name": "stdout",
     "output_type": "stream",
     "text": [
      "0.9579763361893104\n",
      "0.9596083231334149\n",
      "[[2352    0]\n",
      " [  99    0]]\n"
     ]
    }
   ],
   "source": [
    "from sklearn.svm import SVC\n",
    "svm = SVC(kernel='linear')\n",
    "from sklearn.model_selection import train_test_split\n",
    "X = df.drop(columns=['WnvPresent'])\n",
    "y = df['WnvPresent']\n",
    "X_train, X_test, y_train, y_test = train_test_split(X, y, test_size=0.3, random_state=42)\n",
    "svm.fit(X_train, y_train)\n",
    "pred_svm= svm.predict(X_test)\n",
    "print(accuracy_score(y_test, pred_knn))\n",
    "Accuracy_svm=svm.score(X_test,y_test)\n",
    "print(Accuracy_svm)\n",
    "print(confusion_matrix(y_test, pred_svm))"
   ]
  },
  {
   "cell_type": "code",
   "execution_count": 14,
   "metadata": {},
   "outputs": [],
   "source": [
    "# from sklearn.model_selection import cross_val_score\n",
    "# cv_scores_test= cross_val_score(svm,X_test,y_test,cv=5,scoring='roc_auc', n_jobs=-1)\n",
    "# cv_scores_train= cross_val_score(svm,X_train,y_train,cv=5,scoring='roc_auc', n_jobs=-1)\n",
    "# print(cv_scores_test)\n",
    "# cv_scores_svm_test= cv_scores_test.mean()\n",
    "# cv_scores_svm_train= cv_scores_train.mean()\n",
    "# cv_scores_std_test_svm= cv_scores_test.std()\n",
    "# print ('Mean cross validation test score: ' +str(cv_scores_svm_test))\n",
    "# print ('Mean cross validation train score: ' +str(cv_scores_svm_train))\n",
    "# print ('Standard deviation in cv test scores: ' +str(cv_scores_std_test_svm))"
   ]
  },
  {
   "cell_type": "markdown",
   "metadata": {},
   "source": [
    "### For some reason, SVM took infinite time and I will be skipping this in the analysis."
   ]
  },
  {
   "cell_type": "markdown",
   "metadata": {},
   "source": [
    "# 4. Random Forest"
   ]
  },
  {
   "cell_type": "code",
   "execution_count": 15,
   "metadata": {},
   "outputs": [
    {
     "name": "stdout",
     "output_type": "stream",
     "text": [
      "0.9596083231334149\n",
      "0.9596083231334149\n",
      "[[2352    0]\n",
      " [  99    0]]\n"
     ]
    }
   ],
   "source": [
    "from sklearn.ensemble import RandomForestClassifier\n",
    "rf = RandomForestClassifier(n_estimators=100, max_depth=5, random_state=42)\n",
    "from sklearn.model_selection import train_test_split\n",
    "X = df.drop(columns=['WnvPresent'])\n",
    "y = df['WnvPresent']\n",
    "X_train, X_test, y_train, y_test = train_test_split(X, y, test_size=0.3, random_state=42)\n",
    "rf.fit(X_train, y_train)\n",
    "pred_rf= rf.predict(X_test)\n",
    "print(accuracy_score(y_test, pred_rf))\n",
    "Accuracy_rf=rf.score(X_test,y_test)\n",
    "print(Accuracy_rf)\n",
    "print(confusion_matrix(y_test, pred_rf))"
   ]
  },
  {
   "cell_type": "code",
   "execution_count": 16,
   "metadata": {},
   "outputs": [
    {
     "name": "stdout",
     "output_type": "stream",
     "text": [
      "[0.85212314 0.81009051 0.80361702 0.81829787 0.87074468]\n",
      "Mean cross validation test score: 0.8309746459250172\n",
      "Mean cross validation train score: 0.8804463172600963\n",
      "Standard deviation in cv test scores: 0.025977689665189742\n"
     ]
    }
   ],
   "source": [
    "from sklearn.model_selection import cross_val_score\n",
    "cv_scores_test= cross_val_score(rf,X_test,y_test,cv=5,scoring='roc_auc')\n",
    "cv_scores_train= cross_val_score(rf,X_train,y_train,cv=5,scoring='roc_auc')\n",
    "print(cv_scores_test)\n",
    "cv_scores_rf_test= cv_scores_test.mean()\n",
    "cv_scores_rf_train= cv_scores_train.mean()\n",
    "cv_scores_std_test_rf= cv_scores_test.std()\n",
    "print ('Mean cross validation test score: ' +str(cv_scores_rf_test))\n",
    "print ('Mean cross validation train score: ' +str(cv_scores_rf_train))\n",
    "print ('Standard deviation in cv test scores: ' +str(cv_scores_std_test_rf))"
   ]
  },
  {
   "cell_type": "markdown",
   "metadata": {},
   "source": [
    "# 5. Gradient Boosting"
   ]
  },
  {
   "cell_type": "code",
   "execution_count": 17,
   "metadata": {},
   "outputs": [
    {
     "name": "stdout",
     "output_type": "stream",
     "text": [
      "0.95593635250918\n",
      "0.95593635250918\n",
      "[[2334   18]\n",
      " [  90    9]]\n"
     ]
    }
   ],
   "source": [
    "from sklearn.ensemble import GradientBoostingClassifier\n",
    "from sklearn.model_selection import train_test_split\n",
    "X = df.drop(columns=['WnvPresent'])\n",
    "y = df['WnvPresent']\n",
    "X_train, X_test, y_train, y_test = train_test_split(X, y, test_size=0.3, random_state=42)\n",
    "gbc = GradientBoostingClassifier(n_estimators=100, learning_rate=0.1, max_depth=3, random_state=42)\n",
    "gbc.fit(X_train, y_train)\n",
    "pred_gbc = gbc.predict(X_test)\n",
    "print(accuracy_score(y_test, pred_gbc))\n",
    "Accuracy_gbc=gbc.score(X_test,y_test)\n",
    "print(Accuracy_gbc)\n",
    "print(confusion_matrix(y_test, pred_gbc))"
   ]
  },
  {
   "cell_type": "code",
   "execution_count": 18,
   "metadata": {},
   "outputs": [
    {
     "name": "stdout",
     "output_type": "stream",
     "text": [
      "[0.8388535  0.82606995 0.81542553 0.79308511 0.83787234]\n",
      "Mean cross validation test score: 0.8222612867716113\n",
      "Mean cross validation train score: 0.880431583180979\n",
      "Standard deviation in cv test scores: 0.01692034053236856\n"
     ]
    }
   ],
   "source": [
    "from sklearn.model_selection import cross_val_score\n",
    "cv_scores_test= cross_val_score(gbc,X_test,y_test,cv=5,scoring='roc_auc')\n",
    "cv_scores_train= cross_val_score(gbc,X_train,y_train,cv=5,scoring='roc_auc')\n",
    "print(cv_scores_test)\n",
    "cv_scores_gbc_test= cv_scores_test.mean()\n",
    "cv_scores_gbc_train= cv_scores_train.mean()\n",
    "cv_scores_std_test_gbc= cv_scores_test.std()\n",
    "print ('Mean cross validation test score: ' +str(cv_scores_gbc_test))\n",
    "print ('Mean cross validation train score: ' +str(cv_scores_gbc_train))\n",
    "print ('Standard deviation in cv test scores: ' +str(cv_scores_std_test_gbc))"
   ]
  },
  {
   "cell_type": "markdown",
   "metadata": {},
   "source": [
    "# 6. Naive Bayes"
   ]
  },
  {
   "cell_type": "code",
   "execution_count": 19,
   "metadata": {},
   "outputs": [
    {
     "name": "stdout",
     "output_type": "stream",
     "text": [
      "0.6858425132598939\n",
      "0.6858425132598939\n",
      "[[1617  735]\n",
      " [  35   64]]\n"
     ]
    }
   ],
   "source": [
    "from sklearn.naive_bayes import GaussianNB\n",
    "from sklearn.metrics import accuracy_score, classification_report\n",
    "from sklearn.model_selection import train_test_split\n",
    "X = df.drop(columns=['WnvPresent'])\n",
    "y = df['WnvPresent']\n",
    "X_train, X_test, y_train, y_test = train_test_split(X, y, test_size=0.3, random_state=42)\n",
    "nb = GaussianNB()\n",
    "nb.fit(X_train, y_train)\n",
    "pred_nb = nb.predict(X_test)\n",
    "print(accuracy_score(y_test, pred_nb))\n",
    "Accuracy_nb=nb.score(X_test,y_test)\n",
    "print(Accuracy_nb)\n",
    "print(confusion_matrix(y_test, pred_nb))"
   ]
  },
  {
   "cell_type": "code",
   "execution_count": 20,
   "metadata": {},
   "outputs": [
    {
     "name": "stdout",
     "output_type": "stream",
     "text": [
      "[0.7343949  0.73527768 0.68925532 0.74515957 0.77404255]\n",
      "Mean cross validation test score: 0.7356260071849225\n",
      "Mean cross validation train score: 0.7831453833033082\n",
      "Standard deviation in cv test scores: 0.02727122132818364\n"
     ]
    }
   ],
   "source": [
    "from sklearn.model_selection import cross_val_score\n",
    "cv_scores_test= cross_val_score(nb,X_test,y_test,cv=5,scoring='roc_auc')\n",
    "cv_scores_train= cross_val_score(nb,X_train,y_train,cv=5,scoring='roc_auc')\n",
    "print(cv_scores_test)\n",
    "cv_scores_nb_test= cv_scores_test.mean()\n",
    "cv_scores_nb_train= cv_scores_train.mean()\n",
    "cv_scores_std_test_nb= cv_scores_test.std()\n",
    "print ('Mean cross validation test score: ' +str(cv_scores_nb_test))\n",
    "print ('Mean cross validation train score: ' +str(cv_scores_nb_train))\n",
    "print ('Standard deviation in cv test scores: ' +str(cv_scores_std_test_nb))"
   ]
  },
  {
   "cell_type": "markdown",
   "metadata": {},
   "source": [
    "# Comparison of Models"
   ]
  },
  {
   "cell_type": "code",
   "execution_count": 21,
   "metadata": {},
   "outputs": [
    {
     "name": "stdout",
     "output_type": "stream",
     "text": [
      "             Algorithm  Model accuracy score\n",
      "0  Logistic Regression              0.959608\n",
      "1                  KNN              0.957976\n",
      "2        Random Forest              0.959608\n",
      "3       Gradient Boost              0.955936\n",
      "4          Naive Bayes              0.685843\n",
      "             Algorithm  ROC-AUC train score  ROC-AUC test score\n",
      "0  Logistic Regression             0.741563            0.681881\n",
      "1                  KNN             0.792459            0.722759\n",
      "2        Random Forest             0.880446            0.830975\n",
      "3       Gradient Boost             0.880432            0.822261\n",
      "4          Naive Bayes             0.783145            0.735626\n"
     ]
    }
   ],
   "source": [
    "models = [ 'Logistic Regression','KNN', 'Random Forest','Gradient Boost', 'Naive Bayes']\n",
    "#models2 = [ 'Logistic Regression','KNN','Random Forest','Gradient Boost', 'Naive Bayes']\n",
    "score_test= [  cv_scores_lr_test,cv_scores_knn_test,cv_scores_rf_test,cv_scores_gbc_test,cv_scores_nb_test]\n",
    "score_train= [  cv_scores_lr_train,cv_scores_knn_train,cv_scores_rf_train,cv_scores_gbc_train,cv_scores_nb_train]\n",
    "Accuracy_score = [Accuracy_lr,Accuracy_knn,Accuracy_rf,Accuracy_gbc,Accuracy_nb]\n",
    "score_tab_acc = pd.DataFrame(list(zip(models, Accuracy_score)), \n",
    "               columns =['Algorithm', 'Model accuracy score']) \n",
    "\n",
    "score_tab = pd.DataFrame(list(zip(models, score_train, score_test)), \n",
    "               columns =['Algorithm', 'ROC-AUC train score', 'ROC-AUC test score' ]) \n",
    "print(score_tab_acc)\n",
    "\n",
    "print(score_tab)"
   ]
  },
  {
   "cell_type": "code",
   "execution_count": 22,
   "metadata": {},
   "outputs": [
    {
     "data": {
      "image/png": "[encoded data removed]",
      "text/plain": [
       "<Figure size 1000x500 with 1 Axes>"
      ]
     },
     "metadata": {},
     "output_type": "display_data"
    }
   ],
   "source": [
    "plt.figure(figsize=(10,5))\n",
    "plt.bar(models,Accuracy_score,color='coral',alpha=0.8,label='Accuracy score',edgecolor='k',width=0.3)\n",
    "plt.xlabel('Models',fontsize=15)\n",
    "plt.ylabel ('Model accuracy scores',fontsize=15)\n",
    "plt.title('Comparison of the algorithms',fontsize=15)\n",
    "plt.legend()\n",
    "plt.show()"
   ]
  },
  {
   "cell_type": "code",
   "execution_count": 23,
   "metadata": {},
   "outputs": [],
   "source": [
    "# plt.figure(figsize=(10,5))\n",
    "# plt.bar(models,score_train,color='b',alpha=0.6,label='Training score',edgecolor='k',width=0.2)\n",
    "# plt.bar(models,score_test,color='cyan',alpha=0.8,label='Test score',edgecolor='k',width=0.2)\n",
    "# plt.xlabel('Models',fontsize=15)\n",
    "# plt.ylabel ('ROC-AUC scores',fontsize=15)\n",
    "# plt.title('Comparison of the algorithms',fontsize=15)\n",
    "# plt.legend()\n",
    "# plt.show()"
   ]
  },
  {
   "cell_type": "code",
   "execution_count": 24,
   "metadata": {},
   "outputs": [
    {
     "data": {
      "image/png": "[encoded data removed]",
      "text/plain": [
       "<Figure size 1000x500 with 1 Axes>"
      ]
     },
     "metadata": {},
     "output_type": "display_data"
    }
   ],
   "source": [
    "index=[1,2,3,4,5]\n",
    "index_acc=[1.2,2.2,3.2,4.2,5.2]\n",
    "plt.figure(figsize=(10,5))\n",
    "plt.xlabel('Models',fontsize=15)\n",
    "plt.ylabel ('ROC-AUC scores',fontsize=15)\n",
    "plt.title('Comparison of the algorithms',fontsize=15)\n",
    "_=plt.bar(index,score_train,color='b',alpha=0.6,label='Training score',edgecolor='k',width=0.2)\n",
    "_=plt.bar(index_acc,score_test,color='cyan',alpha=0.8,label='Test score',edgecolor='k',width=0.2)\n",
    "plt.xticks([1, 2,3,4,5], models)\n",
    "plt.legend()\n",
    "plt.savefig(\"27.png\")\n",
    "plt.show()"
   ]
  },
  {
   "cell_type": "markdown",
   "metadata": {},
   "source": [
    "# Random forest and Gradient Boosting Models are performing better. Next, I will do Hyperparameter Tuning with Random Forest model."
   ]
  },
  {
   "cell_type": "markdown",
   "metadata": {},
   "source": [
    "## Parameter Tuning"
   ]
  },
  {
   "cell_type": "code",
   "execution_count": 25,
   "metadata": {},
   "outputs": [
    {
     "name": "stdout",
     "output_type": "stream",
     "text": [
      "RandomForestClassifier(criterion='entropy', min_samples_split=12,\n",
      "                       n_estimators=700, n_jobs=-1, random_state=1)\n",
      "0.9512067156348373\n"
     ]
    }
   ],
   "source": [
    "from sklearn.model_selection import GridSearchCV\n",
    "\n",
    "rf = RandomForestClassifier(max_features='auto',random_state=1, n_jobs=-1)\n",
    "\n",
    "param_grid = { \"criterion\" : [\"gini\", \"entropy\"], \"min_samples_leaf\" : [1, 5, 10], \"min_samples_split\" : [2, 4, 10,12,16], \"n_estimators\": [50, 100,400,700,1000]}\n",
    "\n",
    "gs = GridSearchCV(estimator=rf, param_grid=param_grid, scoring='accuracy', cv=3, n_jobs=-1)\n",
    "\n",
    "gs = gs.fit(X_train, y_train)\n",
    "\n",
    "print(gs.best_estimator_) \n",
    "print(gs.best_score_)"
   ]
  },
  {
   "cell_type": "markdown",
   "metadata": {},
   "source": [
    "## Fitting the model with optimal parameters."
   ]
  },
  {
   "cell_type": "code",
   "execution_count": 26,
   "metadata": {},
   "outputs": [
    {
     "name": "stdout",
     "output_type": "stream",
     "text": [
      "0.9563443492452061\n",
      "0.8297756839585073\n",
      "0.9563443492452061\n"
     ]
    }
   ],
   "source": [
    "rf = RandomForestClassifier(criterion='entropy', min_samples_split=12,\n",
    "                       n_estimators=700, n_jobs=-1, random_state=1)\n",
    "rf.fit(X_train, y_train)\n",
    "y_pred_rf = rf.predict(X_test)\n",
    "acc = accuracy_score(y_test, y_pred_rf)\n",
    "cv_test = cross_val_score(rf, X_test, y_test,scoring='roc_auc').mean()\n",
    "print(acc)\n",
    "print(cv_test)\n",
    "Accuracy_rf_optimal = rf.score(X_test,y_test)\n",
    "print(Accuracy_rf_optimal)"
   ]
  },
  {
   "cell_type": "markdown",
   "metadata": {},
   "source": [
    "### WNV Prediction For different Temperature"
   ]
  },
  {
   "cell_type": "code",
   "execution_count": 27,
   "metadata": {},
   "outputs": [],
   "source": [
    "target = pd.Series(y_pred_rf, name='West Nile Virus')\n",
    "Tempr  = df['Tavg']\n",
    "\n",
    "output = pd.DataFrame(list(zip(Tempr, target)), \n",
    "               columns =['Tavg', 'West Nile Virus']) \n",
    "output.to_csv('Tavg_rf.csv', index=False, header=True)"
   ]
  },
  {
   "cell_type": "code",
   "execution_count": 28,
   "metadata": {},
   "outputs": [
    {
     "data": {
      "text/html": [
       "<div>\n",
       "<style scoped>\n",
       "    .dataframe tbody tr th:only-of-type {\n",
       "        vertical-align: middle;\n",
       "    }\n",
       "\n",
       "    .dataframe tbody tr th {\n",
       "        vertical-align: top;\n",
       "    }\n",
       "\n",
       "    .dataframe thead th {\n",
       "        text-align: right;\n",
       "    }\n",
       "</style>\n",
       "<table border=\"1\" class=\"dataframe\">\n",
       "  <thead>\n",
       "    <tr style=\"text-align: right;\">\n",
       "      <th></th>\n",
       "      <th>Tavg</th>\n",
       "      <th>West Nile Virus</th>\n",
       "    </tr>\n",
       "  </thead>\n",
       "  <tbody>\n",
       "    <tr>\n",
       "      <th>0</th>\n",
       "      <td>81.5</td>\n",
       "      <td>0</td>\n",
       "    </tr>\n",
       "    <tr>\n",
       "      <th>1</th>\n",
       "      <td>82.5</td>\n",
       "      <td>0</td>\n",
       "    </tr>\n",
       "    <tr>\n",
       "      <th>2</th>\n",
       "      <td>76.5</td>\n",
       "      <td>0</td>\n",
       "    </tr>\n",
       "    <tr>\n",
       "      <th>3</th>\n",
       "      <td>80.0</td>\n",
       "      <td>0</td>\n",
       "    </tr>\n",
       "    <tr>\n",
       "      <th>4</th>\n",
       "      <td>75.0</td>\n",
       "      <td>0</td>\n",
       "    </tr>\n",
       "    <tr>\n",
       "      <th>...</th>\n",
       "      <td>...</td>\n",
       "      <td>...</td>\n",
       "    </tr>\n",
       "    <tr>\n",
       "      <th>2446</th>\n",
       "      <td>80.0</td>\n",
       "      <td>0</td>\n",
       "    </tr>\n",
       "    <tr>\n",
       "      <th>2447</th>\n",
       "      <td>68.5</td>\n",
       "      <td>0</td>\n",
       "    </tr>\n",
       "    <tr>\n",
       "      <th>2448</th>\n",
       "      <td>55.0</td>\n",
       "      <td>0</td>\n",
       "    </tr>\n",
       "    <tr>\n",
       "      <th>2449</th>\n",
       "      <td>63.0</td>\n",
       "      <td>0</td>\n",
       "    </tr>\n",
       "    <tr>\n",
       "      <th>2450</th>\n",
       "      <td>61.5</td>\n",
       "      <td>0</td>\n",
       "    </tr>\n",
       "  </tbody>\n",
       "</table>\n",
       "<p>2451 rows × 2 columns</p>\n",
       "</div>"
      ],
      "text/plain": [
       "      Tavg  West Nile Virus\n",
       "0     81.5                0\n",
       "1     82.5                0\n",
       "2     76.5                0\n",
       "3     80.0                0\n",
       "4     75.0                0\n",
       "...    ...              ...\n",
       "2446  80.0                0\n",
       "2447  68.5                0\n",
       "2448  55.0                0\n",
       "2449  63.0                0\n",
       "2450  61.5                0\n",
       "\n",
       "[2451 rows x 2 columns]"
      ]
     },
     "execution_count": 28,
     "metadata": {},
     "output_type": "execute_result"
    }
   ],
   "source": [
    "tempr_vs_wnv= pd.read_csv('Tavg_rf.csv')\n",
    "tempr_vs_wnv"
   ]
  },
  {
   "cell_type": "markdown",
   "metadata": {},
   "source": [
    "## Extracting Feature Importances"
   ]
  },
  {
   "cell_type": "code",
   "execution_count": 29,
   "metadata": {},
   "outputs": [
    {
     "data": {
      "text/html": [
       "<div>\n",
       "<style scoped>\n",
       "    .dataframe tbody tr th:only-of-type {\n",
       "        vertical-align: middle;\n",
       "    }\n",
       "\n",
       "    .dataframe tbody tr th {\n",
       "        vertical-align: top;\n",
       "    }\n",
       "\n",
       "    .dataframe thead th {\n",
       "        text-align: right;\n",
       "    }\n",
       "</style>\n",
       "<table border=\"1\" class=\"dataframe\">\n",
       "  <thead>\n",
       "    <tr style=\"text-align: right;\">\n",
       "      <th></th>\n",
       "      <th>Latitude</th>\n",
       "      <th>Longitude</th>\n",
       "      <th>NumMosquitos</th>\n",
       "      <th>Tmax</th>\n",
       "      <th>Tmin</th>\n",
       "      <th>Tavg</th>\n",
       "      <th>PrecipTotal</th>\n",
       "      <th>StnPressure</th>\n",
       "      <th>SeaLevel</th>\n",
       "      <th>AvgSpeed</th>\n",
       "      <th>WnvPresent</th>\n",
       "      <th>DayOfWeek</th>\n",
       "      <th>WeekNumber</th>\n",
       "      <th>IsWeekend</th>\n",
       "      <th>Quarter</th>\n",
       "      <th>Season</th>\n",
       "      <th>Species_CULEX PIPIENS</th>\n",
       "      <th>Species_CULEX PIPIENS/RESTUANS</th>\n",
       "      <th>Species_CULEX RESTUANS</th>\n",
       "    </tr>\n",
       "  </thead>\n",
       "  <tbody>\n",
       "    <tr>\n",
       "      <th>0</th>\n",
       "      <td>41.644612</td>\n",
       "      <td>-87.604498</td>\n",
       "      <td>12</td>\n",
       "      <td>91.0</td>\n",
       "      <td>71.5</td>\n",
       "      <td>81.5</td>\n",
       "      <td>0.000</td>\n",
       "      <td>29.285</td>\n",
       "      <td>29.960</td>\n",
       "      <td>6.55</td>\n",
       "      <td>0</td>\n",
       "      <td>3</td>\n",
       "      <td>31</td>\n",
       "      <td>0</td>\n",
       "      <td>3</td>\n",
       "      <td>2</td>\n",
       "      <td>1</td>\n",
       "      <td>0</td>\n",
       "      <td>0</td>\n",
       "    </tr>\n",
       "    <tr>\n",
       "      <th>1</th>\n",
       "      <td>41.644612</td>\n",
       "      <td>-87.604498</td>\n",
       "      <td>52</td>\n",
       "      <td>91.5</td>\n",
       "      <td>72.5</td>\n",
       "      <td>82.5</td>\n",
       "      <td>0.685</td>\n",
       "      <td>29.085</td>\n",
       "      <td>29.750</td>\n",
       "      <td>8.90</td>\n",
       "      <td>0</td>\n",
       "      <td>1</td>\n",
       "      <td>32</td>\n",
       "      <td>0</td>\n",
       "      <td>3</td>\n",
       "      <td>2</td>\n",
       "      <td>1</td>\n",
       "      <td>0</td>\n",
       "      <td>0</td>\n",
       "    </tr>\n",
       "    <tr>\n",
       "      <th>2</th>\n",
       "      <td>41.644612</td>\n",
       "      <td>-87.604498</td>\n",
       "      <td>30</td>\n",
       "      <td>80.5</td>\n",
       "      <td>71.5</td>\n",
       "      <td>76.5</td>\n",
       "      <td>0.530</td>\n",
       "      <td>29.200</td>\n",
       "      <td>29.880</td>\n",
       "      <td>6.45</td>\n",
       "      <td>0</td>\n",
       "      <td>2</td>\n",
       "      <td>33</td>\n",
       "      <td>0</td>\n",
       "      <td>3</td>\n",
       "      <td>2</td>\n",
       "      <td>1</td>\n",
       "      <td>0</td>\n",
       "      <td>0</td>\n",
       "    </tr>\n",
       "    <tr>\n",
       "      <th>3</th>\n",
       "      <td>41.644612</td>\n",
       "      <td>-87.604498</td>\n",
       "      <td>4</td>\n",
       "      <td>90.0</td>\n",
       "      <td>69.5</td>\n",
       "      <td>80.0</td>\n",
       "      <td>0.625</td>\n",
       "      <td>29.260</td>\n",
       "      <td>29.935</td>\n",
       "      <td>8.95</td>\n",
       "      <td>0</td>\n",
       "      <td>2</td>\n",
       "      <td>34</td>\n",
       "      <td>0</td>\n",
       "      <td>3</td>\n",
       "      <td>2</td>\n",
       "      <td>1</td>\n",
       "      <td>0</td>\n",
       "      <td>0</td>\n",
       "    </tr>\n",
       "    <tr>\n",
       "      <th>4</th>\n",
       "      <td>41.644612</td>\n",
       "      <td>-87.604498</td>\n",
       "      <td>4</td>\n",
       "      <td>80.5</td>\n",
       "      <td>69.0</td>\n",
       "      <td>75.0</td>\n",
       "      <td>0.220</td>\n",
       "      <td>29.135</td>\n",
       "      <td>29.815</td>\n",
       "      <td>7.20</td>\n",
       "      <td>0</td>\n",
       "      <td>4</td>\n",
       "      <td>34</td>\n",
       "      <td>0</td>\n",
       "      <td>3</td>\n",
       "      <td>2</td>\n",
       "      <td>1</td>\n",
       "      <td>0</td>\n",
       "      <td>0</td>\n",
       "    </tr>\n",
       "    <tr>\n",
       "      <th>...</th>\n",
       "      <td>...</td>\n",
       "      <td>...</td>\n",
       "      <td>...</td>\n",
       "      <td>...</td>\n",
       "      <td>...</td>\n",
       "      <td>...</td>\n",
       "      <td>...</td>\n",
       "      <td>...</td>\n",
       "      <td>...</td>\n",
       "      <td>...</td>\n",
       "      <td>...</td>\n",
       "      <td>...</td>\n",
       "      <td>...</td>\n",
       "      <td>...</td>\n",
       "      <td>...</td>\n",
       "      <td>...</td>\n",
       "      <td>...</td>\n",
       "      <td>...</td>\n",
       "      <td>...</td>\n",
       "    </tr>\n",
       "    <tr>\n",
       "      <th>8164</th>\n",
       "      <td>42.017430</td>\n",
       "      <td>-87.687769</td>\n",
       "      <td>4</td>\n",
       "      <td>70.0</td>\n",
       "      <td>51.0</td>\n",
       "      <td>60.5</td>\n",
       "      <td>0.480</td>\n",
       "      <td>29.235</td>\n",
       "      <td>29.930</td>\n",
       "      <td>7.75</td>\n",
       "      <td>0</td>\n",
       "      <td>4</td>\n",
       "      <td>23</td>\n",
       "      <td>0</td>\n",
       "      <td>2</td>\n",
       "      <td>2</td>\n",
       "      <td>0</td>\n",
       "      <td>0</td>\n",
       "      <td>1</td>\n",
       "    </tr>\n",
       "    <tr>\n",
       "      <th>8165</th>\n",
       "      <td>42.017430</td>\n",
       "      <td>-87.687769</td>\n",
       "      <td>4</td>\n",
       "      <td>82.0</td>\n",
       "      <td>62.0</td>\n",
       "      <td>72.0</td>\n",
       "      <td>0.000</td>\n",
       "      <td>29.155</td>\n",
       "      <td>29.820</td>\n",
       "      <td>6.40</td>\n",
       "      <td>0</td>\n",
       "      <td>4</td>\n",
       "      <td>24</td>\n",
       "      <td>0</td>\n",
       "      <td>2</td>\n",
       "      <td>2</td>\n",
       "      <td>0</td>\n",
       "      <td>0</td>\n",
       "      <td>1</td>\n",
       "    </tr>\n",
       "    <tr>\n",
       "      <th>8166</th>\n",
       "      <td>42.017430</td>\n",
       "      <td>-87.687769</td>\n",
       "      <td>2</td>\n",
       "      <td>88.5</td>\n",
       "      <td>63.0</td>\n",
       "      <td>76.0</td>\n",
       "      <td>0.030</td>\n",
       "      <td>29.310</td>\n",
       "      <td>29.995</td>\n",
       "      <td>10.00</td>\n",
       "      <td>0</td>\n",
       "      <td>3</td>\n",
       "      <td>26</td>\n",
       "      <td>0</td>\n",
       "      <td>2</td>\n",
       "      <td>2</td>\n",
       "      <td>0</td>\n",
       "      <td>0</td>\n",
       "      <td>1</td>\n",
       "    </tr>\n",
       "    <tr>\n",
       "      <th>8167</th>\n",
       "      <td>42.017430</td>\n",
       "      <td>-87.687769</td>\n",
       "      <td>46</td>\n",
       "      <td>89.0</td>\n",
       "      <td>70.5</td>\n",
       "      <td>80.0</td>\n",
       "      <td>0.260</td>\n",
       "      <td>29.150</td>\n",
       "      <td>29.815</td>\n",
       "      <td>8.25</td>\n",
       "      <td>0</td>\n",
       "      <td>0</td>\n",
       "      <td>28</td>\n",
       "      <td>0</td>\n",
       "      <td>3</td>\n",
       "      <td>2</td>\n",
       "      <td>0</td>\n",
       "      <td>0</td>\n",
       "      <td>1</td>\n",
       "    </tr>\n",
       "    <tr>\n",
       "      <th>8168</th>\n",
       "      <td>42.017430</td>\n",
       "      <td>-87.687769</td>\n",
       "      <td>2</td>\n",
       "      <td>86.5</td>\n",
       "      <td>70.5</td>\n",
       "      <td>79.0</td>\n",
       "      <td>0.000</td>\n",
       "      <td>29.300</td>\n",
       "      <td>29.970</td>\n",
       "      <td>6.75</td>\n",
       "      <td>0</td>\n",
       "      <td>4</td>\n",
       "      <td>28</td>\n",
       "      <td>0</td>\n",
       "      <td>3</td>\n",
       "      <td>2</td>\n",
       "      <td>0</td>\n",
       "      <td>0</td>\n",
       "      <td>1</td>\n",
       "    </tr>\n",
       "  </tbody>\n",
       "</table>\n",
       "<p>8169 rows × 19 columns</p>\n",
       "</div>"
      ],
      "text/plain": [
       "       Latitude  Longitude  NumMosquitos  Tmax  Tmin  Tavg  PrecipTotal  \\\n",
       "0     41.644612 -87.604498            12  91.0  71.5  81.5        0.000   \n",
       "1     41.644612 -87.604498            52  91.5  72.5  82.5        0.685   \n",
       "2     41.644612 -87.604498            30  80.5  71.5  76.5        0.530   \n",
       "3     41.644612 -87.604498             4  90.0  69.5  80.0        0.625   \n",
       "4     41.644612 -87.604498             4  80.5  69.0  75.0        0.220   \n",
       "...         ...        ...           ...   ...   ...   ...          ...   \n",
       "8164  42.017430 -87.687769             4  70.0  51.0  60.5        0.480   \n",
       "8165  42.017430 -87.687769             4  82.0  62.0  72.0        0.000   \n",
       "8166  42.017430 -87.687769             2  88.5  63.0  76.0        0.030   \n",
       "8167  42.017430 -87.687769            46  89.0  70.5  80.0        0.260   \n",
       "8168  42.017430 -87.687769             2  86.5  70.5  79.0        0.000   \n",
       "\n",
       "      StnPressure  SeaLevel  AvgSpeed  WnvPresent  DayOfWeek  WeekNumber  \\\n",
       "0          29.285    29.960      6.55           0          3          31   \n",
       "1          29.085    29.750      8.90           0          1          32   \n",
       "2          29.200    29.880      6.45           0          2          33   \n",
       "3          29.260    29.935      8.95           0          2          34   \n",
       "4          29.135    29.815      7.20           0          4          34   \n",
       "...           ...       ...       ...         ...        ...         ...   \n",
       "8164       29.235    29.930      7.75           0          4          23   \n",
       "8165       29.155    29.820      6.40           0          4          24   \n",
       "8166       29.310    29.995     10.00           0          3          26   \n",
       "8167       29.150    29.815      8.25           0          0          28   \n",
       "8168       29.300    29.970      6.75           0          4          28   \n",
       "\n",
       "      IsWeekend  Quarter  Season  Species_CULEX PIPIENS  \\\n",
       "0             0        3       2                      1   \n",
       "1             0        3       2                      1   \n",
       "2             0        3       2                      1   \n",
       "3             0        3       2                      1   \n",
       "4             0        3       2                      1   \n",
       "...         ...      ...     ...                    ...   \n",
       "8164          0        2       2                      0   \n",
       "8165          0        2       2                      0   \n",
       "8166          0        2       2                      0   \n",
       "8167          0        3       2                      0   \n",
       "8168          0        3       2                      0   \n",
       "\n",
       "      Species_CULEX PIPIENS/RESTUANS  Species_CULEX RESTUANS  \n",
       "0                                  0                       0  \n",
       "1                                  0                       0  \n",
       "2                                  0                       0  \n",
       "3                                  0                       0  \n",
       "4                                  0                       0  \n",
       "...                              ...                     ...  \n",
       "8164                               0                       1  \n",
       "8165                               0                       1  \n",
       "8166                               0                       1  \n",
       "8167                               0                       1  \n",
       "8168                               0                       1  \n",
       "\n",
       "[8169 rows x 19 columns]"
      ]
     },
     "execution_count": 29,
     "metadata": {},
     "output_type": "execute_result"
    }
   ],
   "source": [
    "df"
   ]
  },
  {
   "cell_type": "code",
   "execution_count": 30,
   "metadata": {},
   "outputs": [
    {
     "name": "stdout",
     "output_type": "stream",
     "text": [
      "                          Features  Importance scores\n",
      "0                         Latitude           0.000000\n",
      "1                        Longitude           0.005084\n",
      "2                     NumMosquitos           0.013050\n",
      "3                             Tmax           0.013598\n",
      "4                             Tmin           0.017175\n",
      "5                             Tavg           0.018562\n",
      "6                      PrecipTotal           0.023653\n",
      "7                      StnPressure           0.027589\n",
      "8                         SeaLevel           0.032180\n",
      "9                         AvgSpeed           0.035538\n",
      "10                       DayOfWeek           0.041630\n",
      "11                      WeekNumber           0.043057\n",
      "12                       IsWeekend           0.051750\n",
      "13                         Quarter           0.052630\n",
      "14                          Season           0.111235\n",
      "15           Species_CULEX PIPIENS           0.114375\n",
      "16  Species_CULEX PIPIENS/RESTUANS           0.128983\n",
      "17          Species_CULEX RESTUANS           0.269909\n"
     ]
    },
    {
     "data": {
      "image/png": "[encoded data removed]",
      "text/plain": [
       "<Figure size 1000x500 with 1 Axes>"
      ]
     },
     "metadata": {},
     "output_type": "display_data"
    }
   ],
   "source": [
    "features = X\n",
    "importances = list(rf.feature_importances_)\n",
    "imp=np.sort(importances)\n",
    "tab=pd.DataFrame(list(zip(X,imp)),columns =['Features', 'Importance scores']) \n",
    "print(tab)\n",
    "\n",
    "#Visual comparison:\n",
    "plt.figure(figsize=(10,5))\n",
    "#indices = np.argsort(importances)\n",
    "index = [0,1,2,3,4,5,6,7,8,9,10,11,12,13,14,15,16,17]\n",
    "_=plt.barh(index,imp, align='center',color='b')\n",
    "plt.xlabel('Relative Importance',fontsize=15)\n",
    "plt.ylabel('Features',fontsize=15)\n",
    "plt.yticks(index, features)\n",
    "plt.title('Feature Importances for Random Forest classifier model',fontsize=15)\n",
    "plt.savefig(\"28.png\")\n",
    "plt.show()"
   ]
  },
  {
   "cell_type": "markdown",
   "metadata": {},
   "source": [
    "## ROC AUC Score and ROC Curve"
   ]
  },
  {
   "cell_type": "code",
   "execution_count": 31,
   "metadata": {},
   "outputs": [
    {
     "name": "stdout",
     "output_type": "stream",
     "text": [
      "ROC-AUC Score: 0.8489143132000275\n"
     ]
    }
   ],
   "source": [
    "from sklearn.metrics import auc, roc_curve, roc_auc_score\n",
    "y_scores_rf = rf.predict_proba(X_test)\n",
    "y_scores_rf = y_scores_rf[:,1]\n",
    "auroc = roc_auc_score(y_test, y_scores_rf)\n",
    "print(\"ROC-AUC Score:\", auroc)"
   ]
  },
  {
   "cell_type": "code",
   "execution_count": 32,
   "metadata": {},
   "outputs": [
    {
     "data": {
      "image/png": "[encoded data removed]",
      "text/plain": [
       "<Figure size 1000x500 with 1 Axes>"
      ]
     },
     "metadata": {},
     "output_type": "display_data"
    }
   ],
   "source": [
    "false_positive_rate, true_positive_rate, thresholds = roc_curve(y_test, y_scores_rf)\n",
    "def plot_roc_curve(false_positive_rate, true_positive_rate, label=None):\n",
    "    plt.plot(false_positive_rate, true_positive_rate, linewidth=2, label=label)\n",
    "    plt.plot([0, 1], [0, 1], 'r', linewidth=4)\n",
    "    plt.axis([0, 1, 0, 1])\n",
    "    plt.xlabel('False Positive Rate (FPR)', fontsize=15)\n",
    "    plt.ylabel('True Positive Rate (TPR)', fontsize=15)\n",
    "    plt.title('ROC curve (RF)',fontsize=15)\n",
    "\n",
    "plt.figure(figsize=(10, 5))\n",
    "plot_roc_curve(false_positive_rate, true_positive_rate)\n",
    "plt.savefig(\"30.png\")\n",
    "plt.show()"
   ]
  }
 ],
 "metadata": {
  "kernelspec": {
   "display_name": "Python 3 (ipykernel)",
   "language": "python",
   "name": "python3"
  },
  "language_info": {
   "codemirror_mode": {
    "name": "ipython",
    "version": 3
   },
   "file_extension": ".py",
   "mimetype": "text/x-python",
   "name": "python",
   "nbconvert_exporter": "python",
   "pygments_lexer": "ipython3",
   "version": "3.9.13"
  }
 },
 "nbformat": 4,
 "nbformat_minor": 1
}
